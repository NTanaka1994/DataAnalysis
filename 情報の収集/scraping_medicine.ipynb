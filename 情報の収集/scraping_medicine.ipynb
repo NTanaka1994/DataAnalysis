{
 "cells": [
  {
   "cell_type": "markdown",
   "metadata": {},
   "source": [
    "# 情報の収集\n",
    "(注意)スクレイピングはサイトによって許している場合とそうでない場合があり、許されていない場合はサイバー攻撃とみなされることがあるため注意してください。\n",
    "\n",
    "研究活動をする上で必要な資料や論文その他サイト上に載っている情報などを収集する必要がある。そこでスクレイピングを用いてここではWikipediaから要約部分を取り出す。\n",
    "\n",
    "実際の研究活動ではWikipediaを使うのはNGですのでちゃんとしたサイトを使いましょう。また、悪用厳禁ではあるがサイトによって同一IPアドレスから何度もアクセスされるとブロックされることもあり、そういったサイトではTorなどを用いてスクレイピングを行う事ができる。\n",
    "\n",
    "# ライブラリのインポート"
   ]
  },
  {
   "cell_type": "code",
   "execution_count": 52,
   "metadata": {},
   "outputs": [],
   "source": [
    "from bs4 import BeautifulSoup\n",
    "import requests"
   ]
  },
  {
   "cell_type": "markdown",
   "metadata": {},
   "source": [
    "# 調べたい物のリストを作成(以下は頭痛薬)"
   ]
  },
  {
   "cell_type": "code",
   "execution_count": 53,
   "metadata": {},
   "outputs": [],
   "source": [
    "name=[\"アセトアミノフェン\",\"ロキソプロフェン\",\"イブプロフェン\",\"アセチルサリチル酸\"]"
   ]
  },
  {
   "cell_type": "markdown",
   "metadata": {},
   "source": [
    "# スクレイピングとデータの保存\n",
    "URLに対して調べたい物リストから文字列を受け取りサイトにリクエストを送る。ここで、必要な部分のデータを取得するには(elem=のところ)ブラウザでページを右クリックしてデータを確認(Firefoxだと「調査」、GoogleChromeだと「検証」の画面を出す)してCSSセレクトをコピーして貼り付ける。その後、タグが必ず出てくるのでタグとその内部を出力しないようにすれば一つの文章として使用できる。"
   ]
  },
  {
   "cell_type": "code",
   "execution_count": 55,
   "metadata": {},
   "outputs": [],
   "source": [
    "for col in name:\n",
    "    url=\"https://ja.wikipedia.org/wiki/\"+col\n",
    "    res=requests.get(url)\n",
    "    soup=BeautifulSoup(res.text,\"html.parser\")\n",
    "    elem=soup.select(\".mw-parser-output > p:nth-of-type(3)\")\n",
    "    text=\"\"\n",
    "    for el in elem:\n",
    "        for i in range(len(el.contents)):\n",
    "            result=str(el.contents[i])\n",
    "            tag=0\n",
    "            for j in range(len(result)):\n",
    "                if result[j]==\"<\":\n",
    "                    tag=1\n",
    "                elif result[j]==\">\":\n",
    "                    tag=0\n",
    "                if tag==0:\n",
    "                    if result[j]!=\">\":\n",
    "                        text=text+result[j]\n",
    "    f=open(col+\".txt\",mode=\"w\",encoding=\"shift-jis\")\n",
    "    f.write(text)\n",
    "    f.close()"
   ]
  },
  {
   "cell_type": "code",
   "execution_count": null,
   "metadata": {},
   "outputs": [],
   "source": []
  }
 ],
 "metadata": {
  "kernelspec": {
   "display_name": "Python 3",
   "language": "python",
   "name": "python3"
  },
  "language_info": {
   "codemirror_mode": {
    "name": "ipython",
    "version": 3
   },
   "file_extension": ".py",
   "mimetype": "text/x-python",
   "name": "python",
   "nbconvert_exporter": "python",
   "pygments_lexer": "ipython3",
   "version": "3.7.1"
  }
 },
 "nbformat": 4,
 "nbformat_minor": 2
}
