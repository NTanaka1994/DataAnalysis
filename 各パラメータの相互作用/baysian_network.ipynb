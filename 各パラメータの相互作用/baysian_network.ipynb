{
	"nbformat": 4,
	"nbformat_minor": 0,
	"metadata": {
		"colab": {
			"name": "baysian_network.ipynb",
			"provenance": [],
			"collapsed_sections": [],
			"authorship_tag": "ABX9TyMNxJheDr7NILnJcuqq3RaP"
		},
		"kernelspec": {
			"name": "python3",
			"display_name": "Python 3"
		},
		"language_info": {
			"name": "python"
		}
	},
	"cells": [
		{
			"cell_type": "markdown",
			"source": [
				"# データの相互作用\n",
				"大量のデータがある時に分析目的に対して何が寄与しているかであったり結果までの過程までは調べれば載っているため比較的容易に実装できる。一方で、それでは目的変数への寄与でしかなく説明変数間での作用が分かるわけではない。そこでベイジアンネットワークと有向グラフを使用することで相互作用を可視化することができる。\n",
				"\n",
				"前半参考:https://qiita.com/JunJun100/items/541103e08a9ea6e23e68\n",
				"\n",
				"後半参考:https://cpp-learning.com/causalnex/"
			],
			"metadata": {
				"id": "_8GPrnOPcE-y"
			}
		},
		{
			"cell_type": "markdown",
			"source": [
				"#ベイジアンネットワーク\n",
				"# ライブラリのインストール"
			],
			"metadata": {
				"id": "YPqCGOiFdCjT"
			}
		},
		{
			"cell_type": "code",
			"execution_count": null,
			"metadata": {
				"colab": {
					"base_uri": "https://localhost:8080/"
				},
				"id": "R3eSHZYAS7dN",
				"executionInfo": {
					"status": "ok",
					"timestamp": 1647858939292,
					"user_tz": -540,
					"elapsed": 10784,
					"user": {
						"displayName": "田中直哉",
						"photoUrl": "https://lh3.googleusercontent.com/a-/AOh14GjUKV8S8xcfyV381wzO_CDiZPqIWeSILEuspCDZAw=s64",
						"userId": "04823463265793038392"
					}
				},
				"outputId": "80bde3a2-6afc-4fdc-fcf6-4ff8e09d8dae"
			},
			"outputs": [
				{
					"output_type": "stream",
					"name": "stdout",
					"text": [
						"Collecting pgmpy==0.1.9\n",
						"  Downloading pgmpy-0.1.9-py3-none-any.whl (331 kB)\n",
						"\u001b[K     |████████████████████████████████| 331 kB 4.0 MB/s \n",
						"\u001b[?25hInstalling collected packages: pgmpy\n",
						"Successfully installed pgmpy-0.1.9\n"
					]
				}
			],
			"source": [
				"!pip install pgmpy==0.1.9"
			]
		},
		{
			"cell_type": "markdown",
			"source": [
				"# 使用するデータのマウント\n",
				"基本的にPythonの初期設定のIDLEでライブラリをインストールすれば使用できるがJupyterNotebookでは使用できないことが多いため今回はGoogle colabを使用することを前提に実装する。"
			],
			"metadata": {
				"id": "16-iwxk6dISi"
			}
		},
		{
			"cell_type": "code",
			"source": [
				"from google.colab import drive\n",
				"drive.mount('/content/drive')"
			],
			"metadata": {
				"colab": {
					"base_uri": "https://localhost:8080/"
				},
				"id": "uIxxDu__TFg7",
				"executionInfo": {
					"status": "ok",
					"timestamp": 1647858965839,
					"user_tz": -540,
					"elapsed": 20601,
					"user": {
						"displayName": "田中直哉",
						"photoUrl": "https://lh3.googleusercontent.com/a-/AOh14GjUKV8S8xcfyV381wzO_CDiZPqIWeSILEuspCDZAw=s64",
						"userId": "04823463265793038392"
					}
				},
				"outputId": "1287ea51-ed8f-457c-db56-2562609d838b"
			},
			"execution_count": null,
			"outputs": [
				{
					"output_type": "stream",
					"name": "stdout",
					"text": [
						"Mounted at /content/drive\n"
					]
				}
			]
		},
		{
			"cell_type": "markdown",
			"source": [
				"# ライブラリのインポート"
			],
			"metadata": {
				"id": "h5skoUDadaQq"
			}
		},
		{
			"cell_type": "code",
			"source": [
				"from pgmpy.models import BayesianModel\n",
				"from pgmpy.estimators import ConstraintBasedEstimator\n",
				"from pgmpy.inference import VariableElimination\n",
				"import pandas as pd\n",
				"import numpy as np\n",
				"import matplotlib.pyplot as plt\n",
				"import os\n",
				"import networkx as nx"
			],
			"metadata": {
				"id": "w9DFumZDT5Au",
				"executionInfo": {
					"status": "ok",
					"timestamp": 1647858977503,
					"user_tz": -540,
					"elapsed": 7695,
					"user": {
						"displayName": "田中直哉",
						"photoUrl": "https://lh3.googleusercontent.com/a-/AOh14GjUKV8S8xcfyV381wzO_CDiZPqIWeSILEuspCDZAw=s64",
						"userId": "04823463265793038392"
					}
				},
				"colab": {
					"base_uri": "https://localhost:8080/"
				},
				"outputId": "325ffb91-b27f-4733-8c6c-0d5c1d4beee6"
			},
			"execution_count": null,
			"outputs": [
				{
					"output_type": "stream",
					"name": "stderr",
					"text": [
						"/usr/local/lib/python3.7/dist-packages/statsmodels/tools/_testing.py:19: FutureWarning: pandas.util.testing is deprecated. Use the functions in the public API at pandas.testing instead.\n",
						"  import pandas.util.testing as tm\n"
					]
				}
			]
		},
		{
			"cell_type": "markdown",
			"source": [
				"# データの読み込み"
			],
			"metadata": {
				"id": "9xXQGWjVddO9"
			}
		},
		{
			"cell_type": "code",
			"source": [
				"df = pd.read_csv(\"/content/drive/MyDrive/for_create_book/データ分析/各パラメータの相互作用/wine.csv\", encoding=\"shift-jis\")\n",
				"df.head()"
			],
			"metadata": {
				"colab": {
					"base_uri": "https://localhost:8080/",
					"height": 206
				},
				"id": "dYQWzdwCUYJ5",
				"executionInfo": {
					"status": "ok",
					"timestamp": 1647858989419,
					"user_tz": -540,
					"elapsed": 1142,
					"user": {
						"displayName": "田中直哉",
						"photoUrl": "https://lh3.googleusercontent.com/a-/AOh14GjUKV8S8xcfyV381wzO_CDiZPqIWeSILEuspCDZAw=s64",
						"userId": "04823463265793038392"
					}
				},
				"outputId": "67e87e4b-79e4-421a-9099-300fa8f9ec70"
			},
			"execution_count": null,
			"outputs": [
				{
					"output_type": "execute_result",
					"data": {
						"text/plain": [
							"   Wine  Alcohol  Malic.acid   Ash   Acl   Mg  Phenols  Flavanoids  \\\n",
							"0     1    13.20        1.78  2.14  11.2  100     2.65        2.76   \n",
							"1     1    13.16        2.36  2.67  18.6  101     2.80        3.24   \n",
							"2     1    14.37        1.95  2.50  16.8  113     3.85        3.49   \n",
							"3     1    13.24        2.59  2.87  21.0  118     2.80        2.69   \n",
							"4     1    14.20        1.76  2.45  15.2  112     3.27        3.39   \n",
							"\n",
							"   Nonflavanoid.phenols  Proanth  Color.int   Hue    OD  Proline  \n",
							"0                  0.26     1.28       4.38  1.05  3.40     1050  \n",
							"1                  0.30     2.81       5.68  1.03  3.17     1185  \n",
							"2                  0.24     2.18       7.80  0.86  3.45     1480  \n",
							"3                  0.39     1.82       4.32  1.04  2.93      735  \n",
							"4                  0.34     1.97       6.75  1.05  2.85     1450  "
						],
						"text/html": [
							"\n",
							"  <div id=\"df-f67ad284-7745-4bd5-8981-8d76f0aa3e56\">\n",
							"    <div class=\"colab-df-container\">\n",
							"      <div>\n",
							"<style scoped>\n",
							"    .dataframe tbody tr th:only-of-type {\n",
							"        vertical-align: middle;\n",
							"    }\n",
							"\n",
							"    .dataframe tbody tr th {\n",
							"        vertical-align: top;\n",
							"    }\n",
							"\n",
							"    .dataframe thead th {\n",
							"        text-align: right;\n",
							"    }\n",
							"</style>\n",
							"<table border=\"1\" class=\"dataframe\">\n",
							"  <thead>\n",
							"    <tr style=\"text-align: right;\">\n",
							"      <th></th>\n",
							"      <th>Wine</th>\n",
							"      <th>Alcohol</th>\n",
							"      <th>Malic.acid</th>\n",
							"      <th>Ash</th>\n",
							"      <th>Acl</th>\n",
							"      <th>Mg</th>\n",
							"      <th>Phenols</th>\n",
							"      <th>Flavanoids</th>\n",
							"      <th>Nonflavanoid.phenols</th>\n",
							"      <th>Proanth</th>\n",
							"      <th>Color.int</th>\n",
							"      <th>Hue</th>\n",
							"      <th>OD</th>\n",
							"      <th>Proline</th>\n",
							"    </tr>\n",
							"  </thead>\n",
							"  <tbody>\n",
							"    <tr>\n",
							"      <th>0</th>\n",
							"      <td>1</td>\n",
							"      <td>13.20</td>\n",
							"      <td>1.78</td>\n",
							"      <td>2.14</td>\n",
							"      <td>11.2</td>\n",
							"      <td>100</td>\n",
							"      <td>2.65</td>\n",
							"      <td>2.76</td>\n",
							"      <td>0.26</td>\n",
							"      <td>1.28</td>\n",
							"      <td>4.38</td>\n",
							"      <td>1.05</td>\n",
							"      <td>3.40</td>\n",
							"      <td>1050</td>\n",
							"    </tr>\n",
							"    <tr>\n",
							"      <th>1</th>\n",
							"      <td>1</td>\n",
							"      <td>13.16</td>\n",
							"      <td>2.36</td>\n",
							"      <td>2.67</td>\n",
							"      <td>18.6</td>\n",
							"      <td>101</td>\n",
							"      <td>2.80</td>\n",
							"      <td>3.24</td>\n",
							"      <td>0.30</td>\n",
							"      <td>2.81</td>\n",
							"      <td>5.68</td>\n",
							"      <td>1.03</td>\n",
							"      <td>3.17</td>\n",
							"      <td>1185</td>\n",
							"    </tr>\n",
							"    <tr>\n",
							"      <th>2</th>\n",
							"      <td>1</td>\n",
							"      <td>14.37</td>\n",
							"      <td>1.95</td>\n",
							"      <td>2.50</td>\n",
							"      <td>16.8</td>\n",
							"      <td>113</td>\n",
							"      <td>3.85</td>\n",
							"      <td>3.49</td>\n",
							"      <td>0.24</td>\n",
							"      <td>2.18</td>\n",
							"      <td>7.80</td>\n",
							"      <td>0.86</td>\n",
							"      <td>3.45</td>\n",
							"      <td>1480</td>\n",
							"    </tr>\n",
							"    <tr>\n",
							"      <th>3</th>\n",
							"      <td>1</td>\n",
							"      <td>13.24</td>\n",
							"      <td>2.59</td>\n",
							"      <td>2.87</td>\n",
							"      <td>21.0</td>\n",
							"      <td>118</td>\n",
							"      <td>2.80</td>\n",
							"      <td>2.69</td>\n",
							"      <td>0.39</td>\n",
							"      <td>1.82</td>\n",
							"      <td>4.32</td>\n",
							"      <td>1.04</td>\n",
							"      <td>2.93</td>\n",
							"      <td>735</td>\n",
							"    </tr>\n",
							"    <tr>\n",
							"      <th>4</th>\n",
							"      <td>1</td>\n",
							"      <td>14.20</td>\n",
							"      <td>1.76</td>\n",
							"      <td>2.45</td>\n",
							"      <td>15.2</td>\n",
							"      <td>112</td>\n",
							"      <td>3.27</td>\n",
							"      <td>3.39</td>\n",
							"      <td>0.34</td>\n",
							"      <td>1.97</td>\n",
							"      <td>6.75</td>\n",
							"      <td>1.05</td>\n",
							"      <td>2.85</td>\n",
							"      <td>1450</td>\n",
							"    </tr>\n",
							"  </tbody>\n",
							"</table>\n",
							"</div>\n",
							"      <button class=\"colab-df-convert\" onclick=\"convertToInteractive('df-f67ad284-7745-4bd5-8981-8d76f0aa3e56')\"\n",
							"              title=\"Convert this dataframe to an interactive table.\"\n",
							"              style=\"display:none;\">\n",
							"        \n",
							"  <svg xmlns=\"http://www.w3.org/2000/svg\" height=\"24px\"viewBox=\"0 0 24 24\"\n",
							"       width=\"24px\">\n",
							"    <path d=\"M0 0h24v24H0V0z\" fill=\"none\"/>\n",
							"    <path d=\"M18.56 5.44l.94 2.06.94-2.06 2.06-.94-2.06-.94-.94-2.06-.94 2.06-2.06.94zm-11 1L8.5 8.5l.94-2.06 2.06-.94-2.06-.94L8.5 2.5l-.94 2.06-2.06.94zm10 10l.94 2.06.94-2.06 2.06-.94-2.06-.94-.94-2.06-.94 2.06-2.06.94z\"/><path d=\"M17.41 7.96l-1.37-1.37c-.4-.4-.92-.59-1.43-.59-.52 0-1.04.2-1.43.59L10.3 9.45l-7.72 7.72c-.78.78-.78 2.05 0 2.83L4 21.41c.39.39.9.59 1.41.59.51 0 1.02-.2 1.41-.59l7.78-7.78 2.81-2.81c.8-.78.8-2.07 0-2.86zM5.41 20L4 18.59l7.72-7.72 1.47 1.35L5.41 20z\"/>\n",
							"  </svg>\n",
							"      </button>\n",
							"      \n",
							"  <style>\n",
							"    .colab-df-container {\n",
							"      display:flex;\n",
							"      flex-wrap:wrap;\n",
							"      gap: 12px;\n",
							"    }\n",
							"\n",
							"    .colab-df-convert {\n",
							"      background-color: #E8F0FE;\n",
							"      border: none;\n",
							"      border-radius: 50%;\n",
							"      cursor: pointer;\n",
							"      display: none;\n",
							"      fill: #1967D2;\n",
							"      height: 32px;\n",
							"      padding: 0 0 0 0;\n",
							"      width: 32px;\n",
							"    }\n",
							"\n",
							"    .colab-df-convert:hover {\n",
							"      background-color: #E2EBFA;\n",
							"      box-shadow: 0px 1px 2px rgba(60, 64, 67, 0.3), 0px 1px 3px 1px rgba(60, 64, 67, 0.15);\n",
							"      fill: #174EA6;\n",
							"    }\n",
							"\n",
							"    [theme=dark] .colab-df-convert {\n",
							"      background-color: #3B4455;\n",
							"      fill: #D2E3FC;\n",
							"    }\n",
							"\n",
							"    [theme=dark] .colab-df-convert:hover {\n",
							"      background-color: #434B5C;\n",
							"      box-shadow: 0px 1px 3px 1px rgba(0, 0, 0, 0.15);\n",
							"      filter: drop-shadow(0px 1px 2px rgba(0, 0, 0, 0.3));\n",
							"      fill: #FFFFFF;\n",
							"    }\n",
							"  </style>\n",
							"\n",
							"      <script>\n",
							"        const buttonEl =\n",
							"          document.querySelector('#df-f67ad284-7745-4bd5-8981-8d76f0aa3e56 button.colab-df-convert');\n",
							"        buttonEl.style.display =\n",
							"          google.colab.kernel.accessAllowed ? 'block' : 'none';\n",
							"\n",
							"        async function convertToInteractive(key) {\n",
							"          const element = document.querySelector('#df-f67ad284-7745-4bd5-8981-8d76f0aa3e56');\n",
							"          const dataTable =\n",
							"            await google.colab.kernel.invokeFunction('convertToInteractive',\n",
							"                                                     [key], {});\n",
							"          if (!dataTable) return;\n",
							"\n",
							"          const docLinkHtml = 'Like what you see? Visit the ' +\n",
							"            '<a target=\"_blank\" href=https://colab.research.google.com/notebooks/data_table.ipynb>data table notebook</a>'\n",
							"            + ' to learn more about interactive tables.';\n",
							"          element.innerHTML = '';\n",
							"          dataTable['output_type'] = 'display_data';\n",
							"          await google.colab.output.renderOutput(dataTable, element);\n",
							"          const docLink = document.createElement('div');\n",
							"          docLink.innerHTML = docLinkHtml;\n",
							"          element.appendChild(docLink);\n",
							"        }\n",
							"      </script>\n",
							"    </div>\n",
							"  </div>\n",
							"  "
						]
					},
					"metadata": {},
					"execution_count": 5
				}
			]
		},
		{
			"cell_type": "markdown",
			"source": [
				"# ヒストグラムの出力\n",
				"データを分割するに当たって分割する個数を考慮してできるだけ個数が偏らない数に調節する。"
			],
			"metadata": {
				"id": "tW5v7p3cFk9D"
			}
		},
		{
			"cell_type": "code",
			"source": [
				"columns = list(df.columns)\n",
				"for col in columns:\n",
				"  plt.hist(df[col].values, bins=5)\n",
				"  plt.title(col)\n",
				"  plt.show()"
			],
			"metadata": {
				"colab": {
					"base_uri": "https://localhost:8080/",
					"height": 1000
				},
				"id": "qX_YaCqLDPSw",
				"executionInfo": {
					"status": "ok",
					"timestamp": 1647859198784,
					"user_tz": -540,
					"elapsed": 3271,
					"user": {
						"displayName": "田中直哉",
						"photoUrl": "https://lh3.googleusercontent.com/a-/AOh14GjUKV8S8xcfyV381wzO_CDiZPqIWeSILEuspCDZAw=s64",
						"userId": "04823463265793038392"
					}
				},
				"outputId": "0f52afe1-48bf-44b6-828d-4bbe259c1cf0"
			},
			"execution_count": null,
			"outputs": [
				{
					"output_type": "display_data",
					"data": {
						"text/plain": [
							"<Figure size 432x288 with 1 Axes>"
						],
						"image/png": "[encoded data removed]"
					},
					"metadata": {
						"needs_background": "light"
					}
				},
				{
					"output_type": "display_data",
					"data": {
						"text/plain": [
							"<Figure size 432x288 with 1 Axes>"
						],
						"image/png": "[encoded data removed]"
					},
					"metadata": {
						"needs_background": "light"
					}
				},
				{
					"output_type": "display_data",
					"data": {
						"text/plain": [
							"<Figure size 432x288 with 1 Axes>"
						],
						"image/png": "[encoded data removed]"
					},
					"metadata": {
						"needs_background": "light"
					}
				},
				{
					"output_type": "display_data",
					"data": {
						"text/plain": [
							"<Figure size 432x288 with 1 Axes>"
						],
						"image/png": "[encoded data removed]"
					},
					"metadata": {
						"needs_background": "light"
					}
				},
				{
					"output_type": "display_data",
					"data": {
						"text/plain": [
							"<Figure size 432x288 with 1 Axes>"
						],
						"image/png": "[encoded data removed]"
					},
					"metadata": {
						"needs_background": "light"
					}
				},
				{
					"output_type": "display_data",
					"data": {
						"text/plain": [
							"<Figure size 432x288 with 1 Axes>"
						],
						"image/png": "[encoded data removed]"
					},
					"metadata": {
						"needs_background": "light"
					}
				},
				{
					"output_type": "display_data",
					"data": {
						"text/plain": [
							"<Figure size 432x288 with 1 Axes>"
						],
						"image/png": "[encoded data removed]"
					},
					"metadata": {
						"needs_background": "light"
					}
				},
				{
					"output_type": "display_data",
					"data": {
						"text/plain": [
							"<Figure size 432x288 with 1 Axes>"
						],
						"image/png": "[encoded data removed]"
					},
					"metadata": {
						"needs_background": "light"
					}
				},
				{
					"output_type": "display_data",
					"data": {
						"text/plain": [
							"<Figure size 432x288 with 1 Axes>"
						],
						"image/png": "[encoded data removed]"
					},
					"metadata": {
						"needs_background": "light"
					}
				},
				{
					"output_type": "display_data",
					"data": {
						"text/plain": [
							"<Figure size 432x288 with 1 Axes>"
						],
						"image/png": "[encoded data removed]"
					},
					"metadata": {
						"needs_background": "light"
					}
				},
				{
					"output_type": "display_data",
					"data": {
						"text/plain": [
							"<Figure size 432x288 with 1 Axes>"
						],
						"image/png": "[encoded data removed]"
					},
					"metadata": {
						"needs_background": "light"
					}
				},
				{
					"output_type": "display_data",
					"data": {
						"text/plain": [
							"<Figure size 432x288 with 1 Axes>"
						],
						"image/png": "[encoded data removed]"
					},
					"metadata": {
						"needs_background": "light"
					}
				},
				{
					"output_type": "display_data",
					"data": {
						"text/plain": [
							"<Figure size 432x288 with 1 Axes>"
						],
						"image/png": "[encoded data removed]"
					},
					"metadata": {
						"needs_background": "light"
					}
				},
				{
					"output_type": "display_data",
					"data": {
						"text/plain": [
							"<Figure size 432x288 with 1 Axes>"
						],
						"image/png": "[encoded data removed]"
					},
					"metadata": {
						"needs_background": "light"
					}
				}
			]
		},
		{
			"cell_type": "markdown",
			"source": [
				"# データを比例尺度でカテゴリ化"
			],
			"metadata": {
				"id": "XmGr9-oqdgvs"
			}
		},
		{
			"cell_type": "code",
			"source": [
				"df_cate = df.copy()\n",
				"for col in columns:\n",
				"  if col != \"Wine\":\n",
				"    df_cate[col] = pd.cut(df[col],5)\n",
				"df_cate.head()"
			],
			"metadata": {
				"colab": {
					"base_uri": "https://localhost:8080/",
					"height": 357
				},
				"id": "-cdBu0BGWJSV",
				"executionInfo": {
					"status": "ok",
					"timestamp": 1647859206538,
					"user_tz": -540,
					"elapsed": 311,
					"user": {
						"displayName": "田中直哉",
						"photoUrl": "https://lh3.googleusercontent.com/a-/AOh14GjUKV8S8xcfyV381wzO_CDiZPqIWeSILEuspCDZAw=s64",
						"userId": "04823463265793038392"
					}
				},
				"outputId": "1fc50e97-28a2-4ff4-f0cd-f2bfe643a0f6"
			},
			"execution_count": null,
			"outputs": [
				{
					"output_type": "execute_result",
					"data": {
						"text/plain": [
							"   Wine         Alcohol      Malic.acid             Ash              Acl  \\\n",
							"0     1  (12.55, 13.31]  (1.752, 2.764]  (2.108, 2.482]  (10.581, 14.48]   \n",
							"1     1  (12.55, 13.31]  (1.752, 2.764]  (2.482, 2.856]   (18.36, 22.24]   \n",
							"2     1  (14.07, 14.83]  (1.752, 2.764]  (2.482, 2.856]   (14.48, 18.36]   \n",
							"3     1  (12.55, 13.31]  (1.752, 2.764]   (2.856, 3.23]   (18.36, 22.24]   \n",
							"4     1  (14.07, 14.83]  (1.752, 2.764]  (2.108, 2.482]   (14.48, 18.36]   \n",
							"\n",
							"               Mg       Phenols      Flavanoids Nonflavanoid.phenols  \\\n",
							"0   (88.4, 106.8]  (2.14, 2.72]  (2.236, 3.184]       (0.236, 0.342]   \n",
							"1   (88.4, 106.8]   (2.72, 3.3]  (3.184, 4.132]       (0.236, 0.342]   \n",
							"2  (106.8, 125.2]   (3.3, 3.88]  (3.184, 4.132]       (0.236, 0.342]   \n",
							"3  (106.8, 125.2]   (2.72, 3.3]  (2.236, 3.184]       (0.342, 0.448]   \n",
							"4  (106.8, 125.2]   (2.72, 3.3]  (3.184, 4.132]       (0.236, 0.342]   \n",
							"\n",
							"          Proanth       Color.int             Hue              OD  \\\n",
							"0  (1.044, 1.678]  (3.624, 5.968]  (0.972, 1.218]  (2.908, 3.454]   \n",
							"1  (2.312, 2.946]  (3.624, 5.968]  (0.972, 1.218]  (2.908, 3.454]   \n",
							"2  (1.678, 2.312]  (5.968, 8.312]  (0.726, 0.972]  (2.908, 3.454]   \n",
							"3  (1.678, 2.312]  (3.624, 5.968]  (0.972, 1.218]  (2.908, 3.454]   \n",
							"4  (1.678, 2.312]  (5.968, 8.312]  (0.972, 1.218]  (2.362, 2.908]   \n",
							"\n",
							"            Proline  \n",
							"0   (838.8, 1119.2]  \n",
							"1  (1119.2, 1399.6]  \n",
							"2  (1399.6, 1680.0]  \n",
							"3    (558.4, 838.8]  \n",
							"4  (1399.6, 1680.0]  "
						],
						"text/html": [
							"\n",
							"  <div id=\"df-3c3f95a5-7870-4523-beb2-8ef0e6e84c63\">\n",
							"    <div class=\"colab-df-container\">\n",
							"      <div>\n",
							"<style scoped>\n",
							"    .dataframe tbody tr th:only-of-type {\n",
							"        vertical-align: middle;\n",
							"    }\n",
							"\n",
							"    .dataframe tbody tr th {\n",
							"        vertical-align: top;\n",
							"    }\n",
							"\n",
							"    .dataframe thead th {\n",
							"        text-align: right;\n",
							"    }\n",
							"</style>\n",
							"<table border=\"1\" class=\"dataframe\">\n",
							"  <thead>\n",
							"    <tr style=\"text-align: right;\">\n",
							"      <th></th>\n",
							"      <th>Wine</th>\n",
							"      <th>Alcohol</th>\n",
							"      <th>Malic.acid</th>\n",
							"      <th>Ash</th>\n",
							"      <th>Acl</th>\n",
							"      <th>Mg</th>\n",
							"      <th>Phenols</th>\n",
							"      <th>Flavanoids</th>\n",
							"      <th>Nonflavanoid.phenols</th>\n",
							"      <th>Proanth</th>\n",
							"      <th>Color.int</th>\n",
							"      <th>Hue</th>\n",
							"      <th>OD</th>\n",
							"      <th>Proline</th>\n",
							"    </tr>\n",
							"  </thead>\n",
							"  <tbody>\n",
							"    <tr>\n",
							"      <th>0</th>\n",
							"      <td>1</td>\n",
							"      <td>(12.55, 13.31]</td>\n",
							"      <td>(1.752, 2.764]</td>\n",
							"      <td>(2.108, 2.482]</td>\n",
							"      <td>(10.581, 14.48]</td>\n",
							"      <td>(88.4, 106.8]</td>\n",
							"      <td>(2.14, 2.72]</td>\n",
							"      <td>(2.236, 3.184]</td>\n",
							"      <td>(0.236, 0.342]</td>\n",
							"      <td>(1.044, 1.678]</td>\n",
							"      <td>(3.624, 5.968]</td>\n",
							"      <td>(0.972, 1.218]</td>\n",
							"      <td>(2.908, 3.454]</td>\n",
							"      <td>(838.8, 1119.2]</td>\n",
							"    </tr>\n",
							"    <tr>\n",
							"      <th>1</th>\n",
							"      <td>1</td>\n",
							"      <td>(12.55, 13.31]</td>\n",
							"      <td>(1.752, 2.764]</td>\n",
							"      <td>(2.482, 2.856]</td>\n",
							"      <td>(18.36, 22.24]</td>\n",
							"      <td>(88.4, 106.8]</td>\n",
							"      <td>(2.72, 3.3]</td>\n",
							"      <td>(3.184, 4.132]</td>\n",
							"      <td>(0.236, 0.342]</td>\n",
							"      <td>(2.312, 2.946]</td>\n",
							"      <td>(3.624, 5.968]</td>\n",
							"      <td>(0.972, 1.218]</td>\n",
							"      <td>(2.908, 3.454]</td>\n",
							"      <td>(1119.2, 1399.6]</td>\n",
							"    </tr>\n",
							"    <tr>\n",
							"      <th>2</th>\n",
							"      <td>1</td>\n",
							"      <td>(14.07, 14.83]</td>\n",
							"      <td>(1.752, 2.764]</td>\n",
							"      <td>(2.482, 2.856]</td>\n",
							"      <td>(14.48, 18.36]</td>\n",
							"      <td>(106.8, 125.2]</td>\n",
							"      <td>(3.3, 3.88]</td>\n",
							"      <td>(3.184, 4.132]</td>\n",
							"      <td>(0.236, 0.342]</td>\n",
							"      <td>(1.678, 2.312]</td>\n",
							"      <td>(5.968, 8.312]</td>\n",
							"      <td>(0.726, 0.972]</td>\n",
							"      <td>(2.908, 3.454]</td>\n",
							"      <td>(1399.6, 1680.0]</td>\n",
							"    </tr>\n",
							"    <tr>\n",
							"      <th>3</th>\n",
							"      <td>1</td>\n",
							"      <td>(12.55, 13.31]</td>\n",
							"      <td>(1.752, 2.764]</td>\n",
							"      <td>(2.856, 3.23]</td>\n",
							"      <td>(18.36, 22.24]</td>\n",
							"      <td>(106.8, 125.2]</td>\n",
							"      <td>(2.72, 3.3]</td>\n",
							"      <td>(2.236, 3.184]</td>\n",
							"      <td>(0.342, 0.448]</td>\n",
							"      <td>(1.678, 2.312]</td>\n",
							"      <td>(3.624, 5.968]</td>\n",
							"      <td>(0.972, 1.218]</td>\n",
							"      <td>(2.908, 3.454]</td>\n",
							"      <td>(558.4, 838.8]</td>\n",
							"    </tr>\n",
							"    <tr>\n",
							"      <th>4</th>\n",
							"      <td>1</td>\n",
							"      <td>(14.07, 14.83]</td>\n",
							"      <td>(1.752, 2.764]</td>\n",
							"      <td>(2.108, 2.482]</td>\n",
							"      <td>(14.48, 18.36]</td>\n",
							"      <td>(106.8, 125.2]</td>\n",
							"      <td>(2.72, 3.3]</td>\n",
							"      <td>(3.184, 4.132]</td>\n",
							"      <td>(0.236, 0.342]</td>\n",
							"      <td>(1.678, 2.312]</td>\n",
							"      <td>(5.968, 8.312]</td>\n",
							"      <td>(0.972, 1.218]</td>\n",
							"      <td>(2.362, 2.908]</td>\n",
							"      <td>(1399.6, 1680.0]</td>\n",
							"    </tr>\n",
							"  </tbody>\n",
							"</table>\n",
							"</div>\n",
							"      <button class=\"colab-df-convert\" onclick=\"convertToInteractive('df-3c3f95a5-7870-4523-beb2-8ef0e6e84c63')\"\n",
							"              title=\"Convert this dataframe to an interactive table.\"\n",
							"              style=\"display:none;\">\n",
							"        \n",
							"  <svg xmlns=\"http://www.w3.org/2000/svg\" height=\"24px\"viewBox=\"0 0 24 24\"\n",
							"       width=\"24px\">\n",
							"    <path d=\"M0 0h24v24H0V0z\" fill=\"none\"/>\n",
							"    <path d=\"M18.56 5.44l.94 2.06.94-2.06 2.06-.94-2.06-.94-.94-2.06-.94 2.06-2.06.94zm-11 1L8.5 8.5l.94-2.06 2.06-.94-2.06-.94L8.5 2.5l-.94 2.06-2.06.94zm10 10l.94 2.06.94-2.06 2.06-.94-2.06-.94-.94-2.06-.94 2.06-2.06.94z\"/><path d=\"M17.41 7.96l-1.37-1.37c-.4-.4-.92-.59-1.43-.59-.52 0-1.04.2-1.43.59L10.3 9.45l-7.72 7.72c-.78.78-.78 2.05 0 2.83L4 21.41c.39.39.9.59 1.41.59.51 0 1.02-.2 1.41-.59l7.78-7.78 2.81-2.81c.8-.78.8-2.07 0-2.86zM5.41 20L4 18.59l7.72-7.72 1.47 1.35L5.41 20z\"/>\n",
							"  </svg>\n",
							"      </button>\n",
							"      \n",
							"  <style>\n",
							"    .colab-df-container {\n",
							"      display:flex;\n",
							"      flex-wrap:wrap;\n",
							"      gap: 12px;\n",
							"    }\n",
							"\n",
							"    .colab-df-convert {\n",
							"      background-color: #E8F0FE;\n",
							"      border: none;\n",
							"      border-radius: 50%;\n",
							"      cursor: pointer;\n",
							"      display: none;\n",
							"      fill: #1967D2;\n",
							"      height: 32px;\n",
							"      padding: 0 0 0 0;\n",
							"      width: 32px;\n",
							"    }\n",
							"\n",
							"    .colab-df-convert:hover {\n",
							"      background-color: #E2EBFA;\n",
							"      box-shadow: 0px 1px 2px rgba(60, 64, 67, 0.3), 0px 1px 3px 1px rgba(60, 64, 67, 0.15);\n",
							"      fill: #174EA6;\n",
							"    }\n",
							"\n",
							"    [theme=dark] .colab-df-convert {\n",
							"      background-color: #3B4455;\n",
							"      fill: #D2E3FC;\n",
							"    }\n",
							"\n",
							"    [theme=dark] .colab-df-convert:hover {\n",
							"      background-color: #434B5C;\n",
							"      box-shadow: 0px 1px 3px 1px rgba(0, 0, 0, 0.15);\n",
							"      filter: drop-shadow(0px 1px 2px rgba(0, 0, 0, 0.3));\n",
							"      fill: #FFFFFF;\n",
							"    }\n",
							"  </style>\n",
							"\n",
							"      <script>\n",
							"        const buttonEl =\n",
							"          document.querySelector('#df-3c3f95a5-7870-4523-beb2-8ef0e6e84c63 button.colab-df-convert');\n",
							"        buttonEl.style.display =\n",
							"          google.colab.kernel.accessAllowed ? 'block' : 'none';\n",
							"\n",
							"        async function convertToInteractive(key) {\n",
							"          const element = document.querySelector('#df-3c3f95a5-7870-4523-beb2-8ef0e6e84c63');\n",
							"          const dataTable =\n",
							"            await google.colab.kernel.invokeFunction('convertToInteractive',\n",
							"                                                     [key], {});\n",
							"          if (!dataTable) return;\n",
							"\n",
							"          const docLinkHtml = 'Like what you see? Visit the ' +\n",
							"            '<a target=\"_blank\" href=https://colab.research.google.com/notebooks/data_table.ipynb>data table notebook</a>'\n",
							"            + ' to learn more about interactive tables.';\n",
							"          element.innerHTML = '';\n",
							"          dataTable['output_type'] = 'display_data';\n",
							"          await google.colab.output.renderOutput(dataTable, element);\n",
							"          const docLink = document.createElement('div');\n",
							"          docLink.innerHTML = docLinkHtml;\n",
							"          element.appendChild(docLink);\n",
							"        }\n",
							"      </script>\n",
							"    </div>\n",
							"  </div>\n",
							"  "
						]
					},
					"metadata": {},
					"execution_count": 12
				}
			]
		},
		{
			"cell_type": "markdown",
			"source": [
				"# ベイジアンネットワークモデルの宣言と学習"
			],
			"metadata": {
				"id": "wiSHP5Kqdppt"
			}
		},
		{
			"cell_type": "code",
			"source": [
				"est = ConstraintBasedEstimator(df_cate)"
			],
			"metadata": {
				"id": "cy8kR7o5Ui8Q"
			},
			"execution_count": null,
			"outputs": []
		},
		{
			"cell_type": "code",
			"source": [
				"skel,separating_sets = est.estimate_skeleton(significance_level=0.01)\n",
				"pdag = est.skeleton_to_pdag(skel, separating_sets)\n",
				"model = est.pdag_to_dag(pdag)\n",
				"DAG_model = BayesianModel(model.edges())"
			],
			"metadata": {
				"colab": {
					"base_uri": "https://localhost:8080/"
				},
				"id": "wEmwtlSXVKkn",
				"executionInfo": {
					"status": "ok",
					"timestamp": 1647859229400,
					"user_tz": -540,
					"elapsed": 16714,
					"user": {
						"displayName": "田中直哉",
						"photoUrl": "https://lh3.googleusercontent.com/a-/AOh14GjUKV8S8xcfyV381wzO_CDiZPqIWeSILEuspCDZAw=s64",
						"userId": "04823463265793038392"
					}
				},
				"outputId": "2e01b791-bdb5-4d1c-9486-b5ca554905e3"
			},
			"execution_count": null,
			"outputs": [
				{
					"output_type": "stream",
					"name": "stderr",
					"text": [
						"/usr/local/lib/python3.7/dist-packages/pgmpy/estimators/CITests.py:89: UserWarning: Insufficient data for testing Wine _|_ Alcohol | ['Flavanoids']. At least 200 samples recommended, 178 present.\n",
						"  5 * num_params, len(data)\n",
						"/usr/local/lib/python3.7/dist-packages/pgmpy/estimators/CITests.py:112: FutureWarning: Using the level keyword in DataFrame and Series aggregations is deprecated and will be removed in a future version. Use groupby instead. df.sum(level=1) should use df.groupby(level=1).sum().\n",
						"  XZ_state_counts = XYZ_state_counts.sum(axis=1, level=Z)  # marginalize out Y\n",
						"/usr/local/lib/python3.7/dist-packages/pgmpy/estimators/CITests.py:89: UserWarning: Insufficient data for testing Wine _|_ Alcohol | ['Malic.acid']. At least 200 samples recommended, 178 present.\n",
						"  5 * num_params, len(data)\n",
						"/usr/local/lib/python3.7/dist-packages/pgmpy/estimators/CITests.py:89: UserWarning: Insufficient data for testing Wine _|_ Alcohol | ['Proline']. At least 200 samples recommended, 178 present.\n",
						"  5 * num_params, len(data)\n",
						"/usr/local/lib/python3.7/dist-packages/pgmpy/estimators/CITests.py:89: UserWarning: Insufficient data for testing Wine _|_ Alcohol | ['OD']. At least 200 samples recommended, 178 present.\n",
						"  5 * num_params, len(data)\n",
						"/usr/local/lib/python3.7/dist-packages/pgmpy/estimators/CITests.py:89: UserWarning: Insufficient data for testing Wine _|_ Alcohol | ['Phenols']. At least 200 samples recommended, 178 present.\n",
						"  5 * num_params, len(data)\n",
						"/usr/local/lib/python3.7/dist-packages/pgmpy/estimators/CITests.py:89: UserWarning: Insufficient data for testing Wine _|_ Alcohol | ['Mg']. At least 200 samples recommended, 178 present.\n",
						"  5 * num_params, len(data)\n",
						"/usr/local/lib/python3.7/dist-packages/pgmpy/estimators/CITests.py:89: UserWarning: Insufficient data for testing Wine _|_ Alcohol | ['Nonflavanoid.phenols']. At least 200 samples recommended, 178 present.\n",
						"  5 * num_params, len(data)\n",
						"/usr/local/lib/python3.7/dist-packages/pgmpy/estimators/CITests.py:89: UserWarning: Insufficient data for testing Wine _|_ Alcohol | ['Hue']. At least 200 samples recommended, 178 present.\n",
						"  5 * num_params, len(data)\n",
						"/usr/local/lib/python3.7/dist-packages/pgmpy/estimators/CITests.py:89: UserWarning: Insufficient data for testing Wine _|_ Alcohol | ['Acl']. At least 200 samples recommended, 178 present.\n",
						"  5 * num_params, len(data)\n",
						"/usr/local/lib/python3.7/dist-packages/pgmpy/estimators/CITests.py:89: UserWarning: Insufficient data for testing Wine _|_ Alcohol | ['Proanth']. At least 200 samples recommended, 178 present.\n",
						"  5 * num_params, len(data)\n",
						"/usr/local/lib/python3.7/dist-packages/pgmpy/estimators/CITests.py:89: UserWarning: Insufficient data for testing Wine _|_ Alcohol | ['Color.int']. At least 200 samples recommended, 178 present.\n",
						"  5 * num_params, len(data)\n",
						"/usr/local/lib/python3.7/dist-packages/pgmpy/estimators/CITests.py:89: UserWarning: Insufficient data for testing Wine _|_ Malic.acid | ['Flavanoids']. At least 200 samples recommended, 178 present.\n",
						"  5 * num_params, len(data)\n",
						"/usr/local/lib/python3.7/dist-packages/pgmpy/estimators/CITests.py:89: UserWarning: Insufficient data for testing Wine _|_ Acl | ['Flavanoids']. At least 200 samples recommended, 178 present.\n",
						"  5 * num_params, len(data)\n",
						"/usr/local/lib/python3.7/dist-packages/pgmpy/estimators/CITests.py:89: UserWarning: Insufficient data for testing Wine _|_ Mg | ['Flavanoids']. At least 200 samples recommended, 178 present.\n",
						"  5 * num_params, len(data)\n",
						"/usr/local/lib/python3.7/dist-packages/pgmpy/estimators/CITests.py:89: UserWarning: Insufficient data for testing Wine _|_ Mg | ['Proline']. At least 200 samples recommended, 178 present.\n",
						"  5 * num_params, len(data)\n",
						"/usr/local/lib/python3.7/dist-packages/pgmpy/estimators/CITests.py:89: UserWarning: Insufficient data for testing Wine _|_ Phenols | ['Flavanoids']. At least 200 samples recommended, 178 present.\n",
						"  5 * num_params, len(data)\n",
						"/usr/local/lib/python3.7/dist-packages/pgmpy/estimators/CITests.py:89: UserWarning: Insufficient data for testing Wine _|_ Flavanoids | ['Proline']. At least 200 samples recommended, 178 present.\n",
						"  5 * num_params, len(data)\n",
						"/usr/local/lib/python3.7/dist-packages/pgmpy/estimators/CITests.py:89: UserWarning: Insufficient data for testing Wine _|_ Flavanoids | ['OD']. At least 200 samples recommended, 178 present.\n",
						"  5 * num_params, len(data)\n",
						"/usr/local/lib/python3.7/dist-packages/pgmpy/estimators/CITests.py:89: UserWarning: Insufficient data for testing Wine _|_ Flavanoids | ['Nonflavanoid.phenols']. At least 200 samples recommended, 178 present.\n",
						"  5 * num_params, len(data)\n",
						"/usr/local/lib/python3.7/dist-packages/pgmpy/estimators/CITests.py:89: UserWarning: Insufficient data for testing Wine _|_ Flavanoids | ['Hue']. At least 200 samples recommended, 178 present.\n",
						"  5 * num_params, len(data)\n",
						"/usr/local/lib/python3.7/dist-packages/pgmpy/estimators/CITests.py:89: UserWarning: Insufficient data for testing Wine _|_ Flavanoids | ['Proanth']. At least 200 samples recommended, 178 present.\n",
						"  5 * num_params, len(data)\n",
						"/usr/local/lib/python3.7/dist-packages/pgmpy/estimators/CITests.py:89: UserWarning: Insufficient data for testing Wine _|_ Flavanoids | ['Color.int']. At least 200 samples recommended, 178 present.\n",
						"  5 * num_params, len(data)\n",
						"/usr/local/lib/python3.7/dist-packages/pgmpy/estimators/CITests.py:89: UserWarning: Insufficient data for testing Wine _|_ Flavanoids | ['Alcohol']. At least 200 samples recommended, 178 present.\n",
						"  5 * num_params, len(data)\n",
						"/usr/local/lib/python3.7/dist-packages/pgmpy/estimators/CITests.py:89: UserWarning: Insufficient data for testing Wine _|_ Nonflavanoid.phenols | ['Flavanoids']. At least 200 samples recommended, 178 present.\n",
						"  5 * num_params, len(data)\n",
						"/usr/local/lib/python3.7/dist-packages/pgmpy/estimators/CITests.py:89: UserWarning: Insufficient data for testing Wine _|_ Proanth | ['Flavanoids']. At least 200 samples recommended, 178 present.\n",
						"  5 * num_params, len(data)\n",
						"/usr/local/lib/python3.7/dist-packages/pgmpy/estimators/CITests.py:89: UserWarning: Insufficient data for testing Wine _|_ Color.int | ['Flavanoids']. At least 200 samples recommended, 178 present.\n",
						"  5 * num_params, len(data)\n",
						"/usr/local/lib/python3.7/dist-packages/pgmpy/estimators/CITests.py:89: UserWarning: Insufficient data for testing Wine _|_ Color.int | ['Proline']. At least 200 samples recommended, 178 present.\n",
						"  5 * num_params, len(data)\n",
						"/usr/local/lib/python3.7/dist-packages/pgmpy/estimators/CITests.py:89: UserWarning: Insufficient data for testing Wine _|_ Color.int | ['OD']. At least 200 samples recommended, 178 present.\n",
						"  5 * num_params, len(data)\n",
						"/usr/local/lib/python3.7/dist-packages/pgmpy/estimators/CITests.py:89: UserWarning: Insufficient data for testing Wine _|_ Color.int | ['Hue']. At least 200 samples recommended, 178 present.\n",
						"  5 * num_params, len(data)\n",
						"/usr/local/lib/python3.7/dist-packages/pgmpy/estimators/CITests.py:89: UserWarning: Insufficient data for testing Wine _|_ Color.int | ['Alcohol']. At least 200 samples recommended, 178 present.\n",
						"  5 * num_params, len(data)\n",
						"/usr/local/lib/python3.7/dist-packages/pgmpy/estimators/CITests.py:89: UserWarning: Insufficient data for testing Wine _|_ Hue | ['Flavanoids']. At least 200 samples recommended, 178 present.\n",
						"  5 * num_params, len(data)\n",
						"/usr/local/lib/python3.7/dist-packages/pgmpy/estimators/CITests.py:89: UserWarning: Insufficient data for testing Wine _|_ Hue | ['Proline']. At least 200 samples recommended, 178 present.\n",
						"  5 * num_params, len(data)\n",
						"/usr/local/lib/python3.7/dist-packages/pgmpy/estimators/CITests.py:89: UserWarning: Insufficient data for testing Wine _|_ Hue | ['OD']. At least 200 samples recommended, 178 present.\n",
						"  5 * num_params, len(data)\n",
						"/usr/local/lib/python3.7/dist-packages/pgmpy/estimators/CITests.py:89: UserWarning: Insufficient data for testing Wine _|_ Hue | ['Color.int']. At least 200 samples recommended, 178 present.\n",
						"  5 * num_params, len(data)\n",
						"/usr/local/lib/python3.7/dist-packages/pgmpy/estimators/CITests.py:89: UserWarning: Insufficient data for testing Wine _|_ Hue | ['Alcohol']. At least 200 samples recommended, 178 present.\n",
						"  5 * num_params, len(data)\n",
						"/usr/local/lib/python3.7/dist-packages/pgmpy/estimators/CITests.py:89: UserWarning: Insufficient data for testing Wine _|_ OD | ['Flavanoids']. At least 200 samples recommended, 178 present.\n",
						"  5 * num_params, len(data)\n",
						"/usr/local/lib/python3.7/dist-packages/pgmpy/estimators/CITests.py:89: UserWarning: Insufficient data for testing Wine _|_ Proline | ['Alcohol']. At least 200 samples recommended, 178 present.\n",
						"  5 * num_params, len(data)\n",
						"/usr/local/lib/python3.7/dist-packages/pgmpy/estimators/CITests.py:89: UserWarning: Insufficient data for testing Wine _|_ Proline | ['Flavanoids']. At least 200 samples recommended, 178 present.\n",
						"  5 * num_params, len(data)\n",
						"/usr/local/lib/python3.7/dist-packages/pgmpy/estimators/CITests.py:89: UserWarning: Insufficient data for testing Wine _|_ Proline | ['Color.int']. At least 200 samples recommended, 178 present.\n",
						"  5 * num_params, len(data)\n",
						"/usr/local/lib/python3.7/dist-packages/pgmpy/estimators/CITests.py:89: UserWarning: Insufficient data for testing Wine _|_ Proline | ['Hue']. At least 200 samples recommended, 178 present.\n",
						"  5 * num_params, len(data)\n",
						"/usr/local/lib/python3.7/dist-packages/pgmpy/estimators/CITests.py:89: UserWarning: Insufficient data for testing Alcohol _|_ Wine | ['Flavanoids']. At least 200 samples recommended, 178 present.\n",
						"  5 * num_params, len(data)\n",
						"/usr/local/lib/python3.7/dist-packages/pgmpy/estimators/CITests.py:89: UserWarning: Insufficient data for testing Alcohol _|_ Wine | ['Proline']. At least 200 samples recommended, 178 present.\n",
						"  5 * num_params, len(data)\n",
						"/usr/local/lib/python3.7/dist-packages/pgmpy/estimators/CITests.py:89: UserWarning: Insufficient data for testing Alcohol _|_ Wine | ['Phenols']. At least 200 samples recommended, 178 present.\n",
						"  5 * num_params, len(data)\n",
						"/usr/local/lib/python3.7/dist-packages/pgmpy/estimators/CITests.py:89: UserWarning: Insufficient data for testing Alcohol _|_ Wine | ['Mg']. At least 200 samples recommended, 178 present.\n",
						"  5 * num_params, len(data)\n",
						"/usr/local/lib/python3.7/dist-packages/pgmpy/estimators/CITests.py:89: UserWarning: Insufficient data for testing Alcohol _|_ Wine | ['Color.int']. At least 200 samples recommended, 178 present.\n",
						"  5 * num_params, len(data)\n",
						"/usr/local/lib/python3.7/dist-packages/pgmpy/estimators/CITests.py:89: UserWarning: Insufficient data for testing Alcohol _|_ Mg | ['Flavanoids']. At least 400 samples recommended, 178 present.\n",
						"  5 * num_params, len(data)\n",
						"/usr/local/lib/python3.7/dist-packages/pgmpy/estimators/CITests.py:89: UserWarning: Insufficient data for testing Alcohol _|_ Phenols | ['Color.int']. At least 400 samples recommended, 178 present.\n",
						"  5 * num_params, len(data)\n",
						"/usr/local/lib/python3.7/dist-packages/pgmpy/estimators/CITests.py:89: UserWarning: Insufficient data for testing Alcohol _|_ Flavanoids | ['Wine']. At least 240 samples recommended, 178 present.\n",
						"  5 * num_params, len(data)\n",
						"/usr/local/lib/python3.7/dist-packages/pgmpy/estimators/CITests.py:89: UserWarning: Insufficient data for testing Alcohol _|_ Color.int | ['Wine']. At least 240 samples recommended, 178 present.\n",
						"  5 * num_params, len(data)\n",
						"/usr/local/lib/python3.7/dist-packages/pgmpy/estimators/CITests.py:89: UserWarning: Insufficient data for testing Alcohol _|_ Proline | ['Wine']. At least 240 samples recommended, 178 present.\n",
						"  5 * num_params, len(data)\n",
						"/usr/local/lib/python3.7/dist-packages/pgmpy/estimators/CITests.py:89: UserWarning: Insufficient data for testing Malic.acid _|_ Flavanoids | ['Hue']. At least 400 samples recommended, 178 present.\n",
						"  5 * num_params, len(data)\n",
						"/usr/local/lib/python3.7/dist-packages/pgmpy/estimators/CITests.py:89: UserWarning: Insufficient data for testing Malic.acid _|_ Hue | ['OD']. At least 400 samples recommended, 178 present.\n",
						"  5 * num_params, len(data)\n",
						"/usr/local/lib/python3.7/dist-packages/pgmpy/estimators/CITests.py:89: UserWarning: Insufficient data for testing Acl _|_ Flavanoids | ['Proline']. At least 400 samples recommended, 178 present.\n",
						"  5 * num_params, len(data)\n",
						"/usr/local/lib/python3.7/dist-packages/pgmpy/estimators/CITests.py:89: UserWarning: Insufficient data for testing Mg _|_ Proanth | ['Color.int']. At least 400 samples recommended, 178 present.\n",
						"  5 * num_params, len(data)\n",
						"/usr/local/lib/python3.7/dist-packages/pgmpy/estimators/CITests.py:89: UserWarning: Insufficient data for testing Mg _|_ Color.int | ['Proline']. At least 400 samples recommended, 178 present.\n",
						"  5 * num_params, len(data)\n",
						"/usr/local/lib/python3.7/dist-packages/pgmpy/estimators/CITests.py:89: UserWarning: Insufficient data for testing Phenols _|_ Flavanoids | ['Proline']. At least 400 samples recommended, 178 present.\n",
						"  5 * num_params, len(data)\n",
						"/usr/local/lib/python3.7/dist-packages/pgmpy/estimators/CITests.py:89: UserWarning: Insufficient data for testing Phenols _|_ Flavanoids | ['OD']. At least 400 samples recommended, 178 present.\n",
						"  5 * num_params, len(data)\n",
						"/usr/local/lib/python3.7/dist-packages/pgmpy/estimators/CITests.py:89: UserWarning: Insufficient data for testing Phenols _|_ Flavanoids | ['Nonflavanoid.phenols']. At least 400 samples recommended, 178 present.\n",
						"  5 * num_params, len(data)\n",
						"/usr/local/lib/python3.7/dist-packages/pgmpy/estimators/CITests.py:89: UserWarning: Insufficient data for testing Phenols _|_ Flavanoids | ['Hue']. At least 400 samples recommended, 178 present.\n",
						"  5 * num_params, len(data)\n",
						"/usr/local/lib/python3.7/dist-packages/pgmpy/estimators/CITests.py:89: UserWarning: Insufficient data for testing Phenols _|_ Flavanoids | ['Proanth']. At least 400 samples recommended, 178 present.\n",
						"  5 * num_params, len(data)\n",
						"/usr/local/lib/python3.7/dist-packages/pgmpy/estimators/CITests.py:89: UserWarning: Insufficient data for testing Phenols _|_ Flavanoids | ['Color.int']. At least 400 samples recommended, 178 present.\n",
						"  5 * num_params, len(data)\n",
						"/usr/local/lib/python3.7/dist-packages/pgmpy/estimators/CITests.py:89: UserWarning: Insufficient data for testing Phenols _|_ Nonflavanoid.phenols | ['Flavanoids']. At least 400 samples recommended, 178 present.\n",
						"  5 * num_params, len(data)\n",
						"/usr/local/lib/python3.7/dist-packages/pgmpy/estimators/CITests.py:89: UserWarning: Insufficient data for testing Phenols _|_ Nonflavanoid.phenols | ['Proline']. At least 400 samples recommended, 178 present.\n",
						"  5 * num_params, len(data)\n",
						"/usr/local/lib/python3.7/dist-packages/pgmpy/estimators/CITests.py:89: UserWarning: Insufficient data for testing Phenols _|_ Proanth | ['Flavanoids']. At least 400 samples recommended, 178 present.\n",
						"  5 * num_params, len(data)\n",
						"/usr/local/lib/python3.7/dist-packages/pgmpy/estimators/CITests.py:89: UserWarning: Insufficient data for testing Phenols _|_ Color.int | ['Flavanoids']. At least 400 samples recommended, 178 present.\n",
						"  5 * num_params, len(data)\n",
						"/usr/local/lib/python3.7/dist-packages/pgmpy/estimators/CITests.py:89: UserWarning: Insufficient data for testing Phenols _|_ Hue | ['Flavanoids']. At least 400 samples recommended, 178 present.\n",
						"  5 * num_params, len(data)\n",
						"/usr/local/lib/python3.7/dist-packages/pgmpy/estimators/CITests.py:89: UserWarning: Insufficient data for testing Phenols _|_ OD | ['Flavanoids']. At least 400 samples recommended, 178 present.\n",
						"  5 * num_params, len(data)\n",
						"/usr/local/lib/python3.7/dist-packages/pgmpy/estimators/CITests.py:89: UserWarning: Insufficient data for testing Phenols _|_ Proline | ['Flavanoids']. At least 400 samples recommended, 178 present.\n",
						"  5 * num_params, len(data)\n",
						"/usr/local/lib/python3.7/dist-packages/pgmpy/estimators/CITests.py:89: UserWarning: Insufficient data for testing Flavanoids _|_ Wine | ['Ash']. At least 200 samples recommended, 178 present.\n",
						"  5 * num_params, len(data)\n",
						"/usr/local/lib/python3.7/dist-packages/pgmpy/estimators/CITests.py:89: UserWarning: Insufficient data for testing Flavanoids _|_ Wine | ['Proline']. At least 200 samples recommended, 178 present.\n",
						"  5 * num_params, len(data)\n",
						"/usr/local/lib/python3.7/dist-packages/pgmpy/estimators/CITests.py:89: UserWarning: Insufficient data for testing Flavanoids _|_ Wine | ['OD']. At least 200 samples recommended, 178 present.\n",
						"  5 * num_params, len(data)\n",
						"/usr/local/lib/python3.7/dist-packages/pgmpy/estimators/CITests.py:89: UserWarning: Insufficient data for testing Flavanoids _|_ Wine | ['Color.int']. At least 200 samples recommended, 178 present.\n",
						"  5 * num_params, len(data)\n",
						"/usr/local/lib/python3.7/dist-packages/pgmpy/estimators/CITests.py:89: UserWarning: Insufficient data for testing Flavanoids _|_ Wine | ['Phenols']. At least 200 samples recommended, 178 present.\n",
						"  5 * num_params, len(data)\n",
						"/usr/local/lib/python3.7/dist-packages/pgmpy/estimators/CITests.py:89: UserWarning: Insufficient data for testing Flavanoids _|_ Wine | ['Nonflavanoid.phenols']. At least 200 samples recommended, 178 present.\n",
						"  5 * num_params, len(data)\n",
						"/usr/local/lib/python3.7/dist-packages/pgmpy/estimators/CITests.py:89: UserWarning: Insufficient data for testing Flavanoids _|_ Wine | ['Hue']. At least 200 samples recommended, 178 present.\n",
						"  5 * num_params, len(data)\n",
						"/usr/local/lib/python3.7/dist-packages/pgmpy/estimators/CITests.py:89: UserWarning: Insufficient data for testing Flavanoids _|_ Wine | ['Proanth']. At least 200 samples recommended, 178 present.\n",
						"  5 * num_params, len(data)\n",
						"/usr/local/lib/python3.7/dist-packages/pgmpy/estimators/CITests.py:89: UserWarning: Insufficient data for testing Flavanoids _|_ Ash | ['Proline']. At least 400 samples recommended, 178 present.\n",
						"  5 * num_params, len(data)\n",
						"/usr/local/lib/python3.7/dist-packages/pgmpy/estimators/CITests.py:89: UserWarning: Insufficient data for testing Flavanoids _|_ Phenols | ['Wine']. At least 240 samples recommended, 178 present.\n",
						"  5 * num_params, len(data)\n",
						"/usr/local/lib/python3.7/dist-packages/pgmpy/estimators/CITests.py:89: UserWarning: Insufficient data for testing Flavanoids _|_ Phenols | ['Proline']. At least 400 samples recommended, 178 present.\n",
						"  5 * num_params, len(data)\n",
						"/usr/local/lib/python3.7/dist-packages/pgmpy/estimators/CITests.py:89: UserWarning: Insufficient data for testing Flavanoids _|_ Phenols | ['OD']. At least 400 samples recommended, 178 present.\n",
						"  5 * num_params, len(data)\n",
						"/usr/local/lib/python3.7/dist-packages/pgmpy/estimators/CITests.py:89: UserWarning: Insufficient data for testing Flavanoids _|_ Phenols | ['Nonflavanoid.phenols']. At least 400 samples recommended, 178 present.\n",
						"  5 * num_params, len(data)\n",
						"/usr/local/lib/python3.7/dist-packages/pgmpy/estimators/CITests.py:89: UserWarning: Insufficient data for testing Flavanoids _|_ Phenols | ['Hue']. At least 400 samples recommended, 178 present.\n",
						"  5 * num_params, len(data)\n",
						"/usr/local/lib/python3.7/dist-packages/pgmpy/estimators/CITests.py:89: UserWarning: Insufficient data for testing Flavanoids _|_ Phenols | ['Proanth']. At least 400 samples recommended, 178 present.\n",
						"  5 * num_params, len(data)\n",
						"/usr/local/lib/python3.7/dist-packages/pgmpy/estimators/CITests.py:89: UserWarning: Insufficient data for testing Flavanoids _|_ Phenols | ['Color.int']. At least 400 samples recommended, 178 present.\n",
						"  5 * num_params, len(data)\n",
						"/usr/local/lib/python3.7/dist-packages/pgmpy/estimators/CITests.py:89: UserWarning: Insufficient data for testing Flavanoids _|_ Nonflavanoid.phenols | ['Wine']. At least 240 samples recommended, 178 present.\n",
						"  5 * num_params, len(data)\n",
						"/usr/local/lib/python3.7/dist-packages/pgmpy/estimators/CITests.py:89: UserWarning: Insufficient data for testing Flavanoids _|_ Proanth | ['Proline']. At least 400 samples recommended, 178 present.\n",
						"  5 * num_params, len(data)\n",
						"/usr/local/lib/python3.7/dist-packages/pgmpy/estimators/CITests.py:89: UserWarning: Insufficient data for testing Flavanoids _|_ Proanth | ['OD']. At least 400 samples recommended, 178 present.\n",
						"  5 * num_params, len(data)\n",
						"/usr/local/lib/python3.7/dist-packages/pgmpy/estimators/CITests.py:89: UserWarning: Insufficient data for testing Flavanoids _|_ Color.int | ['Proline']. At least 400 samples recommended, 178 present.\n",
						"  5 * num_params, len(data)\n",
						"/usr/local/lib/python3.7/dist-packages/pgmpy/estimators/CITests.py:89: UserWarning: Insufficient data for testing Flavanoids _|_ Hue | ['Phenols']. At least 400 samples recommended, 178 present.\n",
						"  5 * num_params, len(data)\n",
						"/usr/local/lib/python3.7/dist-packages/pgmpy/estimators/CITests.py:89: UserWarning: Insufficient data for testing Flavanoids _|_ Hue | ['Wine']. At least 240 samples recommended, 178 present.\n",
						"  5 * num_params, len(data)\n",
						"/usr/local/lib/python3.7/dist-packages/pgmpy/estimators/CITests.py:89: UserWarning: Insufficient data for testing Flavanoids _|_ OD | ['Phenols']. At least 400 samples recommended, 178 present.\n",
						"  5 * num_params, len(data)\n",
						"/usr/local/lib/python3.7/dist-packages/pgmpy/estimators/CITests.py:89: UserWarning: Insufficient data for testing Flavanoids _|_ OD | ['Wine']. At least 240 samples recommended, 178 present.\n",
						"  5 * num_params, len(data)\n",
						"/usr/local/lib/python3.7/dist-packages/pgmpy/estimators/CITests.py:89: UserWarning: Insufficient data for testing Flavanoids _|_ Proline | ['Phenols']. At least 400 samples recommended, 178 present.\n",
						"  5 * num_params, len(data)\n",
						"/usr/local/lib/python3.7/dist-packages/pgmpy/estimators/CITests.py:89: UserWarning: Insufficient data for testing Nonflavanoid.phenols _|_ Hue | ['OD']. At least 400 samples recommended, 178 present.\n",
						"  5 * num_params, len(data)\n",
						"/usr/local/lib/python3.7/dist-packages/pgmpy/estimators/CITests.py:89: UserWarning: Insufficient data for testing Proanth _|_ OD | ['Proline']. At least 400 samples recommended, 178 present.\n",
						"  5 * num_params, len(data)\n",
						"/usr/local/lib/python3.7/dist-packages/pgmpy/estimators/CITests.py:89: UserWarning: Insufficient data for testing Color.int _|_ Wine | ['Proline']. At least 200 samples recommended, 178 present.\n",
						"  5 * num_params, len(data)\n",
						"/usr/local/lib/python3.7/dist-packages/pgmpy/estimators/CITests.py:89: UserWarning: Insufficient data for testing Color.int _|_ Wine | ['Hue']. At least 200 samples recommended, 178 present.\n",
						"  5 * num_params, len(data)\n",
						"/usr/local/lib/python3.7/dist-packages/pgmpy/estimators/CITests.py:89: UserWarning: Insufficient data for testing Color.int _|_ Wine | ['OD']. At least 200 samples recommended, 178 present.\n",
						"  5 * num_params, len(data)\n",
						"/usr/local/lib/python3.7/dist-packages/pgmpy/estimators/CITests.py:89: UserWarning: Insufficient data for testing Color.int _|_ Hue | ['Wine']. At least 240 samples recommended, 178 present.\n",
						"  5 * num_params, len(data)\n",
						"/usr/local/lib/python3.7/dist-packages/pgmpy/estimators/CITests.py:89: UserWarning: Insufficient data for testing Color.int _|_ OD | ['Wine']. At least 240 samples recommended, 178 present.\n",
						"  5 * num_params, len(data)\n",
						"/usr/local/lib/python3.7/dist-packages/pgmpy/estimators/CITests.py:89: UserWarning: Insufficient data for testing Color.int _|_ Proline | ['Wine']. At least 240 samples recommended, 178 present.\n",
						"  5 * num_params, len(data)\n",
						"/usr/local/lib/python3.7/dist-packages/pgmpy/estimators/CITests.py:89: UserWarning: Insufficient data for testing Hue _|_ Wine | ['OD']. At least 200 samples recommended, 178 present.\n",
						"  5 * num_params, len(data)\n",
						"/usr/local/lib/python3.7/dist-packages/pgmpy/estimators/CITests.py:89: UserWarning: Insufficient data for testing Hue _|_ OD | ['Wine']. At least 240 samples recommended, 178 present.\n",
						"  5 * num_params, len(data)\n",
						"/usr/local/lib/python3.7/dist-packages/pgmpy/estimators/CITests.py:89: UserWarning: Insufficient data for testing OD _|_ Malic.acid | ['Proline']. At least 400 samples recommended, 178 present.\n",
						"  5 * num_params, len(data)\n",
						"/usr/local/lib/python3.7/dist-packages/pgmpy/estimators/CITests.py:89: UserWarning: Insufficient data for testing OD _|_ Nonflavanoid.phenols | ['Proline']. At least 400 samples recommended, 178 present.\n",
						"  5 * num_params, len(data)\n",
						"/usr/local/lib/python3.7/dist-packages/pgmpy/estimators/CITests.py:89: UserWarning: Insufficient data for testing Proline _|_ Wine | ['Acl']. At least 200 samples recommended, 178 present.\n",
						"  5 * num_params, len(data)\n",
						"/usr/local/lib/python3.7/dist-packages/pgmpy/estimators/CITests.py:89: UserWarning: Insufficient data for testing Proline _|_ Wine | ['Proanth']. At least 200 samples recommended, 178 present.\n",
						"  5 * num_params, len(data)\n",
						"/usr/local/lib/python3.7/dist-packages/pgmpy/estimators/CITests.py:89: UserWarning: Insufficient data for testing Proline _|_ Wine | ['Mg']. At least 200 samples recommended, 178 present.\n",
						"  5 * num_params, len(data)\n",
						"/usr/local/lib/python3.7/dist-packages/pgmpy/estimators/CITests.py:89: UserWarning: Insufficient data for testing Proline _|_ Wine | ['OD']. At least 200 samples recommended, 178 present.\n",
						"  5 * num_params, len(data)\n",
						"/usr/local/lib/python3.7/dist-packages/pgmpy/estimators/CITests.py:89: UserWarning: Insufficient data for testing Proline _|_ Acl | ['Proanth']. At least 400 samples recommended, 178 present.\n",
						"  5 * num_params, len(data)\n",
						"/usr/local/lib/python3.7/dist-packages/pgmpy/estimators/CITests.py:89: UserWarning: Insufficient data for testing Proline _|_ Mg | ['Proanth']. At least 400 samples recommended, 178 present.\n",
						"  5 * num_params, len(data)\n",
						"/usr/local/lib/python3.7/dist-packages/pgmpy/estimators/CITests.py:89: UserWarning: Insufficient data for testing Proline _|_ Proanth | ['Wine']. At least 240 samples recommended, 178 present.\n",
						"  5 * num_params, len(data)\n",
						"/usr/local/lib/python3.7/dist-packages/pgmpy/estimators/CITests.py:89: UserWarning: Insufficient data for testing Proline _|_ OD | ['Wine']. At least 240 samples recommended, 178 present.\n",
						"  5 * num_params, len(data)\n",
						"/usr/local/lib/python3.7/dist-packages/pgmpy/estimators/CITests.py:89: UserWarning: Insufficient data for testing Wine _|_ Alcohol | ['Color.int', 'Flavanoids']. At least 1000 samples recommended, 178 present.\n",
						"  5 * num_params, len(data)\n",
						"/usr/local/lib/python3.7/dist-packages/pgmpy/estimators/CITests.py:89: UserWarning: Insufficient data for testing Wine _|_ Flavanoids | ['Color.int', 'Hue']. At least 1000 samples recommended, 178 present.\n",
						"  5 * num_params, len(data)\n",
						"/usr/local/lib/python3.7/dist-packages/pgmpy/estimators/CITests.py:89: UserWarning: Insufficient data for testing Wine _|_ Color.int | ['Proline', 'Hue']. At least 1000 samples recommended, 178 present.\n",
						"  5 * num_params, len(data)\n"
					]
				}
			]
		},
		{
			"cell_type": "markdown",
			"source": [
				"# 有向グラフの可視化"
			],
			"metadata": {
				"id": "yO0jhHtydyGR"
			}
		},
		{
			"cell_type": "code",
			"source": [
				"nx.draw_circular(DAG_model, with_labels=True, arrowsize=30, node_size=800,alpha=0.3, font_weight='bold')\n",
				"plt.show()"
			],
			"metadata": {
				"colab": {
					"base_uri": "https://localhost:8080/",
					"height": 319
				},
				"id": "EnxQzYksVdC1",
				"executionInfo": {
					"status": "ok",
					"timestamp": 1647859234847,
					"user_tz": -540,
					"elapsed": 325,
					"user": {
						"displayName": "田中直哉",
						"photoUrl": "https://lh3.googleusercontent.com/a-/AOh14GjUKV8S8xcfyV381wzO_CDiZPqIWeSILEuspCDZAw=s64",
						"userId": "04823463265793038392"
					}
				},
				"outputId": "1f49ca4d-1f3d-44e1-a409-3bc9cdafa7ee"
			},
			"execution_count": null,
			"outputs": [
				{
					"output_type": "display_data",
					"data": {
						"text/plain": [
							"<Figure size 432x288 with 1 Axes>"
						],
						"image/png": "[encoded data removed]"
					},
					"metadata": {}
				}
			]
		},
		{
			"cell_type": "markdown",
			"source": [
				"数値を5分割した場合、「Wine」の項目は「Hue」と「Proline」に影響されており「Phenols」は「Flavanoids」に影響されていることが分かる。\n",
				"\n",
				"ただし、分割する数によって結果として出力されるグラフネットワークが異なることは注意点である。"
			],
			"metadata": {
				"id": "iiVL7Uk_FBZW"
			}
		},
		{
			"cell_type": "markdown",
			"source": [
				"# ベイジアンネットワークで条件付確率を表示"
			],
			"metadata": {
				"id": "GLfchhcgd06w"
			}
		},
		{
			"cell_type": "code",
			"source": [
				"DAG_model.fit(df)\n",
				"cpds = DAG_model.get_cpds()\n",
				"for cpd in cpds:\n",
				"  print(cpd)"
			],
			"metadata": {
				"colab": {
					"base_uri": "https://localhost:8080/",
					"output_embedded_package_id": "1qU1KTHtfbA7qvWvcAzNW7bTw--fyE1eb"
				},
				"id": "xsv8xAebVin8",
				"executionInfo": {
					"status": "ok",
					"timestamp": 1647859248871,
					"user_tz": -540,
					"elapsed": 5328,
					"user": {
						"displayName": "田中直哉",
						"photoUrl": "https://lh3.googleusercontent.com/a-/AOh14GjUKV8S8xcfyV381wzO_CDiZPqIWeSILEuspCDZAw=s64",
						"userId": "04823463265793038392"
					}
				},
				"outputId": "e0885aa9-92a1-4423-8d0c-86b9a16f4e0e"
			},
			"execution_count": null,
			"outputs": [
				{
					"output_type": "display_data",
					"data": {
						"text/plain": "Output hidden; open in https://colab.research.google.com to view."
					},
					"metadata": {}
				}
			]
		},
		{
			"cell_type": "markdown",
			"source": [
				"# 有向グラフ\n",
				"# ライブラリのインストール"
			],
			"metadata": {
				"id": "x79-Odxmd8R6"
			}
		},
		{
			"cell_type": "code",
			"source": [
				"!pip install causalnex"
			],
			"metadata": {
				"colab": {
					"base_uri": "https://localhost:8080/",
					"height": 1000
				},
				"id": "WR_NczPbaIPb",
				"executionInfo": {
					"status": "ok",
					"timestamp": 1647859269985,
					"user_tz": -540,
					"elapsed": 12929,
					"user": {
						"displayName": "田中直哉",
						"photoUrl": "https://lh3.googleusercontent.com/a-/AOh14GjUKV8S8xcfyV381wzO_CDiZPqIWeSILEuspCDZAw=s64",
						"userId": "04823463265793038392"
					}
				},
				"outputId": "460f7cc0-fe67-43ec-e0fc-b0578056f4a4"
			},
			"execution_count": null,
			"outputs": [
				{
					"output_type": "stream",
					"name": "stdout",
					"text": [
						"Collecting causalnex\n",
						"  Downloading causalnex-0.11.0-py3-none-any.whl (154 kB)\n",
						"\u001b[?25l\r\u001b[K     |██▏                             | 10 kB 27.4 MB/s eta 0:00:01\r\u001b[K     |████▎                           | 20 kB 14.3 MB/s eta 0:00:01\r\u001b[K     |██████▍                         | 30 kB 10.6 MB/s eta 0:00:01\r\u001b[K     |████████▌                       | 40 kB 9.2 MB/s eta 0:00:01\r\u001b[K     |██████████▋                     | 51 kB 4.7 MB/s eta 0:00:01\r\u001b[K     |████████████▊                   | 61 kB 5.5 MB/s eta 0:00:01\r\u001b[K     |██████████████▉                 | 71 kB 5.6 MB/s eta 0:00:01\r\u001b[K     |█████████████████               | 81 kB 4.2 MB/s eta 0:00:01\r\u001b[K     |███████████████████             | 92 kB 4.7 MB/s eta 0:00:01\r\u001b[K     |█████████████████████▏          | 102 kB 5.1 MB/s eta 0:00:01\r\u001b[K     |███████████████████████▎        | 112 kB 5.1 MB/s eta 0:00:01\r\u001b[K     |█████████████████████████▍      | 122 kB 5.1 MB/s eta 0:00:01\r\u001b[K     |███████████████████████████▌    | 133 kB 5.1 MB/s eta 0:00:01\r\u001b[K     |█████████████████████████████▋  | 143 kB 5.1 MB/s eta 0:00:01\r\u001b[K     |███████████████████████████████▊| 153 kB 5.1 MB/s eta 0:00:01\r\u001b[K     |████████████████████████████████| 154 kB 5.1 MB/s \n",
						"\u001b[?25hCollecting pgmpy<0.2.0,>=0.1.12\n",
						"  Downloading pgmpy-0.1.17-py3-none-any.whl (1.9 MB)\n",
						"\u001b[K     |████████████████████████████████| 1.9 MB 63.1 MB/s \n",
						"\u001b[?25hRequirement already satisfied: pandas<2.0,>=1.0 in /usr/local/lib/python3.7/dist-packages (from causalnex) (1.3.5)\n",
						"Requirement already satisfied: numpy<2.0,>=1.14.2 in /usr/local/lib/python3.7/dist-packages (from causalnex) (1.21.5)\n",
						"Requirement already satisfied: torch<2.0,>=1.7 in /usr/local/lib/python3.7/dist-packages (from causalnex) (1.10.0+cu111)\n",
						"Requirement already satisfied: networkx~=2.5 in /usr/local/lib/python3.7/dist-packages (from causalnex) (2.6.3)\n",
						"Collecting wrapt<1.13,>=1.11.0\n",
						"  Downloading wrapt-1.12.1.tar.gz (27 kB)\n",
						"Requirement already satisfied: scipy<1.7,>=1.2.0 in /usr/local/lib/python3.7/dist-packages (from causalnex) (1.4.1)\n",
						"Collecting pathos<0.3.0,>=0.2.7\n",
						"  Downloading pathos-0.2.8-py2.py3-none-any.whl (81 kB)\n",
						"\u001b[K     |████████████████████████████████| 81 kB 9.1 MB/s \n",
						"\u001b[?25hCollecting scikit-learn!=0.22.2.post1,!=0.24.1,<0.25.0,>=0.22.0\n",
						"  Downloading scikit_learn-0.24.2-cp37-cp37m-manylinux2010_x86_64.whl (22.3 MB)\n",
						"\u001b[K     |████████████████████████████████| 22.3 MB 69.7 MB/s \n",
						"\u001b[?25hRequirement already satisfied: pytz>=2017.3 in /usr/local/lib/python3.7/dist-packages (from pandas<2.0,>=1.0->causalnex) (2018.9)\n",
						"Requirement already satisfied: python-dateutil>=2.7.3 in /usr/local/lib/python3.7/dist-packages (from pandas<2.0,>=1.0->causalnex) (2.8.2)\n",
						"Collecting pox>=0.3.0\n",
						"  Downloading pox-0.3.0-py2.py3-none-any.whl (30 kB)\n",
						"Requirement already satisfied: dill>=0.3.4 in /usr/local/lib/python3.7/dist-packages (from pathos<0.3.0,>=0.2.7->causalnex) (0.3.4)\n",
						"Requirement already satisfied: multiprocess>=0.70.12 in /usr/local/lib/python3.7/dist-packages (from pathos<0.3.0,>=0.2.7->causalnex) (0.70.12.2)\n",
						"Collecting ppft>=1.6.6.4\n",
						"  Downloading ppft-1.6.6.4-py3-none-any.whl (65 kB)\n",
						"\u001b[K     |████████████████████████████████| 65 kB 3.4 MB/s \n",
						"\u001b[?25hRequirement already satisfied: pyparsing in /usr/local/lib/python3.7/dist-packages (from pgmpy<0.2.0,>=0.1.12->causalnex) (3.0.7)\n",
						"Requirement already satisfied: joblib in /usr/local/lib/python3.7/dist-packages (from pgmpy<0.2.0,>=0.1.12->causalnex) (1.1.0)\n",
						"Requirement already satisfied: tqdm in /usr/local/lib/python3.7/dist-packages (from pgmpy<0.2.0,>=0.1.12->causalnex) (4.63.0)\n",
						"Requirement already satisfied: statsmodels in /usr/local/lib/python3.7/dist-packages (from pgmpy<0.2.0,>=0.1.12->causalnex) (0.10.2)\n",
						"Requirement already satisfied: six>=1.7.3 in /usr/local/lib/python3.7/dist-packages (from ppft>=1.6.6.4->pathos<0.3.0,>=0.2.7->causalnex) (1.15.0)\n",
						"Requirement already satisfied: threadpoolctl>=2.0.0 in /usr/local/lib/python3.7/dist-packages (from scikit-learn!=0.22.2.post1,!=0.24.1,<0.25.0,>=0.22.0->causalnex) (3.1.0)\n",
						"Requirement already satisfied: typing-extensions in /usr/local/lib/python3.7/dist-packages (from torch<2.0,>=1.7->causalnex) (3.10.0.2)\n",
						"Requirement already satisfied: patsy>=0.4.0 in /usr/local/lib/python3.7/dist-packages (from statsmodels->pgmpy<0.2.0,>=0.1.12->causalnex) (0.5.2)\n",
						"Building wheels for collected packages: wrapt\n",
						"  Building wheel for wrapt (setup.py) ... \u001b[?25l\u001b[?25hdone\n",
						"  Created wheel for wrapt: filename=wrapt-1.12.1-cp37-cp37m-linux_x86_64.whl size=68726 sha256=f83a1ee35c97592daf4ab2744f719fa120d6fb8a00174a8b147413b99efac6dd\n",
						"  Stored in directory: /root/.cache/pip/wheels/62/76/4c/aa25851149f3f6d9785f6c869387ad82b3fd37582fa8147ac6\n",
						"Successfully built wrapt\n",
						"Installing collected packages: scikit-learn, ppft, pox, wrapt, pgmpy, pathos, causalnex\n",
						"  Attempting uninstall: scikit-learn\n",
						"    Found existing installation: scikit-learn 1.0.2\n",
						"    Uninstalling scikit-learn-1.0.2:\n",
						"      Successfully uninstalled scikit-learn-1.0.2\n",
						"  Attempting uninstall: wrapt\n",
						"    Found existing installation: wrapt 1.13.3\n",
						"    Uninstalling wrapt-1.13.3:\n",
						"      Successfully uninstalled wrapt-1.13.3\n",
						"  Attempting uninstall: pgmpy\n",
						"    Found existing installation: pgmpy 0.1.9\n",
						"    Uninstalling pgmpy-0.1.9:\n",
						"      Successfully uninstalled pgmpy-0.1.9\n",
						"\u001b[31mERROR: pip's dependency resolver does not currently take into account all the packages that are installed. This behaviour is the source of the following dependency conflicts.\n",
						"tensorflow 2.8.0 requires tf-estimator-nightly==2.8.0.dev2021122109, which is not installed.\n",
						"yellowbrick 1.4 requires scikit-learn>=1.0.0, but you have scikit-learn 0.24.2 which is incompatible.\u001b[0m\n",
						"Successfully installed causalnex-0.11.0 pathos-0.2.8 pgmpy-0.1.17 pox-0.3.0 ppft-1.6.6.4 scikit-learn-0.24.2 wrapt-1.12.1\n"
					]
				},
				{
					"output_type": "display_data",
					"data": {
						"application/vnd.colab-display-data+json": {
							"pip_warning": {
								"packages": [
									"pgmpy"
								]
							}
						}
					},
					"metadata": {}
				}
			]
		},
		{
			"cell_type": "markdown",
			"source": [
				"# ライブラリのインポート"
			],
			"metadata": {
				"id": "U8e9mvz5eQvr"
			}
		},
		{
			"cell_type": "code",
			"source": [
				"from causalnex.structure.notears import from_pandas"
			],
			"metadata": {
				"id": "AQwDfJD5V3mF"
			},
			"execution_count": null,
			"outputs": []
		},
		{
			"cell_type": "markdown",
			"source": [
				"# DAG推定"
			],
			"metadata": {
				"id": "4vY-_3Gge8FU"
			}
		},
		{
			"cell_type": "code",
			"source": [
				"SM = from_pandas(df)"
			],
			"metadata": {
				"id": "Fg7_0ktcar50"
			},
			"execution_count": null,
			"outputs": []
		},
		{
			"cell_type": "markdown",
			"source": [
				"# 有向グラフの可視化"
			],
			"metadata": {
				"id": "YS-XzxelfBy1"
			}
		},
		{
			"cell_type": "code",
			"source": [
				"pos = nx.spring_layout(SM,k=60)\n",
				"#nx.draw_network_labels(SM)\n",
				"edge_width = []\n",
				"for (u, v, d) in SM.edges(data=True):\n",
				"  edge_width.append(d['weight']*0.05)\n",
				"nx.draw_networkx_labels(SM, pos)\n",
				"nx.draw_networkx(SM, pos,node_size=2000, arrowsize=20, alpha=1.0, edge_color='b', width=edge_width)\n",
				"plt.figure(figsize=(16, 9))\n",
				"plt.show()"
			],
			"metadata": {
				"colab": {
					"base_uri": "https://localhost:8080/",
					"height": 266
				},
				"id": "5OPPYm5Gavik",
				"executionInfo": {
					"status": "ok",
					"timestamp": 1647859445524,
					"user_tz": -540,
					"elapsed": 3303,
					"user": {
						"displayName": "田中直哉",
						"photoUrl": "https://lh3.googleusercontent.com/a-/AOh14GjUKV8S8xcfyV381wzO_CDiZPqIWeSILEuspCDZAw=s64",
						"userId": "04823463265793038392"
					}
				},
				"outputId": "4dda3864-526f-4682-9aed-9aa4abfd1632"
			},
			"execution_count": null,
			"outputs": [
				{
					"output_type": "display_data",
					"data": {
						"text/plain": [
							"<Figure size 432x288 with 1 Axes>"
						],
						"image/png": "[encoded data removed]"
					},
					"metadata": {}
				},
				{
					"output_type": "display_data",
					"data": {
						"text/plain": [
							"<Figure size 1152x648 with 0 Axes>"
						]
					},
					"metadata": {}
				}
			]
		},
		{
			"cell_type": "code",
			"source": [
				""
			],
			"metadata": {
				"id": "3iJnuk-8bB39"
			},
			"execution_count": null,
			"outputs": []
		}
	]
}
