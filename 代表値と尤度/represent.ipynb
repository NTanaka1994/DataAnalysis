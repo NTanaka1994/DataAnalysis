{
 "cells": [
  {
   "cell_type": "markdown",
   "metadata": {
    "id": "D5bNQgB2g65Y"
   },
   "source": [
    "# 代表値と尤度\n",
    "統計データは要約をすることでおおよその分布が分かったり、また正規分布に従っていれば尖り具合(尖度)やデータの偏り(歪度)が分かる。またデータが正規分布に従っているのであればそのデータがどれだけ尤な値(尤度)を取っているかを調べる必要がある。ここで尤もな値とは得られた数値がどれくらいの割合で同時に発生するかを数値化したものになる。\n",
    "\n",
    "# ライブラリのインポート"
   ]
  },
  {
   "cell_type": "code",
   "execution_count": 1,
   "metadata": {
    "id": "zXjut5-pKhl6"
   },
   "outputs": [],
   "source": [
    "from sklearn.ensemble import GradientBoostingClassifier as GBC\n",
    "from sklearn.model_selection import train_test_split as tts\n",
    "from sklearn.metrics import accuracy_score\n",
    "import pandas as pd\n",
    "import scipy.stats as stats\n",
    "import numpy as np\n",
    "import matplotlib.pyplot as plt"
   ]
  },
  {
   "cell_type": "markdown",
   "metadata": {
    "id": "uKaBeS5nKlQB"
   },
   "source": [
    "# データの取得"
   ]
  },
  {
   "cell_type": "code",
   "execution_count": 2,
   "metadata": {
    "id": "knmyyU90Khl-",
    "outputId": "78c7bd85-2fb6-4849-f264-2ac67e46e2b1",
    "scrolled": true
   },
   "outputs": [
    {
     "data": {
      "text/html": [
       "<div>\n",
       "<style scoped>\n",
       "    .dataframe tbody tr th:only-of-type {\n",
       "        vertical-align: middle;\n",
       "    }\n",
       "\n",
       "    .dataframe tbody tr th {\n",
       "        vertical-align: top;\n",
       "    }\n",
       "\n",
       "    .dataframe thead th {\n",
       "        text-align: right;\n",
       "    }\n",
       "</style>\n",
       "<table border=\"1\" class=\"dataframe\">\n",
       "  <thead>\n",
       "    <tr style=\"text-align: right;\">\n",
       "      <th></th>\n",
       "      <th>0</th>\n",
       "      <th>1</th>\n",
       "      <th>2</th>\n",
       "      <th>3</th>\n",
       "      <th>0</th>\n",
       "      <th>1</th>\n",
       "      <th>2</th>\n",
       "    </tr>\n",
       "  </thead>\n",
       "  <tbody>\n",
       "    <tr>\n",
       "      <th>0</th>\n",
       "      <td>階級</td>\n",
       "      <td>階級値</td>\n",
       "      <td>1組の度数</td>\n",
       "      <td>2組の度数</td>\n",
       "      <td>階級</td>\n",
       "      <td>階級値</td>\n",
       "      <td>3組の度数</td>\n",
       "    </tr>\n",
       "    <tr>\n",
       "      <th>1</th>\n",
       "      <td>140cm以上145cm未満</td>\n",
       "      <td>142.5</td>\n",
       "      <td>1</td>\n",
       "      <td>1</td>\n",
       "      <td>140cm以上145cm未満</td>\n",
       "      <td>142.5</td>\n",
       "      <td>2</td>\n",
       "    </tr>\n",
       "    <tr>\n",
       "      <th>2</th>\n",
       "      <td>145cm以上150cm未満</td>\n",
       "      <td>147.5</td>\n",
       "      <td>3</td>\n",
       "      <td>5</td>\n",
       "      <td>145cm以上150cm未満</td>\n",
       "      <td>147.5</td>\n",
       "      <td>0</td>\n",
       "    </tr>\n",
       "    <tr>\n",
       "      <th>3</th>\n",
       "      <td>150cm以上155cm未満</td>\n",
       "      <td>152.5</td>\n",
       "      <td>5</td>\n",
       "      <td>11</td>\n",
       "      <td>150cm以上155cm未満</td>\n",
       "      <td>152.5</td>\n",
       "      <td>1</td>\n",
       "    </tr>\n",
       "    <tr>\n",
       "      <th>4</th>\n",
       "      <td>155cm以上160cm未満</td>\n",
       "      <td>157.5</td>\n",
       "      <td>7</td>\n",
       "      <td>7</td>\n",
       "      <td>155cm以上160cm未満</td>\n",
       "      <td>157.5</td>\n",
       "      <td>2</td>\n",
       "    </tr>\n",
       "    <tr>\n",
       "      <th>5</th>\n",
       "      <td>160cm以上165cm未満</td>\n",
       "      <td>162.5</td>\n",
       "      <td>9</td>\n",
       "      <td>5</td>\n",
       "      <td>160cm以上165cm未満</td>\n",
       "      <td>162.5</td>\n",
       "      <td>5</td>\n",
       "    </tr>\n",
       "    <tr>\n",
       "      <th>6</th>\n",
       "      <td>165cm以上170cm未満</td>\n",
       "      <td>167.5</td>\n",
       "      <td>7</td>\n",
       "      <td>2</td>\n",
       "      <td>165cm以上170cm未満</td>\n",
       "      <td>167.5</td>\n",
       "      <td>7</td>\n",
       "    </tr>\n",
       "    <tr>\n",
       "      <th>7</th>\n",
       "      <td>170cm以上175cm未満</td>\n",
       "      <td>172.5</td>\n",
       "      <td>5</td>\n",
       "      <td>1</td>\n",
       "      <td>170cm以上175cm未満</td>\n",
       "      <td>172.5</td>\n",
       "      <td>11</td>\n",
       "    </tr>\n",
       "    <tr>\n",
       "      <th>8</th>\n",
       "      <td>175cm以上180cm未満</td>\n",
       "      <td>177.5</td>\n",
       "      <td>3</td>\n",
       "      <td>0</td>\n",
       "      <td>175cm以上180cm未満</td>\n",
       "      <td>177.5</td>\n",
       "      <td>5</td>\n",
       "    </tr>\n",
       "    <tr>\n",
       "      <th>9</th>\n",
       "      <td>180cm以上185cm未満</td>\n",
       "      <td>182.5</td>\n",
       "      <td>1</td>\n",
       "      <td>2</td>\n",
       "      <td>180cm以上185cm未満</td>\n",
       "      <td>182.5</td>\n",
       "      <td>1</td>\n",
       "    </tr>\n",
       "  </tbody>\n",
       "</table>\n",
       "</div>"
      ],
      "text/plain": [
       "                0      1      2      3               0      1      2\n",
       "0              階級    階級値  1組の度数  2組の度数              階級    階級値  3組の度数\n",
       "1  140cm以上145cm未満  142.5      1      1  140cm以上145cm未満  142.5      2\n",
       "2  145cm以上150cm未満  147.5      3      5  145cm以上150cm未満  147.5      0\n",
       "3  150cm以上155cm未満  152.5      5     11  150cm以上155cm未満  152.5      1\n",
       "4  155cm以上160cm未満  157.5      7      7  155cm以上160cm未満  157.5      2\n",
       "5  160cm以上165cm未満  162.5      9      5  160cm以上165cm未満  162.5      5\n",
       "6  165cm以上170cm未満  167.5      7      2  165cm以上170cm未満  167.5      7\n",
       "7  170cm以上175cm未満  172.5      5      1  170cm以上175cm未満  172.5     11\n",
       "8  175cm以上180cm未満  177.5      3      0  175cm以上180cm未満  177.5      5\n",
       "9  180cm以上185cm未満  182.5      1      2  180cm以上185cm未満  182.5      1"
      ]
     },
     "execution_count": 2,
     "metadata": {},
     "output_type": "execute_result"
    }
   ],
   "source": [
    "df1 = pd.read_html(\"https://bellcurve.jp/statistics/course/4320.html\")[0]\n",
    "df2 = pd.read_html(\"https://bellcurve.jp/statistics/course/4320.html\")[1]\n",
    "df = pd.concat([df1, df2], axis=1)\n",
    "df"
   ]
  },
  {
   "cell_type": "markdown",
   "metadata": {
    "id": "zkpXZMYmKoss"
   },
   "source": [
    "# データの整形"
   ]
  },
  {
   "cell_type": "code",
   "execution_count": 3,
   "metadata": {
    "id": "neka6zqKKhmC",
    "outputId": "65aad1e3-bb87-4fe1-da76-f14efc7cfbc9"
   },
   "outputs": [
    {
     "data": {
      "text/html": [
       "<div>\n",
       "<style scoped>\n",
       "    .dataframe tbody tr th:only-of-type {\n",
       "        vertical-align: middle;\n",
       "    }\n",
       "\n",
       "    .dataframe tbody tr th {\n",
       "        vertical-align: top;\n",
       "    }\n",
       "\n",
       "    .dataframe thead th {\n",
       "        text-align: right;\n",
       "    }\n",
       "</style>\n",
       "<table border=\"1\" class=\"dataframe\">\n",
       "  <thead>\n",
       "    <tr style=\"text-align: right;\">\n",
       "      <th></th>\n",
       "      <th>1組の度数</th>\n",
       "      <th>2組の度数</th>\n",
       "      <th>3組の度数</th>\n",
       "    </tr>\n",
       "  </thead>\n",
       "  <tbody>\n",
       "    <tr>\n",
       "      <th>140cm以上145cm未満</th>\n",
       "      <td>1.0</td>\n",
       "      <td>1.0</td>\n",
       "      <td>2.0</td>\n",
       "    </tr>\n",
       "    <tr>\n",
       "      <th>145cm以上150cm未満</th>\n",
       "      <td>3.0</td>\n",
       "      <td>5.0</td>\n",
       "      <td>0.0</td>\n",
       "    </tr>\n",
       "    <tr>\n",
       "      <th>150cm以上155cm未満</th>\n",
       "      <td>5.0</td>\n",
       "      <td>11.0</td>\n",
       "      <td>1.0</td>\n",
       "    </tr>\n",
       "    <tr>\n",
       "      <th>155cm以上160cm未満</th>\n",
       "      <td>7.0</td>\n",
       "      <td>7.0</td>\n",
       "      <td>2.0</td>\n",
       "    </tr>\n",
       "    <tr>\n",
       "      <th>160cm以上165cm未満</th>\n",
       "      <td>9.0</td>\n",
       "      <td>5.0</td>\n",
       "      <td>5.0</td>\n",
       "    </tr>\n",
       "    <tr>\n",
       "      <th>165cm以上170cm未満</th>\n",
       "      <td>7.0</td>\n",
       "      <td>2.0</td>\n",
       "      <td>7.0</td>\n",
       "    </tr>\n",
       "    <tr>\n",
       "      <th>170cm以上175cm未満</th>\n",
       "      <td>5.0</td>\n",
       "      <td>1.0</td>\n",
       "      <td>11.0</td>\n",
       "    </tr>\n",
       "    <tr>\n",
       "      <th>175cm以上180cm未満</th>\n",
       "      <td>3.0</td>\n",
       "      <td>0.0</td>\n",
       "      <td>5.0</td>\n",
       "    </tr>\n",
       "    <tr>\n",
       "      <th>180cm以上185cm未満</th>\n",
       "      <td>1.0</td>\n",
       "      <td>2.0</td>\n",
       "      <td>1.0</td>\n",
       "    </tr>\n",
       "  </tbody>\n",
       "</table>\n",
       "</div>"
      ],
      "text/plain": [
       "                1組の度数  2組の度数  3組の度数\n",
       "140cm以上145cm未満    1.0    1.0    2.0\n",
       "145cm以上150cm未満    3.0    5.0    0.0\n",
       "150cm以上155cm未満    5.0   11.0    1.0\n",
       "155cm以上160cm未満    7.0    7.0    2.0\n",
       "160cm以上165cm未満    9.0    5.0    5.0\n",
       "165cm以上170cm未満    7.0    2.0    7.0\n",
       "170cm以上175cm未満    5.0    1.0   11.0\n",
       "175cm以上180cm未満    3.0    0.0    5.0\n",
       "180cm以上185cm未満    1.0    2.0    1.0"
      ]
     },
     "execution_count": 3,
     "metadata": {},
     "output_type": "execute_result"
    }
   ],
   "source": [
    "arr = df.values\n",
    "col = [\"1組の度数\",\"2組の度数\",\"3組の度数\"]\n",
    "ind = arr[1:, 0]\n",
    "cla_1 = arr[1:, 2].astype(\"float\")\n",
    "cla_2 = arr[1:, 3].astype(\"float\")\n",
    "cla_3 = arr[1:, 6].astype(\"float\")\n",
    "cla = np.vstack((cla_1, cla_2))\n",
    "cla = np.vstack((cla, cla_3))\n",
    "cla = cla.T\n",
    "df = pd.DataFrame(cla)\n",
    "df.columns = col\n",
    "df.index = ind\n",
    "df"
   ]
  },
  {
   "cell_type": "markdown",
   "metadata": {
    "id": "B3kFrH9_KhmG"
   },
   "source": [
    "# 尖度\n",
    "尖度は分布の尖り具合を表している"
   ]
  },
  {
   "cell_type": "code",
   "execution_count": 4,
   "metadata": {
    "id": "1l25QhEZKhmK",
    "outputId": "8478ec53-c8b7-444f-9185-28f291ce7860"
   },
   "outputs": [
    {
     "data": {
      "text/plain": [
       "1組の度数    0.146355\n",
       "2組の度数    1.086613\n",
       "3組の度数    1.086613\n",
       "dtype: float64"
      ]
     },
     "execution_count": 4,
     "metadata": {},
     "output_type": "execute_result"
    }
   ],
   "source": [
    "df.skew()"
   ]
  },
  {
   "cell_type": "markdown",
   "metadata": {
    "id": "s7jy3QNhKhmL"
   },
   "source": [
    "# 歪度\n",
    "歪度は分布の偏りを表している"
   ]
  },
  {
   "cell_type": "code",
   "execution_count": 5,
   "metadata": {
    "id": "LiX2bpy8KhmN",
    "outputId": "df46e766-3339-4b92-9646-c42fe2dbe52f"
   },
   "outputs": [
    {
     "data": {
      "text/plain": [
       "1組の度数   -1.060058\n",
       "2組の度数    0.707149\n",
       "3組の度数    0.707149\n",
       "dtype: float64"
      ]
     },
     "execution_count": 5,
     "metadata": {},
     "output_type": "execute_result"
    }
   ],
   "source": [
    "df.kurt()"
   ]
  },
  {
   "cell_type": "markdown",
   "metadata": {
    "id": "VsR80oOxKhmP"
   },
   "source": [
    "# 要約統計量"
   ]
  },
  {
   "cell_type": "code",
   "execution_count": 6,
   "metadata": {
    "id": "c17gBZldKhma",
    "outputId": "1576793e-7e71-46d8-b962-369e8b3d7713"
   },
   "outputs": [
    {
     "data": {
      "text/html": [
       "<div>\n",
       "<style scoped>\n",
       "    .dataframe tbody tr th:only-of-type {\n",
       "        vertical-align: middle;\n",
       "    }\n",
       "\n",
       "    .dataframe tbody tr th {\n",
       "        vertical-align: top;\n",
       "    }\n",
       "\n",
       "    .dataframe thead th {\n",
       "        text-align: right;\n",
       "    }\n",
       "</style>\n",
       "<table border=\"1\" class=\"dataframe\">\n",
       "  <thead>\n",
       "    <tr style=\"text-align: right;\">\n",
       "      <th></th>\n",
       "      <th>1組の度数</th>\n",
       "      <th>2組の度数</th>\n",
       "      <th>3組の度数</th>\n",
       "    </tr>\n",
       "  </thead>\n",
       "  <tbody>\n",
       "    <tr>\n",
       "      <th>count</th>\n",
       "      <td>9.000000</td>\n",
       "      <td>9.000000</td>\n",
       "      <td>9.000000</td>\n",
       "    </tr>\n",
       "    <tr>\n",
       "      <th>mean</th>\n",
       "      <td>4.555556</td>\n",
       "      <td>3.777778</td>\n",
       "      <td>3.777778</td>\n",
       "    </tr>\n",
       "    <tr>\n",
       "      <th>std</th>\n",
       "      <td>2.788867</td>\n",
       "      <td>3.562926</td>\n",
       "      <td>3.562926</td>\n",
       "    </tr>\n",
       "    <tr>\n",
       "      <th>min</th>\n",
       "      <td>1.000000</td>\n",
       "      <td>0.000000</td>\n",
       "      <td>0.000000</td>\n",
       "    </tr>\n",
       "    <tr>\n",
       "      <th>25%</th>\n",
       "      <td>3.000000</td>\n",
       "      <td>1.000000</td>\n",
       "      <td>1.000000</td>\n",
       "    </tr>\n",
       "    <tr>\n",
       "      <th>50%</th>\n",
       "      <td>5.000000</td>\n",
       "      <td>2.000000</td>\n",
       "      <td>2.000000</td>\n",
       "    </tr>\n",
       "    <tr>\n",
       "      <th>75%</th>\n",
       "      <td>7.000000</td>\n",
       "      <td>5.000000</td>\n",
       "      <td>5.000000</td>\n",
       "    </tr>\n",
       "    <tr>\n",
       "      <th>max</th>\n",
       "      <td>9.000000</td>\n",
       "      <td>11.000000</td>\n",
       "      <td>11.000000</td>\n",
       "    </tr>\n",
       "  </tbody>\n",
       "</table>\n",
       "</div>"
      ],
      "text/plain": [
       "          1組の度数      2組の度数      3組の度数\n",
       "count  9.000000   9.000000   9.000000\n",
       "mean   4.555556   3.777778   3.777778\n",
       "std    2.788867   3.562926   3.562926\n",
       "min    1.000000   0.000000   0.000000\n",
       "25%    3.000000   1.000000   1.000000\n",
       "50%    5.000000   2.000000   2.000000\n",
       "75%    7.000000   5.000000   5.000000\n",
       "max    9.000000  11.000000  11.000000"
      ]
     },
     "execution_count": 6,
     "metadata": {},
     "output_type": "execute_result"
    }
   ],
   "source": [
    "pd.concat([df[\"1組の度数\"].describe(), df[\"2組の度数\"].describe(), df[\"3組の度数\"].describe()], axis=1)"
   ]
  },
  {
   "cell_type": "markdown",
   "metadata": {
    "id": "cjdVvcNiKubr"
   },
   "source": [
    "# 尤度の計算\n",
    "尤度の計算として、機械学習で予測した結果得られた正解率の分布を用いる。正解率の箱ひげ図と正規分布を確認する。また、尤度の計算では正規分布に対して対象のデータを用いて積を計算して同時発生する確率を算出する。"
   ]
  },
  {
   "cell_type": "code",
   "execution_count": 7,
   "metadata": {
    "id": "F3tXTDhyKhmd"
   },
   "outputs": [
    {
     "data": {
      "text/html": [
       "<div>\n",
       "<style scoped>\n",
       "    .dataframe tbody tr th:only-of-type {\n",
       "        vertical-align: middle;\n",
       "    }\n",
       "\n",
       "    .dataframe tbody tr th {\n",
       "        vertical-align: top;\n",
       "    }\n",
       "\n",
       "    .dataframe thead th {\n",
       "        text-align: right;\n",
       "    }\n",
       "</style>\n",
       "<table border=\"1\" class=\"dataframe\">\n",
       "  <thead>\n",
       "    <tr style=\"text-align: right;\">\n",
       "      <th></th>\n",
       "      <th>Wine</th>\n",
       "      <th>Alcohol</th>\n",
       "      <th>Malic.acid</th>\n",
       "      <th>Ash</th>\n",
       "      <th>Acl</th>\n",
       "      <th>Mg</th>\n",
       "      <th>Phenols</th>\n",
       "      <th>Flavanoids</th>\n",
       "      <th>Nonflavanoid.phenols</th>\n",
       "      <th>Proanth</th>\n",
       "      <th>Color.int</th>\n",
       "      <th>Hue</th>\n",
       "      <th>OD</th>\n",
       "      <th>Proline</th>\n",
       "    </tr>\n",
       "  </thead>\n",
       "  <tbody>\n",
       "    <tr>\n",
       "      <th>0</th>\n",
       "      <td>1</td>\n",
       "      <td>13.20</td>\n",
       "      <td>1.78</td>\n",
       "      <td>2.14</td>\n",
       "      <td>11.2</td>\n",
       "      <td>100</td>\n",
       "      <td>2.65</td>\n",
       "      <td>2.76</td>\n",
       "      <td>0.26</td>\n",
       "      <td>1.28</td>\n",
       "      <td>4.38</td>\n",
       "      <td>1.05</td>\n",
       "      <td>3.40</td>\n",
       "      <td>1050</td>\n",
       "    </tr>\n",
       "    <tr>\n",
       "      <th>1</th>\n",
       "      <td>1</td>\n",
       "      <td>13.16</td>\n",
       "      <td>2.36</td>\n",
       "      <td>2.67</td>\n",
       "      <td>18.6</td>\n",
       "      <td>101</td>\n",
       "      <td>2.80</td>\n",
       "      <td>3.24</td>\n",
       "      <td>0.30</td>\n",
       "      <td>2.81</td>\n",
       "      <td>5.68</td>\n",
       "      <td>1.03</td>\n",
       "      <td>3.17</td>\n",
       "      <td>1185</td>\n",
       "    </tr>\n",
       "    <tr>\n",
       "      <th>2</th>\n",
       "      <td>1</td>\n",
       "      <td>14.37</td>\n",
       "      <td>1.95</td>\n",
       "      <td>2.50</td>\n",
       "      <td>16.8</td>\n",
       "      <td>113</td>\n",
       "      <td>3.85</td>\n",
       "      <td>3.49</td>\n",
       "      <td>0.24</td>\n",
       "      <td>2.18</td>\n",
       "      <td>7.80</td>\n",
       "      <td>0.86</td>\n",
       "      <td>3.45</td>\n",
       "      <td>1480</td>\n",
       "    </tr>\n",
       "    <tr>\n",
       "      <th>3</th>\n",
       "      <td>1</td>\n",
       "      <td>13.24</td>\n",
       "      <td>2.59</td>\n",
       "      <td>2.87</td>\n",
       "      <td>21.0</td>\n",
       "      <td>118</td>\n",
       "      <td>2.80</td>\n",
       "      <td>2.69</td>\n",
       "      <td>0.39</td>\n",
       "      <td>1.82</td>\n",
       "      <td>4.32</td>\n",
       "      <td>1.04</td>\n",
       "      <td>2.93</td>\n",
       "      <td>735</td>\n",
       "    </tr>\n",
       "    <tr>\n",
       "      <th>4</th>\n",
       "      <td>1</td>\n",
       "      <td>14.20</td>\n",
       "      <td>1.76</td>\n",
       "      <td>2.45</td>\n",
       "      <td>15.2</td>\n",
       "      <td>112</td>\n",
       "      <td>3.27</td>\n",
       "      <td>3.39</td>\n",
       "      <td>0.34</td>\n",
       "      <td>1.97</td>\n",
       "      <td>6.75</td>\n",
       "      <td>1.05</td>\n",
       "      <td>2.85</td>\n",
       "      <td>1450</td>\n",
       "    </tr>\n",
       "  </tbody>\n",
       "</table>\n",
       "</div>"
      ],
      "text/plain": [
       "   Wine  Alcohol  Malic.acid   Ash   Acl   Mg  Phenols  Flavanoids  \\\n",
       "0     1    13.20        1.78  2.14  11.2  100     2.65        2.76   \n",
       "1     1    13.16        2.36  2.67  18.6  101     2.80        3.24   \n",
       "2     1    14.37        1.95  2.50  16.8  113     3.85        3.49   \n",
       "3     1    13.24        2.59  2.87  21.0  118     2.80        2.69   \n",
       "4     1    14.20        1.76  2.45  15.2  112     3.27        3.39   \n",
       "\n",
       "   Nonflavanoid.phenols  Proanth  Color.int   Hue    OD  Proline  \n",
       "0                  0.26     1.28       4.38  1.05  3.40     1050  \n",
       "1                  0.30     2.81       5.68  1.03  3.17     1185  \n",
       "2                  0.24     2.18       7.80  0.86  3.45     1480  \n",
       "3                  0.39     1.82       4.32  1.04  2.93      735  \n",
       "4                  0.34     1.97       6.75  1.05  2.85     1450  "
      ]
     },
     "execution_count": 7,
     "metadata": {},
     "output_type": "execute_result"
    }
   ],
   "source": [
    "df = pd.read_csv(\"wine.csv\")\n",
    "df.head()"
   ]
  },
  {
   "cell_type": "code",
   "execution_count": 8,
   "metadata": {
    "id": "K9m8OpA7Khmh"
   },
   "outputs": [],
   "source": [
    "y_name = \"Wine\"\n",
    "y = df[\"Wine\"].values\n",
    "x_table = df.drop(y_name, axis=1)\n",
    "x = x_table.values"
   ]
  },
  {
   "cell_type": "code",
   "execution_count": 9,
   "metadata": {},
   "outputs": [],
   "source": [
    "score = []\n",
    "for i in range(50):\n",
    "    x_train, x_test, y_train, y_test = tts(x, y, random_state=i, test_size=0.3)\n",
    "    model = GBC()\n",
    "    model.fit(x_train, y_train)\n",
    "    y_pred = model.predict(x_test)\n",
    "    score.append(accuracy_score(y_test, y_pred))"
   ]
  },
  {
   "cell_type": "code",
   "execution_count": 10,
   "metadata": {},
   "outputs": [
    {
     "data": {
      "image/png": "[encoded data removed]",
      "text/plain": [
       "<Figure size 432x288 with 1 Axes>"
      ]
     },
     "metadata": {
      "needs_background": "light"
     },
     "output_type": "display_data"
    }
   ],
   "source": [
    "plt.boxplot(score)\n",
    "plt.title(\"distribution of accuracy\")\n",
    "plt.ylabel(\"accuracy score\")\n",
    "plt.show()"
   ]
  },
  {
   "cell_type": "markdown",
   "metadata": {},
   "source": [
    "## 尤度の計算"
   ]
  },
  {
   "cell_type": "code",
   "execution_count": 11,
   "metadata": {},
   "outputs": [
    {
     "data": {
      "text/plain": [
       "1.4775015692973016e-93"
      ]
     },
     "execution_count": 11,
     "metadata": {},
     "output_type": "execute_result"
    }
   ],
   "source": [
    "score = np.array(score)\n",
    "L = (1 / ((2 * np.pi) ** 0.5) * np.std(score)) * np.exp( - (( score - np.mean(score)) ** 2) / 2)\n",
    "np.prod(L)"
   ]
  },
  {
   "cell_type": "markdown",
   "metadata": {},
   "source": [
    "## 対数での表現\n",
    "尤度は確率の同時発生であるため限りなく0に近い値を取ることが多い。そこで、対数を用いてより分かりやすい数値に変える。"
   ]
  },
  {
   "cell_type": "code",
   "execution_count": 12,
   "metadata": {},
   "outputs": [
    {
     "data": {
      "text/plain": [
       "-213.75006111601854"
      ]
     },
     "execution_count": 12,
     "metadata": {},
     "output_type": "execute_result"
    }
   ],
   "source": [
    "np.log(np.prod(L))"
   ]
  },
  {
   "cell_type": "markdown",
   "metadata": {},
   "source": [
    "## 正規分布での精度の分布"
   ]
  },
  {
   "cell_type": "code",
   "execution_count": 13,
   "metadata": {},
   "outputs": [
    {
     "data": {
      "image/png": "[encoded data removed]",
      "text/plain": [
       "<Figure size 432x288 with 1 Axes>"
      ]
     },
     "metadata": {
      "needs_background": "light"
     },
     "output_type": "display_data"
    }
   ],
   "source": [
    "La = np.array([score,L]).T\n",
    "La = np.array(sorted(La, key=lambda x: x[0]))\n",
    "plt.plot(La[:,0], La[:,1])\n",
    "plt.show()"
   ]
  },
  {
   "cell_type": "markdown",
   "metadata": {},
   "source": [
    "## 箱ひげ図と正規分布を合わせて表示\n",
    "箱ひげ図では四分位と最大値・最小値・外れ値・中央値が表示されるが、正規分布で表示することで具体的にどの数値が発生しやすいかが確認できる。"
   ]
  },
  {
   "cell_type": "code",
   "execution_count": 14,
   "metadata": {},
   "outputs": [
    {
     "data": {
      "image/png": "[encoded data removed]",
      "text/plain": [
       "<Figure size 432x288 with 2 Axes>"
      ]
     },
     "metadata": {
      "needs_background": "light"
     },
     "output_type": "display_data"
    }
   ],
   "source": [
    "plt.subplot(2, 1, 1)\n",
    "plt.boxplot(score, vert=False)\n",
    "plt.subplot(2, 1, 2)\n",
    "plt.plot(La[:,0], La[:,1])\n",
    "plt.show()"
   ]
  },
  {
   "cell_type": "code",
   "execution_count": null,
   "metadata": {},
   "outputs": [],
   "source": []
  }
 ],
 "metadata": {
  "colab": {
   "collapsed_sections": [],
   "name": "represent.ipynb",
   "provenance": []
  },
  "kernelspec": {
   "display_name": "Python 3",
   "language": "python",
   "name": "python3"
  },
  "language_info": {
   "codemirror_mode": {
    "name": "ipython",
    "version": 3
   },
   "file_extension": ".py",
   "mimetype": "text/x-python",
   "name": "python",
   "nbconvert_exporter": "python",
   "pygments_lexer": "ipython3",
   "version": "3.7.1"
  }
 },
 "nbformat": 4,
 "nbformat_minor": 1
}
