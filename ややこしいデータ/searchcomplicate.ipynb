{
	"cells": [
		{
			"cell_type": "markdown",
			"metadata": {
				"id": "Y8sZ5VkeSVs9"
			},
			"source": [
				"#ややこしいデータ\n",
				"間違え方の傾向やニューラルネットワークのSoftmax関数の数値からモデルがある種どれだけ自信を持って間違えたかが分かる。\n",
				"\n",
				"#ライブラリのインポート\n",
				"今回はややこしいデータを直感的に見たいため手書き数字のデータセットを使用する"
			]
		},
		{
			"cell_type": "code",
			"execution_count": null,
			"metadata": {
				"id": "sgxckEa8SVtC"
			},
			"outputs": [],
			"source": [
				"from sklearn.datasets import load_digits\n",
				"from sklearn.neural_network import MLPClassifier as MLP\n",
				"from sklearn.metrics import confusion_matrix\n",
				"from sklearn.preprocessing import minmax_scale\n",
				"from sklearn.model_selection import train_test_split"
			]
		},
		{
			"cell_type": "markdown",
			"source": [
				"# データの読み込み"
			],
			"metadata": {
				"id": "iQwwzg1KSqJ9"
			}
		},
		{
			"cell_type": "code",
			"execution_count": null,
			"metadata": {
				"id": "q_N9oX0KSVtG"
			},
			"outputs": [],
			"source": [
				"data = load_digits()"
			]
		},
		{
			"cell_type": "code",
			"execution_count": null,
			"metadata": {
				"id": "Rf-LKKQgSVtI"
			},
			"outputs": [],
			"source": [
				"x = data.data\n",
				"y = data.target"
			]
		},
		{
			"cell_type": "markdown",
			"metadata": {
				"id": "taB17P7ySVtR"
			},
			"source": [
				"回帰分析のモデル化や決定木による予測ではないため最大最小正規化をする"
			]
		},
		{
			"cell_type": "code",
			"execution_count": null,
			"metadata": {
				"id": "o8sAXuj8SVtS",
				"outputId": "6b8ca503-bbfd-4b1e-f7d4-f2b38da790e0"
			},
			"outputs": [
				{
					"data": {
						"text/plain": [
							"array([[0.    , 0.    , 0.3125, ..., 0.    , 0.    , 0.    ],\n",
							"       [0.    , 0.    , 0.    , ..., 0.625 , 0.    , 0.    ],\n",
							"       [0.    , 0.    , 0.    , ..., 1.    , 0.5625, 0.    ],\n",
							"       ...,\n",
							"       [0.    , 0.    , 0.0625, ..., 0.375 , 0.    , 0.    ],\n",
							"       [0.    , 0.    , 0.125 , ..., 0.75  , 0.    , 0.    ],\n",
							"       [0.    , 0.    , 0.625 , ..., 0.75  , 0.0625, 0.    ]])"
						]
					},
					"execution_count": 16,
					"metadata": {},
					"output_type": "execute_result"
				}
			],
			"source": [
				"x = minmax_scale(x)\n",
				"x"
			]
		},
		{
			"cell_type": "markdown",
			"metadata": {
				"id": "62cLhmOQSVtW"
			},
			"source": [
				"データの分割とモデルの初期化と学習を行なう"
			]
		},
		{
			"cell_type": "code",
			"execution_count": null,
			"metadata": {
				"id": "dGDK22WgSVtY",
				"outputId": "0ff199b5-f764-4034-b7d3-082414f80109"
			},
			"outputs": [
				{
					"data": {
						"text/plain": [
							"MLPClassifier(hidden_layer_sizes=(500, 500, 100))"
						]
					},
					"execution_count": 17,
					"metadata": {},
					"output_type": "execute_result"
				}
			],
			"source": [
				"x_train, x_test, y_train, y_test = train_test_split(x, y, test_size=0.3)\n",
				"model = MLP(hidden_layer_sizes=(500, 500, 100))\n",
				"model.fit(x_train, y_train)"
			]
		},
		{
			"cell_type": "markdown",
			"metadata": {
				"id": "xTPteHzTSVtc"
			},
			"source": [
				"学習したモデルから予測を行い、ソフトマックス関数の値も算出する"
			]
		},
		{
			"cell_type": "code",
			"execution_count": null,
			"metadata": {
				"id": "ErATrckJSVtg"
			},
			"outputs": [],
			"source": [
				"y_pred = model.predict(x_test)\n",
				"y_predSM = model.predict_proba(x_test)"
			]
		},
		{
			"cell_type": "markdown",
			"metadata": {
				"id": "ssnretdYSVti"
			},
			"source": [
				"混合行列の可視化"
			]
		},
		{
			"cell_type": "code",
			"execution_count": null,
			"metadata": {
				"id": "1EVBO7TkSVtk",
				"outputId": "33136843-4063-400c-cdef-0a866416f057"
			},
			"outputs": [
				{
					"data": {
						"text/html": [
							"<div>\n",
							"<style scoped>\n",
							"    .dataframe tbody tr th:only-of-type {\n",
							"        vertical-align: middle;\n",
							"    }\n",
							"\n",
							"    .dataframe tbody tr th {\n",
							"        vertical-align: top;\n",
							"    }\n",
							"\n",
							"    .dataframe thead th {\n",
							"        text-align: right;\n",
							"    }\n",
							"</style>\n",
							"<table border=\"1\" class=\"dataframe\">\n",
							"  <thead>\n",
							"    <tr style=\"text-align: right;\">\n",
							"      <th></th>\n",
							"      <th>0</th>\n",
							"      <th>1</th>\n",
							"      <th>2</th>\n",
							"      <th>3</th>\n",
							"      <th>4</th>\n",
							"      <th>5</th>\n",
							"      <th>6</th>\n",
							"      <th>7</th>\n",
							"      <th>8</th>\n",
							"      <th>9</th>\n",
							"    </tr>\n",
							"  </thead>\n",
							"  <tbody>\n",
							"    <tr>\n",
							"      <th>0</th>\n",
							"      <td>55</td>\n",
							"      <td>0</td>\n",
							"      <td>0</td>\n",
							"      <td>0</td>\n",
							"      <td>0</td>\n",
							"      <td>0</td>\n",
							"      <td>0</td>\n",
							"      <td>0</td>\n",
							"      <td>0</td>\n",
							"      <td>0</td>\n",
							"    </tr>\n",
							"    <tr>\n",
							"      <th>1</th>\n",
							"      <td>0</td>\n",
							"      <td>49</td>\n",
							"      <td>0</td>\n",
							"      <td>0</td>\n",
							"      <td>0</td>\n",
							"      <td>0</td>\n",
							"      <td>0</td>\n",
							"      <td>0</td>\n",
							"      <td>0</td>\n",
							"      <td>0</td>\n",
							"    </tr>\n",
							"    <tr>\n",
							"      <th>2</th>\n",
							"      <td>0</td>\n",
							"      <td>1</td>\n",
							"      <td>51</td>\n",
							"      <td>0</td>\n",
							"      <td>0</td>\n",
							"      <td>0</td>\n",
							"      <td>0</td>\n",
							"      <td>0</td>\n",
							"      <td>0</td>\n",
							"      <td>0</td>\n",
							"    </tr>\n",
							"    <tr>\n",
							"      <th>3</th>\n",
							"      <td>0</td>\n",
							"      <td>0</td>\n",
							"      <td>0</td>\n",
							"      <td>53</td>\n",
							"      <td>0</td>\n",
							"      <td>2</td>\n",
							"      <td>0</td>\n",
							"      <td>0</td>\n",
							"      <td>0</td>\n",
							"      <td>0</td>\n",
							"    </tr>\n",
							"    <tr>\n",
							"      <th>4</th>\n",
							"      <td>0</td>\n",
							"      <td>0</td>\n",
							"      <td>0</td>\n",
							"      <td>0</td>\n",
							"      <td>44</td>\n",
							"      <td>0</td>\n",
							"      <td>0</td>\n",
							"      <td>0</td>\n",
							"      <td>0</td>\n",
							"      <td>1</td>\n",
							"    </tr>\n",
							"    <tr>\n",
							"      <th>5</th>\n",
							"      <td>0</td>\n",
							"      <td>0</td>\n",
							"      <td>0</td>\n",
							"      <td>0</td>\n",
							"      <td>0</td>\n",
							"      <td>40</td>\n",
							"      <td>0</td>\n",
							"      <td>0</td>\n",
							"      <td>0</td>\n",
							"      <td>3</td>\n",
							"    </tr>\n",
							"    <tr>\n",
							"      <th>6</th>\n",
							"      <td>1</td>\n",
							"      <td>0</td>\n",
							"      <td>0</td>\n",
							"      <td>0</td>\n",
							"      <td>1</td>\n",
							"      <td>0</td>\n",
							"      <td>60</td>\n",
							"      <td>0</td>\n",
							"      <td>0</td>\n",
							"      <td>0</td>\n",
							"    </tr>\n",
							"    <tr>\n",
							"      <th>7</th>\n",
							"      <td>0</td>\n",
							"      <td>0</td>\n",
							"      <td>0</td>\n",
							"      <td>0</td>\n",
							"      <td>0</td>\n",
							"      <td>1</td>\n",
							"      <td>0</td>\n",
							"      <td>55</td>\n",
							"      <td>0</td>\n",
							"      <td>0</td>\n",
							"    </tr>\n",
							"    <tr>\n",
							"      <th>8</th>\n",
							"      <td>0</td>\n",
							"      <td>5</td>\n",
							"      <td>0</td>\n",
							"      <td>0</td>\n",
							"      <td>0</td>\n",
							"      <td>1</td>\n",
							"      <td>0</td>\n",
							"      <td>0</td>\n",
							"      <td>63</td>\n",
							"      <td>0</td>\n",
							"    </tr>\n",
							"    <tr>\n",
							"      <th>9</th>\n",
							"      <td>0</td>\n",
							"      <td>0</td>\n",
							"      <td>0</td>\n",
							"      <td>0</td>\n",
							"      <td>0</td>\n",
							"      <td>1</td>\n",
							"      <td>0</td>\n",
							"      <td>0</td>\n",
							"      <td>0</td>\n",
							"      <td>53</td>\n",
							"    </tr>\n",
							"  </tbody>\n",
							"</table>\n",
							"</div>"
						],
						"text/plain": [
							"    0   1   2   3   4   5   6   7   8   9\n",
							"0  55   0   0   0   0   0   0   0   0   0\n",
							"1   0  49   0   0   0   0   0   0   0   0\n",
							"2   0   1  51   0   0   0   0   0   0   0\n",
							"3   0   0   0  53   0   2   0   0   0   0\n",
							"4   0   0   0   0  44   0   0   0   0   1\n",
							"5   0   0   0   0   0  40   0   0   0   3\n",
							"6   1   0   0   0   1   0  60   0   0   0\n",
							"7   0   0   0   0   0   1   0  55   0   0\n",
							"8   0   5   0   0   0   1   0   0  63   0\n",
							"9   0   0   0   0   0   1   0   0   0  53"
						]
					},
					"execution_count": 28,
					"metadata": {},
					"output_type": "execute_result"
				}
			],
			"source": [
				"import pandas as pd\n",
				"df = pd.DataFrame(confusion_matrix(y_test, y_pred))\n",
				"df.columns = data.target_names\n",
				"df.index = data.target_names\n",
				"df"
			]
		},
		{
			"cell_type": "markdown",
			"metadata": {
				"id": "VbB_nzV0SVtn"
			},
			"source": [
				"間違えたデータについてIDと正解データと予測値と確率を格納"
			]
		},
		{
			"cell_type": "code",
			"execution_count": null,
			"metadata": {
				"id": "UrNuqA64SVto"
			},
			"outputs": [],
			"source": [
				"compli = []\n",
				"for i in range(len(y_test)):\n",
				"    if y_pred[i] != y_test[i]:\n",
				"        compli.append([i, y_test[i], y_pred[i], max(y_predSM[i])])"
			]
		},
		{
			"cell_type": "code",
			"execution_count": null,
			"metadata": {
				"id": "ZE7dMZ2wSVtq",
				"outputId": "9d544ec4-ad11-40c5-a458-0821383771e9"
			},
			"outputs": [
				{
					"data": {
						"text/html": [
							"<div>\n",
							"<style scoped>\n",
							"    .dataframe tbody tr th:only-of-type {\n",
							"        vertical-align: middle;\n",
							"    }\n",
							"\n",
							"    .dataframe tbody tr th {\n",
							"        vertical-align: top;\n",
							"    }\n",
							"\n",
							"    .dataframe thead th {\n",
							"        text-align: right;\n",
							"    }\n",
							"</style>\n",
							"<table border=\"1\" class=\"dataframe\">\n",
							"  <thead>\n",
							"    <tr style=\"text-align: right;\">\n",
							"      <th></th>\n",
							"      <th>ID</th>\n",
							"      <th>True</th>\n",
							"      <th>Pred</th>\n",
							"      <th>Proba</th>\n",
							"    </tr>\n",
							"  </thead>\n",
							"  <tbody>\n",
							"    <tr>\n",
							"      <th>1</th>\n",
							"      <td>22</td>\n",
							"      <td>5</td>\n",
							"      <td>9</td>\n",
							"      <td>0.999961</td>\n",
							"    </tr>\n",
							"    <tr>\n",
							"      <th>12</th>\n",
							"      <td>394</td>\n",
							"      <td>8</td>\n",
							"      <td>1</td>\n",
							"      <td>0.997154</td>\n",
							"    </tr>\n",
							"    <tr>\n",
							"      <th>9</th>\n",
							"      <td>280</td>\n",
							"      <td>8</td>\n",
							"      <td>1</td>\n",
							"      <td>0.994664</td>\n",
							"    </tr>\n",
							"    <tr>\n",
							"      <th>16</th>\n",
							"      <td>469</td>\n",
							"      <td>2</td>\n",
							"      <td>1</td>\n",
							"      <td>0.987341</td>\n",
							"    </tr>\n",
							"    <tr>\n",
							"      <th>5</th>\n",
							"      <td>199</td>\n",
							"      <td>8</td>\n",
							"      <td>1</td>\n",
							"      <td>0.984958</td>\n",
							"    </tr>\n",
							"  </tbody>\n",
							"</table>\n",
							"</div>"
						],
						"text/plain": [
							"     ID  True  Pred     Proba\n",
							"1    22     5     9  0.999961\n",
							"12  394     8     1  0.997154\n",
							"9   280     8     1  0.994664\n",
							"16  469     2     1  0.987341\n",
							"5   199     8     1  0.984958"
						]
					},
					"execution_count": 36,
					"metadata": {},
					"output_type": "execute_result"
				}
			],
			"source": [
				"df_comp = pd.DataFrame(compli)\n",
				"df_comp.columns = [\"ID\", \"True\", \"Pred\", \"Proba\"]\n",
				"df_comp.sort_values(\"Proba\", ascending=False).head()"
			]
		},
		{
			"cell_type": "markdown",
			"metadata": {
				"id": "vceQBhTnSVts"
			},
			"source": [
				"最も高い確率で間違えた(自信を持って間違えた)データを可視化"
			]
		},
		{
			"cell_type": "code",
			"execution_count": null,
			"metadata": {
				"scrolled": true,
				"id": "I8Pv9XbmSVtt",
				"outputId": "6614c678-c045-49c7-c7d1-cf84aacc791d"
			},
			"outputs": [
				{
					"data": {
						"image/png": "[encoded data removed]",
						"text/plain": [
							"<Figure size 432x288 with 1 Axes>"
						]
					},
					"metadata": {
						"needs_background": "light"
					},
					"output_type": "display_data"
				}
			],
			"source": [
				"import matplotlib.pyplot as plt\n",
				"img = x_test[22].reshape(8, 8)\n",
				"plt.imshow(img, cmap=\"gray\")\n",
				"plt.title(\"Error %s to %s\"%(str(y_test[22]),str(y_pred[22])))\n",
				"plt.show()"
			]
		},
		{
			"cell_type": "markdown",
			"metadata": {
				"id": "l3uyj2qlSVtu"
			},
			"source": [
				"間違える傾向を探す"
			]
		},
		{
			"cell_type": "code",
			"execution_count": null,
			"metadata": {
				"id": "BlLwCL7wSVtv",
				"outputId": "02108d61-b029-4f34-ba1a-bea26d4b0a33"
			},
			"outputs": [
				{
					"name": "stdout",
					"output_type": "stream",
					"text": [
						"              precision    recall  f1-score   support\n",
						"\n",
						"           0       0.98      1.00      0.99        55\n",
						"           1       0.89      1.00      0.94        49\n",
						"           2       1.00      0.98      0.99        52\n",
						"           3       1.00      0.96      0.98        55\n",
						"           4       0.98      0.98      0.98        45\n",
						"           5       0.89      0.93      0.91        43\n",
						"           6       1.00      0.97      0.98        62\n",
						"           7       1.00      0.98      0.99        56\n",
						"           8       1.00      0.91      0.95        69\n",
						"           9       0.93      0.98      0.95        54\n",
						"\n",
						"    accuracy                           0.97       540\n",
						"   macro avg       0.97      0.97      0.97       540\n",
						"weighted avg       0.97      0.97      0.97       540\n",
						"\n"
					]
				}
			],
			"source": [
				"from sklearn.metrics import classification_report\n",
				"print(classification_report(y_test, y_pred))"
			]
		},
		{
			"cell_type": "markdown",
			"metadata": {
				"id": "4CFM5i1wSVtx"
			},
			"source": [
				"適合率は予測値に対して実測値がどのくらい当たっているかの指標である。"
			]
		},
		{
			"cell_type": "markdown",
			"metadata": {
				"id": "vD_RLXyoSVty"
			},
			"source": [
				"適合率(precision)に注目すると「1」「5」「9」が特に低いことが分かる。"
			]
		},
		{
			"cell_type": "markdown",
			"metadata": {
				"id": "1W6ar02mSVtz"
			},
			"source": [
				"ここで混合行列に注目すると「1」は「8」と間違えやすく、"
			]
		},
		{
			"cell_type": "markdown",
			"metadata": {
				"id": "9gCAAwLeSVt0"
			},
			"source": [
				"「5」は特定の間違え方はしにくく間違え方が疎らになっている。"
			]
		},
		{
			"cell_type": "markdown",
			"metadata": {
				"id": "iNxP4FVvSVt1"
			},
			"source": [
				"「9」は主に「5」と間違える傾向にあることが分かる。"
			]
		},
		{
			"cell_type": "code",
			"execution_count": null,
			"metadata": {
				"id": "hjRGIV5GSVt2"
			},
			"outputs": [],
			"source": [
				""
			]
		}
	],
	"metadata": {
		"kernelspec": {
			"display_name": "Python 3",
			"language": "python",
			"name": "python3"
		},
		"language_info": {
			"codemirror_mode": {
				"name": "ipython",
				"version": 3
			},
			"file_extension": ".py",
			"mimetype": "text/x-python",
			"name": "python",
			"nbconvert_exporter": "python",
			"pygments_lexer": "ipython3",
			"version": "3.7.1"
		},
		"colab": {
			"name": "searchcomplicate.ipynb",
			"provenance": [],
			"collapsed_sections": []
		}
	},
	"nbformat": 4,
	"nbformat_minor": 0
}
