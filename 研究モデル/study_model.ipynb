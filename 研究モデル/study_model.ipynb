{
 "cells": [
  {
   "cell_type": "markdown",
   "metadata": {},
   "source": [
    "# 分析の方針\n",
    "データ分析を行う上で、必ずデータを分析する目的を考慮した上で因果関係を考察する必要がある。そこで、因果関係は疫学でも触れられているが、統計学では原因系変数の種類と結果系変数の種類によって分析手法が異なるため、ここではデータの形状別の分析指針の一例を示す。\n",
    "\n",
    "また、エビデンスレベルが変わってしまうが、原因系変数と結果系変数を逆にすることでより因果関係を考察する材料ができる。\n",
    "\n",
    "## ライブラリのインポート"
   ]
  },
  {
   "cell_type": "code",
   "execution_count": 1,
   "metadata": {},
   "outputs": [],
   "source": [
    "from sklearn.linear_model import LinearRegression\n",
    "from sklearn.tree import DecisionTreeClassifier\n",
    "from sklearn.metrics import r2_score\n",
    "from sklearn.tree import export_graphviz as EG\n",
    "from pydotplus import graph_from_dot_data as GFDD\n",
    "from PIL import Image\n",
    "from lifelines import CoxPHFitter\n",
    "import pandas as pd\n",
    "import numpy as np\n",
    "import matplotlib.pyplot as plt\n",
    "import statsmodels.api as sm\n",
    "import scipy.stats as stats"
   ]
  },
  {
   "cell_type": "markdown",
   "metadata": {},
   "source": [
    "## データの読み込み"
   ]
  },
  {
   "cell_type": "code",
   "execution_count": 2,
   "metadata": {},
   "outputs": [
    {
     "data": {
      "text/html": [
       "<div>\n",
       "<style scoped>\n",
       "    .dataframe tbody tr th:only-of-type {\n",
       "        vertical-align: middle;\n",
       "    }\n",
       "\n",
       "    .dataframe tbody tr th {\n",
       "        vertical-align: top;\n",
       "    }\n",
       "\n",
       "    .dataframe thead th {\n",
       "        text-align: right;\n",
       "    }\n",
       "</style>\n",
       "<table border=\"1\" class=\"dataframe\">\n",
       "  <thead>\n",
       "    <tr style=\"text-align: right;\">\n",
       "      <th></th>\n",
       "      <th>t</th>\n",
       "      <th>status</th>\n",
       "      <th>sex</th>\n",
       "      <th>logWBC</th>\n",
       "      <th>Rx</th>\n",
       "    </tr>\n",
       "  </thead>\n",
       "  <tbody>\n",
       "    <tr>\n",
       "      <th>0</th>\n",
       "      <td>35</td>\n",
       "      <td>0</td>\n",
       "      <td>1</td>\n",
       "      <td>1.45</td>\n",
       "      <td>0</td>\n",
       "    </tr>\n",
       "    <tr>\n",
       "      <th>1</th>\n",
       "      <td>34</td>\n",
       "      <td>0</td>\n",
       "      <td>1</td>\n",
       "      <td>1.47</td>\n",
       "      <td>0</td>\n",
       "    </tr>\n",
       "    <tr>\n",
       "      <th>2</th>\n",
       "      <td>32</td>\n",
       "      <td>0</td>\n",
       "      <td>1</td>\n",
       "      <td>2.20</td>\n",
       "      <td>0</td>\n",
       "    </tr>\n",
       "    <tr>\n",
       "      <th>3</th>\n",
       "      <td>32</td>\n",
       "      <td>0</td>\n",
       "      <td>1</td>\n",
       "      <td>2.53</td>\n",
       "      <td>0</td>\n",
       "    </tr>\n",
       "    <tr>\n",
       "      <th>4</th>\n",
       "      <td>25</td>\n",
       "      <td>0</td>\n",
       "      <td>1</td>\n",
       "      <td>1.78</td>\n",
       "      <td>0</td>\n",
       "    </tr>\n",
       "  </tbody>\n",
       "</table>\n",
       "</div>"
      ],
      "text/plain": [
       "    t  status  sex  logWBC  Rx\n",
       "0  35       0    1    1.45   0\n",
       "1  34       0    1    1.47   0\n",
       "2  32       0    1    2.20   0\n",
       "3  32       0    1    2.53   0\n",
       "4  25       0    1    1.78   0"
      ]
     },
     "execution_count": 2,
     "metadata": {},
     "output_type": "execute_result"
    }
   ],
   "source": [
    "df = pd.read_csv(\"leukemia.csv\")\n",
    "df.head()"
   ]
  },
  {
   "cell_type": "markdown",
   "metadata": {},
   "source": [
    "## 原因が質的変数で結果が質的変数\n",
    "因果関係の推論としてはリスク比やオッズ比を使用し、理論値と実測値との独立性を検証するにはカイ二乗検定を使用する。\n",
    "\n",
    "ここでは投与群とプラセボ群で効果に影響があるか考察する。\n",
    "### 前向き研究(コホート研究)\n",
    "前向き研究では原因(曝露)から結果(症例)に向けてデータを集計する観察研究の手法。エビデンスレベルとしてRCTの次に高い。"
   ]
  },
  {
   "cell_type": "code",
   "execution_count": 3,
   "metadata": {},
   "outputs": [
    {
     "data": {
      "text/html": [
       "<div>\n",
       "<style scoped>\n",
       "    .dataframe tbody tr th:only-of-type {\n",
       "        vertical-align: middle;\n",
       "    }\n",
       "\n",
       "    .dataframe tbody tr th {\n",
       "        vertical-align: top;\n",
       "    }\n",
       "\n",
       "    .dataframe thead th {\n",
       "        text-align: right;\n",
       "    }\n",
       "</style>\n",
       "<table border=\"1\" class=\"dataframe\">\n",
       "  <thead>\n",
       "    <tr style=\"text-align: right;\">\n",
       "      <th>status</th>\n",
       "      <th>0</th>\n",
       "      <th>1</th>\n",
       "    </tr>\n",
       "    <tr>\n",
       "      <th>Rx</th>\n",
       "      <th></th>\n",
       "      <th></th>\n",
       "    </tr>\n",
       "  </thead>\n",
       "  <tbody>\n",
       "    <tr>\n",
       "      <th>0</th>\n",
       "      <td>12</td>\n",
       "      <td>9</td>\n",
       "    </tr>\n",
       "    <tr>\n",
       "      <th>1</th>\n",
       "      <td>0</td>\n",
       "      <td>21</td>\n",
       "    </tr>\n",
       "  </tbody>\n",
       "</table>\n",
       "</div>"
      ],
      "text/plain": [
       "status   0   1\n",
       "Rx            \n",
       "0       12   9\n",
       "1        0  21"
      ]
     },
     "execution_count": 3,
     "metadata": {},
     "output_type": "execute_result"
    }
   ],
   "source": [
    "cross1 = pd.crosstab(df[\"Rx\"], df[\"status\"])\n",
    "cross1"
   ]
  },
  {
   "cell_type": "code",
   "execution_count": 4,
   "metadata": {},
   "outputs": [
    {
     "name": "stdout",
     "output_type": "stream",
     "text": [
      "risk rate = 2.33\n"
     ]
    }
   ],
   "source": [
    "cross = cross1.values\n",
    "risk1 = cross[0][1]/(sum(cross[0]))\n",
    "risk2 = cross[1][1]/(sum(cross[1]))\n",
    "print(\"risk rate = %.2f\"%(risk2/risk1))"
   ]
  },
  {
   "cell_type": "code",
   "execution_count": 5,
   "metadata": {},
   "outputs": [
    {
     "name": "stdout",
     "output_type": "stream",
     "text": [
      "odds rate = inf\n"
     ]
    },
    {
     "name": "stderr",
     "output_type": "stream",
     "text": [
      "C:\\Users\\decar\\Anaconda3\\lib\\site-packages\\ipykernel_launcher.py:3: RuntimeWarning: divide by zero encountered in double_scalars\n",
      "  This is separate from the ipykernel package so we can avoid doing imports until\n"
     ]
    }
   ],
   "source": [
    "odds1 = (cross1[0][1] / sum(cross1[0]) / cross1[0][0] / sum(cross1[0]))\n",
    "odds2 = (cross1[1][1] / sum(cross1[1]) / cross1[1][0] / sum(cross1[1]))\n",
    "print(\"odds rate = %.2f\"%(odds2/odds1))"
   ]
  },
  {
   "cell_type": "markdown",
   "metadata": {},
   "source": [
    "この場合オッズ比は反応の割合を非反応の割合で割っているためクロス集計表に0があると計算できない"
   ]
  },
  {
   "cell_type": "markdown",
   "metadata": {},
   "source": [
    "status(効果)についてRx(投与群とプラセボ群)で違いが現れていることが分かる。"
   ]
  },
  {
   "cell_type": "code",
   "execution_count": 6,
   "metadata": {},
   "outputs": [
    {
     "data": {
      "text/html": [
       "<div>\n",
       "<style scoped>\n",
       "    .dataframe tbody tr th:only-of-type {\n",
       "        vertical-align: middle;\n",
       "    }\n",
       "\n",
       "    .dataframe tbody tr th {\n",
       "        vertical-align: top;\n",
       "    }\n",
       "\n",
       "    .dataframe thead th {\n",
       "        text-align: right;\n",
       "    }\n",
       "</style>\n",
       "<table border=\"1\" class=\"dataframe\">\n",
       "  <thead>\n",
       "    <tr style=\"text-align: right;\">\n",
       "      <th>status</th>\n",
       "      <th>0</th>\n",
       "      <th>1</th>\n",
       "    </tr>\n",
       "    <tr>\n",
       "      <th>sex</th>\n",
       "      <th></th>\n",
       "      <th></th>\n",
       "    </tr>\n",
       "  </thead>\n",
       "  <tbody>\n",
       "    <tr>\n",
       "      <th>0</th>\n",
       "      <td>6</td>\n",
       "      <td>16</td>\n",
       "    </tr>\n",
       "    <tr>\n",
       "      <th>1</th>\n",
       "      <td>6</td>\n",
       "      <td>14</td>\n",
       "    </tr>\n",
       "  </tbody>\n",
       "</table>\n",
       "</div>"
      ],
      "text/plain": [
       "status  0   1\n",
       "sex          \n",
       "0       6  16\n",
       "1       6  14"
      ]
     },
     "execution_count": 6,
     "metadata": {},
     "output_type": "execute_result"
    }
   ],
   "source": [
    "cross2 = pd.crosstab(df[\"sex\"], df[\"status\"])\n",
    "cross2"
   ]
  },
  {
   "cell_type": "markdown",
   "metadata": {},
   "source": [
    "#### クロス集計表に性別の要素を加える\n",
    "第三の変数を使用して結果に寄与する第三の要因を探す"
   ]
  },
  {
   "cell_type": "code",
   "execution_count": 7,
   "metadata": {},
   "outputs": [
    {
     "data": {
      "text/html": [
       "<div>\n",
       "<style scoped>\n",
       "    .dataframe tbody tr th:only-of-type {\n",
       "        vertical-align: middle;\n",
       "    }\n",
       "\n",
       "    .dataframe tbody tr th {\n",
       "        vertical-align: top;\n",
       "    }\n",
       "\n",
       "    .dataframe thead th {\n",
       "        text-align: right;\n",
       "    }\n",
       "</style>\n",
       "<table border=\"1\" class=\"dataframe\">\n",
       "  <thead>\n",
       "    <tr style=\"text-align: right;\">\n",
       "      <th></th>\n",
       "      <th>status</th>\n",
       "      <th>0</th>\n",
       "      <th>1</th>\n",
       "    </tr>\n",
       "    <tr>\n",
       "      <th>Rx</th>\n",
       "      <th>sex</th>\n",
       "      <th></th>\n",
       "      <th></th>\n",
       "    </tr>\n",
       "  </thead>\n",
       "  <tbody>\n",
       "    <tr>\n",
       "      <th rowspan=\"2\" valign=\"top\">0</th>\n",
       "      <th>0</th>\n",
       "      <td>6</td>\n",
       "      <td>5</td>\n",
       "    </tr>\n",
       "    <tr>\n",
       "      <th>1</th>\n",
       "      <td>6</td>\n",
       "      <td>4</td>\n",
       "    </tr>\n",
       "    <tr>\n",
       "      <th rowspan=\"2\" valign=\"top\">1</th>\n",
       "      <th>0</th>\n",
       "      <td>0</td>\n",
       "      <td>11</td>\n",
       "    </tr>\n",
       "    <tr>\n",
       "      <th>1</th>\n",
       "      <td>0</td>\n",
       "      <td>10</td>\n",
       "    </tr>\n",
       "  </tbody>\n",
       "</table>\n",
       "</div>"
      ],
      "text/plain": [
       "status  0   1\n",
       "Rx sex       \n",
       "0  0    6   5\n",
       "   1    6   4\n",
       "1  0    0  11\n",
       "   1    0  10"
      ]
     },
     "execution_count": 7,
     "metadata": {},
     "output_type": "execute_result"
    }
   ],
   "source": [
    "cross3 = pd.crosstab([df[\"Rx\"], df[\"sex\"]], df[\"status\"])\n",
    "cross3"
   ]
  },
  {
   "cell_type": "code",
   "execution_count": 8,
   "metadata": {},
   "outputs": [
    {
     "name": "stdout",
     "output_type": "stream",
     "text": [
      "risk rate(Rx=0) = 0.88\n",
      "risk rate(Rx=1) = 1.00\n"
     ]
    }
   ],
   "source": [
    "cross = cross3.values\n",
    "risk1 = cross[0][1]/(sum(cross[0]))\n",
    "risk2 = cross[1][1]/(sum(cross[1]))\n",
    "risk3 = cross[2][1]/(sum(cross[2]))\n",
    "risk4 = cross[3][1]/(sum(cross[3]))\n",
    "print(\"risk rate(Rx=0) = %.2f\"%(risk2/risk1))\n",
    "print(\"risk rate(Rx=1) = %.2f\"%(risk4/risk3))"
   ]
  },
  {
   "cell_type": "code",
   "execution_count": 9,
   "metadata": {},
   "outputs": [
    {
     "name": "stdout",
     "output_type": "stream",
     "text": [
      "risk rate = 1.14\n"
     ]
    }
   ],
   "source": [
    "print(\"risk rate = %.2f\"%((risk4/risk2)/(risk3/risk1)))"
   ]
  },
  {
   "cell_type": "markdown",
   "metadata": {},
   "source": [
    "この結果から性別による差は小さいことが分かる。"
   ]
  },
  {
   "cell_type": "markdown",
   "metadata": {},
   "source": [
    "### 後ろ向き研究(症例対象研究)\n",
    "報告された症例からデータを集計するため時間およびコストが前向き研究と比べてかからない代わりにエビデンスレベルは前向き研究より低い。"
   ]
  },
  {
   "cell_type": "code",
   "execution_count": 10,
   "metadata": {},
   "outputs": [
    {
     "data": {
      "text/html": [
       "<div>\n",
       "<style scoped>\n",
       "    .dataframe tbody tr th:only-of-type {\n",
       "        vertical-align: middle;\n",
       "    }\n",
       "\n",
       "    .dataframe tbody tr th {\n",
       "        vertical-align: top;\n",
       "    }\n",
       "\n",
       "    .dataframe thead th {\n",
       "        text-align: right;\n",
       "    }\n",
       "</style>\n",
       "<table border=\"1\" class=\"dataframe\">\n",
       "  <thead>\n",
       "    <tr style=\"text-align: right;\">\n",
       "      <th>Rx</th>\n",
       "      <th>0</th>\n",
       "      <th>1</th>\n",
       "    </tr>\n",
       "    <tr>\n",
       "      <th>status</th>\n",
       "      <th></th>\n",
       "      <th></th>\n",
       "    </tr>\n",
       "  </thead>\n",
       "  <tbody>\n",
       "    <tr>\n",
       "      <th>0</th>\n",
       "      <td>12</td>\n",
       "      <td>0</td>\n",
       "    </tr>\n",
       "    <tr>\n",
       "      <th>1</th>\n",
       "      <td>9</td>\n",
       "      <td>21</td>\n",
       "    </tr>\n",
       "  </tbody>\n",
       "</table>\n",
       "</div>"
      ],
      "text/plain": [
       "Rx       0   1\n",
       "status        \n",
       "0       12   0\n",
       "1        9  21"
      ]
     },
     "execution_count": 10,
     "metadata": {},
     "output_type": "execute_result"
    }
   ],
   "source": [
    "cross4 = pd.crosstab(df[\"status\"], df[\"Rx\"])\n",
    "cross4"
   ]
  },
  {
   "cell_type": "code",
   "execution_count": 11,
   "metadata": {},
   "outputs": [
    {
     "data": {
      "text/html": [
       "<div>\n",
       "<style scoped>\n",
       "    .dataframe tbody tr th:only-of-type {\n",
       "        vertical-align: middle;\n",
       "    }\n",
       "\n",
       "    .dataframe tbody tr th {\n",
       "        vertical-align: top;\n",
       "    }\n",
       "\n",
       "    .dataframe thead th {\n",
       "        text-align: right;\n",
       "    }\n",
       "</style>\n",
       "<table border=\"1\" class=\"dataframe\">\n",
       "  <thead>\n",
       "    <tr style=\"text-align: right;\">\n",
       "      <th></th>\n",
       "      <th>Rx</th>\n",
       "      <th>0</th>\n",
       "      <th>1</th>\n",
       "    </tr>\n",
       "    <tr>\n",
       "      <th>status</th>\n",
       "      <th>sex</th>\n",
       "      <th></th>\n",
       "      <th></th>\n",
       "    </tr>\n",
       "  </thead>\n",
       "  <tbody>\n",
       "    <tr>\n",
       "      <th rowspan=\"2\" valign=\"top\">0</th>\n",
       "      <th>0</th>\n",
       "      <td>6</td>\n",
       "      <td>0</td>\n",
       "    </tr>\n",
       "    <tr>\n",
       "      <th>1</th>\n",
       "      <td>6</td>\n",
       "      <td>0</td>\n",
       "    </tr>\n",
       "    <tr>\n",
       "      <th rowspan=\"2\" valign=\"top\">1</th>\n",
       "      <th>0</th>\n",
       "      <td>5</td>\n",
       "      <td>11</td>\n",
       "    </tr>\n",
       "    <tr>\n",
       "      <th>1</th>\n",
       "      <td>4</td>\n",
       "      <td>10</td>\n",
       "    </tr>\n",
       "  </tbody>\n",
       "</table>\n",
       "</div>"
      ],
      "text/plain": [
       "Rx          0   1\n",
       "status sex       \n",
       "0      0    6   0\n",
       "       1    6   0\n",
       "1      0    5  11\n",
       "       1    4  10"
      ]
     },
     "execution_count": 11,
     "metadata": {},
     "output_type": "execute_result"
    }
   ],
   "source": [
    "cross5 = pd.crosstab([df[\"status\"], df[\"sex\"]], df[\"Rx\"])\n",
    "cross5"
   ]
  },
  {
   "cell_type": "code",
   "execution_count": 12,
   "metadata": {},
   "outputs": [
    {
     "data": {
      "text/html": [
       "<div>\n",
       "<style scoped>\n",
       "    .dataframe tbody tr th:only-of-type {\n",
       "        vertical-align: middle;\n",
       "    }\n",
       "\n",
       "    .dataframe tbody tr th {\n",
       "        vertical-align: top;\n",
       "    }\n",
       "\n",
       "    .dataframe thead tr th {\n",
       "        text-align: left;\n",
       "    }\n",
       "\n",
       "    .dataframe thead tr:last-of-type th {\n",
       "        text-align: right;\n",
       "    }\n",
       "</style>\n",
       "<table border=\"1\" class=\"dataframe\">\n",
       "  <thead>\n",
       "    <tr>\n",
       "      <th>Rx</th>\n",
       "      <th colspan=\"2\" halign=\"left\">0</th>\n",
       "      <th colspan=\"2\" halign=\"left\">1</th>\n",
       "    </tr>\n",
       "    <tr>\n",
       "      <th>sex</th>\n",
       "      <th>0</th>\n",
       "      <th>1</th>\n",
       "      <th>0</th>\n",
       "      <th>1</th>\n",
       "    </tr>\n",
       "    <tr>\n",
       "      <th>status</th>\n",
       "      <th></th>\n",
       "      <th></th>\n",
       "      <th></th>\n",
       "      <th></th>\n",
       "    </tr>\n",
       "  </thead>\n",
       "  <tbody>\n",
       "    <tr>\n",
       "      <th>0</th>\n",
       "      <td>6</td>\n",
       "      <td>6</td>\n",
       "      <td>0</td>\n",
       "      <td>0</td>\n",
       "    </tr>\n",
       "    <tr>\n",
       "      <th>1</th>\n",
       "      <td>5</td>\n",
       "      <td>4</td>\n",
       "      <td>11</td>\n",
       "      <td>10</td>\n",
       "    </tr>\n",
       "  </tbody>\n",
       "</table>\n",
       "</div>"
      ],
      "text/plain": [
       "Rx      0      1    \n",
       "sex     0  1   0   1\n",
       "status              \n",
       "0       6  6   0   0\n",
       "1       5  4  11  10"
      ]
     },
     "execution_count": 12,
     "metadata": {},
     "output_type": "execute_result"
    }
   ],
   "source": [
    "cross6 = pd.crosstab(df[\"status\"], [df[\"Rx\"], df[\"sex\"]])\n",
    "cross6"
   ]
  },
  {
   "cell_type": "markdown",
   "metadata": {},
   "source": [
    "### 数量化理論Ⅱ類\n",
    "原因系変数と結果系変数全てがこの場合ダミー変数になっているためロジスティック回帰を使用することができる。"
   ]
  },
  {
   "cell_type": "code",
   "execution_count": 13,
   "metadata": {},
   "outputs": [
    {
     "data": {
      "text/html": [
       "<div>\n",
       "<style scoped>\n",
       "    .dataframe tbody tr th:only-of-type {\n",
       "        vertical-align: middle;\n",
       "    }\n",
       "\n",
       "    .dataframe tbody tr th {\n",
       "        vertical-align: top;\n",
       "    }\n",
       "\n",
       "    .dataframe thead th {\n",
       "        text-align: right;\n",
       "    }\n",
       "</style>\n",
       "<table border=\"1\" class=\"dataframe\">\n",
       "  <thead>\n",
       "    <tr style=\"text-align: right;\">\n",
       "      <th></th>\n",
       "      <th>status</th>\n",
       "      <th>sex</th>\n",
       "      <th>Rx</th>\n",
       "    </tr>\n",
       "  </thead>\n",
       "  <tbody>\n",
       "    <tr>\n",
       "      <th>0</th>\n",
       "      <td>0</td>\n",
       "      <td>1</td>\n",
       "      <td>0</td>\n",
       "    </tr>\n",
       "    <tr>\n",
       "      <th>1</th>\n",
       "      <td>0</td>\n",
       "      <td>1</td>\n",
       "      <td>0</td>\n",
       "    </tr>\n",
       "    <tr>\n",
       "      <th>2</th>\n",
       "      <td>0</td>\n",
       "      <td>1</td>\n",
       "      <td>0</td>\n",
       "    </tr>\n",
       "    <tr>\n",
       "      <th>3</th>\n",
       "      <td>0</td>\n",
       "      <td>1</td>\n",
       "      <td>0</td>\n",
       "    </tr>\n",
       "    <tr>\n",
       "      <th>4</th>\n",
       "      <td>0</td>\n",
       "      <td>1</td>\n",
       "      <td>0</td>\n",
       "    </tr>\n",
       "  </tbody>\n",
       "</table>\n",
       "</div>"
      ],
      "text/plain": [
       "   status  sex  Rx\n",
       "0       0    1   0\n",
       "1       0    1   0\n",
       "2       0    1   0\n",
       "3       0    1   0\n",
       "4       0    1   0"
      ]
     },
     "execution_count": 13,
     "metadata": {},
     "output_type": "execute_result"
    }
   ],
   "source": [
    "df_01 = df.drop([\"t\", \"logWBC\"], axis=1)\n",
    "df_01.head()"
   ]
  },
  {
   "cell_type": "code",
   "execution_count": 14,
   "metadata": {},
   "outputs": [
    {
     "name": "stdout",
     "output_type": "stream",
     "text": [
      "Optimization terminated successfully    (Exit mode 0)\n",
      "            Current function value: 0.3406956737869411\n",
      "            Iterations: 42\n",
      "            Function evaluations: 42\n",
      "            Gradient evaluations: 42\n"
     ]
    },
    {
     "data": {
      "text/html": [
       "<table class=\"simpletable\">\n",
       "<caption>Logit Regression Results</caption>\n",
       "<tr>\n",
       "  <th>Dep. Variable:</th>        <td>status</td>      <th>  No. Observations:  </th>  <td>    42</td>  \n",
       "</tr>\n",
       "<tr>\n",
       "  <th>Model:</th>                 <td>Logit</td>      <th>  Df Residuals:      </th>  <td>    39</td>  \n",
       "</tr>\n",
       "<tr>\n",
       "  <th>Method:</th>                 <td>MLE</td>       <th>  Df Model:          </th>  <td>     2</td>  \n",
       "</tr>\n",
       "<tr>\n",
       "  <th>Date:</th>            <td>Sat, 18 Mar 2023</td> <th>  Pseudo R-squ.:     </th>  <td>0.4305</td>  \n",
       "</tr>\n",
       "<tr>\n",
       "  <th>Time:</th>                <td>12:05:34</td>     <th>  Log-Likelihood:    </th> <td> -14.309</td> \n",
       "</tr>\n",
       "<tr>\n",
       "  <th>converged:</th>             <td>True</td>       <th>  LL-Null:           </th> <td> -25.127</td> \n",
       "</tr>\n",
       "<tr>\n",
       "  <th>Covariance Type:</th>     <td>nonrobust</td>    <th>  LLR p-value:       </th> <td>2.003e-05</td>\n",
       "</tr>\n",
       "</table>\n",
       "<table class=\"simpletable\">\n",
       "<tr>\n",
       "    <td></td>       <th>coef</th>     <th>std err</th>      <th>z</th>      <th>P>|z|</th>  <th>[0.025</th>    <th>0.975]</th>  \n",
       "</tr>\n",
       "<tr>\n",
       "  <th>const</th> <td>   -0.1823</td> <td>    0.606</td> <td>   -0.301</td> <td> 0.763</td> <td>   -1.369</td> <td>    1.004</td>\n",
       "</tr>\n",
       "<tr>\n",
       "  <th>sex</th>   <td>   -0.2231</td> <td>    0.885</td> <td>   -0.252</td> <td> 0.801</td> <td>   -1.958</td> <td>    1.512</td>\n",
       "</tr>\n",
       "<tr>\n",
       "  <th>Rx</th>    <td>   22.3269</td> <td> 1.33e+04</td> <td>    0.002</td> <td> 0.999</td> <td> -2.6e+04</td> <td>  2.6e+04</td>\n",
       "</tr>\n",
       "</table><br/><br/>Possibly complete quasi-separation: A fraction 0.50 of observations can be<br/>perfectly predicted. This might indicate that there is complete<br/>quasi-separation. In this case some parameters will not be identified."
      ],
      "text/plain": [
       "<class 'statsmodels.iolib.summary.Summary'>\n",
       "\"\"\"\n",
       "                           Logit Regression Results                           \n",
       "==============================================================================\n",
       "Dep. Variable:                 status   No. Observations:                   42\n",
       "Model:                          Logit   Df Residuals:                       39\n",
       "Method:                           MLE   Df Model:                            2\n",
       "Date:                Sat, 18 Mar 2023   Pseudo R-squ.:                  0.4305\n",
       "Time:                        12:05:34   Log-Likelihood:                -14.309\n",
       "converged:                       True   LL-Null:                       -25.127\n",
       "Covariance Type:            nonrobust   LLR p-value:                 2.003e-05\n",
       "==============================================================================\n",
       "                 coef    std err          z      P>|z|      [0.025      0.975]\n",
       "------------------------------------------------------------------------------\n",
       "const         -0.1823      0.606     -0.301      0.763      -1.369       1.004\n",
       "sex           -0.2231      0.885     -0.252      0.801      -1.958       1.512\n",
       "Rx            22.3269   1.33e+04      0.002      0.999    -2.6e+04     2.6e+04\n",
       "==============================================================================\n",
       "\n",
       "Possibly complete quasi-separation: A fraction 0.50 of observations can be\n",
       "perfectly predicted. This might indicate that there is complete\n",
       "quasi-separation. In this case some parameters will not be identified.\n",
       "\"\"\""
      ]
     },
     "execution_count": 14,
     "metadata": {},
     "output_type": "execute_result"
    }
   ],
   "source": [
    "X = sm.add_constant(df_01.drop([\"status\"], axis=1))\n",
    "model = sm.Logit(df_01[\"status\"], X).fit_regularized()\n",
    "model.summary()"
   ]
  },
  {
   "cell_type": "markdown",
   "metadata": {},
   "source": [
    "## 原因が質的変数と結果が量的変数\n",
    "ここでは質的変数のラベル別で各因子について分布を確認する。\n",
    "\n",
    "### 基礎統計量\n",
    "数値として厳密に分布を知るために平均値・最大値・四分位(中央値含む)・最小値・サンプル数を表示する。ここで現れたデータを基に因果関係を考察する。"
   ]
  },
  {
   "cell_type": "code",
   "execution_count": 15,
   "metadata": {},
   "outputs": [
    {
     "data": {
      "text/html": [
       "<div>\n",
       "<style scoped>\n",
       "    .dataframe tbody tr th:only-of-type {\n",
       "        vertical-align: middle;\n",
       "    }\n",
       "\n",
       "    .dataframe tbody tr th {\n",
       "        vertical-align: top;\n",
       "    }\n",
       "\n",
       "    .dataframe thead th {\n",
       "        text-align: right;\n",
       "    }\n",
       "</style>\n",
       "<table border=\"1\" class=\"dataframe\">\n",
       "  <thead>\n",
       "    <tr style=\"text-align: right;\">\n",
       "      <th></th>\n",
       "      <th>t</th>\n",
       "      <th>status</th>\n",
       "      <th>sex</th>\n",
       "      <th>logWBC</th>\n",
       "      <th>Rx</th>\n",
       "    </tr>\n",
       "  </thead>\n",
       "  <tbody>\n",
       "    <tr>\n",
       "      <th>count</th>\n",
       "      <td>42.000000</td>\n",
       "      <td>42.000000</td>\n",
       "      <td>42.000000</td>\n",
       "      <td>42.000000</td>\n",
       "      <td>42.000000</td>\n",
       "    </tr>\n",
       "    <tr>\n",
       "      <th>mean</th>\n",
       "      <td>12.880952</td>\n",
       "      <td>0.714286</td>\n",
       "      <td>0.476190</td>\n",
       "      <td>2.930238</td>\n",
       "      <td>0.500000</td>\n",
       "    </tr>\n",
       "    <tr>\n",
       "      <th>std</th>\n",
       "      <td>9.347498</td>\n",
       "      <td>0.457230</td>\n",
       "      <td>0.505487</td>\n",
       "      <td>0.917522</td>\n",
       "      <td>0.506061</td>\n",
       "    </tr>\n",
       "    <tr>\n",
       "      <th>min</th>\n",
       "      <td>1.000000</td>\n",
       "      <td>0.000000</td>\n",
       "      <td>0.000000</td>\n",
       "      <td>1.450000</td>\n",
       "      <td>0.000000</td>\n",
       "    </tr>\n",
       "    <tr>\n",
       "      <th>25%</th>\n",
       "      <td>6.000000</td>\n",
       "      <td>0.000000</td>\n",
       "      <td>0.000000</td>\n",
       "      <td>2.302500</td>\n",
       "      <td>0.000000</td>\n",
       "    </tr>\n",
       "    <tr>\n",
       "      <th>50%</th>\n",
       "      <td>10.500000</td>\n",
       "      <td>1.000000</td>\n",
       "      <td>0.000000</td>\n",
       "      <td>2.800000</td>\n",
       "      <td>0.500000</td>\n",
       "    </tr>\n",
       "    <tr>\n",
       "      <th>75%</th>\n",
       "      <td>18.500000</td>\n",
       "      <td>1.000000</td>\n",
       "      <td>1.000000</td>\n",
       "      <td>3.490000</td>\n",
       "      <td>1.000000</td>\n",
       "    </tr>\n",
       "    <tr>\n",
       "      <th>max</th>\n",
       "      <td>35.000000</td>\n",
       "      <td>1.000000</td>\n",
       "      <td>1.000000</td>\n",
       "      <td>5.000000</td>\n",
       "      <td>1.000000</td>\n",
       "    </tr>\n",
       "  </tbody>\n",
       "</table>\n",
       "</div>"
      ],
      "text/plain": [
       "               t     status        sex     logWBC         Rx\n",
       "count  42.000000  42.000000  42.000000  42.000000  42.000000\n",
       "mean   12.880952   0.714286   0.476190   2.930238   0.500000\n",
       "std     9.347498   0.457230   0.505487   0.917522   0.506061\n",
       "min     1.000000   0.000000   0.000000   1.450000   0.000000\n",
       "25%     6.000000   0.000000   0.000000   2.302500   0.000000\n",
       "50%    10.500000   1.000000   0.000000   2.800000   0.500000\n",
       "75%    18.500000   1.000000   1.000000   3.490000   1.000000\n",
       "max    35.000000   1.000000   1.000000   5.000000   1.000000"
      ]
     },
     "execution_count": 15,
     "metadata": {},
     "output_type": "execute_result"
    }
   ],
   "source": [
    "df.describe()"
   ]
  },
  {
   "cell_type": "markdown",
   "metadata": {},
   "source": [
    "#### 質的変数によって場合分けをする"
   ]
  },
  {
   "cell_type": "code",
   "execution_count": 16,
   "metadata": {},
   "outputs": [
    {
     "data": {
      "text/html": [
       "<div>\n",
       "<style scoped>\n",
       "    .dataframe tbody tr th:only-of-type {\n",
       "        vertical-align: middle;\n",
       "    }\n",
       "\n",
       "    .dataframe tbody tr th {\n",
       "        vertical-align: top;\n",
       "    }\n",
       "\n",
       "    .dataframe thead th {\n",
       "        text-align: right;\n",
       "    }\n",
       "</style>\n",
       "<table border=\"1\" class=\"dataframe\">\n",
       "  <thead>\n",
       "    <tr style=\"text-align: right;\">\n",
       "      <th></th>\n",
       "      <th>t</th>\n",
       "      <th>status</th>\n",
       "      <th>sex</th>\n",
       "      <th>logWBC</th>\n",
       "      <th>Rx</th>\n",
       "    </tr>\n",
       "  </thead>\n",
       "  <tbody>\n",
       "    <tr>\n",
       "      <th>count</th>\n",
       "      <td>22.000000</td>\n",
       "      <td>22.000000</td>\n",
       "      <td>22.0</td>\n",
       "      <td>22.000000</td>\n",
       "      <td>22.000000</td>\n",
       "    </tr>\n",
       "    <tr>\n",
       "      <th>mean</th>\n",
       "      <td>11.045455</td>\n",
       "      <td>0.727273</td>\n",
       "      <td>0.0</td>\n",
       "      <td>2.835455</td>\n",
       "      <td>0.500000</td>\n",
       "    </tr>\n",
       "    <tr>\n",
       "      <th>std</th>\n",
       "      <td>4.571936</td>\n",
       "      <td>0.455842</td>\n",
       "      <td>0.0</td>\n",
       "      <td>0.671443</td>\n",
       "      <td>0.511766</td>\n",
       "    </tr>\n",
       "    <tr>\n",
       "      <th>min</th>\n",
       "      <td>5.000000</td>\n",
       "      <td>0.000000</td>\n",
       "      <td>0.0</td>\n",
       "      <td>1.500000</td>\n",
       "      <td>0.000000</td>\n",
       "    </tr>\n",
       "    <tr>\n",
       "      <th>25%</th>\n",
       "      <td>8.000000</td>\n",
       "      <td>0.250000</td>\n",
       "      <td>0.0</td>\n",
       "      <td>2.312500</td>\n",
       "      <td>0.000000</td>\n",
       "    </tr>\n",
       "    <tr>\n",
       "      <th>50%</th>\n",
       "      <td>10.500000</td>\n",
       "      <td>1.000000</td>\n",
       "      <td>0.0</td>\n",
       "      <td>2.840000</td>\n",
       "      <td>0.500000</td>\n",
       "    </tr>\n",
       "    <tr>\n",
       "      <th>75%</th>\n",
       "      <td>12.750000</td>\n",
       "      <td>1.000000</td>\n",
       "      <td>0.0</td>\n",
       "      <td>3.165000</td>\n",
       "      <td>1.000000</td>\n",
       "    </tr>\n",
       "    <tr>\n",
       "      <th>max</th>\n",
       "      <td>22.000000</td>\n",
       "      <td>1.000000</td>\n",
       "      <td>0.0</td>\n",
       "      <td>4.430000</td>\n",
       "      <td>1.000000</td>\n",
       "    </tr>\n",
       "  </tbody>\n",
       "</table>\n",
       "</div>"
      ],
      "text/plain": [
       "               t     status   sex     logWBC         Rx\n",
       "count  22.000000  22.000000  22.0  22.000000  22.000000\n",
       "mean   11.045455   0.727273   0.0   2.835455   0.500000\n",
       "std     4.571936   0.455842   0.0   0.671443   0.511766\n",
       "min     5.000000   0.000000   0.0   1.500000   0.000000\n",
       "25%     8.000000   0.250000   0.0   2.312500   0.000000\n",
       "50%    10.500000   1.000000   0.0   2.840000   0.500000\n",
       "75%    12.750000   1.000000   0.0   3.165000   1.000000\n",
       "max    22.000000   1.000000   0.0   4.430000   1.000000"
      ]
     },
     "execution_count": 16,
     "metadata": {},
     "output_type": "execute_result"
    }
   ],
   "source": [
    "df_sex0 = df.query(\"sex==0\")\n",
    "df_sex1 = df.query(\"sex==1\")\n",
    "df_sex0.describe()"
   ]
  },
  {
   "cell_type": "code",
   "execution_count": 17,
   "metadata": {},
   "outputs": [
    {
     "data": {
      "text/html": [
       "<div>\n",
       "<style scoped>\n",
       "    .dataframe tbody tr th:only-of-type {\n",
       "        vertical-align: middle;\n",
       "    }\n",
       "\n",
       "    .dataframe tbody tr th {\n",
       "        vertical-align: top;\n",
       "    }\n",
       "\n",
       "    .dataframe thead th {\n",
       "        text-align: right;\n",
       "    }\n",
       "</style>\n",
       "<table border=\"1\" class=\"dataframe\">\n",
       "  <thead>\n",
       "    <tr style=\"text-align: right;\">\n",
       "      <th></th>\n",
       "      <th>t</th>\n",
       "      <th>status</th>\n",
       "      <th>sex</th>\n",
       "      <th>logWBC</th>\n",
       "      <th>Rx</th>\n",
       "    </tr>\n",
       "  </thead>\n",
       "  <tbody>\n",
       "    <tr>\n",
       "      <th>count</th>\n",
       "      <td>20.000000</td>\n",
       "      <td>20.000000</td>\n",
       "      <td>20.0</td>\n",
       "      <td>20.00000</td>\n",
       "      <td>20.000000</td>\n",
       "    </tr>\n",
       "    <tr>\n",
       "      <th>mean</th>\n",
       "      <td>14.900000</td>\n",
       "      <td>0.700000</td>\n",
       "      <td>1.0</td>\n",
       "      <td>3.03450</td>\n",
       "      <td>0.500000</td>\n",
       "    </tr>\n",
       "    <tr>\n",
       "      <th>std</th>\n",
       "      <td>12.540041</td>\n",
       "      <td>0.470162</td>\n",
       "      <td>0.0</td>\n",
       "      <td>1.13863</td>\n",
       "      <td>0.512989</td>\n",
       "    </tr>\n",
       "    <tr>\n",
       "      <th>min</th>\n",
       "      <td>1.000000</td>\n",
       "      <td>0.000000</td>\n",
       "      <td>1.0</td>\n",
       "      <td>1.45000</td>\n",
       "      <td>0.000000</td>\n",
       "    </tr>\n",
       "    <tr>\n",
       "      <th>25%</th>\n",
       "      <td>3.750000</td>\n",
       "      <td>0.000000</td>\n",
       "      <td>1.0</td>\n",
       "      <td>2.15250</td>\n",
       "      <td>0.000000</td>\n",
       "    </tr>\n",
       "    <tr>\n",
       "      <th>50%</th>\n",
       "      <td>12.000000</td>\n",
       "      <td>1.000000</td>\n",
       "      <td>1.0</td>\n",
       "      <td>2.68500</td>\n",
       "      <td>0.500000</td>\n",
       "    </tr>\n",
       "    <tr>\n",
       "      <th>75%</th>\n",
       "      <td>23.500000</td>\n",
       "      <td>1.000000</td>\n",
       "      <td>1.0</td>\n",
       "      <td>4.02250</td>\n",
       "      <td>1.000000</td>\n",
       "    </tr>\n",
       "    <tr>\n",
       "      <th>max</th>\n",
       "      <td>35.000000</td>\n",
       "      <td>1.000000</td>\n",
       "      <td>1.0</td>\n",
       "      <td>5.00000</td>\n",
       "      <td>1.000000</td>\n",
       "    </tr>\n",
       "  </tbody>\n",
       "</table>\n",
       "</div>"
      ],
      "text/plain": [
       "               t     status   sex    logWBC         Rx\n",
       "count  20.000000  20.000000  20.0  20.00000  20.000000\n",
       "mean   14.900000   0.700000   1.0   3.03450   0.500000\n",
       "std    12.540041   0.470162   0.0   1.13863   0.512989\n",
       "min     1.000000   0.000000   1.0   1.45000   0.000000\n",
       "25%     3.750000   0.000000   1.0   2.15250   0.000000\n",
       "50%    12.000000   1.000000   1.0   2.68500   0.500000\n",
       "75%    23.500000   1.000000   1.0   4.02250   1.000000\n",
       "max    35.000000   1.000000   1.0   5.00000   1.000000"
      ]
     },
     "execution_count": 17,
     "metadata": {},
     "output_type": "execute_result"
    }
   ],
   "source": [
    "df_sex1.describe()"
   ]
  },
  {
   "cell_type": "code",
   "execution_count": 18,
   "metadata": {},
   "outputs": [
    {
     "data": {
      "text/html": [
       "<div>\n",
       "<style scoped>\n",
       "    .dataframe tbody tr th:only-of-type {\n",
       "        vertical-align: middle;\n",
       "    }\n",
       "\n",
       "    .dataframe tbody tr th {\n",
       "        vertical-align: top;\n",
       "    }\n",
       "\n",
       "    .dataframe thead th {\n",
       "        text-align: right;\n",
       "    }\n",
       "</style>\n",
       "<table border=\"1\" class=\"dataframe\">\n",
       "  <thead>\n",
       "    <tr style=\"text-align: right;\">\n",
       "      <th></th>\n",
       "      <th>t</th>\n",
       "      <th>status</th>\n",
       "      <th>sex</th>\n",
       "      <th>logWBC</th>\n",
       "      <th>Rx</th>\n",
       "    </tr>\n",
       "  </thead>\n",
       "  <tbody>\n",
       "    <tr>\n",
       "      <th>count</th>\n",
       "      <td>21.000000</td>\n",
       "      <td>21.000000</td>\n",
       "      <td>21.000000</td>\n",
       "      <td>21.000000</td>\n",
       "      <td>21.0</td>\n",
       "    </tr>\n",
       "    <tr>\n",
       "      <th>mean</th>\n",
       "      <td>17.095238</td>\n",
       "      <td>0.428571</td>\n",
       "      <td>0.476190</td>\n",
       "      <td>2.636190</td>\n",
       "      <td>0.0</td>\n",
       "    </tr>\n",
       "    <tr>\n",
       "      <th>std</th>\n",
       "      <td>9.999524</td>\n",
       "      <td>0.507093</td>\n",
       "      <td>0.511766</td>\n",
       "      <td>0.773876</td>\n",
       "      <td>0.0</td>\n",
       "    </tr>\n",
       "    <tr>\n",
       "      <th>min</th>\n",
       "      <td>6.000000</td>\n",
       "      <td>0.000000</td>\n",
       "      <td>0.000000</td>\n",
       "      <td>1.450000</td>\n",
       "      <td>0.0</td>\n",
       "    </tr>\n",
       "    <tr>\n",
       "      <th>25%</th>\n",
       "      <td>9.000000</td>\n",
       "      <td>0.000000</td>\n",
       "      <td>0.000000</td>\n",
       "      <td>2.160000</td>\n",
       "      <td>0.0</td>\n",
       "    </tr>\n",
       "    <tr>\n",
       "      <th>50%</th>\n",
       "      <td>16.000000</td>\n",
       "      <td>0.000000</td>\n",
       "      <td>0.000000</td>\n",
       "      <td>2.570000</td>\n",
       "      <td>0.0</td>\n",
       "    </tr>\n",
       "    <tr>\n",
       "      <th>75%</th>\n",
       "      <td>23.000000</td>\n",
       "      <td>1.000000</td>\n",
       "      <td>1.000000</td>\n",
       "      <td>2.960000</td>\n",
       "      <td>0.0</td>\n",
       "    </tr>\n",
       "    <tr>\n",
       "      <th>max</th>\n",
       "      <td>35.000000</td>\n",
       "      <td>1.000000</td>\n",
       "      <td>1.000000</td>\n",
       "      <td>4.430000</td>\n",
       "      <td>0.0</td>\n",
       "    </tr>\n",
       "  </tbody>\n",
       "</table>\n",
       "</div>"
      ],
      "text/plain": [
       "               t     status        sex     logWBC    Rx\n",
       "count  21.000000  21.000000  21.000000  21.000000  21.0\n",
       "mean   17.095238   0.428571   0.476190   2.636190   0.0\n",
       "std     9.999524   0.507093   0.511766   0.773876   0.0\n",
       "min     6.000000   0.000000   0.000000   1.450000   0.0\n",
       "25%     9.000000   0.000000   0.000000   2.160000   0.0\n",
       "50%    16.000000   0.000000   0.000000   2.570000   0.0\n",
       "75%    23.000000   1.000000   1.000000   2.960000   0.0\n",
       "max    35.000000   1.000000   1.000000   4.430000   0.0"
      ]
     },
     "execution_count": 18,
     "metadata": {},
     "output_type": "execute_result"
    }
   ],
   "source": [
    "df_Rx0 = df.query(\"Rx==0\")\n",
    "df_Rx1 = df.query(\"Rx==1\")\n",
    "df_Rx0.describe()"
   ]
  },
  {
   "cell_type": "code",
   "execution_count": 19,
   "metadata": {},
   "outputs": [
    {
     "data": {
      "text/html": [
       "<div>\n",
       "<style scoped>\n",
       "    .dataframe tbody tr th:only-of-type {\n",
       "        vertical-align: middle;\n",
       "    }\n",
       "\n",
       "    .dataframe tbody tr th {\n",
       "        vertical-align: top;\n",
       "    }\n",
       "\n",
       "    .dataframe thead th {\n",
       "        text-align: right;\n",
       "    }\n",
       "</style>\n",
       "<table border=\"1\" class=\"dataframe\">\n",
       "  <thead>\n",
       "    <tr style=\"text-align: right;\">\n",
       "      <th></th>\n",
       "      <th>t</th>\n",
       "      <th>status</th>\n",
       "      <th>sex</th>\n",
       "      <th>logWBC</th>\n",
       "      <th>Rx</th>\n",
       "    </tr>\n",
       "  </thead>\n",
       "  <tbody>\n",
       "    <tr>\n",
       "      <th>count</th>\n",
       "      <td>21.000000</td>\n",
       "      <td>21.0</td>\n",
       "      <td>21.000000</td>\n",
       "      <td>21.000000</td>\n",
       "      <td>21.0</td>\n",
       "    </tr>\n",
       "    <tr>\n",
       "      <th>mean</th>\n",
       "      <td>8.666667</td>\n",
       "      <td>1.0</td>\n",
       "      <td>0.476190</td>\n",
       "      <td>3.224286</td>\n",
       "      <td>1.0</td>\n",
       "    </tr>\n",
       "    <tr>\n",
       "      <th>std</th>\n",
       "      <td>6.467869</td>\n",
       "      <td>0.0</td>\n",
       "      <td>0.511766</td>\n",
       "      <td>0.972279</td>\n",
       "      <td>0.0</td>\n",
       "    </tr>\n",
       "    <tr>\n",
       "      <th>min</th>\n",
       "      <td>1.000000</td>\n",
       "      <td>1.0</td>\n",
       "      <td>0.000000</td>\n",
       "      <td>1.500000</td>\n",
       "      <td>1.0</td>\n",
       "    </tr>\n",
       "    <tr>\n",
       "      <th>25%</th>\n",
       "      <td>4.000000</td>\n",
       "      <td>1.0</td>\n",
       "      <td>0.000000</td>\n",
       "      <td>2.420000</td>\n",
       "      <td>1.0</td>\n",
       "    </tr>\n",
       "    <tr>\n",
       "      <th>50%</th>\n",
       "      <td>8.000000</td>\n",
       "      <td>1.0</td>\n",
       "      <td>0.000000</td>\n",
       "      <td>3.060000</td>\n",
       "      <td>1.0</td>\n",
       "    </tr>\n",
       "    <tr>\n",
       "      <th>75%</th>\n",
       "      <td>12.000000</td>\n",
       "      <td>1.0</td>\n",
       "      <td>1.000000</td>\n",
       "      <td>3.970000</td>\n",
       "      <td>1.0</td>\n",
       "    </tr>\n",
       "    <tr>\n",
       "      <th>max</th>\n",
       "      <td>23.000000</td>\n",
       "      <td>1.0</td>\n",
       "      <td>1.000000</td>\n",
       "      <td>5.000000</td>\n",
       "      <td>1.0</td>\n",
       "    </tr>\n",
       "  </tbody>\n",
       "</table>\n",
       "</div>"
      ],
      "text/plain": [
       "               t  status        sex     logWBC    Rx\n",
       "count  21.000000    21.0  21.000000  21.000000  21.0\n",
       "mean    8.666667     1.0   0.476190   3.224286   1.0\n",
       "std     6.467869     0.0   0.511766   0.972279   0.0\n",
       "min     1.000000     1.0   0.000000   1.500000   1.0\n",
       "25%     4.000000     1.0   0.000000   2.420000   1.0\n",
       "50%     8.000000     1.0   0.000000   3.060000   1.0\n",
       "75%    12.000000     1.0   1.000000   3.970000   1.0\n",
       "max    23.000000     1.0   1.000000   5.000000   1.0"
      ]
     },
     "execution_count": 19,
     "metadata": {},
     "output_type": "execute_result"
    }
   ],
   "source": [
    "df_Rx1.describe()"
   ]
  },
  {
   "cell_type": "code",
   "execution_count": 20,
   "metadata": {},
   "outputs": [
    {
     "data": {
      "text/html": [
       "<div>\n",
       "<style scoped>\n",
       "    .dataframe tbody tr th:only-of-type {\n",
       "        vertical-align: middle;\n",
       "    }\n",
       "\n",
       "    .dataframe tbody tr th {\n",
       "        vertical-align: top;\n",
       "    }\n",
       "\n",
       "    .dataframe thead th {\n",
       "        text-align: right;\n",
       "    }\n",
       "</style>\n",
       "<table border=\"1\" class=\"dataframe\">\n",
       "  <thead>\n",
       "    <tr style=\"text-align: right;\">\n",
       "      <th></th>\n",
       "      <th>t</th>\n",
       "      <th>status</th>\n",
       "      <th>sex</th>\n",
       "      <th>logWBC</th>\n",
       "      <th>Rx</th>\n",
       "    </tr>\n",
       "  </thead>\n",
       "  <tbody>\n",
       "    <tr>\n",
       "      <th>count</th>\n",
       "      <td>12.000000</td>\n",
       "      <td>12.0</td>\n",
       "      <td>12.000000</td>\n",
       "      <td>12.000000</td>\n",
       "      <td>12.0</td>\n",
       "    </tr>\n",
       "    <tr>\n",
       "      <th>mean</th>\n",
       "      <td>20.833333</td>\n",
       "      <td>0.0</td>\n",
       "      <td>0.500000</td>\n",
       "      <td>2.245833</td>\n",
       "      <td>0.0</td>\n",
       "    </tr>\n",
       "    <tr>\n",
       "      <th>std</th>\n",
       "      <td>10.590161</td>\n",
       "      <td>0.0</td>\n",
       "      <td>0.522233</td>\n",
       "      <td>0.538153</td>\n",
       "      <td>0.0</td>\n",
       "    </tr>\n",
       "    <tr>\n",
       "      <th>min</th>\n",
       "      <td>6.000000</td>\n",
       "      <td>0.0</td>\n",
       "      <td>0.000000</td>\n",
       "      <td>1.450000</td>\n",
       "      <td>0.0</td>\n",
       "    </tr>\n",
       "    <tr>\n",
       "      <th>25%</th>\n",
       "      <td>10.750000</td>\n",
       "      <td>0.0</td>\n",
       "      <td>0.000000</td>\n",
       "      <td>1.952500</td>\n",
       "      <td>0.0</td>\n",
       "    </tr>\n",
       "    <tr>\n",
       "      <th>50%</th>\n",
       "      <td>19.500000</td>\n",
       "      <td>0.0</td>\n",
       "      <td>0.500000</td>\n",
       "      <td>2.180000</td>\n",
       "      <td>0.0</td>\n",
       "    </tr>\n",
       "    <tr>\n",
       "      <th>75%</th>\n",
       "      <td>32.000000</td>\n",
       "      <td>0.0</td>\n",
       "      <td>1.000000</td>\n",
       "      <td>2.625000</td>\n",
       "      <td>0.0</td>\n",
       "    </tr>\n",
       "    <tr>\n",
       "      <th>max</th>\n",
       "      <td>35.000000</td>\n",
       "      <td>0.0</td>\n",
       "      <td>1.000000</td>\n",
       "      <td>3.200000</td>\n",
       "      <td>0.0</td>\n",
       "    </tr>\n",
       "  </tbody>\n",
       "</table>\n",
       "</div>"
      ],
      "text/plain": [
       "               t  status        sex     logWBC    Rx\n",
       "count  12.000000    12.0  12.000000  12.000000  12.0\n",
       "mean   20.833333     0.0   0.500000   2.245833   0.0\n",
       "std    10.590161     0.0   0.522233   0.538153   0.0\n",
       "min     6.000000     0.0   0.000000   1.450000   0.0\n",
       "25%    10.750000     0.0   0.000000   1.952500   0.0\n",
       "50%    19.500000     0.0   0.500000   2.180000   0.0\n",
       "75%    32.000000     0.0   1.000000   2.625000   0.0\n",
       "max    35.000000     0.0   1.000000   3.200000   0.0"
      ]
     },
     "execution_count": 20,
     "metadata": {},
     "output_type": "execute_result"
    }
   ],
   "source": [
    "df_status0 = df.query(\"status==0\")\n",
    "df_status1 = df.query(\"status==1\")\n",
    "df_status0.describe()"
   ]
  },
  {
   "cell_type": "code",
   "execution_count": 21,
   "metadata": {},
   "outputs": [
    {
     "data": {
      "text/html": [
       "<div>\n",
       "<style scoped>\n",
       "    .dataframe tbody tr th:only-of-type {\n",
       "        vertical-align: middle;\n",
       "    }\n",
       "\n",
       "    .dataframe tbody tr th {\n",
       "        vertical-align: top;\n",
       "    }\n",
       "\n",
       "    .dataframe thead th {\n",
       "        text-align: right;\n",
       "    }\n",
       "</style>\n",
       "<table border=\"1\" class=\"dataframe\">\n",
       "  <thead>\n",
       "    <tr style=\"text-align: right;\">\n",
       "      <th></th>\n",
       "      <th>t</th>\n",
       "      <th>status</th>\n",
       "      <th>sex</th>\n",
       "      <th>logWBC</th>\n",
       "      <th>Rx</th>\n",
       "    </tr>\n",
       "  </thead>\n",
       "  <tbody>\n",
       "    <tr>\n",
       "      <th>count</th>\n",
       "      <td>30.000000</td>\n",
       "      <td>30.0</td>\n",
       "      <td>30.000000</td>\n",
       "      <td>30.000000</td>\n",
       "      <td>30.000000</td>\n",
       "    </tr>\n",
       "    <tr>\n",
       "      <th>mean</th>\n",
       "      <td>9.700000</td>\n",
       "      <td>1.0</td>\n",
       "      <td>0.466667</td>\n",
       "      <td>3.204000</td>\n",
       "      <td>0.700000</td>\n",
       "    </tr>\n",
       "    <tr>\n",
       "      <th>std</th>\n",
       "      <td>6.659968</td>\n",
       "      <td>0.0</td>\n",
       "      <td>0.507416</td>\n",
       "      <td>0.899439</td>\n",
       "      <td>0.466092</td>\n",
       "    </tr>\n",
       "    <tr>\n",
       "      <th>min</th>\n",
       "      <td>1.000000</td>\n",
       "      <td>1.0</td>\n",
       "      <td>0.000000</td>\n",
       "      <td>1.500000</td>\n",
       "      <td>0.000000</td>\n",
       "    </tr>\n",
       "    <tr>\n",
       "      <th>25%</th>\n",
       "      <td>5.000000</td>\n",
       "      <td>1.0</td>\n",
       "      <td>0.000000</td>\n",
       "      <td>2.457500</td>\n",
       "      <td>0.000000</td>\n",
       "    </tr>\n",
       "    <tr>\n",
       "      <th>50%</th>\n",
       "      <td>8.000000</td>\n",
       "      <td>1.0</td>\n",
       "      <td>0.000000</td>\n",
       "      <td>3.055000</td>\n",
       "      <td>1.000000</td>\n",
       "    </tr>\n",
       "    <tr>\n",
       "      <th>75%</th>\n",
       "      <td>12.750000</td>\n",
       "      <td>1.0</td>\n",
       "      <td>1.000000</td>\n",
       "      <td>3.877500</td>\n",
       "      <td>1.000000</td>\n",
       "    </tr>\n",
       "    <tr>\n",
       "      <th>max</th>\n",
       "      <td>23.000000</td>\n",
       "      <td>1.0</td>\n",
       "      <td>1.000000</td>\n",
       "      <td>5.000000</td>\n",
       "      <td>1.000000</td>\n",
       "    </tr>\n",
       "  </tbody>\n",
       "</table>\n",
       "</div>"
      ],
      "text/plain": [
       "               t  status        sex     logWBC         Rx\n",
       "count  30.000000    30.0  30.000000  30.000000  30.000000\n",
       "mean    9.700000     1.0   0.466667   3.204000   0.700000\n",
       "std     6.659968     0.0   0.507416   0.899439   0.466092\n",
       "min     1.000000     1.0   0.000000   1.500000   0.000000\n",
       "25%     5.000000     1.0   0.000000   2.457500   0.000000\n",
       "50%     8.000000     1.0   0.000000   3.055000   1.000000\n",
       "75%    12.750000     1.0   1.000000   3.877500   1.000000\n",
       "max    23.000000     1.0   1.000000   5.000000   1.000000"
      ]
     },
     "execution_count": 21,
     "metadata": {},
     "output_type": "execute_result"
    }
   ],
   "source": [
    "df_status1.describe()"
   ]
  },
  {
   "cell_type": "markdown",
   "metadata": {},
   "source": [
    "### 分布を箱ひげ図で確認\n",
    "箱ひげ図を使用することで値の集中が確認できる。"
   ]
  },
  {
   "cell_type": "code",
   "execution_count": 22,
   "metadata": {},
   "outputs": [
    {
     "data": {
      "image/png": "[encoded data removed]",
      "text/plain": [
       "<Figure size 432x288 with 1 Axes>"
      ]
     },
     "metadata": {
      "needs_background": "light"
     },
     "output_type": "display_data"
    }
   ],
   "source": [
    "plt.boxplot([df_Rx0[\"logWBC\"], df_Rx1[\"logWBC\"]], labels=[\"Rx=0\", \"Rx=1\"])\n",
    "plt.show()"
   ]
  },
  {
   "cell_type": "code",
   "execution_count": 23,
   "metadata": {},
   "outputs": [
    {
     "name": "stderr",
     "output_type": "stream",
     "text": [
      "C:\\Users\\decar\\Anaconda3\\lib\\site-packages\\matplotlib\\cbook\\__init__.py:1420: VisibleDeprecationWarning: Creating an ndarray from ragged nested sequences (which is a list-or-tuple of lists-or-tuples-or ndarrays with different lengths or shapes) is deprecated. If you meant to do this, you must specify 'dtype=object' when creating the ndarray.\n",
      "  X = np.atleast_1d(X.T if isinstance(X, np.ndarray) else np.asarray(X))\n"
     ]
    },
    {
     "data": {
      "image/png": "[encoded data removed]",
      "text/plain": [
       "<Figure size 432x288 with 1 Axes>"
      ]
     },
     "metadata": {
      "needs_background": "light"
     },
     "output_type": "display_data"
    }
   ],
   "source": [
    "plt.boxplot([df_sex0[\"logWBC\"], df_sex1[\"logWBC\"]], labels=[\"sex=0\", \"sex=1\"])\n",
    "plt.show()"
   ]
  },
  {
   "cell_type": "code",
   "execution_count": 24,
   "metadata": {
    "scrolled": true
   },
   "outputs": [
    {
     "name": "stderr",
     "output_type": "stream",
     "text": [
      "C:\\Users\\decar\\Anaconda3\\lib\\site-packages\\matplotlib\\cbook\\__init__.py:1420: VisibleDeprecationWarning: Creating an ndarray from ragged nested sequences (which is a list-or-tuple of lists-or-tuples-or ndarrays with different lengths or shapes) is deprecated. If you meant to do this, you must specify 'dtype=object' when creating the ndarray.\n",
      "  X = np.atleast_1d(X.T if isinstance(X, np.ndarray) else np.asarray(X))\n"
     ]
    },
    {
     "data": {
      "image/png": "[encoded data removed]",
      "text/plain": [
       "<Figure size 432x288 with 1 Axes>"
      ]
     },
     "metadata": {
      "needs_background": "light"
     },
     "output_type": "display_data"
    }
   ],
   "source": [
    "plt.boxplot([df_status0[\"logWBC\"], df_status1[\"logWBC\"]], labels=[\"status=0\", \"status=1\"])\n",
    "plt.show()"
   ]
  },
  {
   "cell_type": "markdown",
   "metadata": {},
   "source": [
    "その他にもヒストグラムを使用してデータの詳細な分布を見ることもできるが、分割する数に注意が必要。\n",
    "### T検定\n",
    "また、2変数間で平均値に差があるかを検証する時は対応のないT検定を使用する。"
   ]
  },
  {
   "cell_type": "code",
   "execution_count": 25,
   "metadata": {},
   "outputs": [
    {
     "name": "stdout",
     "output_type": "stream",
     "text": [
      "p-value col is Rx, values is logWBC\n",
      "0.04\n",
      "p-value col is status, values is logWBC\n",
      "0.00\n",
      "p-value col is sex, values is logWBC\n",
      "0.50\n"
     ]
    }
   ],
   "source": [
    "columns = [\"Rx\", \"status\", \"sex\"]\n",
    "for col in columns:\n",
    "    print(\"p-value col is %s, values is logWBC\"%(col))\n",
    "    xa = df.query(\"%s==0\"%(col))[\"logWBC\"]\n",
    "    xb = df.query(\"%s==1\"%(col))[\"logWBC\"]\n",
    "    f, p = stats.bartlett(xa, xb)\n",
    "    if (2 * p) <= 0.05:\n",
    "        t, p = stats.ttest_ind(xa, xb, equal_var=False)\n",
    "    else:\n",
    "        t, p = stats.ttest_ind(xa, xb, equal_var=True)\n",
    "    print(\"%.2f\"%(p))"
   ]
  },
  {
   "cell_type": "markdown",
   "metadata": {},
   "source": [
    "statusとRxについて値が異なることでそれぞれlogWBCについて有意差が現れていることが分かる。また、性別はlogWBCに対して有意差があるとは言えないことが分かる。\n",
    "\n",
    "※ただしstatusは最終的な「結果」であるため因果関係としてはlogWBC→statusとなる"
   ]
  },
  {
   "cell_type": "markdown",
   "metadata": {},
   "source": [
    "### 数量化理論Ⅰ類\n",
    "logWBCを量的な結果系変数として他を質的な結果系変数とすることで重回帰分析で数量化理論Ⅰ類が使える。"
   ]
  },
  {
   "cell_type": "code",
   "execution_count": 26,
   "metadata": {},
   "outputs": [
    {
     "data": {
      "text/html": [
       "<div>\n",
       "<style scoped>\n",
       "    .dataframe tbody tr th:only-of-type {\n",
       "        vertical-align: middle;\n",
       "    }\n",
       "\n",
       "    .dataframe tbody tr th {\n",
       "        vertical-align: top;\n",
       "    }\n",
       "\n",
       "    .dataframe thead th {\n",
       "        text-align: right;\n",
       "    }\n",
       "</style>\n",
       "<table border=\"1\" class=\"dataframe\">\n",
       "  <thead>\n",
       "    <tr style=\"text-align: right;\">\n",
       "      <th></th>\n",
       "      <th>status</th>\n",
       "      <th>sex</th>\n",
       "      <th>logWBC</th>\n",
       "      <th>Rx</th>\n",
       "    </tr>\n",
       "  </thead>\n",
       "  <tbody>\n",
       "    <tr>\n",
       "      <th>0</th>\n",
       "      <td>0</td>\n",
       "      <td>1</td>\n",
       "      <td>1.45</td>\n",
       "      <td>0</td>\n",
       "    </tr>\n",
       "    <tr>\n",
       "      <th>1</th>\n",
       "      <td>0</td>\n",
       "      <td>1</td>\n",
       "      <td>1.47</td>\n",
       "      <td>0</td>\n",
       "    </tr>\n",
       "    <tr>\n",
       "      <th>2</th>\n",
       "      <td>0</td>\n",
       "      <td>1</td>\n",
       "      <td>2.20</td>\n",
       "      <td>0</td>\n",
       "    </tr>\n",
       "    <tr>\n",
       "      <th>3</th>\n",
       "      <td>0</td>\n",
       "      <td>1</td>\n",
       "      <td>2.53</td>\n",
       "      <td>0</td>\n",
       "    </tr>\n",
       "    <tr>\n",
       "      <th>4</th>\n",
       "      <td>0</td>\n",
       "      <td>1</td>\n",
       "      <td>1.78</td>\n",
       "      <td>0</td>\n",
       "    </tr>\n",
       "  </tbody>\n",
       "</table>\n",
       "</div>"
      ],
      "text/plain": [
       "   status  sex  logWBC  Rx\n",
       "0       0    1    1.45   0\n",
       "1       0    1    1.47   0\n",
       "2       0    1    2.20   0\n",
       "3       0    1    2.53   0\n",
       "4       0    1    1.78   0"
      ]
     },
     "execution_count": 26,
     "metadata": {},
     "output_type": "execute_result"
    }
   ],
   "source": [
    "df_09 = df.drop([\"t\"], axis=1)\n",
    "df_09.head()"
   ]
  },
  {
   "cell_type": "code",
   "execution_count": 27,
   "metadata": {},
   "outputs": [
    {
     "data": {
      "text/html": [
       "<table class=\"simpletable\">\n",
       "<caption>OLS Regression Results</caption>\n",
       "<tr>\n",
       "  <th>Dep. Variable:</th>         <td>logWBC</td>      <th>  R-squared:         </th> <td>   0.244</td>\n",
       "</tr>\n",
       "<tr>\n",
       "  <th>Model:</th>                   <td>OLS</td>       <th>  Adj. R-squared:    </th> <td>   0.184</td>\n",
       "</tr>\n",
       "<tr>\n",
       "  <th>Method:</th>             <td>Least Squares</td>  <th>  F-statistic:       </th> <td>   4.090</td>\n",
       "</tr>\n",
       "<tr>\n",
       "  <th>Date:</th>             <td>Sat, 18 Mar 2023</td> <th>  Prob (F-statistic):</th>  <td>0.0131</td> \n",
       "</tr>\n",
       "<tr>\n",
       "  <th>Time:</th>                 <td>12:05:35</td>     <th>  Log-Likelihood:    </th> <td> -49.598</td>\n",
       "</tr>\n",
       "<tr>\n",
       "  <th>No. Observations:</th>      <td>    42</td>      <th>  AIC:               </th> <td>   107.2</td>\n",
       "</tr>\n",
       "<tr>\n",
       "  <th>Df Residuals:</th>          <td>    38</td>      <th>  BIC:               </th> <td>   114.1</td>\n",
       "</tr>\n",
       "<tr>\n",
       "  <th>Df Model:</th>              <td>     3</td>      <th>                     </th>     <td> </td>   \n",
       "</tr>\n",
       "<tr>\n",
       "  <th>Covariance Type:</th>      <td>nonrobust</td>    <th>                     </th>     <td> </td>   \n",
       "</tr>\n",
       "</table>\n",
       "<table class=\"simpletable\">\n",
       "<tr>\n",
       "     <td></td>       <th>coef</th>     <th>std err</th>      <th>t</th>      <th>P>|t|</th>  <th>[0.025</th>    <th>0.975]</th>  \n",
       "</tr>\n",
       "<tr>\n",
       "  <th>const</th>  <td>    2.1337</td> <td>    0.271</td> <td>    7.863</td> <td> 0.000</td> <td>    1.584</td> <td>    2.683</td>\n",
       "</tr>\n",
       "<tr>\n",
       "  <th>status</th> <td>    0.9233</td> <td>    0.366</td> <td>    2.525</td> <td> 0.016</td> <td>    0.183</td> <td>    1.664</td>\n",
       "</tr>\n",
       "<tr>\n",
       "  <th>sex</th>    <td>    0.2242</td> <td>    0.256</td> <td>    0.875</td> <td> 0.387</td> <td>   -0.294</td> <td>    0.743</td>\n",
       "</tr>\n",
       "<tr>\n",
       "  <th>Rx</th>     <td>    0.0605</td> <td>    0.330</td> <td>    0.183</td> <td> 0.856</td> <td>   -0.608</td> <td>    0.729</td>\n",
       "</tr>\n",
       "</table>\n",
       "<table class=\"simpletable\">\n",
       "<tr>\n",
       "  <th>Omnibus:</th>       <td> 0.885</td> <th>  Durbin-Watson:     </th> <td>   1.453</td>\n",
       "</tr>\n",
       "<tr>\n",
       "  <th>Prob(Omnibus):</th> <td> 0.643</td> <th>  Jarque-Bera (JB):  </th> <td>   0.889</td>\n",
       "</tr>\n",
       "<tr>\n",
       "  <th>Skew:</th>          <td> 0.178</td> <th>  Prob(JB):          </th> <td>   0.641</td>\n",
       "</tr>\n",
       "<tr>\n",
       "  <th>Kurtosis:</th>      <td> 2.383</td> <th>  Cond. No.          </th> <td>    5.35</td>\n",
       "</tr>\n",
       "</table><br/><br/>Notes:<br/>[1] Standard Errors assume that the covariance matrix of the errors is correctly specified."
      ],
      "text/plain": [
       "<class 'statsmodels.iolib.summary.Summary'>\n",
       "\"\"\"\n",
       "                            OLS Regression Results                            \n",
       "==============================================================================\n",
       "Dep. Variable:                 logWBC   R-squared:                       0.244\n",
       "Model:                            OLS   Adj. R-squared:                  0.184\n",
       "Method:                 Least Squares   F-statistic:                     4.090\n",
       "Date:                Sat, 18 Mar 2023   Prob (F-statistic):             0.0131\n",
       "Time:                        12:05:35   Log-Likelihood:                -49.598\n",
       "No. Observations:                  42   AIC:                             107.2\n",
       "Df Residuals:                      38   BIC:                             114.1\n",
       "Df Model:                           3                                         \n",
       "Covariance Type:            nonrobust                                         \n",
       "==============================================================================\n",
       "                 coef    std err          t      P>|t|      [0.025      0.975]\n",
       "------------------------------------------------------------------------------\n",
       "const          2.1337      0.271      7.863      0.000       1.584       2.683\n",
       "status         0.9233      0.366      2.525      0.016       0.183       1.664\n",
       "sex            0.2242      0.256      0.875      0.387      -0.294       0.743\n",
       "Rx             0.0605      0.330      0.183      0.856      -0.608       0.729\n",
       "==============================================================================\n",
       "Omnibus:                        0.885   Durbin-Watson:                   1.453\n",
       "Prob(Omnibus):                  0.643   Jarque-Bera (JB):                0.889\n",
       "Skew:                           0.178   Prob(JB):                        0.641\n",
       "Kurtosis:                       2.383   Cond. No.                         5.35\n",
       "==============================================================================\n",
       "\n",
       "Notes:\n",
       "[1] Standard Errors assume that the covariance matrix of the errors is correctly specified.\n",
       "\"\"\""
      ]
     },
     "execution_count": 27,
     "metadata": {},
     "output_type": "execute_result"
    }
   ],
   "source": [
    "X = sm.add_constant(df_09.drop(\"logWBC\", axis=1))\n",
    "model = sm.OLS(df_09[\"logWBC\"], X).fit()\n",
    "model.summary()"
   ]
  },
  {
   "cell_type": "markdown",
   "metadata": {},
   "source": [
    "### 直行表の分析\n",
    "logWBCを評価値として考えることでDoEの直行表のように分析でき、評価値と分析対象の変数と質的な値に対して交絡する因子を考慮したデータの分布と平均値が得られる。"
   ]
  },
  {
   "cell_type": "code",
   "execution_count": 28,
   "metadata": {},
   "outputs": [],
   "source": [
    "columns = [\"Rx\", \"sex\", \"status\"]\n",
    "vals = []\n",
    "name1 = []\n",
    "cnt = []\n",
    "count = 0\n",
    "for col in columns:\n",
    "    tmp = []\n",
    "    name = []\n",
    "    tmpc = []\n",
    "    value = list(set(df[col].values))\n",
    "    for val in value:\n",
    "        df_q = df_09.query(\"%s==%d\"%(col, val))\n",
    "        tmp.append(df_q[\"logWBC\"].values.tolist())\n",
    "        name.append(col+\"_\"+str(val))\n",
    "        tmpc.append(count)\n",
    "        count = count + 1\n",
    "    vals.append(tmp)\n",
    "    name1.append(name)\n",
    "    cnt.append(tmpc)"
   ]
  },
  {
   "cell_type": "code",
   "execution_count": 29,
   "metadata": {},
   "outputs": [
    {
     "name": "stderr",
     "output_type": "stream",
     "text": [
      "C:\\Users\\decar\\Anaconda3\\lib\\site-packages\\matplotlib\\cbook\\__init__.py:1420: VisibleDeprecationWarning: Creating an ndarray from ragged nested sequences (which is a list-or-tuple of lists-or-tuples-or ndarrays with different lengths or shapes) is deprecated. If you meant to do this, you must specify 'dtype=object' when creating the ndarray.\n",
      "  X = np.atleast_1d(X.T if isinstance(X, np.ndarray) else np.asarray(X))\n",
      "C:\\Users\\decar\\Anaconda3\\lib\\site-packages\\matplotlib\\cbook\\__init__.py:1420: VisibleDeprecationWarning: Creating an ndarray from ragged nested sequences (which is a list-or-tuple of lists-or-tuples-or ndarrays with different lengths or shapes) is deprecated. If you meant to do this, you must specify 'dtype=object' when creating the ndarray.\n",
      "  X = np.atleast_1d(X.T if isinstance(X, np.ndarray) else np.asarray(X))\n"
     ]
    },
    {
     "data": {
      "image/png": "[encoded data removed]",
      "text/plain": [
       "<Figure size 432x288 with 1 Axes>"
      ]
     },
     "metadata": {
      "needs_background": "light"
     },
     "output_type": "display_data"
    },
    {
     "name": "stdout",
     "output_type": "stream",
     "text": [
      "Rx_1 - Rx_0 = 0.59\n",
      "sex_1 - sex_0 = 0.20\n",
      "status_1 - status_0 = 0.96\n"
     ]
    }
   ],
   "source": [
    "count = 0\n",
    "for i in range(len(vals)):\n",
    "    plt.boxplot(vals[i], positions=cnt[i], labels=name1[i])\n",
    "    ave = []\n",
    "    for j in range(len(vals[i])):\n",
    "        ave.append(sum(vals[i][j])/len(vals[i][j]))\n",
    "    plt.plot(cnt[i], ave, marker=\"x\")\n",
    "plt.show()\n",
    "print(\"Rx_1 - Rx_0 = %.2f\"%(df_Rx1[\"logWBC\"].mean()-df_Rx0[\"logWBC\"].mean()))\n",
    "print(\"sex_1 - sex_0 = %.2f\"%(df_sex1[\"logWBC\"].mean()-df_sex0[\"logWBC\"].mean()))\n",
    "print(\"status_1 - status_0 = %.2f\"%(df_status1[\"logWBC\"].mean()-df_status0[\"logWBC\"].mean()))"
   ]
  },
  {
   "cell_type": "markdown",
   "metadata": {},
   "source": [
    "この結果から因果関係としてRxがlogWBCに影響を与えていることが分かる。また、sex(性別)の影響は他と比べて少ない。\n",
    "\n",
    "※ここで、statusは結果となっているため原因と結果を間違えないように。"
   ]
  },
  {
   "cell_type": "markdown",
   "metadata": {},
   "source": [
    "### 効果有りと効果無しに投与群とプラセボ群における因果推論\n",
    "結果的に効果があった群と効果がなかった群でデータを分けて、それぞれで投与群とプラセボ群におけるlogWBCの平均値の差を確認する。"
   ]
  },
  {
   "cell_type": "code",
   "execution_count": 30,
   "metadata": {},
   "outputs": [],
   "source": [
    "df_status1_Rx1 = df_status1.query(\"Rx==1\")\n",
    "df_status1_Rx0 = df_status1.query(\"Rx==0\")\n",
    "df_status0_Rx1 = df_status0.query(\"Rx==1\")\n",
    "df_status0_Rx0 = df_status0.query(\"Rx==0\")"
   ]
  },
  {
   "cell_type": "code",
   "execution_count": 31,
   "metadata": {},
   "outputs": [
    {
     "name": "stdout",
     "output_type": "stream",
     "text": [
      "効果があった群で投与群とプラセボ群の効果の差\n",
      "0.07\n"
     ]
    }
   ],
   "source": [
    "print(\"効果があった群で投与群とプラセボ群の効果の差\\n%.2f\"%(df_status1_Rx1[\"logWBC\"].mean()-df_status1_Rx0[\"logWBC\"].mean()))"
   ]
  },
  {
   "cell_type": "code",
   "execution_count": 32,
   "metadata": {},
   "outputs": [
    {
     "name": "stdout",
     "output_type": "stream",
     "text": [
      "効果が無かった群で投与群とプラセボ群の効果の差\n",
      "nan\n"
     ]
    }
   ],
   "source": [
    "print(\"効果が無かった群で投与群とプラセボ群の効果の差\\n%.2f\"%(df_status0_Rx1[\"logWBC\"].mean()-df_status0_Rx0[\"logWBC\"].mean()))"
   ]
  },
  {
   "cell_type": "code",
   "execution_count": 33,
   "metadata": {},
   "outputs": [],
   "source": [
    "df_Rx1_status1 = df_Rx1.query(\"status==1\")\n",
    "df_Rx1_status0 = df_Rx1.query(\"status==0\")\n",
    "df_Rx0_status1 = df_Rx0.query(\"status==1\")\n",
    "df_Rx0_status0 = df_Rx0.query(\"status==0\")"
   ]
  },
  {
   "cell_type": "code",
   "execution_count": 34,
   "metadata": {},
   "outputs": [
    {
     "name": "stdout",
     "output_type": "stream",
     "text": [
      "投与群で効果別の差\n",
      "nan\n"
     ]
    }
   ],
   "source": [
    "print(\"投与群で効果別の差\\n%.2f\"%(df_Rx1_status1[\"logWBC\"].mean()-df_Rx1_status0[\"logWBC\"].mean()))"
   ]
  },
  {
   "cell_type": "code",
   "execution_count": 35,
   "metadata": {},
   "outputs": [
    {
     "name": "stdout",
     "output_type": "stream",
     "text": [
      "プラセボ群で効果別の差\n",
      "0.91\n"
     ]
    }
   ],
   "source": [
    "print(\"プラセボ群で効果別の差\\n%.2f\"%(df_Rx0_status1[\"logWBC\"].mean()-df_Rx0_status0[\"logWBC\"].mean()))"
   ]
  },
  {
   "cell_type": "markdown",
   "metadata": {},
   "source": [
    "効果については無かった群だと片方のデータのレコードが無いため計算ができなかったが、効果があった群では投与群とプラセボ群で平均的に0.91の差がある事が分かった。\n",
    "\n",
    "また、投与群では片方のデータのレコードが無いため計算ができなかったが、プラセボ群では効果別にlogWBCに対して0.91の差がある事が分かった。\n",
    "\n",
    "ここで、Rxとstatusのクロス集計表からデータが無いものはstatusが1でRxが0のデータフレームであることがわかる。そのため、単体で効果を確認すると20.83となっている。"
   ]
  },
  {
   "cell_type": "markdown",
   "metadata": {},
   "source": [
    "## 原因が量的変数で結果が量的変数の場合\n",
    "原因系変数も結果系変数も共に量的変数である場合は回帰係数などを使用して因果関係を明らかにする。ただし、係数がどの程度適合しているかを検証するために決定係数と自由度調整済み決定係数も見る。\n",
    "\n",
    "ここではlogWBCについて影響する項目について考察する。\n",
    "\n",
    "### 原因系変数が1つの場合"
   ]
  },
  {
   "cell_type": "code",
   "execution_count": 36,
   "metadata": {},
   "outputs": [
    {
     "data": {
      "image/png": "[encoded data removed]",
      "text/plain": [
       "<Figure size 432x288 with 1 Axes>"
      ]
     },
     "metadata": {
      "needs_background": "light"
     },
     "output_type": "display_data"
    }
   ],
   "source": [
    "plt.scatter(df[\"t\"], df[\"logWBC\"])\n",
    "plt.ylabel(\"logWBC\")\n",
    "plt.xlabel(\"time\")\n",
    "plt.title(\"corrcoef=%.2f\"%(np.corrcoef(df[\"t\"].values, df[\"logWBC\"].values)[0][1]))\n",
    "plt.show()"
   ]
  },
  {
   "cell_type": "code",
   "execution_count": 37,
   "metadata": {},
   "outputs": [],
   "source": [
    "model1 = LinearRegression()\n",
    "model1.fit(df[\"t\"].values.reshape(-1, 1), df[\"logWBC\"])\n",
    "y_pred1 = model1.predict(df[\"t\"].values.reshape(-1, 1))\n",
    "a = model1.coef_[0]\n",
    "b = model1.intercept_\n",
    "R2 = r2_score(df[\"logWBC\"], y_pred1)"
   ]
  },
  {
   "cell_type": "code",
   "execution_count": 38,
   "metadata": {},
   "outputs": [
    {
     "data": {
      "image/png": "[encoded data removed]",
      "text/plain": [
       "<Figure size 432x288 with 1 Axes>"
      ]
     },
     "metadata": {
      "needs_background": "light"
     },
     "output_type": "display_data"
    }
   ],
   "source": [
    "plt.scatter(df[\"t\"], df[\"logWBC\"])\n",
    "plt.plot(df[\"t\"], y_pred1)\n",
    "plt.ylabel(\"logWBC\")\n",
    "plt.xlabel(\"time\")\n",
    "plt.title(\"y=%.2fx+%.2f, R2=%.2f\"%(a, b, R2))\n",
    "plt.show()"
   ]
  },
  {
   "cell_type": "markdown",
   "metadata": {},
   "source": [
    "### 原因系変数が複数の場合"
   ]
  },
  {
   "cell_type": "code",
   "execution_count": 39,
   "metadata": {},
   "outputs": [
    {
     "data": {
      "text/html": [
       "<table class=\"simpletable\">\n",
       "<caption>OLS Regression Results</caption>\n",
       "<tr>\n",
       "  <th>Dep. Variable:</th>         <td>logWBC</td>      <th>  R-squared:         </th> <td>   0.557</td>\n",
       "</tr>\n",
       "<tr>\n",
       "  <th>Model:</th>                   <td>OLS</td>       <th>  Adj. R-squared:    </th> <td>   0.510</td>\n",
       "</tr>\n",
       "<tr>\n",
       "  <th>Method:</th>             <td>Least Squares</td>  <th>  F-statistic:       </th> <td>   11.65</td>\n",
       "</tr>\n",
       "<tr>\n",
       "  <th>Date:</th>             <td>Sat, 18 Mar 2023</td> <th>  Prob (F-statistic):</th> <td>3.19e-06</td>\n",
       "</tr>\n",
       "<tr>\n",
       "  <th>Time:</th>                 <td>12:05:36</td>     <th>  Log-Likelihood:    </th> <td> -38.353</td>\n",
       "</tr>\n",
       "<tr>\n",
       "  <th>No. Observations:</th>      <td>    42</td>      <th>  AIC:               </th> <td>   86.71</td>\n",
       "</tr>\n",
       "<tr>\n",
       "  <th>Df Residuals:</th>          <td>    37</td>      <th>  BIC:               </th> <td>   95.40</td>\n",
       "</tr>\n",
       "<tr>\n",
       "  <th>Df Model:</th>              <td>     4</td>      <th>                     </th>     <td> </td>   \n",
       "</tr>\n",
       "<tr>\n",
       "  <th>Covariance Type:</th>      <td>nonrobust</td>    <th>                     </th>     <td> </td>   \n",
       "</tr>\n",
       "</table>\n",
       "<table class=\"simpletable\">\n",
       "<tr>\n",
       "     <td></td>       <th>coef</th>     <th>std err</th>      <th>t</th>      <th>P>|t|</th>  <th>[0.025</th>    <th>0.975]</th>  \n",
       "</tr>\n",
       "<tr>\n",
       "  <th>const</th>  <td>    3.4360</td> <td>    0.330</td> <td>   10.408</td> <td> 0.000</td> <td>    2.767</td> <td>    4.105</td>\n",
       "</tr>\n",
       "<tr>\n",
       "  <th>t</th>      <td>   -0.0685</td> <td>    0.013</td> <td>   -5.119</td> <td> 0.000</td> <td>   -0.096</td> <td>   -0.041</td>\n",
       "</tr>\n",
       "<tr>\n",
       "  <th>status</th> <td>    0.3399</td> <td>    0.306</td> <td>    1.112</td> <td> 0.273</td> <td>   -0.279</td> <td>    0.959</td>\n",
       "</tr>\n",
       "<tr>\n",
       "  <th>sex</th>    <td>    0.4722</td> <td>    0.204</td> <td>    2.309</td> <td> 0.027</td> <td>    0.058</td> <td>    0.887</td>\n",
       "</tr>\n",
       "<tr>\n",
       "  <th>Rx</th>     <td>   -0.1832</td> <td>    0.260</td> <td>   -0.703</td> <td> 0.486</td> <td>   -0.711</td> <td>    0.345</td>\n",
       "</tr>\n",
       "</table>\n",
       "<table class=\"simpletable\">\n",
       "<tr>\n",
       "  <th>Omnibus:</th>       <td> 0.957</td> <th>  Durbin-Watson:     </th> <td>   2.241</td>\n",
       "</tr>\n",
       "<tr>\n",
       "  <th>Prob(Omnibus):</th> <td> 0.620</td> <th>  Jarque-Bera (JB):  </th> <td>   0.879</td>\n",
       "</tr>\n",
       "<tr>\n",
       "  <th>Skew:</th>          <td>-0.332</td> <th>  Prob(JB):          </th> <td>   0.644</td>\n",
       "</tr>\n",
       "<tr>\n",
       "  <th>Kurtosis:</th>      <td> 2.751</td> <th>  Cond. No.          </th> <td>    66.1</td>\n",
       "</tr>\n",
       "</table><br/><br/>Notes:<br/>[1] Standard Errors assume that the covariance matrix of the errors is correctly specified."
      ],
      "text/plain": [
       "<class 'statsmodels.iolib.summary.Summary'>\n",
       "\"\"\"\n",
       "                            OLS Regression Results                            \n",
       "==============================================================================\n",
       "Dep. Variable:                 logWBC   R-squared:                       0.557\n",
       "Model:                            OLS   Adj. R-squared:                  0.510\n",
       "Method:                 Least Squares   F-statistic:                     11.65\n",
       "Date:                Sat, 18 Mar 2023   Prob (F-statistic):           3.19e-06\n",
       "Time:                        12:05:36   Log-Likelihood:                -38.353\n",
       "No. Observations:                  42   AIC:                             86.71\n",
       "Df Residuals:                      37   BIC:                             95.40\n",
       "Df Model:                           4                                         \n",
       "Covariance Type:            nonrobust                                         \n",
       "==============================================================================\n",
       "                 coef    std err          t      P>|t|      [0.025      0.975]\n",
       "------------------------------------------------------------------------------\n",
       "const          3.4360      0.330     10.408      0.000       2.767       4.105\n",
       "t             -0.0685      0.013     -5.119      0.000      -0.096      -0.041\n",
       "status         0.3399      0.306      1.112      0.273      -0.279       0.959\n",
       "sex            0.4722      0.204      2.309      0.027       0.058       0.887\n",
       "Rx            -0.1832      0.260     -0.703      0.486      -0.711       0.345\n",
       "==============================================================================\n",
       "Omnibus:                        0.957   Durbin-Watson:                   2.241\n",
       "Prob(Omnibus):                  0.620   Jarque-Bera (JB):                0.879\n",
       "Skew:                          -0.332   Prob(JB):                        0.644\n",
       "Kurtosis:                       2.751   Cond. No.                         66.1\n",
       "==============================================================================\n",
       "\n",
       "Notes:\n",
       "[1] Standard Errors assume that the covariance matrix of the errors is correctly specified.\n",
       "\"\"\""
      ]
     },
     "execution_count": 39,
     "metadata": {},
     "output_type": "execute_result"
    }
   ],
   "source": [
    "X2 = sm.add_constant(df.drop(\"logWBC\", axis=1))\n",
    "model2 = sm.OLS(df[\"logWBC\"], X2).fit()\n",
    "model2.summary()"
   ]
  },
  {
   "cell_type": "markdown",
   "metadata": {},
   "source": [
    "#### 多重共線性の確認\n",
    "多重共線性についてp値および相関ならびに自由度調整済み決定係数から考える。ここで、変数選択をすることで擬相関を考慮した上での因果関係を考える。"
   ]
  },
  {
   "cell_type": "code",
   "execution_count": 40,
   "metadata": {},
   "outputs": [
    {
     "data": {
      "text/html": [
       "<div>\n",
       "<style scoped>\n",
       "    .dataframe tbody tr th:only-of-type {\n",
       "        vertical-align: middle;\n",
       "    }\n",
       "\n",
       "    .dataframe tbody tr th {\n",
       "        vertical-align: top;\n",
       "    }\n",
       "\n",
       "    .dataframe thead th {\n",
       "        text-align: right;\n",
       "    }\n",
       "</style>\n",
       "<table border=\"1\" class=\"dataframe\">\n",
       "  <thead>\n",
       "    <tr style=\"text-align: right;\">\n",
       "      <th></th>\n",
       "      <th>t</th>\n",
       "      <th>status</th>\n",
       "      <th>sex</th>\n",
       "      <th>logWBC</th>\n",
       "      <th>Rx</th>\n",
       "    </tr>\n",
       "  </thead>\n",
       "  <tbody>\n",
       "    <tr>\n",
       "      <th>t</th>\n",
       "      <td>1.000000</td>\n",
       "      <td>-0.544584</td>\n",
       "      <td>2.084431e-01</td>\n",
       "      <td>-0.689399</td>\n",
       "      <td>-4.563114e-01</td>\n",
       "    </tr>\n",
       "    <tr>\n",
       "      <th>status</th>\n",
       "      <td>-0.544584</td>\n",
       "      <td>1.000000</td>\n",
       "      <td>-3.015113e-02</td>\n",
       "      <td>0.477485</td>\n",
       "      <td>6.324555e-01</td>\n",
       "    </tr>\n",
       "    <tr>\n",
       "      <th>sex</th>\n",
       "      <td>0.208443</td>\n",
       "      <td>-0.030151</td>\n",
       "      <td>1.000000e+00</td>\n",
       "      <td>0.109659</td>\n",
       "      <td>-7.409893e-17</td>\n",
       "    </tr>\n",
       "    <tr>\n",
       "      <th>logWBC</th>\n",
       "      <td>-0.689399</td>\n",
       "      <td>0.477485</td>\n",
       "      <td>1.096593e-01</td>\n",
       "      <td>1.000000</td>\n",
       "      <td>3.243650e-01</td>\n",
       "    </tr>\n",
       "    <tr>\n",
       "      <th>Rx</th>\n",
       "      <td>-0.456311</td>\n",
       "      <td>0.632456</td>\n",
       "      <td>-7.409893e-17</td>\n",
       "      <td>0.324365</td>\n",
       "      <td>1.000000e+00</td>\n",
       "    </tr>\n",
       "  </tbody>\n",
       "</table>\n",
       "</div>"
      ],
      "text/plain": [
       "               t    status           sex    logWBC            Rx\n",
       "t       1.000000 -0.544584  2.084431e-01 -0.689399 -4.563114e-01\n",
       "status -0.544584  1.000000 -3.015113e-02  0.477485  6.324555e-01\n",
       "sex     0.208443 -0.030151  1.000000e+00  0.109659 -7.409893e-17\n",
       "logWBC -0.689399  0.477485  1.096593e-01  1.000000  3.243650e-01\n",
       "Rx     -0.456311  0.632456 -7.409893e-17  0.324365  1.000000e+00"
      ]
     },
     "execution_count": 40,
     "metadata": {},
     "output_type": "execute_result"
    }
   ],
   "source": [
    "df.corr()"
   ]
  },
  {
   "cell_type": "code",
   "execution_count": 41,
   "metadata": {},
   "outputs": [
    {
     "data": {
      "text/html": [
       "<table class=\"simpletable\">\n",
       "<caption>OLS Regression Results</caption>\n",
       "<tr>\n",
       "  <th>Dep. Variable:</th>         <td>logWBC</td>      <th>  R-squared:         </th> <td>   0.552</td>\n",
       "</tr>\n",
       "<tr>\n",
       "  <th>Model:</th>                   <td>OLS</td>       <th>  Adj. R-squared:    </th> <td>   0.516</td>\n",
       "</tr>\n",
       "<tr>\n",
       "  <th>Method:</th>             <td>Least Squares</td>  <th>  F-statistic:       </th> <td>   15.58</td>\n",
       "</tr>\n",
       "<tr>\n",
       "  <th>Date:</th>             <td>Sat, 18 Mar 2023</td> <th>  Prob (F-statistic):</th> <td>9.16e-07</td>\n",
       "</tr>\n",
       "<tr>\n",
       "  <th>Time:</th>                 <td>12:05:36</td>     <th>  Log-Likelihood:    </th> <td> -38.632</td>\n",
       "</tr>\n",
       "<tr>\n",
       "  <th>No. Observations:</th>      <td>    42</td>      <th>  AIC:               </th> <td>   85.26</td>\n",
       "</tr>\n",
       "<tr>\n",
       "  <th>Df Residuals:</th>          <td>    38</td>      <th>  BIC:               </th> <td>   92.22</td>\n",
       "</tr>\n",
       "<tr>\n",
       "  <th>Df Model:</th>              <td>     3</td>      <th>                     </th>     <td> </td>   \n",
       "</tr>\n",
       "<tr>\n",
       "  <th>Covariance Type:</th>      <td>nonrobust</td>    <th>                     </th>     <td> </td>   \n",
       "</tr>\n",
       "</table>\n",
       "<table class=\"simpletable\">\n",
       "<tr>\n",
       "     <td></td>       <th>coef</th>     <th>std err</th>      <th>t</th>      <th>P>|t|</th>  <th>[0.025</th>    <th>0.975]</th>  \n",
       "</tr>\n",
       "<tr>\n",
       "  <th>const</th>  <td>    3.4050</td> <td>    0.325</td> <td>   10.477</td> <td> 0.000</td> <td>    2.747</td> <td>    4.063</td>\n",
       "</tr>\n",
       "<tr>\n",
       "  <th>t</th>      <td>   -0.0667</td> <td>    0.013</td> <td>   -5.110</td> <td> 0.000</td> <td>   -0.093</td> <td>   -0.040</td>\n",
       "</tr>\n",
       "<tr>\n",
       "  <th>status</th> <td>    0.2305</td> <td>    0.261</td> <td>    0.882</td> <td> 0.383</td> <td>   -0.298</td> <td>    0.759</td>\n",
       "</tr>\n",
       "<tr>\n",
       "  <th>sex</th>    <td>    0.4626</td> <td>    0.203</td> <td>    2.283</td> <td> 0.028</td> <td>    0.052</td> <td>    0.873</td>\n",
       "</tr>\n",
       "</table>\n",
       "<table class=\"simpletable\">\n",
       "<tr>\n",
       "  <th>Omnibus:</th>       <td> 1.351</td> <th>  Durbin-Watson:     </th> <td>   2.256</td>\n",
       "</tr>\n",
       "<tr>\n",
       "  <th>Prob(Omnibus):</th> <td> 0.509</td> <th>  Jarque-Bera (JB):  </th> <td>   1.035</td>\n",
       "</tr>\n",
       "<tr>\n",
       "  <th>Skew:</th>          <td>-0.382</td> <th>  Prob(JB):          </th> <td>   0.596</td>\n",
       "</tr>\n",
       "<tr>\n",
       "  <th>Kurtosis:</th>      <td> 2.913</td> <th>  Cond. No.          </th> <td>    64.5</td>\n",
       "</tr>\n",
       "</table><br/><br/>Notes:<br/>[1] Standard Errors assume that the covariance matrix of the errors is correctly specified."
      ],
      "text/plain": [
       "<class 'statsmodels.iolib.summary.Summary'>\n",
       "\"\"\"\n",
       "                            OLS Regression Results                            \n",
       "==============================================================================\n",
       "Dep. Variable:                 logWBC   R-squared:                       0.552\n",
       "Model:                            OLS   Adj. R-squared:                  0.516\n",
       "Method:                 Least Squares   F-statistic:                     15.58\n",
       "Date:                Sat, 18 Mar 2023   Prob (F-statistic):           9.16e-07\n",
       "Time:                        12:05:36   Log-Likelihood:                -38.632\n",
       "No. Observations:                  42   AIC:                             85.26\n",
       "Df Residuals:                      38   BIC:                             92.22\n",
       "Df Model:                           3                                         \n",
       "Covariance Type:            nonrobust                                         \n",
       "==============================================================================\n",
       "                 coef    std err          t      P>|t|      [0.025      0.975]\n",
       "------------------------------------------------------------------------------\n",
       "const          3.4050      0.325     10.477      0.000       2.747       4.063\n",
       "t             -0.0667      0.013     -5.110      0.000      -0.093      -0.040\n",
       "status         0.2305      0.261      0.882      0.383      -0.298       0.759\n",
       "sex            0.4626      0.203      2.283      0.028       0.052       0.873\n",
       "==============================================================================\n",
       "Omnibus:                        1.351   Durbin-Watson:                   2.256\n",
       "Prob(Omnibus):                  0.509   Jarque-Bera (JB):                1.035\n",
       "Skew:                          -0.382   Prob(JB):                        0.596\n",
       "Kurtosis:                       2.913   Cond. No.                         64.5\n",
       "==============================================================================\n",
       "\n",
       "Notes:\n",
       "[1] Standard Errors assume that the covariance matrix of the errors is correctly specified.\n",
       "\"\"\""
      ]
     },
     "execution_count": 41,
     "metadata": {},
     "output_type": "execute_result"
    }
   ],
   "source": [
    "X3 = X2.drop(\"Rx\", axis=1)\n",
    "model3 = sm.OLS(df[\"logWBC\"], X3).fit()\n",
    "model3.summary()"
   ]
  },
  {
   "cell_type": "code",
   "execution_count": 42,
   "metadata": {},
   "outputs": [
    {
     "data": {
      "text/html": [
       "<table class=\"simpletable\">\n",
       "<caption>OLS Regression Results</caption>\n",
       "<tr>\n",
       "  <th>Dep. Variable:</th>         <td>logWBC</td>      <th>  R-squared:         </th> <td>   0.542</td>\n",
       "</tr>\n",
       "<tr>\n",
       "  <th>Model:</th>                   <td>OLS</td>       <th>  Adj. R-squared:    </th> <td>   0.519</td>\n",
       "</tr>\n",
       "<tr>\n",
       "  <th>Method:</th>             <td>Least Squares</td>  <th>  F-statistic:       </th> <td>   23.11</td>\n",
       "</tr>\n",
       "<tr>\n",
       "  <th>Date:</th>             <td>Sat, 18 Mar 2023</td> <th>  Prob (F-statistic):</th> <td>2.40e-07</td>\n",
       "</tr>\n",
       "<tr>\n",
       "  <th>Time:</th>                 <td>12:05:36</td>     <th>  Log-Likelihood:    </th> <td> -39.058</td>\n",
       "</tr>\n",
       "<tr>\n",
       "  <th>No. Observations:</th>      <td>    42</td>      <th>  AIC:               </th> <td>   84.12</td>\n",
       "</tr>\n",
       "<tr>\n",
       "  <th>Df Residuals:</th>          <td>    39</td>      <th>  BIC:               </th> <td>   89.33</td>\n",
       "</tr>\n",
       "<tr>\n",
       "  <th>Df Model:</th>              <td>     2</td>      <th>                     </th>     <td> </td>   \n",
       "</tr>\n",
       "<tr>\n",
       "  <th>Covariance Type:</th>      <td>nonrobust</td>    <th>                     </th>     <td> </td>   \n",
       "</tr>\n",
       "</table>\n",
       "<table class=\"simpletable\">\n",
       "<tr>\n",
       "    <td></td>       <th>coef</th>     <th>std err</th>      <th>t</th>      <th>P>|t|</th>  <th>[0.025</th>    <th>0.975]</th>  \n",
       "</tr>\n",
       "<tr>\n",
       "  <th>const</th> <td>    3.6428</td> <td>    0.181</td> <td>   20.105</td> <td> 0.000</td> <td>    3.276</td> <td>    4.009</td>\n",
       "</tr>\n",
       "<tr>\n",
       "  <th>t</th>     <td>   -0.0731</td> <td>    0.011</td> <td>   -6.723</td> <td> 0.000</td> <td>   -0.095</td> <td>   -0.051</td>\n",
       "</tr>\n",
       "<tr>\n",
       "  <th>sex</th>   <td>    0.4808</td> <td>    0.201</td> <td>    2.391</td> <td> 0.022</td> <td>    0.074</td> <td>    0.887</td>\n",
       "</tr>\n",
       "</table>\n",
       "<table class=\"simpletable\">\n",
       "<tr>\n",
       "  <th>Omnibus:</th>       <td> 0.701</td> <th>  Durbin-Watson:     </th> <td>   2.318</td>\n",
       "</tr>\n",
       "<tr>\n",
       "  <th>Prob(Omnibus):</th> <td> 0.704</td> <th>  Jarque-Bera (JB):  </th> <td>   0.660</td>\n",
       "</tr>\n",
       "<tr>\n",
       "  <th>Skew:</th>          <td>-0.282</td> <th>  Prob(JB):          </th> <td>   0.719</td>\n",
       "</tr>\n",
       "<tr>\n",
       "  <th>Kurtosis:</th>      <td> 2.759</td> <th>  Cond. No.          </th> <td>    36.3</td>\n",
       "</tr>\n",
       "</table><br/><br/>Notes:<br/>[1] Standard Errors assume that the covariance matrix of the errors is correctly specified."
      ],
      "text/plain": [
       "<class 'statsmodels.iolib.summary.Summary'>\n",
       "\"\"\"\n",
       "                            OLS Regression Results                            \n",
       "==============================================================================\n",
       "Dep. Variable:                 logWBC   R-squared:                       0.542\n",
       "Model:                            OLS   Adj. R-squared:                  0.519\n",
       "Method:                 Least Squares   F-statistic:                     23.11\n",
       "Date:                Sat, 18 Mar 2023   Prob (F-statistic):           2.40e-07\n",
       "Time:                        12:05:36   Log-Likelihood:                -39.058\n",
       "No. Observations:                  42   AIC:                             84.12\n",
       "Df Residuals:                      39   BIC:                             89.33\n",
       "Df Model:                           2                                         \n",
       "Covariance Type:            nonrobust                                         \n",
       "==============================================================================\n",
       "                 coef    std err          t      P>|t|      [0.025      0.975]\n",
       "------------------------------------------------------------------------------\n",
       "const          3.6428      0.181     20.105      0.000       3.276       4.009\n",
       "t             -0.0731      0.011     -6.723      0.000      -0.095      -0.051\n",
       "sex            0.4808      0.201      2.391      0.022       0.074       0.887\n",
       "==============================================================================\n",
       "Omnibus:                        0.701   Durbin-Watson:                   2.318\n",
       "Prob(Omnibus):                  0.704   Jarque-Bera (JB):                0.660\n",
       "Skew:                          -0.282   Prob(JB):                        0.719\n",
       "Kurtosis:                       2.759   Cond. No.                         36.3\n",
       "==============================================================================\n",
       "\n",
       "Notes:\n",
       "[1] Standard Errors assume that the covariance matrix of the errors is correctly specified.\n",
       "\"\"\""
      ]
     },
     "execution_count": 42,
     "metadata": {},
     "output_type": "execute_result"
    }
   ],
   "source": [
    "X4 = X3.drop(\"status\", axis=1)\n",
    "model4 = sm.OLS(df[\"logWBC\"], X4).fit()\n",
    "model4.summary()"
   ]
  },
  {
   "cell_type": "markdown",
   "metadata": {},
   "source": [
    "ここで、変数全てのp値が5%を下回ったため、この重回帰分析の結果を使用する。そのため本来の回帰式は\n",
    "\n",
    "logWBC=0.48*(性別)-0.07*(時間)+3.64\n",
    "\n",
    "となる。\n",
    "### VIFを用いた多重共線性への対応\n",
    "VIFを用いることで各変数の相関行列の逆行列における対角要素の中で数値の高い要素が多重共線性の要因と考えることができる。"
   ]
  },
  {
   "cell_type": "code",
   "execution_count": 43,
   "metadata": {},
   "outputs": [
    {
     "data": {
      "text/html": [
       "<div>\n",
       "<style scoped>\n",
       "    .dataframe tbody tr th:only-of-type {\n",
       "        vertical-align: middle;\n",
       "    }\n",
       "\n",
       "    .dataframe tbody tr th {\n",
       "        vertical-align: top;\n",
       "    }\n",
       "\n",
       "    .dataframe thead th {\n",
       "        text-align: right;\n",
       "    }\n",
       "</style>\n",
       "<table border=\"1\" class=\"dataframe\">\n",
       "  <thead>\n",
       "    <tr style=\"text-align: right;\">\n",
       "      <th></th>\n",
       "      <th>t</th>\n",
       "      <th>status</th>\n",
       "      <th>sex</th>\n",
       "      <th>Rx</th>\n",
       "    </tr>\n",
       "  </thead>\n",
       "  <tbody>\n",
       "    <tr>\n",
       "      <th>t</th>\n",
       "      <td>1.552180</td>\n",
       "      <td>0.646951</td>\n",
       "      <td>-0.304035</td>\n",
       "      <td>0.299110</td>\n",
       "    </tr>\n",
       "    <tr>\n",
       "      <th>status</th>\n",
       "      <td>0.646951</td>\n",
       "      <td>1.938846</td>\n",
       "      <td>-0.076394</td>\n",
       "      <td>-0.931023</td>\n",
       "    </tr>\n",
       "    <tr>\n",
       "      <th>sex</th>\n",
       "      <td>-0.304035</td>\n",
       "      <td>-0.076394</td>\n",
       "      <td>1.061071</td>\n",
       "      <td>-0.090419</td>\n",
       "    </tr>\n",
       "    <tr>\n",
       "      <th>Rx</th>\n",
       "      <td>0.299110</td>\n",
       "      <td>-0.931023</td>\n",
       "      <td>-0.090419</td>\n",
       "      <td>1.725318</td>\n",
       "    </tr>\n",
       "  </tbody>\n",
       "</table>\n",
       "</div>"
      ],
      "text/plain": [
       "               t    status       sex        Rx\n",
       "t       1.552180  0.646951 -0.304035  0.299110\n",
       "status  0.646951  1.938846 -0.076394 -0.931023\n",
       "sex    -0.304035 -0.076394  1.061071 -0.090419\n",
       "Rx      0.299110 -0.931023 -0.090419  1.725318"
      ]
     },
     "execution_count": 43,
     "metadata": {},
     "output_type": "execute_result"
    }
   ],
   "source": [
    "corr = df.drop(\"logWBC\", axis=1).corr()\n",
    "corr_inv = np.linalg.inv(corr.values)\n",
    "df_corr_inv = pd.DataFrame(corr_inv)\n",
    "df_corr_inv.columns = corr.columns\n",
    "df_corr_inv.index = corr.columns\n",
    "vif = []\n",
    "for col in corr.columns:\n",
    "    vif.append([col, df_corr_inv.at[col, col]])\n",
    "df_vif = pd.DataFrame(vif)\n",
    "df_vif.columns = [\"変数名\", \"VIF\"]\n",
    "df_vif.index = corr.columns\n",
    "df_corr_inv"
   ]
  },
  {
   "cell_type": "code",
   "execution_count": 44,
   "metadata": {},
   "outputs": [
    {
     "data": {
      "text/html": [
       "<div>\n",
       "<style scoped>\n",
       "    .dataframe tbody tr th:only-of-type {\n",
       "        vertical-align: middle;\n",
       "    }\n",
       "\n",
       "    .dataframe tbody tr th {\n",
       "        vertical-align: top;\n",
       "    }\n",
       "\n",
       "    .dataframe thead th {\n",
       "        text-align: right;\n",
       "    }\n",
       "</style>\n",
       "<table border=\"1\" class=\"dataframe\">\n",
       "  <thead>\n",
       "    <tr style=\"text-align: right;\">\n",
       "      <th></th>\n",
       "      <th>変数名</th>\n",
       "      <th>VIF</th>\n",
       "    </tr>\n",
       "  </thead>\n",
       "  <tbody>\n",
       "    <tr>\n",
       "      <th>status</th>\n",
       "      <td>status</td>\n",
       "      <td>1.938846</td>\n",
       "    </tr>\n",
       "    <tr>\n",
       "      <th>Rx</th>\n",
       "      <td>Rx</td>\n",
       "      <td>1.725318</td>\n",
       "    </tr>\n",
       "    <tr>\n",
       "      <th>t</th>\n",
       "      <td>t</td>\n",
       "      <td>1.552180</td>\n",
       "    </tr>\n",
       "    <tr>\n",
       "      <th>sex</th>\n",
       "      <td>sex</td>\n",
       "      <td>1.061071</td>\n",
       "    </tr>\n",
       "  </tbody>\n",
       "</table>\n",
       "</div>"
      ],
      "text/plain": [
       "           変数名       VIF\n",
       "status  status  1.938846\n",
       "Rx          Rx  1.725318\n",
       "t            t  1.552180\n",
       "sex        sex  1.061071"
      ]
     },
     "execution_count": 44,
     "metadata": {},
     "output_type": "execute_result"
    }
   ],
   "source": [
    "df_vif.sort_values(\"VIF\", ascending=False)"
   ]
  },
  {
   "cell_type": "markdown",
   "metadata": {},
   "source": [
    "ここで最も数値の大きいstatusを排除する"
   ]
  },
  {
   "cell_type": "code",
   "execution_count": 45,
   "metadata": {},
   "outputs": [
    {
     "data": {
      "text/html": [
       "<table class=\"simpletable\">\n",
       "<caption>OLS Regression Results</caption>\n",
       "<tr>\n",
       "  <th>Dep. Variable:</th>         <td>logWBC</td>      <th>  R-squared:         </th> <td>   0.543</td>\n",
       "</tr>\n",
       "<tr>\n",
       "  <th>Model:</th>                   <td>OLS</td>       <th>  Adj. R-squared:    </th> <td>   0.507</td>\n",
       "</tr>\n",
       "<tr>\n",
       "  <th>Method:</th>             <td>Least Squares</td>  <th>  F-statistic:       </th> <td>   15.03</td>\n",
       "</tr>\n",
       "<tr>\n",
       "  <th>Date:</th>             <td>Sat, 18 Mar 2023</td> <th>  Prob (F-statistic):</th> <td>1.32e-06</td>\n",
       "</tr>\n",
       "<tr>\n",
       "  <th>Time:</th>                 <td>12:05:36</td>     <th>  Log-Likelihood:    </th> <td> -39.044</td>\n",
       "</tr>\n",
       "<tr>\n",
       "  <th>No. Observations:</th>      <td>    42</td>      <th>  AIC:               </th> <td>   86.09</td>\n",
       "</tr>\n",
       "<tr>\n",
       "  <th>Df Residuals:</th>          <td>    38</td>      <th>  BIC:               </th> <td>   93.04</td>\n",
       "</tr>\n",
       "<tr>\n",
       "  <th>Df Model:</th>              <td>     3</td>      <th>                     </th>     <td> </td>   \n",
       "</tr>\n",
       "<tr>\n",
       "  <th>Covariance Type:</th>      <td>nonrobust</td>    <th>                     </th>     <td> </td>   \n",
       "</tr>\n",
       "</table>\n",
       "<table class=\"simpletable\">\n",
       "<tr>\n",
       "    <td></td>       <th>coef</th>     <th>std err</th>      <th>t</th>      <th>P>|t|</th>  <th>[0.025</th>    <th>0.975]</th>  \n",
       "</tr>\n",
       "<tr>\n",
       "  <th>const</th> <td>    3.6708</td> <td>    0.255</td> <td>   14.414</td> <td> 0.000</td> <td>    3.155</td> <td>    4.186</td>\n",
       "</tr>\n",
       "<tr>\n",
       "  <th>t</th>     <td>   -0.0740</td> <td>    0.012</td> <td>   -5.946</td> <td> 0.000</td> <td>   -0.099</td> <td>   -0.049</td>\n",
       "</tr>\n",
       "<tr>\n",
       "  <th>sex</th>   <td>    0.4843</td> <td>    0.205</td> <td>    2.365</td> <td> 0.023</td> <td>    0.070</td> <td>    0.899</td>\n",
       "</tr>\n",
       "<tr>\n",
       "  <th>Rx</th>    <td>   -0.0357</td> <td>    0.225</td> <td>   -0.159</td> <td> 0.875</td> <td>   -0.491</td> <td>    0.420</td>\n",
       "</tr>\n",
       "</table>\n",
       "<table class=\"simpletable\">\n",
       "<tr>\n",
       "  <th>Omnibus:</th>       <td> 0.626</td> <th>  Durbin-Watson:     </th> <td>   2.317</td>\n",
       "</tr>\n",
       "<tr>\n",
       "  <th>Prob(Omnibus):</th> <td> 0.731</td> <th>  Jarque-Bera (JB):  </th> <td>   0.644</td>\n",
       "</tr>\n",
       "<tr>\n",
       "  <th>Skew:</th>          <td>-0.267</td> <th>  Prob(JB):          </th> <td>   0.725</td>\n",
       "</tr>\n",
       "<tr>\n",
       "  <th>Kurtosis:</th>      <td> 2.710</td> <th>  Cond. No.          </th> <td>    50.1</td>\n",
       "</tr>\n",
       "</table><br/><br/>Notes:<br/>[1] Standard Errors assume that the covariance matrix of the errors is correctly specified."
      ],
      "text/plain": [
       "<class 'statsmodels.iolib.summary.Summary'>\n",
       "\"\"\"\n",
       "                            OLS Regression Results                            \n",
       "==============================================================================\n",
       "Dep. Variable:                 logWBC   R-squared:                       0.543\n",
       "Model:                            OLS   Adj. R-squared:                  0.507\n",
       "Method:                 Least Squares   F-statistic:                     15.03\n",
       "Date:                Sat, 18 Mar 2023   Prob (F-statistic):           1.32e-06\n",
       "Time:                        12:05:36   Log-Likelihood:                -39.044\n",
       "No. Observations:                  42   AIC:                             86.09\n",
       "Df Residuals:                      38   BIC:                             93.04\n",
       "Df Model:                           3                                         \n",
       "Covariance Type:            nonrobust                                         \n",
       "==============================================================================\n",
       "                 coef    std err          t      P>|t|      [0.025      0.975]\n",
       "------------------------------------------------------------------------------\n",
       "const          3.6708      0.255     14.414      0.000       3.155       4.186\n",
       "t             -0.0740      0.012     -5.946      0.000      -0.099      -0.049\n",
       "sex            0.4843      0.205      2.365      0.023       0.070       0.899\n",
       "Rx            -0.0357      0.225     -0.159      0.875      -0.491       0.420\n",
       "==============================================================================\n",
       "Omnibus:                        0.626   Durbin-Watson:                   2.317\n",
       "Prob(Omnibus):                  0.731   Jarque-Bera (JB):                0.644\n",
       "Skew:                          -0.267   Prob(JB):                        0.725\n",
       "Kurtosis:                       2.710   Cond. No.                         50.1\n",
       "==============================================================================\n",
       "\n",
       "Notes:\n",
       "[1] Standard Errors assume that the covariance matrix of the errors is correctly specified.\n",
       "\"\"\""
      ]
     },
     "execution_count": 45,
     "metadata": {},
     "output_type": "execute_result"
    }
   ],
   "source": [
    "X_vif = sm.add_constant(df.drop([\"logWBC\", \"status\"], axis=1))\n",
    "model_vif = sm.OLS(df[\"logWBC\"], X_vif).fit()\n",
    "model_vif.summary()"
   ]
  },
  {
   "cell_type": "markdown",
   "metadata": {},
   "source": [
    "このようにVIFの大きい値から変数を削除していく手法もある\n",
    "## 原因が量的変数で結果が質的変数の場合\n",
    "原因系変数が量的変数で結果系変数が質的変数の場合は分類系教師あり学習を使用する。ここで、分かりやすい因果関係を明らかにする場合はロジスティック回帰や線形SVMなどを使用して決定境界の係数を使用する。ただし、係数の影響について考慮しやすくするためScikit-LearnではなくStatsmodelsを使用する。\n",
    "\n",
    "ここではstatus(効果)について影響する項目について考察する。\n",
    "\n",
    "### 原因系変数が一つの場合"
   ]
  },
  {
   "cell_type": "code",
   "execution_count": 46,
   "metadata": {},
   "outputs": [
    {
     "name": "stdout",
     "output_type": "stream",
     "text": [
      "Optimization terminated successfully    (Exit mode 0)\n",
      "            Current function value: 0.45339720352061896\n",
      "            Iterations: 16\n",
      "            Function evaluations: 16\n",
      "            Gradient evaluations: 16\n"
     ]
    },
    {
     "data": {
      "text/html": [
       "<table class=\"simpletable\">\n",
       "<caption>Logit Regression Results</caption>\n",
       "<tr>\n",
       "  <th>Dep. Variable:</th>        <td>status</td>      <th>  No. Observations:  </th>  <td>    42</td>  \n",
       "</tr>\n",
       "<tr>\n",
       "  <th>Model:</th>                 <td>Logit</td>      <th>  Df Residuals:      </th>  <td>    40</td>  \n",
       "</tr>\n",
       "<tr>\n",
       "  <th>Method:</th>                 <td>MLE</td>       <th>  Df Model:          </th>  <td>     1</td>  \n",
       "</tr>\n",
       "<tr>\n",
       "  <th>Date:</th>            <td>Sat, 18 Mar 2023</td> <th>  Pseudo R-squ.:     </th>  <td>0.2422</td>  \n",
       "</tr>\n",
       "<tr>\n",
       "  <th>Time:</th>                <td>12:05:36</td>     <th>  Log-Likelihood:    </th> <td> -19.043</td> \n",
       "</tr>\n",
       "<tr>\n",
       "  <th>converged:</th>             <td>True</td>       <th>  LL-Null:           </th> <td> -25.127</td> \n",
       "</tr>\n",
       "<tr>\n",
       "  <th>Covariance Type:</th>     <td>nonrobust</td>    <th>  LLR p-value:       </th> <td>0.0004858</td>\n",
       "</tr>\n",
       "</table>\n",
       "<table class=\"simpletable\">\n",
       "<tr>\n",
       "     <td></td>       <th>coef</th>     <th>std err</th>      <th>z</th>      <th>P>|z|</th>  <th>[0.025</th>    <th>0.975]</th>  \n",
       "</tr>\n",
       "<tr>\n",
       "  <th>const</th>  <td>   -4.0344</td> <td>    1.771</td> <td>   -2.278</td> <td> 0.023</td> <td>   -7.505</td> <td>   -0.563</td>\n",
       "</tr>\n",
       "<tr>\n",
       "  <th>logWBC</th> <td>    1.8644</td> <td>    0.697</td> <td>    2.674</td> <td> 0.007</td> <td>    0.498</td> <td>    3.231</td>\n",
       "</tr>\n",
       "</table>"
      ],
      "text/plain": [
       "<class 'statsmodels.iolib.summary.Summary'>\n",
       "\"\"\"\n",
       "                           Logit Regression Results                           \n",
       "==============================================================================\n",
       "Dep. Variable:                 status   No. Observations:                   42\n",
       "Model:                          Logit   Df Residuals:                       40\n",
       "Method:                           MLE   Df Model:                            1\n",
       "Date:                Sat, 18 Mar 2023   Pseudo R-squ.:                  0.2422\n",
       "Time:                        12:05:36   Log-Likelihood:                -19.043\n",
       "converged:                       True   LL-Null:                       -25.127\n",
       "Covariance Type:            nonrobust   LLR p-value:                 0.0004858\n",
       "==============================================================================\n",
       "                 coef    std err          z      P>|z|      [0.025      0.975]\n",
       "------------------------------------------------------------------------------\n",
       "const         -4.0344      1.771     -2.278      0.023      -7.505      -0.563\n",
       "logWBC         1.8644      0.697      2.674      0.007       0.498       3.231\n",
       "==============================================================================\n",
       "\"\"\""
      ]
     },
     "execution_count": 46,
     "metadata": {},
     "output_type": "execute_result"
    }
   ],
   "source": [
    "X5 = sm.add_constant(df[\"logWBC\"])\n",
    "model5 = sm.Logit(df[\"status\"], X5).fit_regularized()\n",
    "model5.summary()"
   ]
  },
  {
   "cell_type": "markdown",
   "metadata": {},
   "source": [
    "### 原因系変数が複数の場合"
   ]
  },
  {
   "cell_type": "code",
   "execution_count": 47,
   "metadata": {},
   "outputs": [
    {
     "name": "stdout",
     "output_type": "stream",
     "text": [
      "Optimization terminated successfully    (Exit mode 0)\n",
      "            Current function value: 0.19982503727822173\n",
      "            Iterations: 40\n",
      "            Function evaluations: 43\n",
      "            Gradient evaluations: 40\n"
     ]
    },
    {
     "data": {
      "text/html": [
       "<table class=\"simpletable\">\n",
       "<caption>Logit Regression Results</caption>\n",
       "<tr>\n",
       "  <th>Dep. Variable:</th>        <td>status</td>      <th>  No. Observations:  </th>  <td>    42</td>  \n",
       "</tr>\n",
       "<tr>\n",
       "  <th>Model:</th>                 <td>Logit</td>      <th>  Df Residuals:      </th>  <td>    37</td>  \n",
       "</tr>\n",
       "<tr>\n",
       "  <th>Method:</th>                 <td>MLE</td>       <th>  Df Model:          </th>  <td>     4</td>  \n",
       "</tr>\n",
       "<tr>\n",
       "  <th>Date:</th>            <td>Sat, 18 Mar 2023</td> <th>  Pseudo R-squ.:     </th>  <td>0.6660</td>  \n",
       "</tr>\n",
       "<tr>\n",
       "  <th>Time:</th>                <td>12:05:36</td>     <th>  Log-Likelihood:    </th> <td> -8.3927</td> \n",
       "</tr>\n",
       "<tr>\n",
       "  <th>converged:</th>             <td>True</td>       <th>  LL-Null:           </th> <td> -25.127</td> \n",
       "</tr>\n",
       "<tr>\n",
       "  <th>Covariance Type:</th>     <td>nonrobust</td>    <th>  LLR p-value:       </th> <td>9.573e-07</td>\n",
       "</tr>\n",
       "</table>\n",
       "<table class=\"simpletable\">\n",
       "<tr>\n",
       "     <td></td>       <th>coef</th>     <th>std err</th>      <th>z</th>      <th>P>|z|</th>  <th>[0.025</th>    <th>0.975]</th>  \n",
       "</tr>\n",
       "<tr>\n",
       "  <th>const</th>  <td>   -5.0006</td> <td>    5.655</td> <td>   -0.884</td> <td> 0.377</td> <td>  -16.085</td> <td>    6.084</td>\n",
       "</tr>\n",
       "<tr>\n",
       "  <th>t</th>      <td>   -0.2207</td> <td>    0.171</td> <td>   -1.291</td> <td> 0.197</td> <td>   -0.556</td> <td>    0.114</td>\n",
       "</tr>\n",
       "<tr>\n",
       "  <th>sex</th>    <td>    4.2593</td> <td>    2.932</td> <td>    1.453</td> <td> 0.146</td> <td>   -1.486</td> <td>   10.005</td>\n",
       "</tr>\n",
       "<tr>\n",
       "  <th>logWBC</th> <td>    2.4628</td> <td>    1.881</td> <td>    1.309</td> <td> 0.190</td> <td>   -1.224</td> <td>    6.149</td>\n",
       "</tr>\n",
       "<tr>\n",
       "  <th>Rx</th>     <td>   17.9450</td> <td>  750.688</td> <td>    0.024</td> <td> 0.981</td> <td>-1453.377</td> <td> 1489.267</td>\n",
       "</tr>\n",
       "</table><br/><br/>Possibly complete quasi-separation: A fraction 0.50 of observations can be<br/>perfectly predicted. This might indicate that there is complete<br/>quasi-separation. In this case some parameters will not be identified."
      ],
      "text/plain": [
       "<class 'statsmodels.iolib.summary.Summary'>\n",
       "\"\"\"\n",
       "                           Logit Regression Results                           \n",
       "==============================================================================\n",
       "Dep. Variable:                 status   No. Observations:                   42\n",
       "Model:                          Logit   Df Residuals:                       37\n",
       "Method:                           MLE   Df Model:                            4\n",
       "Date:                Sat, 18 Mar 2023   Pseudo R-squ.:                  0.6660\n",
       "Time:                        12:05:36   Log-Likelihood:                -8.3927\n",
       "converged:                       True   LL-Null:                       -25.127\n",
       "Covariance Type:            nonrobust   LLR p-value:                 9.573e-07\n",
       "==============================================================================\n",
       "                 coef    std err          z      P>|z|      [0.025      0.975]\n",
       "------------------------------------------------------------------------------\n",
       "const         -5.0006      5.655     -0.884      0.377     -16.085       6.084\n",
       "t             -0.2207      0.171     -1.291      0.197      -0.556       0.114\n",
       "sex            4.2593      2.932      1.453      0.146      -1.486      10.005\n",
       "logWBC         2.4628      1.881      1.309      0.190      -1.224       6.149\n",
       "Rx            17.9450    750.688      0.024      0.981   -1453.377    1489.267\n",
       "==============================================================================\n",
       "\n",
       "Possibly complete quasi-separation: A fraction 0.50 of observations can be\n",
       "perfectly predicted. This might indicate that there is complete\n",
       "quasi-separation. In this case some parameters will not be identified.\n",
       "\"\"\""
      ]
     },
     "execution_count": 47,
     "metadata": {},
     "output_type": "execute_result"
    }
   ],
   "source": [
    "X6 = sm.add_constant(df.drop([\"status\"], axis=1))\n",
    "model6 = sm.Logit(df[\"status\"], X6).fit_regularized()\n",
    "model6.summary()"
   ]
  },
  {
   "cell_type": "markdown",
   "metadata": {},
   "source": [
    "目立った有意差は無いが。ここではlogWBCと性別と時間が影響していることが分かる。\n",
    "\n",
    "他にも決定木の分類過程を可視化することで分類の順序関係を見ることでより複雑なデータの因果関係を考察することができる。\n",
    "\n",
    "#### オッズ比\n",
    "ロジスティック回帰で多変量解析を行った場合に自然対数を係数でべき乗するとオッズ比になる。"
   ]
  },
  {
   "cell_type": "code",
   "execution_count": 48,
   "metadata": {},
   "outputs": [
    {
     "data": {
      "text/html": [
       "<div>\n",
       "<style scoped>\n",
       "    .dataframe tbody tr th:only-of-type {\n",
       "        vertical-align: middle;\n",
       "    }\n",
       "\n",
       "    .dataframe tbody tr th {\n",
       "        vertical-align: top;\n",
       "    }\n",
       "\n",
       "    .dataframe thead th {\n",
       "        text-align: right;\n",
       "    }\n",
       "</style>\n",
       "<table border=\"1\" class=\"dataframe\">\n",
       "  <thead>\n",
       "    <tr style=\"text-align: right;\">\n",
       "      <th></th>\n",
       "      <th>変数名</th>\n",
       "      <th>オッズ比</th>\n",
       "      <th>係数</th>\n",
       "    </tr>\n",
       "  </thead>\n",
       "  <tbody>\n",
       "    <tr>\n",
       "      <th>0</th>\n",
       "      <td>t</td>\n",
       "      <td>8.019791e-01</td>\n",
       "      <td>-0.220673</td>\n",
       "    </tr>\n",
       "    <tr>\n",
       "      <th>1</th>\n",
       "      <td>sex</td>\n",
       "      <td>7.076322e+01</td>\n",
       "      <td>4.259339</td>\n",
       "    </tr>\n",
       "    <tr>\n",
       "      <th>2</th>\n",
       "      <td>logWBC</td>\n",
       "      <td>1.173754e+01</td>\n",
       "      <td>2.462793</td>\n",
       "    </tr>\n",
       "    <tr>\n",
       "      <th>3</th>\n",
       "      <td>Rx</td>\n",
       "      <td>6.214916e+07</td>\n",
       "      <td>17.945048</td>\n",
       "    </tr>\n",
       "  </tbody>\n",
       "</table>\n",
       "</div>"
      ],
      "text/plain": [
       "      変数名          オッズ比         係数\n",
       "0       t  8.019791e-01  -0.220673\n",
       "1     sex  7.076322e+01   4.259339\n",
       "2  logWBC  1.173754e+01   2.462793\n",
       "3      Rx  6.214916e+07  17.945048"
      ]
     },
     "execution_count": 48,
     "metadata": {},
     "output_type": "execute_result"
    }
   ],
   "source": [
    "coef_odds = []\n",
    "for col in X6.columns:\n",
    "    if col != \"const\":\n",
    "        coef_odds.append([col, np.exp(model6.params[col]), model6.params[col]])\n",
    "df_odds = pd.DataFrame(coef_odds)\n",
    "df_odds.columns = [\"変数名\", \"オッズ比\", \"係数\"]\n",
    "df_odds"
   ]
  },
  {
   "cell_type": "markdown",
   "metadata": {},
   "source": [
    "#### 分類寄与率の算出と分類過程の可視化"
   ]
  },
  {
   "cell_type": "code",
   "execution_count": 49,
   "metadata": {},
   "outputs": [
    {
     "data": {
      "text/html": [
       "<div>\n",
       "<style scoped>\n",
       "    .dataframe tbody tr th:only-of-type {\n",
       "        vertical-align: middle;\n",
       "    }\n",
       "\n",
       "    .dataframe tbody tr th {\n",
       "        vertical-align: top;\n",
       "    }\n",
       "\n",
       "    .dataframe thead th {\n",
       "        text-align: right;\n",
       "    }\n",
       "</style>\n",
       "<table border=\"1\" class=\"dataframe\">\n",
       "  <thead>\n",
       "    <tr style=\"text-align: right;\">\n",
       "      <th></th>\n",
       "      <th>重要度</th>\n",
       "    </tr>\n",
       "  </thead>\n",
       "  <tbody>\n",
       "    <tr>\n",
       "      <th>t</th>\n",
       "      <td>0.105972</td>\n",
       "    </tr>\n",
       "    <tr>\n",
       "      <th>sex</th>\n",
       "      <td>0.000000</td>\n",
       "    </tr>\n",
       "    <tr>\n",
       "      <th>logWBC</th>\n",
       "      <td>0.494028</td>\n",
       "    </tr>\n",
       "    <tr>\n",
       "      <th>Rx</th>\n",
       "      <td>0.400000</td>\n",
       "    </tr>\n",
       "  </tbody>\n",
       "</table>\n",
       "</div>"
      ],
      "text/plain": [
       "             重要度\n",
       "t       0.105972\n",
       "sex     0.000000\n",
       "logWBC  0.494028\n",
       "Rx      0.400000"
      ]
     },
     "execution_count": 49,
     "metadata": {},
     "output_type": "execute_result"
    }
   ],
   "source": [
    "model7 = DecisionTreeClassifier()\n",
    "model7.fit(df.drop(\"status\", axis=1), df[\"status\"])\n",
    "imp = model7.feature_importances_\n",
    "dfi = pd.DataFrame(imp)\n",
    "dfi.index = df.drop(\"status\", axis=1).columns\n",
    "dfi.columns = [\"重要度\"]\n",
    "dfi"
   ]
  },
  {
   "cell_type": "markdown",
   "metadata": {},
   "source": [
    "この結果から性別は効果に影響していないことが分かる。また、効果には投与群かプラセボ群か(Rx)とlogWBCだけで80%を超えている。"
   ]
  },
  {
   "cell_type": "code",
   "execution_count": 50,
   "metadata": {},
   "outputs": [
    {
     "data": {
      "text/plain": [
       "True"
      ]
     },
     "execution_count": 50,
     "metadata": {},
     "output_type": "execute_result"
    }
   ],
   "source": [
    "class_name = list(set(df[\"status\"].values))\n",
    "for i in range(len(class_name)):\n",
    "    class_name[i] = str(class_name[i])\n",
    "dotdata = EG(model7, filled=True, rounded=True, class_names=class_name, feature_names=df.drop(\"status\", axis=1).columns, out_file=None)\n",
    "graph = GFDD(dotdata)\n",
    "graph.write_png(\"CART.png\")"
   ]
  },
  {
   "cell_type": "code",
   "execution_count": 51,
   "metadata": {},
   "outputs": [
    {
     "data": {
      "image/png": "[encoded data removed]",
      "text/plain": [
       "<PIL.PngImagePlugin.PngImageFile image mode=RGBA size=617x1212 at 0x22DF7D0F6D8>"
      ]
     },
     "execution_count": 51,
     "metadata": {},
     "output_type": "execute_result"
    }
   ],
   "source": [
    "im = Image.open(\"CART.png\")\n",
    "im"
   ]
  },
  {
   "cell_type": "markdown",
   "metadata": {},
   "source": [
    "この結果からstatus(効果)に関わる変数の順序と条件が分かる。\n",
    "\n",
    "# 補足\n",
    "\n",
    "## 時間とクラスを用いた効果量の測定\n",
    "今回使用しているデータセットには時間の要素が入っている。そこで、Cox比例ハザードモデルを使用してハザード比を基に効果量を考察する。"
   ]
  },
  {
   "cell_type": "code",
   "execution_count": 52,
   "metadata": {},
   "outputs": [
    {
     "name": "stdout",
     "output_type": "stream",
     "text": [
      "<lifelines.CoxPHFitter: fitted with 42 observations, 12 censored>\n",
      "      duration col = 't'\n",
      "         event col = 'status'\n",
      "number of subjects = 42\n",
      "  number of events = 30\n",
      "    log-likelihood = -69.59\n",
      "  time fit was run = 2023-03-18 03:05:37 UTC\n",
      "\n",
      "---\n",
      "        coef exp(coef)  se(coef)    z      p  -log2(p)  lower 0.95  upper 0.95\n",
      "sex     0.31      1.37      0.45 0.69   0.49      1.03       -0.58        1.21\n",
      "logWBC  1.68      5.38      0.34 5.00 <0.005     20.71        1.02        2.34\n",
      "Rx      1.50      4.50      0.46 3.26 <0.005      9.80        0.60        2.41\n",
      "---\n",
      "Concordance = 0.85\n",
      "Log-likelihood ratio test = 47.19 on 3 df, -log2(p)=31.55\n"
     ]
    },
    {
     "name": "stderr",
     "output_type": "stream",
     "text": [
      "C:\\Users\\decar\\Anaconda3\\lib\\site-packages\\lifelines\\utils\\__init__.py:925: ConvergenceWarning: Column Rx have very low variance when conditioned on death event present or not. This may harm convergence. This could be a form of 'complete separation'. For example, try the following code:\n",
      "\n",
      ">>> events = df['status'].astype(bool)\n",
      ">>> print(df.loc[events, 'Rx'].var())\n",
      ">>> print(df.loc[~events, 'Rx'].var())\n",
      "\n",
      "A very low variance means that the column Rx completely determines whether a subject dies or not. See https://stats.stackexchange.com/questions/11109/how-to-deal-with-perfect-separation-in-logistic-regression \n",
      "  warnings.warn(warning_text, ConvergenceWarning)\n"
     ]
    }
   ],
   "source": [
    "model8 = CoxPHFitter()\n",
    "model8.fit(df,duration_col=\"t\",event_col=\"status\")\n",
    "model8.print_summary()"
   ]
  },
  {
   "cell_type": "code",
   "execution_count": 53,
   "metadata": {},
   "outputs": [
    {
     "data": {
      "image/png": "[encoded data removed]",
      "text/plain": [
       "<Figure size 432x288 with 1 Axes>"
      ]
     },
     "metadata": {
      "needs_background": "light"
     },
     "output_type": "display_data"
    }
   ],
   "source": [
    "pred = model8.predict_survival_function(df)\n",
    "plt.plot(pred.index, pred[0].values, label=\"logWBC->HIGH\")\n",
    "plt.plot(pred.index, pred[16].values, label=\"logWBC->LOW\")\n",
    "plt.legend()\n",
    "plt.ylabel(\"Hazzard Ratio\")\n",
    "plt.xlabel(\"time\")\n",
    "plt.show()"
   ]
  },
  {
   "cell_type": "code",
   "execution_count": 54,
   "metadata": {},
   "outputs": [
    {
     "data": {
      "image/png": "[encoded data removed]",
      "text/plain": [
       "<Figure size 432x288 with 1 Axes>"
      ]
     },
     "metadata": {
      "needs_background": "light"
     },
     "output_type": "display_data"
    }
   ],
   "source": [
    "plt.plot(pred.index, pred[25].values, label=\"logWBC->HIGH\")\n",
    "plt.plot(pred.index, pred[41].values, label=\"logWBC->LOW\")\n",
    "plt.legend()\n",
    "plt.ylabel(\"Hazzard Ratio\")\n",
    "plt.xlabel(\"time\")\n",
    "plt.show()"
   ]
  },
  {
   "cell_type": "code",
   "execution_count": 55,
   "metadata": {},
   "outputs": [
    {
     "data": {
      "image/png": "[encoded data removed]",
      "text/plain": [
       "<Figure size 432x288 with 1 Axes>"
      ]
     },
     "metadata": {
      "needs_background": "light"
     },
     "output_type": "display_data"
    }
   ],
   "source": [
    "plt.plot(pred.index, pred[0].values, label=\"Rx=0, logWBC->HIGH\")\n",
    "plt.plot(pred.index, pred[16].values, label=\"Rx=0, logWBC->LOW\")\n",
    "plt.plot(pred.index, pred[25].values, label=\"Rx=1, logWBC->HIGH\")\n",
    "plt.plot(pred.index, pred[41].values, label=\"Rx=1, logWBC->LOW\")\n",
    "plt.legend()\n",
    "plt.ylabel(\"Hazzard Ratio\")\n",
    "plt.xlabel(\"time\")\n",
    "plt.show()"
   ]
  },
  {
   "cell_type": "markdown",
   "metadata": {},
   "source": [
    "この結果から時間という要素で考えると投与群とプラセボ群よりlogWBCがハザード比に影響していることが分かる。\n",
    "\n",
    "また、確実に投与群はプラセボ群により値が低くなっていることが分かる。"
   ]
  },
  {
   "cell_type": "code",
   "execution_count": null,
   "metadata": {},
   "outputs": [],
   "source": []
  }
 ],
 "metadata": {
  "kernelspec": {
   "display_name": "Python 3",
   "language": "python",
   "name": "python3"
  },
  "language_info": {
   "codemirror_mode": {
    "name": "ipython",
    "version": 3
   },
   "file_extension": ".py",
   "mimetype": "text/x-python",
   "name": "python",
   "nbconvert_exporter": "python",
   "pygments_lexer": "ipython3",
   "version": "3.7.1"
  }
 },
 "nbformat": 4,
 "nbformat_minor": 2
}
