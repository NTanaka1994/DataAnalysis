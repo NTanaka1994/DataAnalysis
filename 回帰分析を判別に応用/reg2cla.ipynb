{
 "cells": [
  {
   "cell_type": "markdown",
   "metadata": {},
   "source": [
    "# 回帰分析を判別に応用\n",
    "通常、回帰分析は連続した値である量的データを予測するのに用いるが、ルールベースで予測値を変換することで質的データにすることができる。例えば2値分析の場合は予測値が0.5以上の場合に陽性として0.5未満の場合に陰性とすることがあり、3値以上の場合は最大値のインデックスを予測値にすることができる。\n",
    "\n",
    "また、回帰分析は予測値が量的データでありデータの取り得る範囲も限定されていないためカテゴリになっている目的変数をワンホットエンコーディングして0と1の2値にして誤差を計測することで誤差が大きい場合には目的変数を選択した項目で説明できていないことが言える。\n",
    "\n",
    "# ライブラリのインポート"
   ]
  },
  {
   "cell_type": "code",
   "execution_count": 26,
   "metadata": {},
   "outputs": [],
   "source": [
    "from sklearn.tree import DecisionTreeClassifier as DTC\n",
    "from sklearn.linear_model import LinearRegression as LR\n",
    "from sklearn.metrics import accuracy_score\n",
    "import matplotlib,pyplot as plt\n",
    "import pandas as pd\n",
    "import numpy as np"
   ]
  },
  {
   "cell_type": "markdown",
   "metadata": {},
   "source": [
    "# データの読み込み"
   ]
  },
  {
   "cell_type": "code",
   "execution_count": 2,
   "metadata": {},
   "outputs": [
    {
     "data": {
      "text/html": [
       "<div>\n",
       "<style scoped>\n",
       "    .dataframe tbody tr th:only-of-type {\n",
       "        vertical-align: middle;\n",
       "    }\n",
       "\n",
       "    .dataframe tbody tr th {\n",
       "        vertical-align: top;\n",
       "    }\n",
       "\n",
       "    .dataframe thead th {\n",
       "        text-align: right;\n",
       "    }\n",
       "</style>\n",
       "<table border=\"1\" class=\"dataframe\">\n",
       "  <thead>\n",
       "    <tr style=\"text-align: right;\">\n",
       "      <th></th>\n",
       "      <th>category</th>\n",
       "      <th>sepal length (cm)</th>\n",
       "      <th>sepal width (cm)</th>\n",
       "      <th>petal length (cm)</th>\n",
       "      <th>petal width (cm)</th>\n",
       "    </tr>\n",
       "  </thead>\n",
       "  <tbody>\n",
       "    <tr>\n",
       "      <th>0</th>\n",
       "      <td>0</td>\n",
       "      <td>5.1</td>\n",
       "      <td>3.5</td>\n",
       "      <td>1.4</td>\n",
       "      <td>0.2</td>\n",
       "    </tr>\n",
       "    <tr>\n",
       "      <th>1</th>\n",
       "      <td>0</td>\n",
       "      <td>4.9</td>\n",
       "      <td>3.0</td>\n",
       "      <td>1.4</td>\n",
       "      <td>0.2</td>\n",
       "    </tr>\n",
       "    <tr>\n",
       "      <th>2</th>\n",
       "      <td>0</td>\n",
       "      <td>4.7</td>\n",
       "      <td>3.2</td>\n",
       "      <td>1.3</td>\n",
       "      <td>0.2</td>\n",
       "    </tr>\n",
       "    <tr>\n",
       "      <th>3</th>\n",
       "      <td>0</td>\n",
       "      <td>4.6</td>\n",
       "      <td>3.1</td>\n",
       "      <td>1.5</td>\n",
       "      <td>0.2</td>\n",
       "    </tr>\n",
       "    <tr>\n",
       "      <th>4</th>\n",
       "      <td>0</td>\n",
       "      <td>5.0</td>\n",
       "      <td>3.6</td>\n",
       "      <td>1.4</td>\n",
       "      <td>0.2</td>\n",
       "    </tr>\n",
       "  </tbody>\n",
       "</table>\n",
       "</div>"
      ],
      "text/plain": [
       "   category  sepal length (cm)  sepal width (cm)  petal length (cm)  \\\n",
       "0         0                5.1               3.5                1.4   \n",
       "1         0                4.9               3.0                1.4   \n",
       "2         0                4.7               3.2                1.3   \n",
       "3         0                4.6               3.1                1.5   \n",
       "4         0                5.0               3.6                1.4   \n",
       "\n",
       "   petal width (cm)  \n",
       "0               0.2  \n",
       "1               0.2  \n",
       "2               0.2  \n",
       "3               0.2  \n",
       "4               0.2  "
      ]
     },
     "execution_count": 2,
     "metadata": {},
     "output_type": "execute_result"
    }
   ],
   "source": [
    "df = pd.read_csv(\"iris.csv\")\n",
    "df.head()"
   ]
  },
  {
   "cell_type": "markdown",
   "metadata": {},
   "source": [
    "# カテゴリデータをワンホットエンコーディング"
   ]
  },
  {
   "cell_type": "code",
   "execution_count": 3,
   "metadata": {},
   "outputs": [
    {
     "data": {
      "text/html": [
       "<div>\n",
       "<style scoped>\n",
       "    .dataframe tbody tr th:only-of-type {\n",
       "        vertical-align: middle;\n",
       "    }\n",
       "\n",
       "    .dataframe tbody tr th {\n",
       "        vertical-align: top;\n",
       "    }\n",
       "\n",
       "    .dataframe thead th {\n",
       "        text-align: right;\n",
       "    }\n",
       "</style>\n",
       "<table border=\"1\" class=\"dataframe\">\n",
       "  <thead>\n",
       "    <tr style=\"text-align: right;\">\n",
       "      <th></th>\n",
       "      <th>sepal length (cm)</th>\n",
       "      <th>sepal width (cm)</th>\n",
       "      <th>petal length (cm)</th>\n",
       "      <th>petal width (cm)</th>\n",
       "      <th>category_0</th>\n",
       "      <th>category_1</th>\n",
       "      <th>category_2</th>\n",
       "    </tr>\n",
       "  </thead>\n",
       "  <tbody>\n",
       "    <tr>\n",
       "      <th>0</th>\n",
       "      <td>5.1</td>\n",
       "      <td>3.5</td>\n",
       "      <td>1.4</td>\n",
       "      <td>0.2</td>\n",
       "      <td>1</td>\n",
       "      <td>0</td>\n",
       "      <td>0</td>\n",
       "    </tr>\n",
       "    <tr>\n",
       "      <th>1</th>\n",
       "      <td>4.9</td>\n",
       "      <td>3.0</td>\n",
       "      <td>1.4</td>\n",
       "      <td>0.2</td>\n",
       "      <td>1</td>\n",
       "      <td>0</td>\n",
       "      <td>0</td>\n",
       "    </tr>\n",
       "    <tr>\n",
       "      <th>2</th>\n",
       "      <td>4.7</td>\n",
       "      <td>3.2</td>\n",
       "      <td>1.3</td>\n",
       "      <td>0.2</td>\n",
       "      <td>1</td>\n",
       "      <td>0</td>\n",
       "      <td>0</td>\n",
       "    </tr>\n",
       "    <tr>\n",
       "      <th>3</th>\n",
       "      <td>4.6</td>\n",
       "      <td>3.1</td>\n",
       "      <td>1.5</td>\n",
       "      <td>0.2</td>\n",
       "      <td>1</td>\n",
       "      <td>0</td>\n",
       "      <td>0</td>\n",
       "    </tr>\n",
       "    <tr>\n",
       "      <th>4</th>\n",
       "      <td>5.0</td>\n",
       "      <td>3.6</td>\n",
       "      <td>1.4</td>\n",
       "      <td>0.2</td>\n",
       "      <td>1</td>\n",
       "      <td>0</td>\n",
       "      <td>0</td>\n",
       "    </tr>\n",
       "  </tbody>\n",
       "</table>\n",
       "</div>"
      ],
      "text/plain": [
       "   sepal length (cm)  sepal width (cm)  petal length (cm)  petal width (cm)  \\\n",
       "0                5.1               3.5                1.4               0.2   \n",
       "1                4.9               3.0                1.4               0.2   \n",
       "2                4.7               3.2                1.3               0.2   \n",
       "3                4.6               3.1                1.5               0.2   \n",
       "4                5.0               3.6                1.4               0.2   \n",
       "\n",
       "   category_0  category_1  category_2  \n",
       "0           1           0           0  \n",
       "1           1           0           0  \n",
       "2           1           0           0  \n",
       "3           1           0           0  \n",
       "4           1           0           0  "
      ]
     },
     "execution_count": 3,
     "metadata": {},
     "output_type": "execute_result"
    }
   ],
   "source": [
    "df_dum = pd.get_dummies(df, columns=[\"category\"])\n",
    "df_dum.head()"
   ]
  },
  {
   "cell_type": "markdown",
   "metadata": {},
   "source": [
    "# 分類寄与率の算出"
   ]
  },
  {
   "cell_type": "code",
   "execution_count": 5,
   "metadata": {},
   "outputs": [],
   "source": [
    "x_table = df.drop(\"category\", axis=1)\n",
    "x_name = x_table.columns\n",
    "x = x_table.values\n",
    "y0 = df_dum[\"category_0\"].values\n",
    "y1 = df_dum[\"category_1\"].values\n",
    "y2 = df_dum[\"category_2\"].values\n",
    "y = df[\"category\"].values"
   ]
  },
  {
   "cell_type": "code",
   "execution_count": 7,
   "metadata": {},
   "outputs": [
    {
     "data": {
      "text/html": [
       "<div>\n",
       "<style scoped>\n",
       "    .dataframe tbody tr th:only-of-type {\n",
       "        vertical-align: middle;\n",
       "    }\n",
       "\n",
       "    .dataframe tbody tr th {\n",
       "        vertical-align: top;\n",
       "    }\n",
       "\n",
       "    .dataframe thead th {\n",
       "        text-align: right;\n",
       "    }\n",
       "</style>\n",
       "<table border=\"1\" class=\"dataframe\">\n",
       "  <thead>\n",
       "    <tr style=\"text-align: right;\">\n",
       "      <th></th>\n",
       "      <th>category</th>\n",
       "    </tr>\n",
       "  </thead>\n",
       "  <tbody>\n",
       "    <tr>\n",
       "      <th>petal width (cm)</th>\n",
       "      <td>0.922611</td>\n",
       "    </tr>\n",
       "    <tr>\n",
       "      <th>petal length (cm)</th>\n",
       "      <td>0.050723</td>\n",
       "    </tr>\n",
       "    <tr>\n",
       "      <th>sepal length (cm)</th>\n",
       "      <td>0.013333</td>\n",
       "    </tr>\n",
       "    <tr>\n",
       "      <th>sepal width (cm)</th>\n",
       "      <td>0.013333</td>\n",
       "    </tr>\n",
       "  </tbody>\n",
       "</table>\n",
       "</div>"
      ],
      "text/plain": [
       "                   category\n",
       "petal width (cm)   0.922611\n",
       "petal length (cm)  0.050723\n",
       "sepal length (cm)  0.013333\n",
       "sepal width (cm)   0.013333"
      ]
     },
     "execution_count": 7,
     "metadata": {},
     "output_type": "execute_result"
    }
   ],
   "source": [
    "model = DTC()\n",
    "model.fit(x, y)\n",
    "imp = model.feature_importances_\n",
    "dfi = pd.DataFrame(imp)\n",
    "dfi.index = x_name\n",
    "dfi.columns = [\"category\"]\n",
    "dfi = dfi.sort_values(\"category\", ascending=False)\n",
    "dfi"
   ]
  },
  {
   "cell_type": "markdown",
   "metadata": {},
   "source": [
    "# 分類寄与率の高い項目で変数選択してモデル構築および評価"
   ]
  },
  {
   "cell_type": "code",
   "execution_count": 15,
   "metadata": {},
   "outputs": [],
   "source": [
    "x_table = pd.concat([df[\"petal width (cm)\"], df[\"petal length (cm)\"]],axis=1)\n",
    "x_name = x_table.columns\n",
    "x_high = x_table.values"
   ]
  },
  {
   "cell_type": "code",
   "execution_count": 17,
   "metadata": {},
   "outputs": [],
   "source": [
    "model_high_0 = LR()\n",
    "model_high_1 = LR()\n",
    "model_high_2 = LR()\n",
    "model_high_0.fit(x_high, y0)\n",
    "model_high_1.fit(x_high, y1)\n",
    "model_high_2.fit(x_high, y2)\n",
    "y_pred_high_0 = model_high_0.predict(x_high)\n",
    "y_pred_high_1 = model_high_1.predict(x_high)\n",
    "y_pred_high_2 = model_high_2.predict(x_high)"
   ]
  },
  {
   "cell_type": "code",
   "execution_count": 75,
   "metadata": {},
   "outputs": [
    {
     "name": "stdout",
     "output_type": "stream",
     "text": [
      "accuracy = 0.77\n"
     ]
    }
   ],
   "source": [
    "high_pred=[]\n",
    "for i in range(len(x_high)):\n",
    "    tmp=[]\n",
    "    tmp.append([y_pred_high_0[i], y_pred_high_1[i], y_pred_high_2[i]])\n",
    "    tmp = np.array(tmp)\n",
    "    high_pred.append(np.argmax(tmp))\n",
    "print(\"accuracy = %.2f\"%(accuracy_score(y, high_pred)))"
   ]
  },
  {
   "cell_type": "markdown",
   "metadata": {},
   "source": [
    "# 分類寄与率の低い項目で変数選択してモデル構築および評価"
   ]
  },
  {
   "cell_type": "code",
   "execution_count": 72,
   "metadata": {},
   "outputs": [],
   "source": [
    "x_table = pd.concat([df[\"sepal width (cm)\"], df[\"sepal length (cm)\"]],axis=1)\n",
    "x_name = x_table.columns\n",
    "x_low = x_table.values"
   ]
  },
  {
   "cell_type": "code",
   "execution_count": 73,
   "metadata": {},
   "outputs": [],
   "source": [
    "model_low_0 = LR()\n",
    "model_low_1 = LR()\n",
    "model_low_2 = LR()\n",
    "model_low_0.fit(x_low, y0)\n",
    "model_low_1.fit(x_low, y1)\n",
    "model_low_2.fit(x_low, y2)\n",
    "y_pred_low_0 = model_low_0.predict(x_low)\n",
    "y_pred_low_1 = model_low_1.predict(x_low)\n",
    "y_pred_low_2 = model_low_2.predict(x_low)"
   ]
  },
  {
   "cell_type": "code",
   "execution_count": 76,
   "metadata": {},
   "outputs": [
    {
     "name": "stdout",
     "output_type": "stream",
     "text": [
      "accuracy = 0.79\n"
     ]
    }
   ],
   "source": [
    "low_pred=[]\n",
    "for i in range(len(x_low)):\n",
    "    tmp=[]\n",
    "    tmp.append([y_pred_low_0[i], y_pred_low_1[i], y_pred_low_2[i]])\n",
    "    tmp = np.array(tmp)\n",
    "    low_pred.append(np.argmax(tmp))\n",
    "print(\"accuracy = %.2f\"%(accuracy_score(y, low_pred)))"
   ]
  },
  {
   "cell_type": "markdown",
   "metadata": {},
   "source": [
    "正解率で比較したときに分類寄与率が低い方が精度が高いことが分かった。その原因を考察するため、今度は分類寄与率の高低度合いと各カテゴリごとのモデルで予測値とワンホットエンコーディングで2値変換した理論値で誤差を計算する。\n",
    "\n",
    "# カテゴリごとに誤差を算出する"
   ]
  },
  {
   "cell_type": "code",
   "execution_count": 77,
   "metadata": {},
   "outputs": [],
   "source": [
    "low0 = y_pred_low_0 - y0\n",
    "low1 = y_pred_low_1 - y1\n",
    "low2 = y_pred_low_2 - y2\n",
    "high0 = y_pred_high_0 - y0\n",
    "high1 = y_pred_high_1 - y1\n",
    "high2 = y_pred_high_2 - y2"
   ]
  },
  {
   "cell_type": "markdown",
   "metadata": {},
   "source": [
    "# 分類寄与率の低い項目を説明変数にした場合で誤差を可視化"
   ]
  },
  {
   "cell_type": "code",
   "execution_count": 78,
   "metadata": {},
   "outputs": [
    {
     "data": {
      "image/png": "[encoded data removed]",
      "text/plain": [
       "<Figure size 432x288 with 1 Axes>"
      ]
     },
     "metadata": {
      "needs_background": "light"
     },
     "output_type": "display_data"
    }
   ],
   "source": [
    "plt.bar(range(len(low0)), low0, label=\"0\")\n",
    "plt.bar(range(len(low1)), low1, label=\"1\")\n",
    "plt.bar(range(len(low2)), low2, label=\"2\")\n",
    "plt.legend()\n",
    "plt.ylim(-1, 1)\n",
    "plt.show()"
   ]
  },
  {
   "cell_type": "markdown",
   "metadata": {},
   "source": [
    "# 分類寄与率の高い項目を説明変数にした場合で誤差を可視化"
   ]
  },
  {
   "cell_type": "code",
   "execution_count": 79,
   "metadata": {},
   "outputs": [
    {
     "data": {
      "image/png": "[encoded data removed]",
      "text/plain": [
       "<Figure size 432x288 with 1 Axes>"
      ]
     },
     "metadata": {
      "needs_background": "light"
     },
     "output_type": "display_data"
    }
   ],
   "source": [
    "plt.bar(range(len(high0)), high0, label=\"0\")\n",
    "plt.bar(range(len(high1)), high1, label=\"1\")\n",
    "plt.bar(range(len(high2)), high2, label=\"2\")\n",
    "plt.legend()\n",
    "plt.ylim(-1, 1)\n",
    "plt.show()"
   ]
  },
  {
   "cell_type": "markdown",
   "metadata": {},
   "source": [
    "可視化したデータからは分類寄与率が高いデータで作成されたモデルの方が誤差が安定しており尚且つ小さいことが分かる。\n",
    "\n",
    "# 要約統計量を用いて数値でデータを比較\n",
    "各データに対して二乗平方値を用いて誤差について考察する。ここで注目するところとしてはバラつきである標準偏差(std)と全体の値となる平均値(mean)・中央値(50%)・最大値(max)・最小値(min)を確認する。"
   ]
  },
  {
   "cell_type": "code",
   "execution_count": 84,
   "metadata": {},
   "outputs": [
    {
     "data": {
      "text/html": [
       "<div>\n",
       "<style scoped>\n",
       "    .dataframe tbody tr th:only-of-type {\n",
       "        vertical-align: middle;\n",
       "    }\n",
       "\n",
       "    .dataframe tbody tr th {\n",
       "        vertical-align: top;\n",
       "    }\n",
       "\n",
       "    .dataframe thead th {\n",
       "        text-align: right;\n",
       "    }\n",
       "</style>\n",
       "<table border=\"1\" class=\"dataframe\">\n",
       "  <thead>\n",
       "    <tr style=\"text-align: right;\">\n",
       "      <th></th>\n",
       "      <th>low0</th>\n",
       "      <th>high0</th>\n",
       "      <th>low1</th>\n",
       "      <th>high1</th>\n",
       "      <th>low2</th>\n",
       "      <th>high2</th>\n",
       "    </tr>\n",
       "  </thead>\n",
       "  <tbody>\n",
       "    <tr>\n",
       "      <th>count</th>\n",
       "      <td>150.000000</td>\n",
       "      <td>150.000000</td>\n",
       "      <td>150.000000</td>\n",
       "      <td>150.000000</td>\n",
       "      <td>150.000000</td>\n",
       "      <td>150.000000</td>\n",
       "    </tr>\n",
       "    <tr>\n",
       "      <th>mean</th>\n",
       "      <td>0.176223</td>\n",
       "      <td>0.146928</td>\n",
       "      <td>0.366455</td>\n",
       "      <td>0.391629</td>\n",
       "      <td>0.288118</td>\n",
       "      <td>0.254578</td>\n",
       "    </tr>\n",
       "    <tr>\n",
       "      <th>std</th>\n",
       "      <td>0.129446</td>\n",
       "      <td>0.107329</td>\n",
       "      <td>0.200070</td>\n",
       "      <td>0.206593</td>\n",
       "      <td>0.219617</td>\n",
       "      <td>0.158041</td>\n",
       "    </tr>\n",
       "    <tr>\n",
       "      <th>min</th>\n",
       "      <td>0.000278</td>\n",
       "      <td>0.000213</td>\n",
       "      <td>0.000772</td>\n",
       "      <td>0.006749</td>\n",
       "      <td>0.000841</td>\n",
       "      <td>0.000250</td>\n",
       "    </tr>\n",
       "    <tr>\n",
       "      <th>25%</th>\n",
       "      <td>0.062249</td>\n",
       "      <td>0.078367</td>\n",
       "      <td>0.223631</td>\n",
       "      <td>0.216447</td>\n",
       "      <td>0.088767</td>\n",
       "      <td>0.133065</td>\n",
       "    </tr>\n",
       "    <tr>\n",
       "      <th>50%</th>\n",
       "      <td>0.151112</td>\n",
       "      <td>0.120832</td>\n",
       "      <td>0.362282</td>\n",
       "      <td>0.314412</td>\n",
       "      <td>0.258204</td>\n",
       "      <td>0.235705</td>\n",
       "    </tr>\n",
       "    <tr>\n",
       "      <th>75%</th>\n",
       "      <td>0.277393</td>\n",
       "      <td>0.197997</td>\n",
       "      <td>0.520342</td>\n",
       "      <td>0.589821</td>\n",
       "      <td>0.448811</td>\n",
       "      <td>0.380442</td>\n",
       "    </tr>\n",
       "    <tr>\n",
       "      <th>max</th>\n",
       "      <td>0.625996</td>\n",
       "      <td>0.522485</td>\n",
       "      <td>0.838278</td>\n",
       "      <td>0.847110</td>\n",
       "      <td>0.969417</td>\n",
       "      <td>0.669747</td>\n",
       "    </tr>\n",
       "  </tbody>\n",
       "</table>\n",
       "</div>"
      ],
      "text/plain": [
       "             low0       high0        low1       high1        low2       high2\n",
       "count  150.000000  150.000000  150.000000  150.000000  150.000000  150.000000\n",
       "mean     0.176223    0.146928    0.366455    0.391629    0.288118    0.254578\n",
       "std      0.129446    0.107329    0.200070    0.206593    0.219617    0.158041\n",
       "min      0.000278    0.000213    0.000772    0.006749    0.000841    0.000250\n",
       "25%      0.062249    0.078367    0.223631    0.216447    0.088767    0.133065\n",
       "50%      0.151112    0.120832    0.362282    0.314412    0.258204    0.235705\n",
       "75%      0.277393    0.197997    0.520342    0.589821    0.448811    0.380442\n",
       "max      0.625996    0.522485    0.838278    0.847110    0.969417    0.669747"
      ]
     },
     "execution_count": 84,
     "metadata": {},
     "output_type": "execute_result"
    }
   ],
   "source": [
    "dfe = pd.DataFrame([np.sqrt(low0**2), np.sqrt(high0**2), np.sqrt(low1**2), np.sqrt(high1**2), np.sqrt(low2**2), np.sqrt(high2**2)])\n",
    "dfe = dfe.T\n",
    "dfe.columns = [\"low0\", \"high0\", \"low1\", \"high1\", \"low2\", \"high2\"]\n",
    "dfal0 = dfe[\"low0\"].describe()\n",
    "dfal1 = dfe[\"low1\"].describe()\n",
    "dfal2 = dfe[\"low2\"].describe()\n",
    "dfah0 = dfe[\"high0\"].describe()\n",
    "dfah1 = dfe[\"high1\"].describe()\n",
    "dfah2 = dfe[\"high2\"].describe()\n",
    "dfa = pd.concat([dfal0, dfah0, dfal1, dfah1, dfal2, dfah2],axis=1)\n",
    "dfa.columns = dfe.columns\n",
    "dfa"
   ]
  },
  {
   "cell_type": "markdown",
   "metadata": {},
   "source": [
    "各項目に着目してみるとラベルが1の時に誤差の平均値が他のラベルと異なり分類寄与率の高い項目の方が高くなる。ここから、ラベルが1の場合に使用されている項目で目的変数を説明しきれていないことが考察できる。"
   ]
  },
  {
   "cell_type": "code",
   "execution_count": null,
   "metadata": {},
   "outputs": [],
   "source": []
  }
 ],
 "metadata": {
  "kernelspec": {
   "display_name": "Python 3",
   "language": "python",
   "name": "python3"
  },
  "language_info": {
   "codemirror_mode": {
    "name": "ipython",
    "version": 3
   },
   "file_extension": ".py",
   "mimetype": "text/x-python",
   "name": "python",
   "nbconvert_exporter": "python",
   "pygments_lexer": "ipython3",
   "version": "3.7.1"
  }
 },
 "nbformat": 4,
 "nbformat_minor": 2
}
