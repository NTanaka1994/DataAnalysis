{
 "cells": [
  {
   "cell_type": "markdown",
   "metadata": {},
   "source": [
    "# カイ二乗検定\n",
    "原因系変数が質的変数で、結果系変数が質的変数の場合において分析方法の一つにクロス集計表がある。クロス集計表では個々の分析ではオッズ比やリスク比があるが、全体ではカイ二乗検定を使用する。\n",
    "\n",
    "カイ二乗検定では帰無仮説が「理論値と実測値は同じ」となるためp値は「理論値と実測値がたまたま同じ確率」となる。\n",
    "\n",
    "また、カイ二乗検定では調整済み標準化誤差を算出することで、クロス集計表のセルごとにp値を算出することができる。\n",
    "\n",
    "## ライブラリのインポート"
   ]
  },
  {
   "cell_type": "code",
   "execution_count": 1,
   "metadata": {},
   "outputs": [],
   "source": [
    "import pandas as pd\n",
    "import scipy as sp\n",
    "import scipy.stats as stats\n",
    "import numpy as np"
   ]
  },
  {
   "cell_type": "markdown",
   "metadata": {},
   "source": [
    "## データの読み込み"
   ]
  },
  {
   "cell_type": "code",
   "execution_count": 2,
   "metadata": {
    "scrolled": true
   },
   "outputs": [
    {
     "data": {
      "text/html": [
       "<div>\n",
       "<style scoped>\n",
       "    .dataframe tbody tr th:only-of-type {\n",
       "        vertical-align: middle;\n",
       "    }\n",
       "\n",
       "    .dataframe tbody tr th {\n",
       "        vertical-align: top;\n",
       "    }\n",
       "\n",
       "    .dataframe thead th {\n",
       "        text-align: right;\n",
       "    }\n",
       "</style>\n",
       "<table border=\"1\" class=\"dataframe\">\n",
       "  <thead>\n",
       "    <tr style=\"text-align: right;\">\n",
       "      <th></th>\n",
       "      <th>天気</th>\n",
       "      <th>気温</th>\n",
       "      <th>湿度</th>\n",
       "      <th>風</th>\n",
       "      <th>ゴルフ</th>\n",
       "    </tr>\n",
       "  </thead>\n",
       "  <tbody>\n",
       "    <tr>\n",
       "      <th>0</th>\n",
       "      <td>晴</td>\n",
       "      <td>29</td>\n",
       "      <td>85</td>\n",
       "      <td>弱</td>\n",
       "      <td>しない</td>\n",
       "    </tr>\n",
       "    <tr>\n",
       "      <th>1</th>\n",
       "      <td>晴</td>\n",
       "      <td>27</td>\n",
       "      <td>90</td>\n",
       "      <td>強</td>\n",
       "      <td>しない</td>\n",
       "    </tr>\n",
       "    <tr>\n",
       "      <th>2</th>\n",
       "      <td>曇</td>\n",
       "      <td>28</td>\n",
       "      <td>78</td>\n",
       "      <td>弱</td>\n",
       "      <td>する</td>\n",
       "    </tr>\n",
       "    <tr>\n",
       "      <th>3</th>\n",
       "      <td>雨</td>\n",
       "      <td>21</td>\n",
       "      <td>96</td>\n",
       "      <td>弱</td>\n",
       "      <td>する</td>\n",
       "    </tr>\n",
       "    <tr>\n",
       "      <th>4</th>\n",
       "      <td>雨</td>\n",
       "      <td>20</td>\n",
       "      <td>80</td>\n",
       "      <td>弱</td>\n",
       "      <td>する</td>\n",
       "    </tr>\n",
       "  </tbody>\n",
       "</table>\n",
       "</div>"
      ],
      "text/plain": [
       "  天気  気温  湿度  風  ゴルフ\n",
       "0  晴  29  85  弱  しない\n",
       "1  晴  27  90  強  しない\n",
       "2  曇  28  78  弱   する\n",
       "3  雨  21  96  弱   する\n",
       "4  雨  20  80  弱   する"
      ]
     },
     "execution_count": 2,
     "metadata": {},
     "output_type": "execute_result"
    }
   ],
   "source": [
    "df = pd.read_csv(\"golf.csv\",encoding=\"shift-jis\")\n",
    "df.head()"
   ]
  },
  {
   "cell_type": "markdown",
   "metadata": {},
   "source": [
    "## クロス集計表の作成\n",
    "ここでは目的変数を「ゴルフ」とし、原因変数を「天気」と「風」にする。"
   ]
  },
  {
   "cell_type": "code",
   "execution_count": 3,
   "metadata": {},
   "outputs": [
    {
     "data": {
      "text/html": [
       "<div>\n",
       "<style scoped>\n",
       "    .dataframe tbody tr th:only-of-type {\n",
       "        vertical-align: middle;\n",
       "    }\n",
       "\n",
       "    .dataframe tbody tr th {\n",
       "        vertical-align: top;\n",
       "    }\n",
       "\n",
       "    .dataframe thead tr th {\n",
       "        text-align: left;\n",
       "    }\n",
       "\n",
       "    .dataframe thead tr:last-of-type th {\n",
       "        text-align: right;\n",
       "    }\n",
       "</style>\n",
       "<table border=\"1\" class=\"dataframe\">\n",
       "  <thead>\n",
       "    <tr>\n",
       "      <th>天気</th>\n",
       "      <th colspan=\"2\" halign=\"left\">晴</th>\n",
       "      <th colspan=\"2\" halign=\"left\">曇</th>\n",
       "      <th colspan=\"2\" halign=\"left\">雨</th>\n",
       "    </tr>\n",
       "    <tr>\n",
       "      <th>風</th>\n",
       "      <th>弱</th>\n",
       "      <th>強</th>\n",
       "      <th>弱</th>\n",
       "      <th>強</th>\n",
       "      <th>弱</th>\n",
       "      <th>強</th>\n",
       "    </tr>\n",
       "    <tr>\n",
       "      <th>ゴルフ</th>\n",
       "      <th></th>\n",
       "      <th></th>\n",
       "      <th></th>\n",
       "      <th></th>\n",
       "      <th></th>\n",
       "      <th></th>\n",
       "    </tr>\n",
       "  </thead>\n",
       "  <tbody>\n",
       "    <tr>\n",
       "      <th>しない</th>\n",
       "      <td>2</td>\n",
       "      <td>1</td>\n",
       "      <td>0</td>\n",
       "      <td>0</td>\n",
       "      <td>0</td>\n",
       "      <td>2</td>\n",
       "    </tr>\n",
       "    <tr>\n",
       "      <th>する</th>\n",
       "      <td>1</td>\n",
       "      <td>1</td>\n",
       "      <td>2</td>\n",
       "      <td>2</td>\n",
       "      <td>3</td>\n",
       "      <td>0</td>\n",
       "    </tr>\n",
       "  </tbody>\n",
       "</table>\n",
       "</div>"
      ],
      "text/plain": [
       "天気   晴     曇     雨   \n",
       "風    弱  強  弱  強  弱  強\n",
       "ゴルフ                  \n",
       "しない  2  1  0  0  0  2\n",
       "する   1  1  2  2  3  0"
      ]
     },
     "execution_count": 3,
     "metadata": {},
     "output_type": "execute_result"
    }
   ],
   "source": [
    "cross = pd.crosstab(df[\"ゴルフ\"],[df[\"天気\"],df[\"風\"]])\n",
    "cross"
   ]
  },
  {
   "cell_type": "markdown",
   "metadata": {},
   "source": [
    "## p値"
   ]
  },
  {
   "cell_type": "code",
   "execution_count": 4,
   "metadata": {},
   "outputs": [],
   "source": [
    "x2, p, df, expected=sp.stats.chi2_contingency(cross)"
   ]
  },
  {
   "cell_type": "code",
   "execution_count": 5,
   "metadata": {},
   "outputs": [
    {
     "name": "stdout",
     "output_type": "stream",
     "text": [
      "0.11235865025855099\n"
     ]
    }
   ],
   "source": [
    "print(p)"
   ]
  },
  {
   "cell_type": "markdown",
   "metadata": {},
   "source": [
    "p値からたまたま実測値と理論値が同じになる確率は約11%となり、仮に帰無仮説棄却域を5%とした場合は帰無仮説を棄却出来ないことが分かる。\n",
    "\n",
    "## 理論値の確認"
   ]
  },
  {
   "cell_type": "code",
   "execution_count": 6,
   "metadata": {},
   "outputs": [
    {
     "data": {
      "text/html": [
       "<div>\n",
       "<style scoped>\n",
       "    .dataframe tbody tr th:only-of-type {\n",
       "        vertical-align: middle;\n",
       "    }\n",
       "\n",
       "    .dataframe tbody tr th {\n",
       "        vertical-align: top;\n",
       "    }\n",
       "\n",
       "    .dataframe thead tr th {\n",
       "        text-align: left;\n",
       "    }\n",
       "\n",
       "    .dataframe thead tr:last-of-type th {\n",
       "        text-align: right;\n",
       "    }\n",
       "</style>\n",
       "<table border=\"1\" class=\"dataframe\">\n",
       "  <thead>\n",
       "    <tr>\n",
       "      <th>天気</th>\n",
       "      <th colspan=\"2\" halign=\"left\">晴</th>\n",
       "      <th colspan=\"2\" halign=\"left\">曇</th>\n",
       "      <th colspan=\"2\" halign=\"left\">雨</th>\n",
       "    </tr>\n",
       "    <tr>\n",
       "      <th>風</th>\n",
       "      <th>弱</th>\n",
       "      <th>強</th>\n",
       "      <th>弱</th>\n",
       "      <th>強</th>\n",
       "      <th>弱</th>\n",
       "      <th>強</th>\n",
       "    </tr>\n",
       "    <tr>\n",
       "      <th>ゴルフ</th>\n",
       "      <th></th>\n",
       "      <th></th>\n",
       "      <th></th>\n",
       "      <th></th>\n",
       "      <th></th>\n",
       "      <th></th>\n",
       "    </tr>\n",
       "  </thead>\n",
       "  <tbody>\n",
       "    <tr>\n",
       "      <th>しない</th>\n",
       "      <td>1.071429</td>\n",
       "      <td>0.714286</td>\n",
       "      <td>0.714286</td>\n",
       "      <td>0.714286</td>\n",
       "      <td>1.071429</td>\n",
       "      <td>0.714286</td>\n",
       "    </tr>\n",
       "    <tr>\n",
       "      <th>する</th>\n",
       "      <td>1.928571</td>\n",
       "      <td>1.285714</td>\n",
       "      <td>1.285714</td>\n",
       "      <td>1.285714</td>\n",
       "      <td>1.928571</td>\n",
       "      <td>1.285714</td>\n",
       "    </tr>\n",
       "  </tbody>\n",
       "</table>\n",
       "</div>"
      ],
      "text/plain": [
       "天気          晴                   曇                   雨          \n",
       "風           弱         強         弱         強         弱         強\n",
       "ゴルフ                                                            \n",
       "しない  1.071429  0.714286  0.714286  0.714286  1.071429  0.714286\n",
       "する   1.928571  1.285714  1.285714  1.285714  1.928571  1.285714"
      ]
     },
     "execution_count": 6,
     "metadata": {},
     "output_type": "execute_result"
    }
   ],
   "source": [
    "dfe = pd.DataFrame(expected)\n",
    "dfe.columns = cross.columns\n",
    "dfe.index = cross.index\n",
    "dfe"
   ]
  },
  {
   "cell_type": "markdown",
   "metadata": {},
   "source": [
    "## 自由度\n",
    "基本的に自由度は5を超えるようにするのが一般的となっている"
   ]
  },
  {
   "cell_type": "code",
   "execution_count": 7,
   "metadata": {},
   "outputs": [
    {
     "data": {
      "text/plain": [
       "5"
      ]
     },
     "execution_count": 7,
     "metadata": {},
     "output_type": "execute_result"
    }
   ],
   "source": [
    "df"
   ]
  },
  {
   "cell_type": "markdown",
   "metadata": {},
   "source": [
    "## 実測値と理論値の差"
   ]
  },
  {
   "cell_type": "code",
   "execution_count": 8,
   "metadata": {},
   "outputs": [
    {
     "data": {
      "text/html": [
       "<div>\n",
       "<style scoped>\n",
       "    .dataframe tbody tr th:only-of-type {\n",
       "        vertical-align: middle;\n",
       "    }\n",
       "\n",
       "    .dataframe tbody tr th {\n",
       "        vertical-align: top;\n",
       "    }\n",
       "\n",
       "    .dataframe thead tr th {\n",
       "        text-align: left;\n",
       "    }\n",
       "\n",
       "    .dataframe thead tr:last-of-type th {\n",
       "        text-align: right;\n",
       "    }\n",
       "</style>\n",
       "<table border=\"1\" class=\"dataframe\">\n",
       "  <thead>\n",
       "    <tr>\n",
       "      <th>天気</th>\n",
       "      <th colspan=\"2\" halign=\"left\">晴</th>\n",
       "      <th colspan=\"2\" halign=\"left\">曇</th>\n",
       "      <th colspan=\"2\" halign=\"left\">雨</th>\n",
       "    </tr>\n",
       "    <tr>\n",
       "      <th>風</th>\n",
       "      <th>弱</th>\n",
       "      <th>強</th>\n",
       "      <th>弱</th>\n",
       "      <th>強</th>\n",
       "      <th>弱</th>\n",
       "      <th>強</th>\n",
       "    </tr>\n",
       "    <tr>\n",
       "      <th>ゴルフ</th>\n",
       "      <th></th>\n",
       "      <th></th>\n",
       "      <th></th>\n",
       "      <th></th>\n",
       "      <th></th>\n",
       "      <th></th>\n",
       "    </tr>\n",
       "  </thead>\n",
       "  <tbody>\n",
       "    <tr>\n",
       "      <th>しない</th>\n",
       "      <td>0.928571</td>\n",
       "      <td>0.285714</td>\n",
       "      <td>-0.714286</td>\n",
       "      <td>-0.714286</td>\n",
       "      <td>-1.071429</td>\n",
       "      <td>1.285714</td>\n",
       "    </tr>\n",
       "    <tr>\n",
       "      <th>する</th>\n",
       "      <td>-0.928571</td>\n",
       "      <td>-0.285714</td>\n",
       "      <td>0.714286</td>\n",
       "      <td>0.714286</td>\n",
       "      <td>1.071429</td>\n",
       "      <td>-1.285714</td>\n",
       "    </tr>\n",
       "  </tbody>\n",
       "</table>\n",
       "</div>"
      ],
      "text/plain": [
       "天気          晴                   曇                   雨          \n",
       "風           弱         強         弱         強         弱         強\n",
       "ゴルフ                                                            \n",
       "しない  0.928571  0.285714 -0.714286 -0.714286 -1.071429  1.285714\n",
       "する  -0.928571 -0.285714  0.714286  0.714286  1.071429 -1.285714"
      ]
     },
     "execution_count": 8,
     "metadata": {},
     "output_type": "execute_result"
    }
   ],
   "source": [
    "diff = cross-expected\n",
    "diff"
   ]
  },
  {
   "cell_type": "markdown",
   "metadata": {},
   "source": [
    "## 調整済み標準化誤差"
   ]
  },
  {
   "cell_type": "code",
   "execution_count": 9,
   "metadata": {},
   "outputs": [
    {
     "data": {
      "text/plain": [
       "array([[2, 1, 0, 0, 0, 2],\n",
       "       [1, 1, 2, 2, 3, 0]], dtype=int64)"
      ]
     },
     "execution_count": 9,
     "metadata": {},
     "output_type": "execute_result"
    }
   ],
   "source": [
    "tab = cross.values\n",
    "tab"
   ]
  },
  {
   "cell_type": "code",
   "execution_count": 10,
   "metadata": {},
   "outputs": [],
   "source": [
    "col_sum = []\n",
    "ind_sum = []"
   ]
  },
  {
   "cell_type": "code",
   "execution_count": 11,
   "metadata": {},
   "outputs": [
    {
     "data": {
      "text/plain": [
       "[5, 9]"
      ]
     },
     "execution_count": 11,
     "metadata": {},
     "output_type": "execute_result"
    }
   ],
   "source": [
    "for i in range(len(tab)):\n",
    "    ind_sum.append(sum(tab[i]))\n",
    "ind_sum"
   ]
  },
  {
   "cell_type": "code",
   "execution_count": 12,
   "metadata": {},
   "outputs": [
    {
     "data": {
      "text/plain": [
       "[3, 2, 2, 2, 3, 2]"
      ]
     },
     "execution_count": 12,
     "metadata": {},
     "output_type": "execute_result"
    }
   ],
   "source": [
    "for i in range(len(tab[0])):\n",
    "    col_sum.append(sum(tab[:,i]))\n",
    "col_sum"
   ]
  },
  {
   "cell_type": "code",
   "execution_count": 13,
   "metadata": {},
   "outputs": [
    {
     "data": {
      "text/plain": [
       "14"
      ]
     },
     "execution_count": 13,
     "metadata": {},
     "output_type": "execute_result"
    }
   ],
   "source": [
    "total = sum(col_sum)\n",
    "total"
   ]
  },
  {
   "cell_type": "code",
   "execution_count": 14,
   "metadata": {},
   "outputs": [
    {
     "data": {
      "text/html": [
       "<div>\n",
       "<style scoped>\n",
       "    .dataframe tbody tr th:only-of-type {\n",
       "        vertical-align: middle;\n",
       "    }\n",
       "\n",
       "    .dataframe tbody tr th {\n",
       "        vertical-align: top;\n",
       "    }\n",
       "\n",
       "    .dataframe thead tr th {\n",
       "        text-align: left;\n",
       "    }\n",
       "\n",
       "    .dataframe thead tr:last-of-type th {\n",
       "        text-align: right;\n",
       "    }\n",
       "</style>\n",
       "<table border=\"1\" class=\"dataframe\">\n",
       "  <thead>\n",
       "    <tr>\n",
       "      <th>天気</th>\n",
       "      <th colspan=\"2\" halign=\"left\">晴</th>\n",
       "      <th colspan=\"2\" halign=\"left\">曇</th>\n",
       "      <th colspan=\"2\" halign=\"left\">雨</th>\n",
       "    </tr>\n",
       "    <tr>\n",
       "      <th>風</th>\n",
       "      <th>弱</th>\n",
       "      <th>強</th>\n",
       "      <th>弱</th>\n",
       "      <th>強</th>\n",
       "      <th>弱</th>\n",
       "      <th>強</th>\n",
       "    </tr>\n",
       "    <tr>\n",
       "      <th>ゴルフ</th>\n",
       "      <th></th>\n",
       "      <th></th>\n",
       "      <th></th>\n",
       "      <th></th>\n",
       "      <th></th>\n",
       "      <th></th>\n",
       "    </tr>\n",
       "  </thead>\n",
       "  <tbody>\n",
       "    <tr>\n",
       "      <th>しない</th>\n",
       "      <td>1.262246</td>\n",
       "      <td>0.45542</td>\n",
       "      <td>-1.13855</td>\n",
       "      <td>-1.13855</td>\n",
       "      <td>-1.456438</td>\n",
       "      <td>2.04939</td>\n",
       "    </tr>\n",
       "    <tr>\n",
       "      <th>する</th>\n",
       "      <td>-1.262246</td>\n",
       "      <td>-0.45542</td>\n",
       "      <td>1.13855</td>\n",
       "      <td>1.13855</td>\n",
       "      <td>1.456438</td>\n",
       "      <td>-2.04939</td>\n",
       "    </tr>\n",
       "  </tbody>\n",
       "</table>\n",
       "</div>"
      ],
      "text/plain": [
       "天気          晴                 曇                  雨         \n",
       "風           弱        強        弱        強         弱        強\n",
       "ゴルフ                                                        \n",
       "しない  1.262246  0.45542 -1.13855 -1.13855 -1.456438  2.04939\n",
       "する  -1.262246 -0.45542  1.13855  1.13855  1.456438 -2.04939"
      ]
     },
     "execution_count": 14,
     "metadata": {},
     "output_type": "execute_result"
    }
   ],
   "source": [
    "fix_error = []\n",
    "theory = dfe.values\n",
    "actual = cross.values\n",
    "for i in range(len(tab)):\n",
    "    tmp = []\n",
    "    for j in range(len(tab[i])):\n",
    "        tmp.append((actual[i][j]-theory[i][j])/np.sqrt(theory[i][j]*(1-ind_sum[i]/total)*(1-col_sum[j]/total)))\n",
    "    fix_error.append(tmp)\n",
    "df_fix=pd.DataFrame(fix_error)\n",
    "df_fix.columns = cross.columns\n",
    "df_fix.index = cross.index\n",
    "df_fix"
   ]
  },
  {
   "cell_type": "markdown",
   "metadata": {},
   "source": [
    "## 各セルごとのp値"
   ]
  },
  {
   "cell_type": "code",
   "execution_count": 15,
   "metadata": {},
   "outputs": [
    {
     "data": {
      "text/html": [
       "<div>\n",
       "<style scoped>\n",
       "    .dataframe tbody tr th:only-of-type {\n",
       "        vertical-align: middle;\n",
       "    }\n",
       "\n",
       "    .dataframe tbody tr th {\n",
       "        vertical-align: top;\n",
       "    }\n",
       "\n",
       "    .dataframe thead tr th {\n",
       "        text-align: left;\n",
       "    }\n",
       "\n",
       "    .dataframe thead tr:last-of-type th {\n",
       "        text-align: right;\n",
       "    }\n",
       "</style>\n",
       "<table border=\"1\" class=\"dataframe\">\n",
       "  <thead>\n",
       "    <tr>\n",
       "      <th>天気</th>\n",
       "      <th colspan=\"2\" halign=\"left\">晴</th>\n",
       "      <th colspan=\"2\" halign=\"left\">曇</th>\n",
       "      <th colspan=\"2\" halign=\"left\">雨</th>\n",
       "    </tr>\n",
       "    <tr>\n",
       "      <th>風</th>\n",
       "      <th>弱</th>\n",
       "      <th>強</th>\n",
       "      <th>弱</th>\n",
       "      <th>強</th>\n",
       "      <th>弱</th>\n",
       "      <th>強</th>\n",
       "    </tr>\n",
       "    <tr>\n",
       "      <th>ゴルフ</th>\n",
       "      <th></th>\n",
       "      <th></th>\n",
       "      <th></th>\n",
       "      <th></th>\n",
       "      <th></th>\n",
       "      <th></th>\n",
       "    </tr>\n",
       "  </thead>\n",
       "  <tbody>\n",
       "    <tr>\n",
       "      <th>しない</th>\n",
       "      <td>0.20686</td>\n",
       "      <td>0.648807</td>\n",
       "      <td>0.254891</td>\n",
       "      <td>0.254891</td>\n",
       "      <td>0.145272</td>\n",
       "      <td>0.040424</td>\n",
       "    </tr>\n",
       "    <tr>\n",
       "      <th>する</th>\n",
       "      <td>0.20686</td>\n",
       "      <td>0.648807</td>\n",
       "      <td>0.254891</td>\n",
       "      <td>0.254891</td>\n",
       "      <td>0.145272</td>\n",
       "      <td>0.040424</td>\n",
       "    </tr>\n",
       "  </tbody>\n",
       "</table>\n",
       "</div>"
      ],
      "text/plain": [
       "天気         晴                   曇                   雨          \n",
       "風          弱         強         弱         強         弱         強\n",
       "ゴルフ                                                           \n",
       "しない  0.20686  0.648807  0.254891  0.254891  0.145272  0.040424\n",
       "する   0.20686  0.648807  0.254891  0.254891  0.145272  0.040424"
      ]
     },
     "execution_count": 15,
     "metadata": {},
     "output_type": "execute_result"
    }
   ],
   "source": [
    "p_table = 2 * (1 - stats.norm.cdf(np.abs(fix_error)))\n",
    "dfp = pd.DataFrame(p_table)\n",
    "dfp.index = cross.index\n",
    "dfp.columns = cross.columns\n",
    "dfp"
   ]
  },
  {
   "cell_type": "markdown",
   "metadata": {},
   "source": [
    "p値を確認すると天気が雨で風が強い時に有意に差が表れていることがわかる。ここで、調整済み標準化誤差を確認すると天気が雨で風が強い場合はゴルフをしない事が考えられる。"
   ]
  },
  {
   "cell_type": "code",
   "execution_count": null,
   "metadata": {},
   "outputs": [],
   "source": []
  }
 ],
 "metadata": {
  "kernelspec": {
   "display_name": "Python 3",
   "language": "python",
   "name": "python3"
  },
  "language_info": {
   "codemirror_mode": {
    "name": "ipython",
    "version": 3
   },
   "file_extension": ".py",
   "mimetype": "text/x-python",
   "name": "python",
   "nbconvert_exporter": "python",
   "pygments_lexer": "ipython3",
   "version": "3.7.1"
  }
 },
 "nbformat": 4,
 "nbformat_minor": 2
}
