{
	"cells": [
		{
			"cell_type": "markdown",
			"source": [
				"# 分類寄与率(重要度の評価)\n",
				"決定木系の学習アルゴリズムで予測過程が作られる。そこで、一つの項目でより多く結果を決定できる項目を見つけることで結果に寄与する項目が見つけられ表計算ソフトなどで人の目で項目の特性を分析する上でより早く正確に条件を見つけやすくなる。また、本書では特筆しないが機械学習の予測パフォーマンスを向上させるうえで学習させる項目について重要度の低い項目を取り除くことで負荷の軽減や精度の向上が期待できる。\n",
				"\n",
				"# ライブラリのインポート"
			],
			"metadata": {
				"id": "84SDK-9YkWHO"
			}
		},
		{
			"cell_type": "code",
			"execution_count": null,
			"metadata": {
				"id": "99stfwGUkVGs"
			},
			"outputs": [],
			"source": [
				"from sklearn.ensemble import GradientBoostingClassifier as GBC\n",
				"import pandas as pd"
			]
		},
		{
			"cell_type": "markdown",
			"source": [
				"# データの読み込み"
			],
			"metadata": {
				"id": "nQXZBvt4ljkt"
			}
		},
		{
			"cell_type": "code",
			"execution_count": null,
			"metadata": {
				"id": "KcT513SHkVGv",
				"outputId": "292a87a2-4a8e-4385-b41f-d03a5fe8511c"
			},
			"outputs": [
				{
					"data": {
						"text/html": [
							"<div>\n",
							"<style scoped>\n",
							"    .dataframe tbody tr th:only-of-type {\n",
							"        vertical-align: middle;\n",
							"    }\n",
							"\n",
							"    .dataframe tbody tr th {\n",
							"        vertical-align: top;\n",
							"    }\n",
							"\n",
							"    .dataframe thead th {\n",
							"        text-align: right;\n",
							"    }\n",
							"</style>\n",
							"<table border=\"1\" class=\"dataframe\">\n",
							"  <thead>\n",
							"    <tr style=\"text-align: right;\">\n",
							"      <th></th>\n",
							"      <th>Wine</th>\n",
							"      <th>Alcohol</th>\n",
							"      <th>Malic.acid</th>\n",
							"      <th>Ash</th>\n",
							"      <th>Acl</th>\n",
							"      <th>Mg</th>\n",
							"      <th>Phenols</th>\n",
							"      <th>Flavanoids</th>\n",
							"      <th>Nonflavanoid.phenols</th>\n",
							"      <th>Proanth</th>\n",
							"      <th>Color.int</th>\n",
							"      <th>Hue</th>\n",
							"      <th>OD</th>\n",
							"      <th>Proline</th>\n",
							"    </tr>\n",
							"  </thead>\n",
							"  <tbody>\n",
							"    <tr>\n",
							"      <th>0</th>\n",
							"      <td>1</td>\n",
							"      <td>13.20</td>\n",
							"      <td>1.78</td>\n",
							"      <td>2.14</td>\n",
							"      <td>11.2</td>\n",
							"      <td>100</td>\n",
							"      <td>2.65</td>\n",
							"      <td>2.76</td>\n",
							"      <td>0.26</td>\n",
							"      <td>1.28</td>\n",
							"      <td>4.38</td>\n",
							"      <td>1.05</td>\n",
							"      <td>3.40</td>\n",
							"      <td>1050</td>\n",
							"    </tr>\n",
							"    <tr>\n",
							"      <th>1</th>\n",
							"      <td>1</td>\n",
							"      <td>13.16</td>\n",
							"      <td>2.36</td>\n",
							"      <td>2.67</td>\n",
							"      <td>18.6</td>\n",
							"      <td>101</td>\n",
							"      <td>2.80</td>\n",
							"      <td>3.24</td>\n",
							"      <td>0.30</td>\n",
							"      <td>2.81</td>\n",
							"      <td>5.68</td>\n",
							"      <td>1.03</td>\n",
							"      <td>3.17</td>\n",
							"      <td>1185</td>\n",
							"    </tr>\n",
							"    <tr>\n",
							"      <th>2</th>\n",
							"      <td>1</td>\n",
							"      <td>14.37</td>\n",
							"      <td>1.95</td>\n",
							"      <td>2.50</td>\n",
							"      <td>16.8</td>\n",
							"      <td>113</td>\n",
							"      <td>3.85</td>\n",
							"      <td>3.49</td>\n",
							"      <td>0.24</td>\n",
							"      <td>2.18</td>\n",
							"      <td>7.80</td>\n",
							"      <td>0.86</td>\n",
							"      <td>3.45</td>\n",
							"      <td>1480</td>\n",
							"    </tr>\n",
							"    <tr>\n",
							"      <th>3</th>\n",
							"      <td>1</td>\n",
							"      <td>13.24</td>\n",
							"      <td>2.59</td>\n",
							"      <td>2.87</td>\n",
							"      <td>21.0</td>\n",
							"      <td>118</td>\n",
							"      <td>2.80</td>\n",
							"      <td>2.69</td>\n",
							"      <td>0.39</td>\n",
							"      <td>1.82</td>\n",
							"      <td>4.32</td>\n",
							"      <td>1.04</td>\n",
							"      <td>2.93</td>\n",
							"      <td>735</td>\n",
							"    </tr>\n",
							"    <tr>\n",
							"      <th>4</th>\n",
							"      <td>1</td>\n",
							"      <td>14.20</td>\n",
							"      <td>1.76</td>\n",
							"      <td>2.45</td>\n",
							"      <td>15.2</td>\n",
							"      <td>112</td>\n",
							"      <td>3.27</td>\n",
							"      <td>3.39</td>\n",
							"      <td>0.34</td>\n",
							"      <td>1.97</td>\n",
							"      <td>6.75</td>\n",
							"      <td>1.05</td>\n",
							"      <td>2.85</td>\n",
							"      <td>1450</td>\n",
							"    </tr>\n",
							"  </tbody>\n",
							"</table>\n",
							"</div>"
						],
						"text/plain": [
							"   Wine  Alcohol  Malic.acid   Ash   Acl   Mg  Phenols  Flavanoids  \\\n",
							"0     1    13.20        1.78  2.14  11.2  100     2.65        2.76   \n",
							"1     1    13.16        2.36  2.67  18.6  101     2.80        3.24   \n",
							"2     1    14.37        1.95  2.50  16.8  113     3.85        3.49   \n",
							"3     1    13.24        2.59  2.87  21.0  118     2.80        2.69   \n",
							"4     1    14.20        1.76  2.45  15.2  112     3.27        3.39   \n",
							"\n",
							"   Nonflavanoid.phenols  Proanth  Color.int   Hue    OD  Proline  \n",
							"0                  0.26     1.28       4.38  1.05  3.40     1050  \n",
							"1                  0.30     2.81       5.68  1.03  3.17     1185  \n",
							"2                  0.24     2.18       7.80  0.86  3.45     1480  \n",
							"3                  0.39     1.82       4.32  1.04  2.93      735  \n",
							"4                  0.34     1.97       6.75  1.05  2.85     1450  "
						]
					},
					"execution_count": 3,
					"metadata": {},
					"output_type": "execute_result"
				}
			],
			"source": [
				"df = pd.read_csv(\"wine.csv\")\n",
				"df.head()"
			]
		},
		{
			"cell_type": "markdown",
			"source": [
				"# 説明変数(X)と目的変数(Y)の分離"
			],
			"metadata": {
				"id": "ehG5KIEwlmVl"
			}
		},
		{
			"cell_type": "code",
			"execution_count": null,
			"metadata": {
				"id": "Anp4y2vIkVG1"
			},
			"outputs": [],
			"source": [
				"y_name = \"Wine\"\n",
				"y = df[y_name].values\n",
				"x_table = df.drop(y_name, axis=1)\n",
				"x_name = x_table.columns\n",
				"x = x_table.values"
			]
		},
		{
			"cell_type": "markdown",
			"source": [
				"# 学習アルゴリズムの宣言と学習\n",
				"決定木系のアルゴリズムの中で今回はデータ数も少なく、かつ精度が高い方が分析も正確になるため勾配ブースティング決定木を使用する。ただし本書では分析方法についてが目的であるためパラメータチューニングや最適モデルは割愛するが、実際に考慮するならGridsearchCVや交叉検証などを使うことや予測結果の多数決などをするとよい。"
			],
			"metadata": {
				"id": "d7eZ32MBlsE0"
			}
		},
		{
			"cell_type": "code",
			"execution_count": null,
			"metadata": {
				"id": "Oso-YBV-kVG5",
				"outputId": "56843f06-3b47-4e0a-8cef-d3782c78909c"
			},
			"outputs": [
				{
					"data": {
						"text/plain": [
							"GradientBoostingClassifier()"
						]
					},
					"execution_count": 5,
					"metadata": {},
					"output_type": "execute_result"
				}
			],
			"source": [
				"model = GBC()\n",
				"model.fit(x, y)"
			]
		},
		{
			"cell_type": "markdown",
			"source": [
				"# 重要度の算出\n",
				"基本的に計算方法は一つの項目でどれだけ分類できるかがその項目の重要度になり、出力される値は相対度数(合計値が1.0になる)となる。特にパラメータを指定しなければジニ係数が使われる。"
			],
			"metadata": {
				"id": "GCUysRyPmX2J"
			}
		},
		{
			"cell_type": "code",
			"execution_count": null,
			"metadata": {
				"id": "Nbv7XIHOkVG7"
			},
			"outputs": [],
			"source": [
				"imp = model.feature_importances_"
			]
		},
		{
			"cell_type": "markdown",
			"source": [
				"# 重要度のデータフレーム化\n",
				"重要度をただ出力するだけでは見にくいためデータフレームに格納して優先分析項目をすぐ見つけられるように重要度を基に降順にする。"
			],
			"metadata": {
				"id": "j6D3o2zpmvyW"
			}
		},
		{
			"cell_type": "code",
			"execution_count": null,
			"metadata": {
				"id": "0AmGozcTkVG8",
				"outputId": "fb3f741e-888c-4a69-9c79-35dfaf73c401"
			},
			"outputs": [
				{
					"data": {
						"text/html": [
							"<div>\n",
							"<style scoped>\n",
							"    .dataframe tbody tr th:only-of-type {\n",
							"        vertical-align: middle;\n",
							"    }\n",
							"\n",
							"    .dataframe tbody tr th {\n",
							"        vertical-align: top;\n",
							"    }\n",
							"\n",
							"    .dataframe thead th {\n",
							"        text-align: right;\n",
							"    }\n",
							"</style>\n",
							"<table border=\"1\" class=\"dataframe\">\n",
							"  <thead>\n",
							"    <tr style=\"text-align: right;\">\n",
							"      <th></th>\n",
							"      <th>Color.int</th>\n",
							"      <th>Proline</th>\n",
							"      <th>Flavanoids</th>\n",
							"      <th>OD</th>\n",
							"      <th>Malic.acid</th>\n",
							"      <th>Mg</th>\n",
							"      <th>Alcohol</th>\n",
							"      <th>Ash</th>\n",
							"      <th>Hue</th>\n",
							"      <th>Acl</th>\n",
							"      <th>Phenols</th>\n",
							"      <th>Nonflavanoid.phenols</th>\n",
							"      <th>Proanth</th>\n",
							"    </tr>\n",
							"  </thead>\n",
							"  <tbody>\n",
							"    <tr>\n",
							"      <th>imp</th>\n",
							"      <td>0.29456</td>\n",
							"      <td>0.274291</td>\n",
							"      <td>0.184567</td>\n",
							"      <td>0.149248</td>\n",
							"      <td>0.03449</td>\n",
							"      <td>0.016357</td>\n",
							"      <td>0.014734</td>\n",
							"      <td>0.012994</td>\n",
							"      <td>0.008127</td>\n",
							"      <td>0.004293</td>\n",
							"      <td>0.003596</td>\n",
							"      <td>0.002713</td>\n",
							"      <td>0.00003</td>\n",
							"    </tr>\n",
							"  </tbody>\n",
							"</table>\n",
							"</div>"
						],
						"text/plain": [
							"     Color.int   Proline  Flavanoids        OD  Malic.acid        Mg  \\\n",
							"imp    0.29456  0.274291    0.184567  0.149248     0.03449  0.016357   \n",
							"\n",
							"      Alcohol       Ash       Hue       Acl   Phenols  Nonflavanoid.phenols  \\\n",
							"imp  0.014734  0.012994  0.008127  0.004293  0.003596              0.002713   \n",
							"\n",
							"     Proanth  \n",
							"imp  0.00003  "
						]
					},
					"execution_count": 11,
					"metadata": {},
					"output_type": "execute_result"
				}
			],
			"source": [
				"dfi = pd.DataFrame(imp)\n",
				"dfi.index = x_name\n",
				"dfi.columns = [\"imp\"]\n",
				"dfi = dfi.sort_values(\"imp\", ascending=False).T\n",
				"dfi"
			]
		},
		{
			"cell_type": "code",
			"execution_count": null,
			"metadata": {
				"id": "mWdeysTUkVHC"
			},
			"outputs": [],
			"source": [
				""
			]
		}
	],
	"metadata": {
		"kernelspec": {
			"display_name": "Python 3",
			"language": "python",
			"name": "python3"
		},
		"language_info": {
			"codemirror_mode": {
				"name": "ipython",
				"version": 3
			},
			"file_extension": ".py",
			"mimetype": "text/x-python",
			"name": "python",
			"nbconvert_exporter": "python",
			"pygments_lexer": "ipython3",
			"version": "3.7.1"
		},
		"colab": {
			"name": "importances.ipynb",
			"provenance": [],
			"collapsed_sections": []
		}
	},
	"nbformat": 4,
	"nbformat_minor": 0
}
