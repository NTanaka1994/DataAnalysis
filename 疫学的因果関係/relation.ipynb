{
 "cells": [
  {
   "cell_type": "markdown",
   "metadata": {},
   "source": [
    "# 疫学的因果関係\n",
    "統計学が物的証拠として使われる代表例としては法律の決定や他何らかのトラブルに対する因果関係を証明するために疫学的因果関係を推定する。ここで、疫学的因果関係は7つの構成要素があるが、一般的には疫学四原則の「時間的関連性」「量的相関性」「質的相関性」「原因と結果の関連性」になる。本項では疫学四原則の文面をそのままプログラムとして実装するため「原因と結果の関連性」以外を実装する。\n",
    "\n",
    "また、疫学における因果関係はその専門分野の知識を多く持っていなくても使用できるメリットがあるため、研究活動において最初の頃には役に立ちやすい。\n",
    "\n",
    "ここでは労働経験の有無を原因として結果を犯罪の有無の因果関係を考察する。\n",
    "\n",
    "# ライブラリのインポート"
   ]
  },
  {
   "cell_type": "code",
   "execution_count": 1,
   "metadata": {},
   "outputs": [],
   "source": [
    "import pandas as pd\n",
    "import numpy as np\n",
    "import matplotlib.pyplot as plt"
   ]
  },
  {
   "cell_type": "markdown",
   "metadata": {},
   "source": [
    "# データの確認"
   ]
  },
  {
   "cell_type": "code",
   "execution_count": 2,
   "metadata": {},
   "outputs": [
    {
     "data": {
      "text/html": [
       "<div>\n",
       "<style scoped>\n",
       "    .dataframe tbody tr th:only-of-type {\n",
       "        vertical-align: middle;\n",
       "    }\n",
       "\n",
       "    .dataframe tbody tr th {\n",
       "        vertical-align: top;\n",
       "    }\n",
       "\n",
       "    .dataframe thead th {\n",
       "        text-align: right;\n",
       "    }\n",
       "</style>\n",
       "<table border=\"1\" class=\"dataframe\">\n",
       "  <thead>\n",
       "    <tr style=\"text-align: right;\">\n",
       "      <th></th>\n",
       "      <th>week</th>\n",
       "      <th>arrest</th>\n",
       "      <th>fin</th>\n",
       "      <th>age</th>\n",
       "      <th>race</th>\n",
       "      <th>wexp</th>\n",
       "      <th>mar</th>\n",
       "      <th>paro</th>\n",
       "      <th>prio</th>\n",
       "    </tr>\n",
       "  </thead>\n",
       "  <tbody>\n",
       "    <tr>\n",
       "      <th>0</th>\n",
       "      <td>20</td>\n",
       "      <td>1</td>\n",
       "      <td>0</td>\n",
       "      <td>27</td>\n",
       "      <td>1</td>\n",
       "      <td>0</td>\n",
       "      <td>0</td>\n",
       "      <td>1</td>\n",
       "      <td>3</td>\n",
       "    </tr>\n",
       "    <tr>\n",
       "      <th>1</th>\n",
       "      <td>17</td>\n",
       "      <td>1</td>\n",
       "      <td>0</td>\n",
       "      <td>18</td>\n",
       "      <td>1</td>\n",
       "      <td>0</td>\n",
       "      <td>0</td>\n",
       "      <td>1</td>\n",
       "      <td>8</td>\n",
       "    </tr>\n",
       "    <tr>\n",
       "      <th>2</th>\n",
       "      <td>25</td>\n",
       "      <td>1</td>\n",
       "      <td>0</td>\n",
       "      <td>19</td>\n",
       "      <td>0</td>\n",
       "      <td>1</td>\n",
       "      <td>0</td>\n",
       "      <td>1</td>\n",
       "      <td>13</td>\n",
       "    </tr>\n",
       "    <tr>\n",
       "      <th>3</th>\n",
       "      <td>52</td>\n",
       "      <td>0</td>\n",
       "      <td>1</td>\n",
       "      <td>23</td>\n",
       "      <td>1</td>\n",
       "      <td>1</td>\n",
       "      <td>1</td>\n",
       "      <td>1</td>\n",
       "      <td>1</td>\n",
       "    </tr>\n",
       "    <tr>\n",
       "      <th>4</th>\n",
       "      <td>52</td>\n",
       "      <td>0</td>\n",
       "      <td>0</td>\n",
       "      <td>19</td>\n",
       "      <td>0</td>\n",
       "      <td>1</td>\n",
       "      <td>0</td>\n",
       "      <td>1</td>\n",
       "      <td>3</td>\n",
       "    </tr>\n",
       "  </tbody>\n",
       "</table>\n",
       "</div>"
      ],
      "text/plain": [
       "   week  arrest  fin  age  race  wexp  mar  paro  prio\n",
       "0    20       1    0   27     1     0    0     1     3\n",
       "1    17       1    0   18     1     0    0     1     8\n",
       "2    25       1    0   19     0     1    0     1    13\n",
       "3    52       0    1   23     1     1    1     1     1\n",
       "4    52       0    0   19     0     1    0     1     3"
      ]
     },
     "execution_count": 2,
     "metadata": {},
     "output_type": "execute_result"
    }
   ],
   "source": [
    "df = pd.read_csv(\"rossi.csv\")\n",
    "df.head()"
   ]
  },
  {
   "cell_type": "markdown",
   "metadata": {},
   "source": [
    "## 時間的関連性\n",
    "労働経験がない人が犯罪をしたのか、犯罪をした人が労働をしていなかったのかの順序関係をベイズ推定で算出する。"
   ]
  },
  {
   "cell_type": "code",
   "execution_count": 3,
   "metadata": {},
   "outputs": [
    {
     "name": "stdout",
     "output_type": "stream",
     "text": [
      "p(arrest=0  | wexp=0)=0.665\n",
      "p(arrest=1  | wexp=0)=0.335\n",
      "p(arrest=0  | wexp=1)=0.789\n",
      "p(arrest=1  | wexp=1)=0.211\n",
      "p(wexp=0  | arrest=0)=0.387\n",
      "p(wexp=1  | arrest=0)=0.613\n",
      "p(wexp=0  | arrest=1)=0.544\n",
      "p(wexp=1  | arrest=1)=0.456\n"
     ]
    }
   ],
   "source": [
    "x_col = \"wexp\"\n",
    "y_col = \"arrest\"\n",
    "x_val = list(set(df[x_col].values.tolist()))\n",
    "for x_v in x_val:\n",
    "    dfx = df.query(\"%s==%d\"%(x_col, x_v))\n",
    "    y_val = list(set(dfx[y_col].values.tolist()))\n",
    "    for y_v in y_val:\n",
    "        dfxy = dfx.query(\"%s==%d\"%(y_col, y_v))\n",
    "        print(\"p(%s=%d  | %s=%d)=%.3f\"%(y_col, y_v, x_col, x_v, len(dfxy)/len(dfx)))\n",
    "y_val = list(set(df[y_col].values.tolist()))\n",
    "for y_v in y_val:\n",
    "    dfy = df.query(\"%s==%d\"%(y_col, y_v))\n",
    "    x_val = list(set(dfy[x_col].values.tolist()))\n",
    "    for x_v in x_val:\n",
    "        dfyx = dfy.query(\"%s==%d\"%(x_col, x_v))\n",
    "        print(\"p(%s=%d  | %s=%d)=%.3f\"%(x_col, x_v, y_col, y_v, len(dfyx)/len(dfy)))"
   ]
  },
  {
   "cell_type": "markdown",
   "metadata": {},
   "source": [
    "### 結果の解釈\n",
    "労働をしたことがない人が犯罪をした割合は33.5%であったのに対して逮捕された人の中で犯罪をした人は54.4%だったため原因が逮捕で結果が労働をしていなかったと解釈できる。また、労働経験があって犯罪をした割合は21.1%に対して逮捕された人の中で労働をしていた割合は45.6%となるため、労働経験と犯罪の順序関係だけでなく職業経験そのものに大きな差は見られないことが分かる。\n",
    "\n",
    "## 量的相関性\n",
    "過去に犯罪をした回数と労働経験の有無で相関係数を算出する。ただし、比較のために全部の要因と水準でも同様に相関係数を算出する。"
   ]
  },
  {
   "cell_type": "code",
   "execution_count": 4,
   "metadata": {},
   "outputs": [
    {
     "data": {
      "image/png": "[encoded data removed]",
      "text/plain": [
       "<Figure size 432x288 with 1 Axes>"
      ]
     },
     "metadata": {
      "needs_background": "light"
     },
     "output_type": "display_data"
    },
    {
     "data": {
      "image/png": "[encoded data removed]",
      "text/plain": [
       "<Figure size 432x288 with 1 Axes>"
      ]
     },
     "metadata": {
      "needs_background": "light"
     },
     "output_type": "display_data"
    },
    {
     "data": {
      "image/png": "[encoded data removed]",
      "text/plain": [
       "<Figure size 432x288 with 1 Axes>"
      ]
     },
     "metadata": {
      "needs_background": "light"
     },
     "output_type": "display_data"
    },
    {
     "data": {
      "image/png": "[encoded data removed]",
      "text/plain": [
       "<Figure size 432x288 with 1 Axes>"
      ]
     },
     "metadata": {
      "needs_background": "light"
     },
     "output_type": "display_data"
    },
    {
     "data": {
      "image/png": "[encoded data removed]",
      "text/plain": [
       "<Figure size 432x288 with 1 Axes>"
      ]
     },
     "metadata": {
      "needs_background": "light"
     },
     "output_type": "display_data"
    },
    {
     "data": {
      "image/png": "[encoded data removed]",
      "text/plain": [
       "<Figure size 432x288 with 1 Axes>"
      ]
     },
     "metadata": {
      "needs_background": "light"
     },
     "output_type": "display_data"
    }
   ],
   "source": [
    "dfq = df.drop([\"age\", \"week\", \"prio\"], axis=1)\n",
    "dfq = dfq.query(\"arrest==1\")\n",
    "columns = dfq.columns\n",
    "corarray = []\n",
    "for col in columns:\n",
    "    trg = df[col].values\n",
    "    prio = df[\"prio\"].values\n",
    "    corr = np.corrcoef(trg, prio)[0][1]\n",
    "    plt.scatter(trg, prio)\n",
    "    plt.xlabel(col)\n",
    "    plt.ylabel(\"prio\")\n",
    "    plt.title(\"%s corr=%.2f\"%(col, corr))\n",
    "    plt.show()\n",
    "    corarray.append([col, corr])"
   ]
  },
  {
   "cell_type": "code",
   "execution_count": 5,
   "metadata": {},
   "outputs": [
    {
     "data": {
      "text/html": [
       "<div>\n",
       "<style scoped>\n",
       "    .dataframe tbody tr th:only-of-type {\n",
       "        vertical-align: middle;\n",
       "    }\n",
       "\n",
       "    .dataframe tbody tr th {\n",
       "        vertical-align: top;\n",
       "    }\n",
       "\n",
       "    .dataframe thead th {\n",
       "        text-align: right;\n",
       "    }\n",
       "</style>\n",
       "<table border=\"1\" class=\"dataframe\">\n",
       "  <thead>\n",
       "    <tr style=\"text-align: right;\">\n",
       "      <th></th>\n",
       "      <th>項目</th>\n",
       "      <th>相関係数</th>\n",
       "    </tr>\n",
       "  </thead>\n",
       "  <tbody>\n",
       "    <tr>\n",
       "      <th>0</th>\n",
       "      <td>arrest</td>\n",
       "      <td>0.163130</td>\n",
       "    </tr>\n",
       "    <tr>\n",
       "      <th>1</th>\n",
       "      <td>fin</td>\n",
       "      <td>-0.000800</td>\n",
       "    </tr>\n",
       "    <tr>\n",
       "      <th>2</th>\n",
       "      <td>race</td>\n",
       "      <td>-0.089904</td>\n",
       "    </tr>\n",
       "    <tr>\n",
       "      <th>3</th>\n",
       "      <td>wexp</td>\n",
       "      <td>-0.260363</td>\n",
       "    </tr>\n",
       "    <tr>\n",
       "      <th>4</th>\n",
       "      <td>mar</td>\n",
       "      <td>-0.029614</td>\n",
       "    </tr>\n",
       "    <tr>\n",
       "      <th>5</th>\n",
       "      <td>paro</td>\n",
       "      <td>-0.126282</td>\n",
       "    </tr>\n",
       "  </tbody>\n",
       "</table>\n",
       "</div>"
      ],
      "text/plain": [
       "       項目      相関係数\n",
       "0  arrest  0.163130\n",
       "1     fin -0.000800\n",
       "2    race -0.089904\n",
       "3    wexp -0.260363\n",
       "4     mar -0.029614\n",
       "5    paro -0.126282"
      ]
     },
     "execution_count": 5,
     "metadata": {},
     "output_type": "execute_result"
    }
   ],
   "source": [
    "dfc = pd.DataFrame(corarray)\n",
    "dfc.columns = [\"項目\", \"相関係数\"]\n",
    "dfc"
   ]
  },
  {
   "cell_type": "markdown",
   "metadata": {},
   "source": [
    "### 結果の解釈\n",
    "労働経験と犯罪の回数は他の項目と比較して高い数値になるが、相関係数の絶対値が0.8を上回らないため相関としては強くない。\n",
    "\n",
    "## 質的相関性\n",
    "質的変数と逮捕について相関係数を算出する。"
   ]
  },
  {
   "cell_type": "code",
   "execution_count": 6,
   "metadata": {},
   "outputs": [
    {
     "data": {
      "text/html": [
       "<div>\n",
       "<style scoped>\n",
       "    .dataframe tbody tr th:only-of-type {\n",
       "        vertical-align: middle;\n",
       "    }\n",
       "\n",
       "    .dataframe tbody tr th {\n",
       "        vertical-align: top;\n",
       "    }\n",
       "\n",
       "    .dataframe thead th {\n",
       "        text-align: right;\n",
       "    }\n",
       "</style>\n",
       "<table border=\"1\" class=\"dataframe\">\n",
       "  <thead>\n",
       "    <tr style=\"text-align: right;\">\n",
       "      <th></th>\n",
       "      <th>arrest</th>\n",
       "      <th>fin</th>\n",
       "      <th>race</th>\n",
       "      <th>wexp</th>\n",
       "      <th>mar</th>\n",
       "      <th>paro</th>\n",
       "    </tr>\n",
       "  </thead>\n",
       "  <tbody>\n",
       "    <tr>\n",
       "      <th>arrest</th>\n",
       "      <td>1.000000</td>\n",
       "      <td>-0.094538</td>\n",
       "      <td>0.031795</td>\n",
       "      <td>-0.139900</td>\n",
       "      <td>-0.095831</td>\n",
       "      <td>-0.026574</td>\n",
       "    </tr>\n",
       "    <tr>\n",
       "      <th>fin</th>\n",
       "      <td>-0.094538</td>\n",
       "      <td>1.000000</td>\n",
       "      <td>0.063502</td>\n",
       "      <td>0.004678</td>\n",
       "      <td>-0.035279</td>\n",
       "      <td>-0.014293</td>\n",
       "    </tr>\n",
       "    <tr>\n",
       "      <th>race</th>\n",
       "      <td>0.031795</td>\n",
       "      <td>0.063502</td>\n",
       "      <td>1.000000</td>\n",
       "      <td>-0.038453</td>\n",
       "      <td>-0.053716</td>\n",
       "      <td>0.040037</td>\n",
       "    </tr>\n",
       "    <tr>\n",
       "      <th>wexp</th>\n",
       "      <td>-0.139900</td>\n",
       "      <td>0.004678</td>\n",
       "      <td>-0.038453</td>\n",
       "      <td>1.000000</td>\n",
       "      <td>0.252340</td>\n",
       "      <td>0.051418</td>\n",
       "    </tr>\n",
       "    <tr>\n",
       "      <th>mar</th>\n",
       "      <td>-0.095831</td>\n",
       "      <td>-0.035279</td>\n",
       "      <td>-0.053716</td>\n",
       "      <td>0.252340</td>\n",
       "      <td>1.000000</td>\n",
       "      <td>0.090662</td>\n",
       "    </tr>\n",
       "    <tr>\n",
       "      <th>paro</th>\n",
       "      <td>-0.026574</td>\n",
       "      <td>-0.014293</td>\n",
       "      <td>0.040037</td>\n",
       "      <td>0.051418</td>\n",
       "      <td>0.090662</td>\n",
       "      <td>1.000000</td>\n",
       "    </tr>\n",
       "  </tbody>\n",
       "</table>\n",
       "</div>"
      ],
      "text/plain": [
       "          arrest       fin      race      wexp       mar      paro\n",
       "arrest  1.000000 -0.094538  0.031795 -0.139900 -0.095831 -0.026574\n",
       "fin    -0.094538  1.000000  0.063502  0.004678 -0.035279 -0.014293\n",
       "race    0.031795  0.063502  1.000000 -0.038453 -0.053716  0.040037\n",
       "wexp   -0.139900  0.004678 -0.038453  1.000000  0.252340  0.051418\n",
       "mar    -0.095831 -0.035279 -0.053716  0.252340  1.000000  0.090662\n",
       "paro   -0.026574 -0.014293  0.040037  0.051418  0.090662  1.000000"
      ]
     },
     "execution_count": 6,
     "metadata": {},
     "output_type": "execute_result"
    }
   ],
   "source": [
    "dfq = df.drop([\"age\", \"week\", \"prio\"], axis=1)\n",
    "dfq_corr = dfq.corr()\n",
    "dfq_corr"
   ]
  },
  {
   "cell_type": "markdown",
   "metadata": {},
   "source": [
    "### 結果の解釈\n",
    "逮捕の有無と相関が最も強い項目は労働経験の有無ではあるが、相関係数の絶対値が0.8を超えないため強い相関があるとは言えない。"
   ]
  },
  {
   "cell_type": "code",
   "execution_count": null,
   "metadata": {},
   "outputs": [],
   "source": []
  }
 ],
 "metadata": {
  "kernelspec": {
   "display_name": "Python 3",
   "language": "python",
   "name": "python3"
  },
  "language_info": {
   "codemirror_mode": {
    "name": "ipython",
    "version": 3
   },
   "file_extension": ".py",
   "mimetype": "text/x-python",
   "name": "python",
   "nbconvert_exporter": "python",
   "pygments_lexer": "ipython3",
   "version": "3.7.1"
  }
 },
 "nbformat": 4,
 "nbformat_minor": 2
}
