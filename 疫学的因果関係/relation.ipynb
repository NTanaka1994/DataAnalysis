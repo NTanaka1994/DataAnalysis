{
 "cells": [
  {
   "cell_type": "markdown",
   "metadata": {},
   "source": [
    "# 疫学的因果関係\n",
    "統計学が物的証拠として使われる代表例としては法律の決定や他何らかのトラブルに対する因果関係を証明するために疫学的因果関係を推定する。ここで、疫学的因果関係は7つの構成要素がある。本項では7つの構成要素の中で「一致性」「整合性」「必要条件」「十分条件」以外についての文面をそのままプログラムとして実装する。\n",
    "\n",
    "また、疫学における因果関係はその専門分野の知識を多く持っていなくても使用できるメリットがあるため、研究活動において最初の頃には役に立ちやすい。\n",
    "\n",
    "なお、適切なデータセットが見つからなかったため項目によって使用するデータセットを変えている。\n",
    "\n",
    "参考1：https://chuo-kentetsu.co.jp/cgk/topix/tecrep30.pdf\n",
    "\n",
    "参考2：https://apps.who.int/iris/bitstream/handle/10665/43541/9241547073_jpn.pdf\n",
    "\n",
    "\n",
    "## ライブラリのインポート"
   ]
  },
  {
   "cell_type": "code",
   "execution_count": 1,
   "metadata": {},
   "outputs": [],
   "source": [
    "from sklearn.linear_model import LogisticRegression as LR\n",
    "from sklearn.linear_model import LinearRegression\n",
    "import pandas as pd\n",
    "import numpy as np\n",
    "import matplotlib.pyplot as plt"
   ]
  },
  {
   "cell_type": "markdown",
   "metadata": {},
   "source": [
    "## 順序関係\n",
    "原因と結果についての順序関係を正しく把握する。例えばX→Yが正しいのかY→Xが正しいかなど、ある事象に対する因果関係における順序について考察する。\n",
    "\n",
    "ここでは一例としてゴルフの来場について、天気が原因でゴルフを結果として考えてどの天気の時にゴルフをするか、また結果と原因の順序が変わることで数値の変動を確認する。"
   ]
  },
  {
   "cell_type": "markdown",
   "metadata": {},
   "source": [
    "### データの確認"
   ]
  },
  {
   "cell_type": "code",
   "execution_count": 2,
   "metadata": {},
   "outputs": [
    {
     "data": {
      "text/html": [
       "<div>\n",
       "<style scoped>\n",
       "    .dataframe tbody tr th:only-of-type {\n",
       "        vertical-align: middle;\n",
       "    }\n",
       "\n",
       "    .dataframe tbody tr th {\n",
       "        vertical-align: top;\n",
       "    }\n",
       "\n",
       "    .dataframe thead th {\n",
       "        text-align: right;\n",
       "    }\n",
       "</style>\n",
       "<table border=\"1\" class=\"dataframe\">\n",
       "  <thead>\n",
       "    <tr style=\"text-align: right;\">\n",
       "      <th></th>\n",
       "      <th>天気</th>\n",
       "      <th>気温</th>\n",
       "      <th>湿度</th>\n",
       "      <th>風</th>\n",
       "      <th>ゴルフ</th>\n",
       "    </tr>\n",
       "  </thead>\n",
       "  <tbody>\n",
       "    <tr>\n",
       "      <th>0</th>\n",
       "      <td>晴</td>\n",
       "      <td>29</td>\n",
       "      <td>85</td>\n",
       "      <td>弱</td>\n",
       "      <td>しない</td>\n",
       "    </tr>\n",
       "    <tr>\n",
       "      <th>1</th>\n",
       "      <td>晴</td>\n",
       "      <td>27</td>\n",
       "      <td>90</td>\n",
       "      <td>強</td>\n",
       "      <td>しない</td>\n",
       "    </tr>\n",
       "    <tr>\n",
       "      <th>2</th>\n",
       "      <td>曇</td>\n",
       "      <td>28</td>\n",
       "      <td>78</td>\n",
       "      <td>弱</td>\n",
       "      <td>する</td>\n",
       "    </tr>\n",
       "    <tr>\n",
       "      <th>3</th>\n",
       "      <td>雨</td>\n",
       "      <td>21</td>\n",
       "      <td>96</td>\n",
       "      <td>弱</td>\n",
       "      <td>する</td>\n",
       "    </tr>\n",
       "    <tr>\n",
       "      <th>4</th>\n",
       "      <td>雨</td>\n",
       "      <td>20</td>\n",
       "      <td>80</td>\n",
       "      <td>弱</td>\n",
       "      <td>する</td>\n",
       "    </tr>\n",
       "  </tbody>\n",
       "</table>\n",
       "</div>"
      ],
      "text/plain": [
       "  天気  気温  湿度  風  ゴルフ\n",
       "0  晴  29  85  弱  しない\n",
       "1  晴  27  90  強  しない\n",
       "2  曇  28  78  弱   する\n",
       "3  雨  21  96  弱   する\n",
       "4  雨  20  80  弱   する"
      ]
     },
     "execution_count": 2,
     "metadata": {},
     "output_type": "execute_result"
    }
   ],
   "source": [
    "df = pd.read_csv(\"golf.csv\", encoding=\"shift-jis\")\n",
    "df.head()"
   ]
  },
  {
   "cell_type": "markdown",
   "metadata": {},
   "source": [
    "### ベイズの定理で原因と結果の確率を計算する"
   ]
  },
  {
   "cell_type": "code",
   "execution_count": 3,
   "metadata": {},
   "outputs": [],
   "source": [
    "x_name = \"天気\"\n",
    "y_name = \"ゴルフ\""
   ]
  },
  {
   "cell_type": "code",
   "execution_count": 4,
   "metadata": {},
   "outputs": [
    {
     "name": "stdout",
     "output_type": "stream",
     "text": [
      "p(ゴルフ=しない | 天気=晴) = 0.60\n",
      "p(ゴルフ=する | 天気=晴) = 0.40\n",
      "p(ゴルフ=しない | 天気=雨) = 0.40\n",
      "p(ゴルフ=する | 天気=雨) = 0.60\n",
      "p(ゴルフ=する | 天気=曇) = 1.00\n"
     ]
    }
   ],
   "source": [
    "x_val = list(set(df[x_name].values.tolist()))\n",
    "for x in x_val:\n",
    "    dfx = df.query(\"%s=='%s'\"%(x_name, x))\n",
    "    y_val = list(set(dfx[y_name].values.tolist()))\n",
    "    for y in y_val:\n",
    "        dfxy = dfx.query(\"%s=='%s'\"%(y_name, y))\n",
    "        print(\"p(%s=%s | %s=%s) = %.2f\"%(y_name, y, x_name, x, len(dfxy)/len(dfx)))"
   ]
  },
  {
   "cell_type": "code",
   "execution_count": 5,
   "metadata": {},
   "outputs": [
    {
     "name": "stdout",
     "output_type": "stream",
     "text": [
      "p(天気=晴 | ゴルフ=しない) = 0.60\n",
      "p(天気=雨 | ゴルフ=しない) = 0.40\n",
      "p(天気=晴 | ゴルフ=する) = 0.22\n",
      "p(天気=曇 | ゴルフ=する) = 0.44\n",
      "p(天気=雨 | ゴルフ=する) = 0.33\n"
     ]
    }
   ],
   "source": [
    "y_val = list(set(df[y_name].values.tolist()))\n",
    "for y in y_val:\n",
    "    dfy = df.query(\"%s=='%s'\"%(y_name, y))\n",
    "    x_val = list(set(dfy[x_name].values.tolist()))\n",
    "    for x in x_val:\n",
    "        dfyx = dfy.query(\"%s=='%s'\"%(x_name, x))\n",
    "        print(\"p(%s=%s | %s=%s) = %.2f\"%(x_name, x, y_name, y, len(dfyx)/len(dfy)))"
   ]
  },
  {
   "cell_type": "markdown",
   "metadata": {},
   "source": [
    "### 結果の解釈\n",
    "この結果から曇が原因でゴルフを行う事が結果になることが分かる。元々100%だった「曇→ゴルフ」が「ゴルフ→曇」にした場合は44%に変動し、曇が順序として原因と分かる。\n",
    "\n",
    "## 量反応関係\n",
    "調べたい量的変数を選び相関係数を求める。ただし、条件によって変わる可能性を考慮して質的変数で条件を絞り、それによって相関に違いが現れるかを確認する。また、ロジスティック回帰で係数からオッズ比を計算する事で各項目の量的な判別基準を算出して特徴を把握する。\n",
    "\n",
    "ここでは一例としてアヤメの花の可弁の長さとがくの長さに関する相関について品種ごとに分けて計測する。\n",
    "\n",
    "### データの確認"
   ]
  },
  {
   "cell_type": "code",
   "execution_count": 6,
   "metadata": {},
   "outputs": [
    {
     "data": {
      "text/html": [
       "<div>\n",
       "<style scoped>\n",
       "    .dataframe tbody tr th:only-of-type {\n",
       "        vertical-align: middle;\n",
       "    }\n",
       "\n",
       "    .dataframe tbody tr th {\n",
       "        vertical-align: top;\n",
       "    }\n",
       "\n",
       "    .dataframe thead th {\n",
       "        text-align: right;\n",
       "    }\n",
       "</style>\n",
       "<table border=\"1\" class=\"dataframe\">\n",
       "  <thead>\n",
       "    <tr style=\"text-align: right;\">\n",
       "      <th></th>\n",
       "      <th>category</th>\n",
       "      <th>sepal length (cm)</th>\n",
       "      <th>sepal width (cm)</th>\n",
       "      <th>petal length (cm)</th>\n",
       "      <th>petal width (cm)</th>\n",
       "    </tr>\n",
       "  </thead>\n",
       "  <tbody>\n",
       "    <tr>\n",
       "      <th>0</th>\n",
       "      <td>0</td>\n",
       "      <td>5.1</td>\n",
       "      <td>3.5</td>\n",
       "      <td>1.4</td>\n",
       "      <td>0.2</td>\n",
       "    </tr>\n",
       "    <tr>\n",
       "      <th>1</th>\n",
       "      <td>0</td>\n",
       "      <td>4.9</td>\n",
       "      <td>3.0</td>\n",
       "      <td>1.4</td>\n",
       "      <td>0.2</td>\n",
       "    </tr>\n",
       "    <tr>\n",
       "      <th>2</th>\n",
       "      <td>0</td>\n",
       "      <td>4.7</td>\n",
       "      <td>3.2</td>\n",
       "      <td>1.3</td>\n",
       "      <td>0.2</td>\n",
       "    </tr>\n",
       "    <tr>\n",
       "      <th>3</th>\n",
       "      <td>0</td>\n",
       "      <td>4.6</td>\n",
       "      <td>3.1</td>\n",
       "      <td>1.5</td>\n",
       "      <td>0.2</td>\n",
       "    </tr>\n",
       "    <tr>\n",
       "      <th>4</th>\n",
       "      <td>0</td>\n",
       "      <td>5.0</td>\n",
       "      <td>3.6</td>\n",
       "      <td>1.4</td>\n",
       "      <td>0.2</td>\n",
       "    </tr>\n",
       "  </tbody>\n",
       "</table>\n",
       "</div>"
      ],
      "text/plain": [
       "   category  sepal length (cm)  sepal width (cm)  petal length (cm)  \\\n",
       "0         0                5.1               3.5                1.4   \n",
       "1         0                4.9               3.0                1.4   \n",
       "2         0                4.7               3.2                1.3   \n",
       "3         0                4.6               3.1                1.5   \n",
       "4         0                5.0               3.6                1.4   \n",
       "\n",
       "   petal width (cm)  \n",
       "0               0.2  \n",
       "1               0.2  \n",
       "2               0.2  \n",
       "3               0.2  \n",
       "4               0.2  "
      ]
     },
     "execution_count": 6,
     "metadata": {},
     "output_type": "execute_result"
    }
   ],
   "source": [
    "df = pd.read_csv(\"iris.csv\")\n",
    "df.head()"
   ]
  },
  {
   "cell_type": "markdown",
   "metadata": {},
   "source": [
    "### オッズ比"
   ]
  },
  {
   "cell_type": "code",
   "execution_count": 7,
   "metadata": {},
   "outputs": [
    {
     "data": {
      "text/html": [
       "<div>\n",
       "<style scoped>\n",
       "    .dataframe tbody tr th:only-of-type {\n",
       "        vertical-align: middle;\n",
       "    }\n",
       "\n",
       "    .dataframe tbody tr th {\n",
       "        vertical-align: top;\n",
       "    }\n",
       "\n",
       "    .dataframe thead th {\n",
       "        text-align: right;\n",
       "    }\n",
       "</style>\n",
       "<table border=\"1\" class=\"dataframe\">\n",
       "  <thead>\n",
       "    <tr style=\"text-align: right;\">\n",
       "      <th></th>\n",
       "      <th>0の回帰係数</th>\n",
       "      <th>1の回帰係数</th>\n",
       "      <th>2の回帰係数</th>\n",
       "      <th>0のオッズ比</th>\n",
       "      <th>1のオッズ比</th>\n",
       "      <th>2のオッズ比</th>\n",
       "    </tr>\n",
       "  </thead>\n",
       "  <tbody>\n",
       "    <tr>\n",
       "      <th>sepal length (cm)</th>\n",
       "      <td>-0.423395</td>\n",
       "      <td>0.534093</td>\n",
       "      <td>-0.110698</td>\n",
       "      <td>0.654820</td>\n",
       "      <td>1.705901</td>\n",
       "      <td>0.895209</td>\n",
       "    </tr>\n",
       "    <tr>\n",
       "      <th>sepal width (cm)</th>\n",
       "      <td>0.961689</td>\n",
       "      <td>-0.317924</td>\n",
       "      <td>-0.643765</td>\n",
       "      <td>2.616112</td>\n",
       "      <td>0.727658</td>\n",
       "      <td>0.525311</td>\n",
       "    </tr>\n",
       "    <tr>\n",
       "      <th>petal length (cm)</th>\n",
       "      <td>-2.519421</td>\n",
       "      <td>-0.205372</td>\n",
       "      <td>2.724794</td>\n",
       "      <td>0.080506</td>\n",
       "      <td>0.814344</td>\n",
       "      <td>15.253267</td>\n",
       "    </tr>\n",
       "    <tr>\n",
       "      <th>petal width (cm)</th>\n",
       "      <td>-1.086077</td>\n",
       "      <td>-0.939581</td>\n",
       "      <td>2.025658</td>\n",
       "      <td>0.337538</td>\n",
       "      <td>0.390792</td>\n",
       "      <td>7.581094</td>\n",
       "    </tr>\n",
       "  </tbody>\n",
       "</table>\n",
       "</div>"
      ],
      "text/plain": [
       "                     0の回帰係数    1の回帰係数    2の回帰係数    0のオッズ比    1のオッズ比     2のオッズ比\n",
       "sepal length (cm) -0.423395  0.534093 -0.110698  0.654820  1.705901   0.895209\n",
       "sepal width (cm)   0.961689 -0.317924 -0.643765  2.616112  0.727658   0.525311\n",
       "petal length (cm) -2.519421 -0.205372  2.724794  0.080506  0.814344  15.253267\n",
       "petal width (cm)  -1.086077 -0.939581  2.025658  0.337538  0.390792   7.581094"
      ]
     },
     "execution_count": 7,
     "metadata": {},
     "output_type": "execute_result"
    }
   ],
   "source": [
    "y_name = \"category\"\n",
    "y = df[y_name].values\n",
    "x_table = df.drop(y_name, axis=1)\n",
    "x_name = x_table.columns\n",
    "x = x_table.values\n",
    "model = LR()\n",
    "model.fit(x, y)\n",
    "coef = model.coef_\n",
    "coef = np.vstack((coef, np.exp(coef)))\n",
    "col = []\n",
    "for v in (list(set(y))):\n",
    "    col.append(\"%dの回帰係数\"%(v))\n",
    "for v in (list(set(y))):\n",
    "    col.append(\"%dのオッズ比\"%(v))\n",
    "df_coef = pd.DataFrame(coef.T)\n",
    "df_coef.columns = col\n",
    "df_coef.index = x_name\n",
    "df_coef"
   ]
  },
  {
   "cell_type": "markdown",
   "metadata": {},
   "source": [
    "### 結果の解釈\n",
    "基本的にがくの長さと花弁の長さは相関関係にある事が分かる。しかし品種「0」の時に相関が弱いため、品種「0」の場合に相関が働かない何らかの要因があると考えられる。\n",
    "\n",
    "また、オッズ比から数値の反応を考慮すると、品種「0」ではどちらも長さは1より小さく一方で「1」と品種「2」はどちらかが1を上回ることが分かる。"
   ]
  },
  {
   "cell_type": "markdown",
   "metadata": {},
   "source": [
    "## 強固性\n",
    "リスク比が大きく原因と結果の強い関連性が高い場合は当該要因が原因である可能性がある。そこで、強固性の基準としては相対危険度を用いる。\n",
    "\n",
    "ここでは一例として米国メリーランド州の刑務所から釈放され釈放後に一年間追跡調査された受刑者に関するデータから労働経験の有無(1：有、0：無)と逮捕の有無(1：有、0：無)で相対危険度を算出する。\n",
    "\n",
    "### データの確認"
   ]
  },
  {
   "cell_type": "code",
   "execution_count": 8,
   "metadata": {},
   "outputs": [
    {
     "data": {
      "text/html": [
       "<div>\n",
       "<style scoped>\n",
       "    .dataframe tbody tr th:only-of-type {\n",
       "        vertical-align: middle;\n",
       "    }\n",
       "\n",
       "    .dataframe tbody tr th {\n",
       "        vertical-align: top;\n",
       "    }\n",
       "\n",
       "    .dataframe thead th {\n",
       "        text-align: right;\n",
       "    }\n",
       "</style>\n",
       "<table border=\"1\" class=\"dataframe\">\n",
       "  <thead>\n",
       "    <tr style=\"text-align: right;\">\n",
       "      <th></th>\n",
       "      <th>week</th>\n",
       "      <th>arrest</th>\n",
       "      <th>fin</th>\n",
       "      <th>age</th>\n",
       "      <th>race</th>\n",
       "      <th>wexp</th>\n",
       "      <th>mar</th>\n",
       "      <th>paro</th>\n",
       "      <th>prio</th>\n",
       "    </tr>\n",
       "  </thead>\n",
       "  <tbody>\n",
       "    <tr>\n",
       "      <th>0</th>\n",
       "      <td>20</td>\n",
       "      <td>1</td>\n",
       "      <td>0</td>\n",
       "      <td>27</td>\n",
       "      <td>1</td>\n",
       "      <td>0</td>\n",
       "      <td>0</td>\n",
       "      <td>1</td>\n",
       "      <td>3</td>\n",
       "    </tr>\n",
       "    <tr>\n",
       "      <th>1</th>\n",
       "      <td>17</td>\n",
       "      <td>1</td>\n",
       "      <td>0</td>\n",
       "      <td>18</td>\n",
       "      <td>1</td>\n",
       "      <td>0</td>\n",
       "      <td>0</td>\n",
       "      <td>1</td>\n",
       "      <td>8</td>\n",
       "    </tr>\n",
       "    <tr>\n",
       "      <th>2</th>\n",
       "      <td>25</td>\n",
       "      <td>1</td>\n",
       "      <td>0</td>\n",
       "      <td>19</td>\n",
       "      <td>0</td>\n",
       "      <td>1</td>\n",
       "      <td>0</td>\n",
       "      <td>1</td>\n",
       "      <td>13</td>\n",
       "    </tr>\n",
       "    <tr>\n",
       "      <th>3</th>\n",
       "      <td>52</td>\n",
       "      <td>0</td>\n",
       "      <td>1</td>\n",
       "      <td>23</td>\n",
       "      <td>1</td>\n",
       "      <td>1</td>\n",
       "      <td>1</td>\n",
       "      <td>1</td>\n",
       "      <td>1</td>\n",
       "    </tr>\n",
       "    <tr>\n",
       "      <th>4</th>\n",
       "      <td>52</td>\n",
       "      <td>0</td>\n",
       "      <td>0</td>\n",
       "      <td>19</td>\n",
       "      <td>0</td>\n",
       "      <td>1</td>\n",
       "      <td>0</td>\n",
       "      <td>1</td>\n",
       "      <td>3</td>\n",
       "    </tr>\n",
       "  </tbody>\n",
       "</table>\n",
       "</div>"
      ],
      "text/plain": [
       "   week  arrest  fin  age  race  wexp  mar  paro  prio\n",
       "0    20       1    0   27     1     0    0     1     3\n",
       "1    17       1    0   18     1     0    0     1     8\n",
       "2    25       1    0   19     0     1    0     1    13\n",
       "3    52       0    1   23     1     1    1     1     1\n",
       "4    52       0    0   19     0     1    0     1     3"
      ]
     },
     "execution_count": 8,
     "metadata": {},
     "output_type": "execute_result"
    }
   ],
   "source": [
    "df = pd.read_csv(\"rossi.csv\")\n",
    "df.head()"
   ]
  },
  {
   "cell_type": "markdown",
   "metadata": {},
   "source": [
    "### 相対危険度の算出"
   ]
  },
  {
   "cell_type": "code",
   "execution_count": 9,
   "metadata": {},
   "outputs": [
    {
     "data": {
      "text/html": [
       "<div>\n",
       "<style scoped>\n",
       "    .dataframe tbody tr th:only-of-type {\n",
       "        vertical-align: middle;\n",
       "    }\n",
       "\n",
       "    .dataframe tbody tr th {\n",
       "        vertical-align: top;\n",
       "    }\n",
       "\n",
       "    .dataframe thead th {\n",
       "        text-align: right;\n",
       "    }\n",
       "</style>\n",
       "<table border=\"1\" class=\"dataframe\">\n",
       "  <thead>\n",
       "    <tr style=\"text-align: right;\">\n",
       "      <th>arrest</th>\n",
       "      <th>0</th>\n",
       "      <th>1</th>\n",
       "    </tr>\n",
       "    <tr>\n",
       "      <th>wexp</th>\n",
       "      <th></th>\n",
       "      <th></th>\n",
       "    </tr>\n",
       "  </thead>\n",
       "  <tbody>\n",
       "    <tr>\n",
       "      <th>0</th>\n",
       "      <td>123</td>\n",
       "      <td>62</td>\n",
       "    </tr>\n",
       "    <tr>\n",
       "      <th>1</th>\n",
       "      <td>195</td>\n",
       "      <td>52</td>\n",
       "    </tr>\n",
       "  </tbody>\n",
       "</table>\n",
       "</div>"
      ],
      "text/plain": [
       "arrest    0   1\n",
       "wexp           \n",
       "0       123  62\n",
       "1       195  52"
      ]
     },
     "execution_count": 9,
     "metadata": {},
     "output_type": "execute_result"
    }
   ],
   "source": [
    "cross = pd.crosstab(df[\"wexp\"], df[\"arrest\"])\n",
    "cross"
   ]
  },
  {
   "cell_type": "code",
   "execution_count": 10,
   "metadata": {},
   "outputs": [
    {
     "name": "stdout",
     "output_type": "stream",
     "text": [
      "相対危険度：1.59\n"
     ]
    }
   ],
   "source": [
    "aw = cross.values\n",
    "print(\"相対危険度：%.2f\"%((aw[0][1]/sum(aw[0]))/((aw[1][1]/sum(aw[1])))))"
   ]
  },
  {
   "cell_type": "markdown",
   "metadata": {},
   "source": [
    "### 結果の解釈\n",
    "相対危険度から労働経験がない人は労働経験がある人に比べて1.59倍逮捕されていることが確認できる。そのため、労働しない事によって何らかの犯罪の原因が発生する事が考えられる。\n",
    "\n",
    "# 統計的因果推論\n",
    "ここからは効果検証の方法として統計的な因果推論の仕方をいくつか紹介する。"
   ]
  },
  {
   "cell_type": "code",
   "execution_count": 11,
   "metadata": {},
   "outputs": [
    {
     "data": {
      "text/html": [
       "<div>\n",
       "<style scoped>\n",
       "    .dataframe tbody tr th:only-of-type {\n",
       "        vertical-align: middle;\n",
       "    }\n",
       "\n",
       "    .dataframe tbody tr th {\n",
       "        vertical-align: top;\n",
       "    }\n",
       "\n",
       "    .dataframe thead th {\n",
       "        text-align: right;\n",
       "    }\n",
       "</style>\n",
       "<table border=\"1\" class=\"dataframe\">\n",
       "  <thead>\n",
       "    <tr style=\"text-align: right;\">\n",
       "      <th></th>\n",
       "      <th>y</th>\n",
       "      <th>x</th>\n",
       "      <th>t</th>\n",
       "      <th>y_t1</th>\n",
       "      <th>y_t0</th>\n",
       "    </tr>\n",
       "  </thead>\n",
       "  <tbody>\n",
       "    <tr>\n",
       "      <th>0</th>\n",
       "      <td>10</td>\n",
       "      <td>12</td>\n",
       "      <td>0</td>\n",
       "      <td>15</td>\n",
       "      <td>10</td>\n",
       "    </tr>\n",
       "    <tr>\n",
       "      <th>1</th>\n",
       "      <td>16</td>\n",
       "      <td>15</td>\n",
       "      <td>1</td>\n",
       "      <td>16</td>\n",
       "      <td>11</td>\n",
       "    </tr>\n",
       "    <tr>\n",
       "      <th>2</th>\n",
       "      <td>15</td>\n",
       "      <td>21</td>\n",
       "      <td>0</td>\n",
       "      <td>20</td>\n",
       "      <td>15</td>\n",
       "    </tr>\n",
       "    <tr>\n",
       "      <th>3</th>\n",
       "      <td>4</td>\n",
       "      <td>0</td>\n",
       "      <td>1</td>\n",
       "      <td>4</td>\n",
       "      <td>0</td>\n",
       "    </tr>\n",
       "    <tr>\n",
       "      <th>4</th>\n",
       "      <td>7</td>\n",
       "      <td>3</td>\n",
       "      <td>1</td>\n",
       "      <td>7</td>\n",
       "      <td>2</td>\n",
       "    </tr>\n",
       "  </tbody>\n",
       "</table>\n",
       "</div>"
      ],
      "text/plain": [
       "    y   x  t  y_t1  y_t0\n",
       "0  10  12  0    15    10\n",
       "1  16  15  1    16    11\n",
       "2  15  21  0    20    15\n",
       "3   4   0  1     4     0\n",
       "4   7   3  1     7     2"
      ]
     },
     "execution_count": 11,
     "metadata": {},
     "output_type": "execute_result"
    }
   ],
   "source": [
    "df = pd.read_csv(\"rel.csv\")\n",
    "df.head()"
   ]
  },
  {
   "cell_type": "markdown",
   "metadata": {},
   "source": [
    "- y:今季の受注件数\n",
    "- x:前季の受注件数\n",
    "- t:分析レポートが提供されたかどうかを表すダミー変数\n",
    "- y_t1:分析レポートが提供された場合の今季の受注件数\n",
    "- y_t0:分析レポートが提供されなかった場合の今季の受注件数"
   ]
  },
  {
   "cell_type": "markdown",
   "metadata": {},
   "source": [
    "## ナイーブな比較\n",
    "この比較は対象のデータの平均値を用いて比較する。ただしランダム割付が確認できないケースの前後比較による因果効果の推定には注意"
   ]
  },
  {
   "cell_type": "code",
   "execution_count": 12,
   "metadata": {},
   "outputs": [
    {
     "name": "stdout",
     "output_type": "stream",
     "text": [
      "y - x = -0.800\n"
     ]
    }
   ],
   "source": [
    "print(\"y - x = %.3f\"%(df[\"y\"].mean()-df[\"x\"].mean()))"
   ]
  },
  {
   "cell_type": "markdown",
   "metadata": {},
   "source": [
    "## ITEの計算\n",
    "ITEは個体に対する処理の効果を表すため配列になる。"
   ]
  },
  {
   "cell_type": "code",
   "execution_count": 13,
   "metadata": {},
   "outputs": [
    {
     "name": "stdout",
     "output_type": "stream",
     "text": [
      "0     5\n",
      "1     5\n",
      "2     5\n",
      "3     4\n",
      "4     5\n",
      "5     5\n",
      "6     5\n",
      "7     5\n",
      "8     5\n",
      "9     5\n",
      "10    5\n",
      "11    5\n",
      "12    5\n",
      "13    5\n",
      "14    5\n",
      "15    5\n",
      "16    5\n",
      "17    5\n",
      "18    5\n",
      "19    5\n",
      "20    5\n",
      "21    5\n",
      "22    5\n",
      "23    5\n",
      "24    5\n",
      "25    5\n",
      "26    5\n",
      "27    5\n",
      "28    5\n",
      "29    5\n",
      "30    5\n",
      "31    5\n",
      "32    5\n",
      "33    5\n",
      "34    5\n",
      "35    5\n",
      "36    5\n",
      "37    5\n",
      "38    4\n",
      "39    5\n",
      "40    5\n",
      "41    5\n",
      "42    5\n",
      "43    5\n",
      "44    5\n",
      "45    5\n",
      "46    5\n",
      "47    5\n",
      "48    5\n",
      "49    5\n",
      "50    5\n",
      "51    5\n",
      "52    5\n",
      "53    5\n",
      "54    5\n",
      "55    5\n",
      "56    5\n",
      "57    5\n",
      "58    5\n",
      "59    5\n",
      "dtype: int64\n"
     ]
    }
   ],
   "source": [
    "print(df[\"y_t1\"]-df[\"y_t0\"])"
   ]
  },
  {
   "cell_type": "markdown",
   "metadata": {},
   "source": [
    "## ATEの計算\n",
    "ATEは平均処置効果といい、注目する群全体における処理の効果を指す。"
   ]
  },
  {
   "cell_type": "code",
   "execution_count": 14,
   "metadata": {},
   "outputs": [
    {
     "name": "stdout",
     "output_type": "stream",
     "text": [
      "t1 - t0 = 4.967\n"
     ]
    }
   ],
   "source": [
    "print(\"t1 - t0 = %.3f\"%(df[\"y_t1\"].mean()-df[\"y_t0\"].mean()))"
   ]
  },
  {
   "cell_type": "markdown",
   "metadata": {},
   "source": [
    "## ATTの計算\n",
    "今度は条件を絞って因果推論の計算を行う。その中で処置群(tが1)の場合における平均効果を計算する。"
   ]
  },
  {
   "cell_type": "code",
   "execution_count": 15,
   "metadata": {},
   "outputs": [
    {
     "name": "stdout",
     "output_type": "stream",
     "text": [
      "t1 - t0 = 4.920\n"
     ]
    }
   ],
   "source": [
    "df_t1 = df.query(\"t==1\")\n",
    "print(\"t1 - t0 = %.3f\"%(df_t1[\"y_t1\"].mean()-df_t1[\"y_t0\"].mean()))"
   ]
  },
  {
   "cell_type": "markdown",
   "metadata": {},
   "source": [
    "## ATUの計算\n",
    "次に対照群(tが0)として介入をしなかった場合における平均効果を計算する。"
   ]
  },
  {
   "cell_type": "code",
   "execution_count": 16,
   "metadata": {},
   "outputs": [
    {
     "name": "stdout",
     "output_type": "stream",
     "text": [
      "t1 - t0 = 5.000\n"
     ]
    }
   ],
   "source": [
    "df_t0 = df.query(\"t==0\")\n",
    "print(\"t1 - t0 = %.3f\"%(df_t0[\"y_t1\"].mean()-df_t0[\"y_t0\"].mean()))"
   ]
  },
  {
   "cell_type": "markdown",
   "metadata": {},
   "source": [
    "## 有意差の検証\n",
    "データについてここまで因果推論の計算として平均値で計算をしてきたが、その平均値の差が有意なのかについても検証しないといけない。そこでt検定を行う。\n",
    "\n",
    "ここでは同一群であることに注意する。"
   ]
  },
  {
   "cell_type": "code",
   "execution_count": 17,
   "metadata": {},
   "outputs": [],
   "source": [
    "import scipy.stats as stats"
   ]
  },
  {
   "cell_type": "code",
   "execution_count": 18,
   "metadata": {},
   "outputs": [
    {
     "name": "stdout",
     "output_type": "stream",
     "text": [
      "naive : 0.057\n",
      "ATE   : 0.000\n",
      "ATT   : 0.000\n",
      "ATU   : 0.000\n"
     ]
    }
   ],
   "source": [
    "print(\"naive : %.3f\"%(stats.ttest_rel(df[\"y\"], df[\"x\"])[1]))\n",
    "print(\"ATE   : %.3f\"%(stats.ttest_rel(df[\"y_t1\"], df[\"y_t0\"])[1]))\n",
    "print(\"ATT   : %.3f\"%(stats.ttest_rel(df_t1[\"y_t1\"], df_t1[\"y_t0\"])[1]))\n",
    "print(\"ATU   : %.3f\"%(stats.ttest_rel(df_t0[\"y_t1\"], df_t0[\"y_t0\"])[1]))"
   ]
  },
  {
   "cell_type": "markdown",
   "metadata": {},
   "source": [
    "## DID\n",
    "差分の差分法をDIDという。ここでは分析レポートが提供されたことについての効果検証を行う。"
   ]
  },
  {
   "cell_type": "code",
   "execution_count": 19,
   "metadata": {},
   "outputs": [
    {
     "name": "stdout",
     "output_type": "stream",
     "text": [
      "DID:-0.080\n"
     ]
    }
   ],
   "source": [
    "did = (df_t1[\"y_t1\"].mean()-df_t1[\"y_t0\"].mean()) - (df_t0[\"y_t1\"].mean()-df_t0[\"y_t0\"].mean())\n",
    "print(\"DID:%.3f\"%(did))"
   ]
  },
  {
   "cell_type": "markdown",
   "metadata": {},
   "source": [
    "## 図示\n",
    "ここまで数値で因果推論をしてきたが、これだけでは平均値の数値のみで分布が分かるわけではないし尺度も分かりずらい。そこでボックスプロットと折れ線グラフで図示する。"
   ]
  },
  {
   "cell_type": "code",
   "execution_count": 20,
   "metadata": {},
   "outputs": [],
   "source": [
    "import matplotlib.pyplot as plt"
   ]
  },
  {
   "cell_type": "markdown",
   "metadata": {},
   "source": [
    "### ナイーブな比較"
   ]
  },
  {
   "cell_type": "code",
   "execution_count": 21,
   "metadata": {},
   "outputs": [
    {
     "data": {
      "image/png": "[encoded data removed]",
      "text/plain": [
       "<Figure size 432x288 with 1 Axes>"
      ]
     },
     "metadata": {
      "needs_background": "light"
     },
     "output_type": "display_data"
    }
   ],
   "source": [
    "plt.boxplot([df[\"y\"], df[\"x\"]], positions=[0, 1], labels=[\"y\", \"x\"])\n",
    "plt.plot([0, 1], [df[\"y\"].mean(), df[\"x\"].mean()], marker=\"x\")\n",
    "plt.title(\"Naive\")\n",
    "plt.ylim(min(df.values.flatten())-2.5, max(df.values.flatten()+2.5))\n",
    "plt.show()"
   ]
  },
  {
   "cell_type": "markdown",
   "metadata": {},
   "source": [
    "### ATE"
   ]
  },
  {
   "cell_type": "code",
   "execution_count": 22,
   "metadata": {},
   "outputs": [
    {
     "data": {
      "image/png": "[encoded data removed]",
      "text/plain": [
       "<Figure size 432x288 with 1 Axes>"
      ]
     },
     "metadata": {
      "needs_background": "light"
     },
     "output_type": "display_data"
    }
   ],
   "source": [
    "plt.boxplot([df[\"y_t1\"], df[\"y_t0\"]], positions=[0, 1], labels=[\"y_t1\", \"y_t0\"])\n",
    "plt.plot([0, 1], [df[\"y_t1\"].mean(), df[\"y_t0\"].mean()], marker=\"x\")\n",
    "plt.title(\"ATE\")\n",
    "plt.ylim(min(df.values.flatten())-2.5, max(df.values.flatten()+2.5))\n",
    "plt.show()"
   ]
  },
  {
   "cell_type": "markdown",
   "metadata": {},
   "source": [
    "### ATT"
   ]
  },
  {
   "cell_type": "code",
   "execution_count": 23,
   "metadata": {
    "scrolled": true
   },
   "outputs": [
    {
     "data": {
      "image/png": "[encoded data removed]",
      "text/plain": [
       "<Figure size 432x288 with 1 Axes>"
      ]
     },
     "metadata": {
      "needs_background": "light"
     },
     "output_type": "display_data"
    }
   ],
   "source": [
    "plt.boxplot([df_t1[\"y_t1\"], df_t1[\"y_t0\"]], positions=[0, 1], labels=[\"y_t1\", \"y_t0\"])\n",
    "plt.plot([0, 1], [df_t1[\"y_t1\"].mean(), df_t1[\"y_t0\"].mean()], marker=\"x\")\n",
    "plt.title(\"ATT\")\n",
    "plt.ylim(min(df.values.flatten())-2.5, max(df.values.flatten()+2.5))\n",
    "plt.show()"
   ]
  },
  {
   "cell_type": "markdown",
   "metadata": {},
   "source": [
    "### ATU"
   ]
  },
  {
   "cell_type": "code",
   "execution_count": 24,
   "metadata": {},
   "outputs": [
    {
     "data": {
      "image/png": "[encoded data removed]",
      "text/plain": [
       "<Figure size 432x288 with 1 Axes>"
      ]
     },
     "metadata": {
      "needs_background": "light"
     },
     "output_type": "display_data"
    }
   ],
   "source": [
    "plt.boxplot([df_t0[\"y_t1\"], df_t0[\"y_t0\"]], positions=[0, 1], labels=[\"y_t1\", \"y_t0\"])\n",
    "plt.plot([0, 1], [df_t0[\"y_t1\"].mean(), df_t0[\"y_t0\"].mean()], marker=\"x\")\n",
    "plt.title(\"ATU\")\n",
    "plt.ylim(min(df.values.flatten())-2.5, max(df.values.flatten()+2.5))\n",
    "plt.show()"
   ]
  },
  {
   "cell_type": "markdown",
   "metadata": {},
   "source": [
    "### DID"
   ]
  },
  {
   "cell_type": "code",
   "execution_count": 25,
   "metadata": {},
   "outputs": [
    {
     "data": {
      "image/png": "[encoded data removed]",
      "text/plain": [
       "<Figure size 432x288 with 1 Axes>"
      ]
     },
     "metadata": {
      "needs_background": "light"
     },
     "output_type": "display_data"
    }
   ],
   "source": [
    "plt.plot([0, 1], [(df_t0[\"y_t1\"].mean()-df_t0[\"y_t0\"].mean()), (df_t1[\"y_t1\"].mean()-df_t1[\"y_t0\"].mean())], marker=\"x\")\n",
    "plt.title(\"DID\")\n",
    "plt.xticks([0, 1], [\"t1\", \"t0\"])\n",
    "plt.ylim(min(df.values.flatten())-2.5, max(df.values.flatten()+2.5))\n",
    "plt.show()"
   ]
  },
  {
   "cell_type": "markdown",
   "metadata": {},
   "source": [
    "### 回帰不連続性"
   ]
  },
  {
   "cell_type": "code",
   "execution_count": 26,
   "metadata": {},
   "outputs": [
    {
     "data": {
      "text/html": [
       "<div>\n",
       "<style scoped>\n",
       "    .dataframe tbody tr th:only-of-type {\n",
       "        vertical-align: middle;\n",
       "    }\n",
       "\n",
       "    .dataframe tbody tr th {\n",
       "        vertical-align: top;\n",
       "    }\n",
       "\n",
       "    .dataframe thead th {\n",
       "        text-align: right;\n",
       "    }\n",
       "</style>\n",
       "<table border=\"1\" class=\"dataframe\">\n",
       "  <thead>\n",
       "    <tr style=\"text-align: right;\">\n",
       "      <th></th>\n",
       "      <th>category</th>\n",
       "      <th>sepal length (cm)</th>\n",
       "      <th>sepal width (cm)</th>\n",
       "      <th>petal length (cm)</th>\n",
       "      <th>petal width (cm)</th>\n",
       "    </tr>\n",
       "  </thead>\n",
       "  <tbody>\n",
       "    <tr>\n",
       "      <th>0</th>\n",
       "      <td>0</td>\n",
       "      <td>5.1</td>\n",
       "      <td>3.5</td>\n",
       "      <td>1.4</td>\n",
       "      <td>0.2</td>\n",
       "    </tr>\n",
       "    <tr>\n",
       "      <th>1</th>\n",
       "      <td>0</td>\n",
       "      <td>4.9</td>\n",
       "      <td>3.0</td>\n",
       "      <td>1.4</td>\n",
       "      <td>0.2</td>\n",
       "    </tr>\n",
       "    <tr>\n",
       "      <th>2</th>\n",
       "      <td>0</td>\n",
       "      <td>4.7</td>\n",
       "      <td>3.2</td>\n",
       "      <td>1.3</td>\n",
       "      <td>0.2</td>\n",
       "    </tr>\n",
       "    <tr>\n",
       "      <th>3</th>\n",
       "      <td>0</td>\n",
       "      <td>4.6</td>\n",
       "      <td>3.1</td>\n",
       "      <td>1.5</td>\n",
       "      <td>0.2</td>\n",
       "    </tr>\n",
       "    <tr>\n",
       "      <th>4</th>\n",
       "      <td>0</td>\n",
       "      <td>5.0</td>\n",
       "      <td>3.6</td>\n",
       "      <td>1.4</td>\n",
       "      <td>0.2</td>\n",
       "    </tr>\n",
       "  </tbody>\n",
       "</table>\n",
       "</div>"
      ],
      "text/plain": [
       "   category  sepal length (cm)  sepal width (cm)  petal length (cm)  \\\n",
       "0         0                5.1               3.5                1.4   \n",
       "1         0                4.9               3.0                1.4   \n",
       "2         0                4.7               3.2                1.3   \n",
       "3         0                4.6               3.1                1.5   \n",
       "4         0                5.0               3.6                1.4   \n",
       "\n",
       "   petal width (cm)  \n",
       "0               0.2  \n",
       "1               0.2  \n",
       "2               0.2  \n",
       "3               0.2  \n",
       "4               0.2  "
      ]
     },
     "execution_count": 26,
     "metadata": {},
     "output_type": "execute_result"
    }
   ],
   "source": [
    "df = pd.read_csv(\"iris.csv\")\n",
    "df.head()"
   ]
  },
  {
   "cell_type": "code",
   "execution_count": 27,
   "metadata": {},
   "outputs": [
    {
     "data": {
      "image/png": "[encoded data removed]",
      "text/plain": [
       "<Figure size 432x288 with 1 Axes>"
      ]
     },
     "metadata": {
      "needs_background": "light"
     },
     "output_type": "display_data"
    }
   ],
   "source": [
    "plt.scatter(df[\"petal width (cm)\"], df[\"sepal length (cm)\"], c=df[\"category\"], cmap=\"brg\")\n",
    "plt.show()"
   ]
  },
  {
   "cell_type": "code",
   "execution_count": 28,
   "metadata": {},
   "outputs": [
    {
     "data": {
      "image/png": "[encoded data removed]",
      "text/plain": [
       "<Figure size 432x288 with 1 Axes>"
      ]
     },
     "metadata": {
      "needs_background": "light"
     },
     "output_type": "display_data"
    }
   ],
   "source": [
    "plt.scatter(df[\"petal width (cm)\"], df[\"petal length (cm)\"], c=df[\"category\"], cmap=\"brg\")\n",
    "plt.show()"
   ]
  },
  {
   "cell_type": "code",
   "execution_count": 29,
   "metadata": {},
   "outputs": [],
   "source": [
    "model10 = LinearRegression()\n",
    "model10.fit(df.query(\"category==0\")[\"petal width (cm)\"].values.reshape(-1, 1), df.query(\"category==0\")[\"sepal length (cm)\"])\n",
    "y_pred10 = model10.predict(df.query(\"category==0\")[\"petal width (cm)\"].values.reshape(-1, 1))\n",
    "model11 = LinearRegression()\n",
    "model11.fit(df.query(\"category==1\")[\"petal width (cm)\"].values.reshape(-1, 1), df.query(\"category==1\")[\"sepal length (cm)\"])\n",
    "y_pred11 = model11.predict(df.query(\"category==1\")[\"petal width (cm)\"].values.reshape(-1, 1))\n",
    "model12 = LinearRegression()\n",
    "model12.fit(df.query(\"category==2\")[\"petal width (cm)\"].values.reshape(-1, 1), df.query(\"category==2\")[\"sepal length (cm)\"])\n",
    "y_pred12 = model12.predict(df.query(\"category==2\")[\"petal width (cm)\"].values.reshape(-1, 1))"
   ]
  },
  {
   "cell_type": "code",
   "execution_count": 38,
   "metadata": {},
   "outputs": [
    {
     "data": {
      "image/png": "[encoded data removed]",
      "text/plain": [
       "<Figure size 432x288 with 1 Axes>"
      ]
     },
     "metadata": {
      "needs_background": "light"
     },
     "output_type": "display_data"
    }
   ],
   "source": [
    "plt.scatter(df[\"petal width (cm)\"], df[\"sepal length (cm)\"], c=df[\"category\"], cmap=\"brg\")\n",
    "plt.plot(df.query(\"category==0\")[\"petal width (cm)\"].values, y_pred10, color=\"#0000FF\")\n",
    "plt.plot(df.query(\"category==1\")[\"petal width (cm)\"].values, y_pred11, color=\"#FF0000\")\n",
    "plt.plot(df.query(\"category==2\")[\"petal width (cm)\"].values, y_pred12, color=\"#00FF00\")\n",
    "plt.xlabel(\"petal width (cm)\")\n",
    "plt.ylabel(\"sepal length (cm)\")\n",
    "plt.show()"
   ]
  },
  {
   "cell_type": "code",
   "execution_count": 31,
   "metadata": {},
   "outputs": [
    {
     "name": "stdout",
     "output_type": "stream",
     "text": [
      "y0 = 0.917614x + 4.782102\n",
      "y1 = 1.426365x + 4.044640\n",
      "y2 = 0.650831x + 5.269417\n"
     ]
    }
   ],
   "source": [
    "print(\"y0 = %fx + %f\"%(model10.coef_[0], model10.intercept_))\n",
    "print(\"y1 = %fx + %f\"%(model11.coef_[0], model11.intercept_))\n",
    "print(\"y2 = %fx + %f\"%(model12.coef_[0], model12.intercept_))"
   ]
  },
  {
   "cell_type": "markdown",
   "metadata": {},
   "source": [
    "この数式から考えるとy0とy2は近くy1とy0およびy1とy2は性質が遠い事が分かる。"
   ]
  },
  {
   "cell_type": "code",
   "execution_count": 32,
   "metadata": {},
   "outputs": [],
   "source": [
    "model20 = LinearRegression()\n",
    "model20.fit(df.query(\"category==0\")[\"petal width (cm)\"].values.reshape(-1, 1), df.query(\"category==0\")[\"petal length (cm)\"])\n",
    "y_pred20 = model20.predict(df.query(\"category==0\")[\"petal width (cm)\"].values.reshape(-1, 1))\n",
    "model21 = LinearRegression()\n",
    "model21.fit(df.query(\"category==1\")[\"petal width (cm)\"].values.reshape(-1, 1), df.query(\"category==1\")[\"petal length (cm)\"])\n",
    "y_pred21 = model21.predict(df.query(\"category==1\")[\"petal width (cm)\"].values.reshape(-1, 1))\n",
    "model22 = LinearRegression()\n",
    "model22.fit(df.query(\"category==2\")[\"petal width (cm)\"].values.reshape(-1, 1), df.query(\"category==2\")[\"petal length (cm)\"])\n",
    "y_pred22 = model22.predict(df.query(\"category==2\")[\"petal width (cm)\"].values.reshape(-1, 1))"
   ]
  },
  {
   "cell_type": "code",
   "execution_count": 33,
   "metadata": {},
   "outputs": [
    {
     "data": {
      "image/png": "[encoded data removed]",
      "text/plain": [
       "<Figure size 432x288 with 1 Axes>"
      ]
     },
     "metadata": {
      "needs_background": "light"
     },
     "output_type": "display_data"
    }
   ],
   "source": [
    "plt.scatter(df[\"petal width (cm)\"], df[\"petal length (cm)\"], c=df[\"category\"], cmap=\"brg\")\n",
    "plt.plot(df.query(\"category==0\")[\"petal width (cm)\"].values, y_pred20, color=\"#0000FF\")\n",
    "plt.plot(df.query(\"category==1\")[\"petal width (cm)\"].values, y_pred21, color=\"#FF0000\")\n",
    "plt.plot(df.query(\"category==2\")[\"petal width (cm)\"].values, y_pred22, color=\"#00FF00\")\n",
    "plt.xlabel(\"petal width (cm)\")\n",
    "plt.ylabel(\"petal length (cm)\")\n",
    "plt.show()"
   ]
  },
  {
   "cell_type": "code",
   "execution_count": 34,
   "metadata": {},
   "outputs": [
    {
     "name": "stdout",
     "output_type": "stream",
     "text": [
      "y0 = 0.495739x + 1.343040\n",
      "y1 = 1.869325x + 1.781275\n",
      "y2 = 0.647259x + 4.240653\n"
     ]
    }
   ],
   "source": [
    "print(\"y0 = %fx + %f\"%(model20.coef_[0], model20.intercept_))\n",
    "print(\"y1 = %fx + %f\"%(model21.coef_[0], model21.intercept_))\n",
    "print(\"y2 = %fx + %f\"%(model22.coef_[0], model22.intercept_))"
   ]
  },
  {
   "cell_type": "markdown",
   "metadata": {},
   "source": [
    "散布図だけでは一見すると回帰が連続しているように見えるが、回帰式を算出すると必ず切片と勾配のどちらかが異なり同時に近似する事が無い事が分かる。\n",
    "例えばy0とy2は勾配が似ているが切片は大きく異なり、y0とy1は切片が似ているが勾配は大きく異なる。"
   ]
  },
  {
   "cell_type": "code",
   "execution_count": null,
   "metadata": {},
   "outputs": [],
   "source": []
  }
 ],
 "metadata": {
  "kernelspec": {
   "display_name": "Python 3",
   "language": "python",
   "name": "python3"
  },
  "language_info": {
   "codemirror_mode": {
    "name": "ipython",
    "version": 3
   },
   "file_extension": ".py",
   "mimetype": "text/x-python",
   "name": "python",
   "nbconvert_exporter": "python",
   "pygments_lexer": "ipython3",
   "version": "3.7.1"
  }
 },
 "nbformat": 4,
 "nbformat_minor": 2
}
