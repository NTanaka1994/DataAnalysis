{
 "cells": [
  {
   "cell_type": "markdown",
   "metadata": {},
   "source": [
    "# 類似度の計算\n",
    "統計データは多くの場合テーブルデータになっている。ここで、テーブルデータの変数ごとに構成されているレコードをベクトルと考えることができ、ここから距離の計算を使用して類似度を算出することができる。ただし、注意する点として、ベクトルの各変数ごとに単位(尺度)が異なり、大きな数値に影響を受けやすい特徴がある。そこで、本章では類似度の計算と単位の影響および正規化や標準化をして単位を統一した場合の精度結果を確認する。\n",
    "\n",
    "## ライブラリのインポート"
   ]
  },
  {
   "cell_type": "code",
   "execution_count": 1,
   "metadata": {},
   "outputs": [],
   "source": [
    "from sklearn.model_selection import train_test_split as tts\n",
    "from sklearn.metrics import classification_report\n",
    "from sklearn.preprocessing import StandardScaler, MinMaxScaler\n",
    "import pandas as pd\n",
    "import numpy as np"
   ]
  },
  {
   "cell_type": "markdown",
   "metadata": {},
   "source": [
    "## データの読み込み"
   ]
  },
  {
   "cell_type": "code",
   "execution_count": 2,
   "metadata": {},
   "outputs": [
    {
     "data": {
      "text/html": [
       "<div>\n",
       "<style scoped>\n",
       "    .dataframe tbody tr th:only-of-type {\n",
       "        vertical-align: middle;\n",
       "    }\n",
       "\n",
       "    .dataframe tbody tr th {\n",
       "        vertical-align: top;\n",
       "    }\n",
       "\n",
       "    .dataframe thead th {\n",
       "        text-align: right;\n",
       "    }\n",
       "</style>\n",
       "<table border=\"1\" class=\"dataframe\">\n",
       "  <thead>\n",
       "    <tr style=\"text-align: right;\">\n",
       "      <th></th>\n",
       "      <th>Wine</th>\n",
       "      <th>Alcohol</th>\n",
       "      <th>Malic.acid</th>\n",
       "      <th>Ash</th>\n",
       "      <th>Acl</th>\n",
       "      <th>Mg</th>\n",
       "      <th>Phenols</th>\n",
       "      <th>Flavanoids</th>\n",
       "      <th>Nonflavanoid.phenols</th>\n",
       "      <th>Proanth</th>\n",
       "      <th>Color.int</th>\n",
       "      <th>Hue</th>\n",
       "      <th>OD</th>\n",
       "      <th>Proline</th>\n",
       "    </tr>\n",
       "  </thead>\n",
       "  <tbody>\n",
       "    <tr>\n",
       "      <th>0</th>\n",
       "      <td>1</td>\n",
       "      <td>13.20</td>\n",
       "      <td>1.78</td>\n",
       "      <td>2.14</td>\n",
       "      <td>11.2</td>\n",
       "      <td>100</td>\n",
       "      <td>2.65</td>\n",
       "      <td>2.76</td>\n",
       "      <td>0.26</td>\n",
       "      <td>1.28</td>\n",
       "      <td>4.38</td>\n",
       "      <td>1.05</td>\n",
       "      <td>3.40</td>\n",
       "      <td>1050</td>\n",
       "    </tr>\n",
       "    <tr>\n",
       "      <th>1</th>\n",
       "      <td>1</td>\n",
       "      <td>13.16</td>\n",
       "      <td>2.36</td>\n",
       "      <td>2.67</td>\n",
       "      <td>18.6</td>\n",
       "      <td>101</td>\n",
       "      <td>2.80</td>\n",
       "      <td>3.24</td>\n",
       "      <td>0.30</td>\n",
       "      <td>2.81</td>\n",
       "      <td>5.68</td>\n",
       "      <td>1.03</td>\n",
       "      <td>3.17</td>\n",
       "      <td>1185</td>\n",
       "    </tr>\n",
       "    <tr>\n",
       "      <th>2</th>\n",
       "      <td>1</td>\n",
       "      <td>14.37</td>\n",
       "      <td>1.95</td>\n",
       "      <td>2.50</td>\n",
       "      <td>16.8</td>\n",
       "      <td>113</td>\n",
       "      <td>3.85</td>\n",
       "      <td>3.49</td>\n",
       "      <td>0.24</td>\n",
       "      <td>2.18</td>\n",
       "      <td>7.80</td>\n",
       "      <td>0.86</td>\n",
       "      <td>3.45</td>\n",
       "      <td>1480</td>\n",
       "    </tr>\n",
       "    <tr>\n",
       "      <th>3</th>\n",
       "      <td>1</td>\n",
       "      <td>13.24</td>\n",
       "      <td>2.59</td>\n",
       "      <td>2.87</td>\n",
       "      <td>21.0</td>\n",
       "      <td>118</td>\n",
       "      <td>2.80</td>\n",
       "      <td>2.69</td>\n",
       "      <td>0.39</td>\n",
       "      <td>1.82</td>\n",
       "      <td>4.32</td>\n",
       "      <td>1.04</td>\n",
       "      <td>2.93</td>\n",
       "      <td>735</td>\n",
       "    </tr>\n",
       "    <tr>\n",
       "      <th>4</th>\n",
       "      <td>1</td>\n",
       "      <td>14.20</td>\n",
       "      <td>1.76</td>\n",
       "      <td>2.45</td>\n",
       "      <td>15.2</td>\n",
       "      <td>112</td>\n",
       "      <td>3.27</td>\n",
       "      <td>3.39</td>\n",
       "      <td>0.34</td>\n",
       "      <td>1.97</td>\n",
       "      <td>6.75</td>\n",
       "      <td>1.05</td>\n",
       "      <td>2.85</td>\n",
       "      <td>1450</td>\n",
       "    </tr>\n",
       "  </tbody>\n",
       "</table>\n",
       "</div>"
      ],
      "text/plain": [
       "   Wine  Alcohol  Malic.acid   Ash   Acl   Mg  Phenols  Flavanoids  \\\n",
       "0     1    13.20        1.78  2.14  11.2  100     2.65        2.76   \n",
       "1     1    13.16        2.36  2.67  18.6  101     2.80        3.24   \n",
       "2     1    14.37        1.95  2.50  16.8  113     3.85        3.49   \n",
       "3     1    13.24        2.59  2.87  21.0  118     2.80        2.69   \n",
       "4     1    14.20        1.76  2.45  15.2  112     3.27        3.39   \n",
       "\n",
       "   Nonflavanoid.phenols  Proanth  Color.int   Hue    OD  Proline  \n",
       "0                  0.26     1.28       4.38  1.05  3.40     1050  \n",
       "1                  0.30     2.81       5.68  1.03  3.17     1185  \n",
       "2                  0.24     2.18       7.80  0.86  3.45     1480  \n",
       "3                  0.39     1.82       4.32  1.04  2.93      735  \n",
       "4                  0.34     1.97       6.75  1.05  2.85     1450  "
      ]
     },
     "execution_count": 2,
     "metadata": {},
     "output_type": "execute_result"
    }
   ],
   "source": [
    "df = pd.read_csv(\"wine.csv\")\n",
    "df.head()"
   ]
  },
  {
   "cell_type": "markdown",
   "metadata": {},
   "source": [
    "## 目的変数と説明変数の分離"
   ]
  },
  {
   "cell_type": "code",
   "execution_count": 3,
   "metadata": {},
   "outputs": [],
   "source": [
    "y_name = \"Wine\"\n",
    "y = df[y_name].values\n",
    "x_tab = df.drop(y_name, axis=1)\n",
    "x_name = x_tab.columns\n",
    "x = x_tab.values"
   ]
  },
  {
   "cell_type": "markdown",
   "metadata": {},
   "source": [
    "## 元々存在するデータと新しく確認するデータを分ける"
   ]
  },
  {
   "cell_type": "code",
   "execution_count": 4,
   "metadata": {},
   "outputs": [],
   "source": [
    "x_train, x_test, y_train, y_test = tts(x, y, random_state=0, test_size=0.3)"
   ]
  },
  {
   "cell_type": "markdown",
   "metadata": {},
   "source": [
    "## 類似度の算出\n",
    "類似度の算出には「コサイン類似度」「ユークリッド距離」「マンハッタン距離」を使用する。\n",
    "\n",
    "コサイン類似度は2つのベクトルの内積の数式について式変形を行いコサインの値を算出する。そのため1に近いと類似度が高く-1に近いと類似度が低い。\n",
    "\n",
    "ユークリッド距離は2つのベクトルの直線距離を算出する。そのため、0に近いと類似度が高く値が大きいほど類似度が低い。\n",
    "\n",
    "マンハッタン距離は2つのベクトルでベクトルごとの移動距離を算出する。そのため、0に近いと類似度が高く値が大きいと類似度が低い。"
   ]
  },
  {
   "cell_type": "code",
   "execution_count": 5,
   "metadata": {},
   "outputs": [],
   "source": [
    "cos = []\n",
    "euc = []\n",
    "man = []\n",
    "for i in range(len(x_test)):\n",
    "    tmp_cos = []\n",
    "    tmp_euc = []\n",
    "    tmp_man = []\n",
    "    for j in range(len(x_train)):\n",
    "        tmp_cos.append([y_train[j], np.dot(x_test[i], x_train[j])/(np.linalg.norm(x_test[i])*np.linalg.norm(x_train[j]))])\n",
    "        tmp_euc.append([y_train[j], np.linalg.norm(x_test[i]-x_train[j])])\n",
    "        tmp_man.append([y_train[j], np.linalg.norm(x_test[i]-x_train[j], ord=1)])\n",
    "    tmp_cos = sorted(tmp_cos, key=lambda x: x[1], reverse=True)\n",
    "    tmp_euc = sorted(tmp_euc, key=lambda x: x[1])\n",
    "    tmp_man = sorted(tmp_man, key=lambda x: x[1])\n",
    "    cos.append(tmp_cos[0])\n",
    "    euc.append(tmp_euc[0])\n",
    "    man.append(tmp_man[0])"
   ]
  },
  {
   "cell_type": "code",
   "execution_count": 6,
   "metadata": {},
   "outputs": [],
   "source": [
    "cos = np.array(cos)\n",
    "euc = np.array(euc)\n",
    "man = np.array(man)"
   ]
  },
  {
   "cell_type": "code",
   "execution_count": 7,
   "metadata": {},
   "outputs": [],
   "source": [
    "y_cos = cos[:,0]\n",
    "y_euc = euc[:,0]\n",
    "y_man = man[:,0]"
   ]
  },
  {
   "cell_type": "markdown",
   "metadata": {},
   "source": [
    "### 精度の確認"
   ]
  },
  {
   "cell_type": "code",
   "execution_count": 8,
   "metadata": {},
   "outputs": [
    {
     "name": "stdout",
     "output_type": "stream",
     "text": [
      "コサイン類似度\n",
      "              precision    recall  f1-score   support\n",
      "\n",
      "           1       0.75      0.95      0.84        19\n",
      "           2       0.90      0.90      0.90        21\n",
      "           3       1.00      0.64      0.78        14\n",
      "\n",
      "    accuracy                           0.85        54\n",
      "   macro avg       0.88      0.83      0.84        54\n",
      "weighted avg       0.88      0.85      0.85        54\n",
      "\n",
      "ユークリッド距離\n",
      "              precision    recall  f1-score   support\n",
      "\n",
      "           1       0.85      0.89      0.87        19\n",
      "           2       0.76      0.90      0.83        21\n",
      "           3       0.56      0.36      0.43        14\n",
      "\n",
      "    accuracy                           0.76        54\n",
      "   macro avg       0.72      0.72      0.71        54\n",
      "weighted avg       0.74      0.76      0.74        54\n",
      "\n",
      "マンハッタン距離\n",
      "              precision    recall  f1-score   support\n",
      "\n",
      "           1       0.85      0.89      0.87        19\n",
      "           2       0.90      0.86      0.88        21\n",
      "           3       0.71      0.71      0.71        14\n",
      "\n",
      "    accuracy                           0.83        54\n",
      "   macro avg       0.82      0.82      0.82        54\n",
      "weighted avg       0.83      0.83      0.83        54\n",
      "\n"
     ]
    }
   ],
   "source": [
    "print(\"コサイン類似度\")\n",
    "print(classification_report(y_test, y_cos))\n",
    "print(\"ユークリッド距離\")\n",
    "print(classification_report(y_test, y_euc))\n",
    "print(\"マンハッタン距離\")\n",
    "print(classification_report(y_test, y_man))"
   ]
  },
  {
   "cell_type": "markdown",
   "metadata": {},
   "source": [
    "基本的に精度は類似度の算出方法によってバラつきがあることが分かる。この理由としては大きい数値に影響を受けやすいことが挙げられる。そこで、次項では単位(尺度)を揃える。\n",
    "\n",
    "## 最大最小正規化\n",
    "最大最小正規化では変数の最大値を1として最小値を0にすることで全ての変数の単位(尺度)を揃える。"
   ]
  },
  {
   "cell_type": "code",
   "execution_count": 9,
   "metadata": {},
   "outputs": [],
   "source": [
    "Mscale = MinMaxScaler()\n",
    "Mscale.fit(x)\n",
    "xm = Mscale.transform(x)"
   ]
  },
  {
   "cell_type": "code",
   "execution_count": 10,
   "metadata": {},
   "outputs": [],
   "source": [
    "x_train, x_test, y_train, y_test = tts(xm, y, random_state=0, test_size=0.3)"
   ]
  },
  {
   "cell_type": "code",
   "execution_count": 11,
   "metadata": {},
   "outputs": [],
   "source": [
    "cos = []\n",
    "euc = []\n",
    "man = []\n",
    "for i in range(len(x_test)):\n",
    "    tmp_cos = []\n",
    "    tmp_euc = []\n",
    "    tmp_man = []\n",
    "    for j in range(len(x_train)):\n",
    "        tmp_cos.append([y_train[j], np.dot(x_test[i], x_train[j])/(np.linalg.norm(x_test[i])*np.linalg.norm(x_train[j]))])\n",
    "        tmp_euc.append([y_train[j], np.linalg.norm(x_test[i]-x_train[j])])\n",
    "        tmp_man.append([y_train[j], np.linalg.norm(x_test[i]-x_train[j], ord=1)])\n",
    "    tmp_cos = sorted(tmp_cos, key=lambda x: x[1], reverse=True)\n",
    "    tmp_euc = sorted(tmp_euc, key=lambda x: x[1])\n",
    "    tmp_man = sorted(tmp_man, key=lambda x: x[1])\n",
    "    cos.append(tmp_cos[0])\n",
    "    euc.append(tmp_euc[0])\n",
    "    man.append(tmp_man[0])"
   ]
  },
  {
   "cell_type": "code",
   "execution_count": 12,
   "metadata": {},
   "outputs": [],
   "source": [
    "cos = np.array(cos)\n",
    "euc = np.array(euc)\n",
    "man = np.array(man)"
   ]
  },
  {
   "cell_type": "code",
   "execution_count": 13,
   "metadata": {},
   "outputs": [],
   "source": [
    "y_cos = cos[:,0]\n",
    "y_euc = euc[:,0]\n",
    "y_man = man[:,0]"
   ]
  },
  {
   "cell_type": "code",
   "execution_count": 14,
   "metadata": {},
   "outputs": [
    {
     "name": "stdout",
     "output_type": "stream",
     "text": [
      "コサイン類似度\n",
      "              precision    recall  f1-score   support\n",
      "\n",
      "           1       0.86      1.00      0.93        19\n",
      "           2       1.00      0.86      0.92        21\n",
      "           3       1.00      1.00      1.00        14\n",
      "\n",
      "    accuracy                           0.94        54\n",
      "   macro avg       0.95      0.95      0.95        54\n",
      "weighted avg       0.95      0.94      0.94        54\n",
      "\n",
      "ユークリッド距離\n",
      "              precision    recall  f1-score   support\n",
      "\n",
      "           1       0.90      1.00      0.95        19\n",
      "           2       1.00      0.86      0.92        21\n",
      "           3       0.93      1.00      0.97        14\n",
      "\n",
      "    accuracy                           0.94        54\n",
      "   macro avg       0.95      0.95      0.95        54\n",
      "weighted avg       0.95      0.94      0.94        54\n",
      "\n",
      "マンハッタン距離\n",
      "              precision    recall  f1-score   support\n",
      "\n",
      "           1       0.90      1.00      0.95        19\n",
      "           2       1.00      0.90      0.95        21\n",
      "           3       1.00      1.00      1.00        14\n",
      "\n",
      "    accuracy                           0.96        54\n",
      "   macro avg       0.97      0.97      0.97        54\n",
      "weighted avg       0.97      0.96      0.96        54\n",
      "\n"
     ]
    }
   ],
   "source": [
    "print(\"コサイン類似度\")\n",
    "print(classification_report(y_test, y_cos))\n",
    "print(\"ユークリッド距離\")\n",
    "print(classification_report(y_test, y_euc))\n",
    "print(\"マンハッタン距離\")\n",
    "print(classification_report(y_test, y_man))"
   ]
  },
  {
   "cell_type": "markdown",
   "metadata": {},
   "source": [
    "データの加工をする前と比較するとどの類似度計算を使用しても精度が90%以上に向上していることが分かる。\n",
    "\n",
    "## 分散正規化(標準化)\n",
    "単位(尺度)の揃え方として平均値を0として標準偏差を1にする。"
   ]
  },
  {
   "cell_type": "code",
   "execution_count": 15,
   "metadata": {},
   "outputs": [],
   "source": [
    "Sscale = StandardScaler()\n",
    "Sscale.fit(x)\n",
    "xs = Sscale.transform(x)"
   ]
  },
  {
   "cell_type": "code",
   "execution_count": 16,
   "metadata": {},
   "outputs": [],
   "source": [
    "x_train, x_test, y_train, y_test = tts(xs, y, random_state=0, test_size=0.3)"
   ]
  },
  {
   "cell_type": "code",
   "execution_count": 17,
   "metadata": {},
   "outputs": [],
   "source": [
    "cos = []\n",
    "euc = []\n",
    "man = []\n",
    "for i in range(len(x_test)):\n",
    "    tmp_cos = []\n",
    "    tmp_euc = []\n",
    "    tmp_man = []\n",
    "    for j in range(len(x_train)):\n",
    "        tmp_cos.append([y_train[j], np.dot(x_test[i], x_train[j])/(np.linalg.norm(x_test[i])*np.linalg.norm(x_train[j]))])\n",
    "        tmp_euc.append([y_train[j], np.linalg.norm(x_test[i]-x_train[j])])\n",
    "        tmp_man.append([y_train[j], np.linalg.norm(x_test[i]-x_train[j], ord=1)])\n",
    "    tmp_cos = sorted(tmp_cos, key=lambda x: x[1], reverse=True)\n",
    "    tmp_euc = sorted(tmp_euc, key=lambda x: x[1])\n",
    "    tmp_man = sorted(tmp_man, key=lambda x: x[1])\n",
    "    cos.append(tmp_cos[0])\n",
    "    euc.append(tmp_euc[0])\n",
    "    man.append(tmp_man[0])"
   ]
  },
  {
   "cell_type": "code",
   "execution_count": 18,
   "metadata": {},
   "outputs": [],
   "source": [
    "cos = np.array(cos)\n",
    "euc = np.array(euc)\n",
    "man = np.array(man)"
   ]
  },
  {
   "cell_type": "code",
   "execution_count": 19,
   "metadata": {},
   "outputs": [],
   "source": [
    "y_cos = cos[:,0]\n",
    "y_euc = euc[:,0]\n",
    "y_man = man[:,0]"
   ]
  },
  {
   "cell_type": "code",
   "execution_count": 20,
   "metadata": {},
   "outputs": [
    {
     "name": "stdout",
     "output_type": "stream",
     "text": [
      "コサイン類似度\n",
      "              precision    recall  f1-score   support\n",
      "\n",
      "           1       0.95      1.00      0.97        19\n",
      "           2       1.00      0.90      0.95        21\n",
      "           3       0.93      1.00      0.97        14\n",
      "\n",
      "    accuracy                           0.96        54\n",
      "   macro avg       0.96      0.97      0.96        54\n",
      "weighted avg       0.97      0.96      0.96        54\n",
      "\n",
      "ユークリッド距離\n",
      "              precision    recall  f1-score   support\n",
      "\n",
      "           1       0.90      1.00      0.95        19\n",
      "           2       1.00      0.86      0.92        21\n",
      "           3       0.93      1.00      0.97        14\n",
      "\n",
      "    accuracy                           0.94        54\n",
      "   macro avg       0.95      0.95      0.95        54\n",
      "weighted avg       0.95      0.94      0.94        54\n",
      "\n",
      "マンハッタン距離\n",
      "              precision    recall  f1-score   support\n",
      "\n",
      "           1       0.90      1.00      0.95        19\n",
      "           2       1.00      0.90      0.95        21\n",
      "           3       1.00      1.00      1.00        14\n",
      "\n",
      "    accuracy                           0.96        54\n",
      "   macro avg       0.97      0.97      0.97        54\n",
      "weighted avg       0.97      0.96      0.96        54\n",
      "\n"
     ]
    }
   ],
   "source": [
    "print(\"コサイン類似度\")\n",
    "print(classification_report(y_test, y_cos))\n",
    "print(\"ユークリッド距離\")\n",
    "print(classification_report(y_test, y_euc))\n",
    "print(\"マンハッタン距離\")\n",
    "print(classification_report(y_test, y_man))"
   ]
  },
  {
   "cell_type": "markdown",
   "metadata": {},
   "source": [
    "単位を揃えたことでデータを加工する前と比べて精度が向上していることが分かる。また、コサイン類似度では精度が2%向上していることが分かる。"
   ]
  },
  {
   "cell_type": "code",
   "execution_count": null,
   "metadata": {},
   "outputs": [],
   "source": []
  }
 ],
 "metadata": {
  "kernelspec": {
   "display_name": "Python 3",
   "language": "python",
   "name": "python3"
  },
  "language_info": {
   "codemirror_mode": {
    "name": "ipython",
    "version": 3
   },
   "file_extension": ".py",
   "mimetype": "text/x-python",
   "name": "python",
   "nbconvert_exporter": "python",
   "pygments_lexer": "ipython3",
   "version": "3.7.1"
  }
 },
 "nbformat": 4,
 "nbformat_minor": 2
}
