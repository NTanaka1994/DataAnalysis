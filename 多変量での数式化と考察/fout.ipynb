{
 "cells": [
  {
   "cell_type": "markdown",
   "metadata": {
    "id": "XCkJvgzqdOVD"
   },
   "source": [
    "# 多変量での数式化と考察\n",
    "機械学習のモデルを生成して結果精度が良かった場合そのモデルを採用できる。そこで、モデルによっては特徴量を変数として線形の式を出力でき、算出された係数から結果を与える条件が分かるようになる。しかし、この手法は非常に単純なデータで可能であり、様々な条件が絡み合うと適用できないこともある。\n",
    "\n",
    "# ライブラリのインポート"
   ]
  },
  {
   "cell_type": "code",
   "execution_count": 1,
   "metadata": {
    "executionInfo": {
     "elapsed": 929,
     "status": "ok",
     "timestamp": 1649917277933,
     "user": {
      "displayName": "田中直哉",
      "userId": "04823463265793038392"
     },
     "user_tz": -540
    },
    "id": "osksTfBXIyL3"
   },
   "outputs": [],
   "source": [
    "from sklearn.linear_model import LinearRegression as LR\n",
    "from sklearn.preprocessing import minmax_scale\n",
    "from sklearn.metrics import confusion_matrix,classification_report,mean_absolute_error\n",
    "import statsmodels.formula.api as smf\n",
    "import statsmodels.api as sm\n",
    "import matplotlib.pyplot as plt\n",
    "import pandas as pd\n",
    "import numpy as np\n",
    "import scipy.stats as stats"
   ]
  },
  {
   "cell_type": "markdown",
   "metadata": {
    "id": "0PKni9ZuIyL9"
   },
   "source": [
    "# カテゴリ分類で作られた決定境界の直線の数式を出力\n",
    "## データの読み込み"
   ]
  },
  {
   "cell_type": "code",
   "execution_count": 2,
   "metadata": {
    "colab": {
     "base_uri": "https://localhost:8080/",
     "height": 340
    },
    "executionInfo": {
     "elapsed": 485,
     "status": "error",
     "timestamp": 1649917278411,
     "user": {
      "displayName": "田中直哉",
      "userId": "04823463265793038392"
     },
     "user_tz": -540
    },
    "id": "rCWvrPeHIyMF",
    "outputId": "0b45585f-81b8-43af-9a41-f139d1a7804b"
   },
   "outputs": [
    {
     "data": {
      "text/html": [
       "<div>\n",
       "<style scoped>\n",
       "    .dataframe tbody tr th:only-of-type {\n",
       "        vertical-align: middle;\n",
       "    }\n",
       "\n",
       "    .dataframe tbody tr th {\n",
       "        vertical-align: top;\n",
       "    }\n",
       "\n",
       "    .dataframe thead th {\n",
       "        text-align: right;\n",
       "    }\n",
       "</style>\n",
       "<table border=\"1\" class=\"dataframe\">\n",
       "  <thead>\n",
       "    <tr style=\"text-align: right;\">\n",
       "      <th></th>\n",
       "      <th>y</th>\n",
       "      <th>mean radius</th>\n",
       "      <th>mean texture</th>\n",
       "      <th>mean perimeter</th>\n",
       "      <th>mean area</th>\n",
       "      <th>mean smoothness</th>\n",
       "      <th>mean compactness</th>\n",
       "      <th>mean concavity</th>\n",
       "      <th>mean concave points</th>\n",
       "      <th>mean symmetry</th>\n",
       "      <th>...</th>\n",
       "      <th>worst radius</th>\n",
       "      <th>worst texture</th>\n",
       "      <th>worst perimeter</th>\n",
       "      <th>worst area</th>\n",
       "      <th>worst smoothness</th>\n",
       "      <th>worst compactness</th>\n",
       "      <th>worst concavity</th>\n",
       "      <th>worst concave points</th>\n",
       "      <th>worst symmetry</th>\n",
       "      <th>worst fractal dimension</th>\n",
       "    </tr>\n",
       "  </thead>\n",
       "  <tbody>\n",
       "    <tr>\n",
       "      <th>0</th>\n",
       "      <td>0.0</td>\n",
       "      <td>17.99</td>\n",
       "      <td>10.38</td>\n",
       "      <td>122.80</td>\n",
       "      <td>1001.0</td>\n",
       "      <td>0.11840</td>\n",
       "      <td>0.27760</td>\n",
       "      <td>0.3001</td>\n",
       "      <td>0.14710</td>\n",
       "      <td>0.2419</td>\n",
       "      <td>...</td>\n",
       "      <td>25.38</td>\n",
       "      <td>17.33</td>\n",
       "      <td>184.60</td>\n",
       "      <td>2019.0</td>\n",
       "      <td>0.1622</td>\n",
       "      <td>0.6656</td>\n",
       "      <td>0.7119</td>\n",
       "      <td>0.2654</td>\n",
       "      <td>0.4601</td>\n",
       "      <td>0.11890</td>\n",
       "    </tr>\n",
       "    <tr>\n",
       "      <th>1</th>\n",
       "      <td>0.0</td>\n",
       "      <td>20.57</td>\n",
       "      <td>17.77</td>\n",
       "      <td>132.90</td>\n",
       "      <td>1326.0</td>\n",
       "      <td>0.08474</td>\n",
       "      <td>0.07864</td>\n",
       "      <td>0.0869</td>\n",
       "      <td>0.07017</td>\n",
       "      <td>0.1812</td>\n",
       "      <td>...</td>\n",
       "      <td>24.99</td>\n",
       "      <td>23.41</td>\n",
       "      <td>158.80</td>\n",
       "      <td>1956.0</td>\n",
       "      <td>0.1238</td>\n",
       "      <td>0.1866</td>\n",
       "      <td>0.2416</td>\n",
       "      <td>0.1860</td>\n",
       "      <td>0.2750</td>\n",
       "      <td>0.08902</td>\n",
       "    </tr>\n",
       "    <tr>\n",
       "      <th>2</th>\n",
       "      <td>0.0</td>\n",
       "      <td>19.69</td>\n",
       "      <td>21.25</td>\n",
       "      <td>130.00</td>\n",
       "      <td>1203.0</td>\n",
       "      <td>0.10960</td>\n",
       "      <td>0.15990</td>\n",
       "      <td>0.1974</td>\n",
       "      <td>0.12790</td>\n",
       "      <td>0.2069</td>\n",
       "      <td>...</td>\n",
       "      <td>23.57</td>\n",
       "      <td>25.53</td>\n",
       "      <td>152.50</td>\n",
       "      <td>1709.0</td>\n",
       "      <td>0.1444</td>\n",
       "      <td>0.4245</td>\n",
       "      <td>0.4504</td>\n",
       "      <td>0.2430</td>\n",
       "      <td>0.3613</td>\n",
       "      <td>0.08758</td>\n",
       "    </tr>\n",
       "    <tr>\n",
       "      <th>3</th>\n",
       "      <td>0.0</td>\n",
       "      <td>11.42</td>\n",
       "      <td>20.38</td>\n",
       "      <td>77.58</td>\n",
       "      <td>386.1</td>\n",
       "      <td>0.14250</td>\n",
       "      <td>0.28390</td>\n",
       "      <td>0.2414</td>\n",
       "      <td>0.10520</td>\n",
       "      <td>0.2597</td>\n",
       "      <td>...</td>\n",
       "      <td>14.91</td>\n",
       "      <td>26.50</td>\n",
       "      <td>98.87</td>\n",
       "      <td>567.7</td>\n",
       "      <td>0.2098</td>\n",
       "      <td>0.8663</td>\n",
       "      <td>0.6869</td>\n",
       "      <td>0.2575</td>\n",
       "      <td>0.6638</td>\n",
       "      <td>0.17300</td>\n",
       "    </tr>\n",
       "    <tr>\n",
       "      <th>4</th>\n",
       "      <td>0.0</td>\n",
       "      <td>20.29</td>\n",
       "      <td>14.34</td>\n",
       "      <td>135.10</td>\n",
       "      <td>1297.0</td>\n",
       "      <td>0.10030</td>\n",
       "      <td>0.13280</td>\n",
       "      <td>0.1980</td>\n",
       "      <td>0.10430</td>\n",
       "      <td>0.1809</td>\n",
       "      <td>...</td>\n",
       "      <td>22.54</td>\n",
       "      <td>16.67</td>\n",
       "      <td>152.20</td>\n",
       "      <td>1575.0</td>\n",
       "      <td>0.1374</td>\n",
       "      <td>0.2050</td>\n",
       "      <td>0.4000</td>\n",
       "      <td>0.1625</td>\n",
       "      <td>0.2364</td>\n",
       "      <td>0.07678</td>\n",
       "    </tr>\n",
       "  </tbody>\n",
       "</table>\n",
       "<p>5 rows × 31 columns</p>\n",
       "</div>"
      ],
      "text/plain": [
       "     y  mean radius  mean texture  mean perimeter  mean area  mean smoothness  \\\n",
       "0  0.0        17.99         10.38          122.80     1001.0          0.11840   \n",
       "1  0.0        20.57         17.77          132.90     1326.0          0.08474   \n",
       "2  0.0        19.69         21.25          130.00     1203.0          0.10960   \n",
       "3  0.0        11.42         20.38           77.58      386.1          0.14250   \n",
       "4  0.0        20.29         14.34          135.10     1297.0          0.10030   \n",
       "\n",
       "   mean compactness  mean concavity  mean concave points  mean symmetry  ...  \\\n",
       "0           0.27760          0.3001              0.14710         0.2419  ...   \n",
       "1           0.07864          0.0869              0.07017         0.1812  ...   \n",
       "2           0.15990          0.1974              0.12790         0.2069  ...   \n",
       "3           0.28390          0.2414              0.10520         0.2597  ...   \n",
       "4           0.13280          0.1980              0.10430         0.1809  ...   \n",
       "\n",
       "   worst radius  worst texture  worst perimeter  worst area  worst smoothness  \\\n",
       "0         25.38          17.33           184.60      2019.0            0.1622   \n",
       "1         24.99          23.41           158.80      1956.0            0.1238   \n",
       "2         23.57          25.53           152.50      1709.0            0.1444   \n",
       "3         14.91          26.50            98.87       567.7            0.2098   \n",
       "4         22.54          16.67           152.20      1575.0            0.1374   \n",
       "\n",
       "   worst compactness  worst concavity  worst concave points  worst symmetry  \\\n",
       "0             0.6656           0.7119                0.2654          0.4601   \n",
       "1             0.1866           0.2416                0.1860          0.2750   \n",
       "2             0.4245           0.4504                0.2430          0.3613   \n",
       "3             0.8663           0.6869                0.2575          0.6638   \n",
       "4             0.2050           0.4000                0.1625          0.2364   \n",
       "\n",
       "   worst fractal dimension  \n",
       "0                  0.11890  \n",
       "1                  0.08902  \n",
       "2                  0.08758  \n",
       "3                  0.17300  \n",
       "4                  0.07678  \n",
       "\n",
       "[5 rows x 31 columns]"
      ]
     },
     "execution_count": 2,
     "metadata": {},
     "output_type": "execute_result"
    }
   ],
   "source": [
    "df = pd.read_csv(\"breast_cancer.csv\")\n",
    "df.head()"
   ]
  },
  {
   "cell_type": "markdown",
   "metadata": {},
   "source": [
    "## statsmodelsでデータの分析結果を出力\n",
    "係数に着目してデータの条件を考察する。ここで、二値分類の場合、係数と変数を合算させたときに総和が0.5以上の場合に陽性と出力されるため、分類モデルでは陽性の条件が分かる。\n",
    "\n",
    "基本的にScikit-Learnでも問題ないが、StatsmodelsではZ値とp値も出力されるため、どの変数が影響力がある変数かが分かる。"
   ]
  },
  {
   "cell_type": "code",
   "execution_count": 3,
   "metadata": {},
   "outputs": [
    {
     "name": "stderr",
     "output_type": "stream",
     "text": [
      "C:\\Users\\decar\\Anaconda3\\lib\\site-packages\\statsmodels\\discrete\\discrete_model.py:1819: RuntimeWarning: overflow encountered in exp\n",
      "  return 1/(1+np.exp(-X))\n",
      "C:\\Users\\decar\\Anaconda3\\lib\\site-packages\\statsmodels\\discrete\\discrete_model.py:1872: RuntimeWarning: divide by zero encountered in log\n",
      "  return np.sum(np.log(self.cdf(q*np.dot(X,params))))\n"
     ]
    },
    {
     "name": "stdout",
     "output_type": "stream",
     "text": [
      "Optimization terminated successfully    (Exit mode 0)\n",
      "            Current function value: 0.03148814694043636\n",
      "            Iterations: 503\n",
      "            Function evaluations: 518\n",
      "            Gradient evaluations: 503\n"
     ]
    }
   ],
   "source": [
    "X = sm.add_constant(df.drop(\"y\", axis=1))\n",
    "model = sm.Logit(df[\"y\"], X).fit_regularized()"
   ]
  },
  {
   "cell_type": "code",
   "execution_count": 4,
   "metadata": {},
   "outputs": [
    {
     "data": {
      "text/html": [
       "<table class=\"simpletable\">\n",
       "<caption>Logit Regression Results</caption>\n",
       "<tr>\n",
       "  <th>Dep. Variable:</th>           <td>y</td>        <th>  No. Observations:  </th>   <td>   569</td>  \n",
       "</tr>\n",
       "<tr>\n",
       "  <th>Model:</th>                 <td>Logit</td>      <th>  Df Residuals:      </th>   <td>   538</td>  \n",
       "</tr>\n",
       "<tr>\n",
       "  <th>Method:</th>                 <td>MLE</td>       <th>  Df Model:          </th>   <td>    30</td>  \n",
       "</tr>\n",
       "<tr>\n",
       "  <th>Date:</th>            <td>Tue, 03 Jan 2023</td> <th>  Pseudo R-squ.:     </th>   <td>0.9523</td>  \n",
       "</tr>\n",
       "<tr>\n",
       "  <th>Time:</th>                <td>13:04:49</td>     <th>  Log-Likelihood:    </th>  <td> -17.917</td> \n",
       "</tr>\n",
       "<tr>\n",
       "  <th>converged:</th>             <td>True</td>       <th>  LL-Null:           </th>  <td> -375.72</td> \n",
       "</tr>\n",
       "<tr>\n",
       "  <th>Covariance Type:</th>     <td>nonrobust</td>    <th>  LLR p-value:       </th> <td>2.728e-131</td>\n",
       "</tr>\n",
       "</table>\n",
       "<table class=\"simpletable\">\n",
       "<tr>\n",
       "             <td></td>                <th>coef</th>     <th>std err</th>      <th>z</th>      <th>P>|z|</th>  <th>[0.025</th>    <th>0.975]</th>  \n",
       "</tr>\n",
       "<tr>\n",
       "  <th>const</th>                   <td>    8.9629</td> <td>   52.559</td> <td>    0.171</td> <td> 0.865</td> <td>  -94.050</td> <td>  111.976</td>\n",
       "</tr>\n",
       "<tr>\n",
       "  <th>mean radius</th>             <td>    6.9979</td> <td>   21.339</td> <td>    0.328</td> <td> 0.743</td> <td>  -34.826</td> <td>   48.821</td>\n",
       "</tr>\n",
       "<tr>\n",
       "  <th>mean texture</th>            <td>    0.0224</td> <td>    0.626</td> <td>    0.036</td> <td> 0.971</td> <td>   -1.204</td> <td>    1.249</td>\n",
       "</tr>\n",
       "<tr>\n",
       "  <th>mean perimeter</th>          <td>    1.3387</td> <td>    3.039</td> <td>    0.441</td> <td> 0.660</td> <td>   -4.617</td> <td>    7.294</td>\n",
       "</tr>\n",
       "<tr>\n",
       "  <th>mean area</th>               <td>   -0.1109</td> <td>    0.124</td> <td>   -0.892</td> <td> 0.372</td> <td>   -0.354</td> <td>    0.133</td>\n",
       "</tr>\n",
       "<tr>\n",
       "  <th>mean smoothness</th>         <td> -203.6587</td> <td>  262.736</td> <td>   -0.775</td> <td> 0.438</td> <td> -718.612</td> <td>  311.295</td>\n",
       "</tr>\n",
       "<tr>\n",
       "  <th>mean compactness</th>        <td>  141.4334</td> <td>  142.778</td> <td>    0.991</td> <td> 0.322</td> <td> -138.406</td> <td>  421.273</td>\n",
       "</tr>\n",
       "<tr>\n",
       "  <th>mean concavity</th>          <td> -120.8278</td> <td>  117.737</td> <td>   -1.026</td> <td> 0.305</td> <td> -351.589</td> <td>  109.933</td>\n",
       "</tr>\n",
       "<tr>\n",
       "  <th>mean concave points</th>     <td> -142.7686</td> <td>  172.404</td> <td>   -0.828</td> <td> 0.408</td> <td> -480.674</td> <td>  195.137</td>\n",
       "</tr>\n",
       "<tr>\n",
       "  <th>mean symmetry</th>           <td>   84.6226</td> <td>   70.033</td> <td>    1.208</td> <td> 0.227</td> <td>  -52.639</td> <td>  221.884</td>\n",
       "</tr>\n",
       "<tr>\n",
       "  <th>mean fractal dimension</th>  <td> -202.9288</td> <td>  408.504</td> <td>   -0.497</td> <td> 0.619</td> <td>-1003.582</td> <td>  597.725</td>\n",
       "</tr>\n",
       "<tr>\n",
       "  <th>radius error</th>            <td>  -50.5151</td> <td>   71.556</td> <td>   -0.706</td> <td> 0.480</td> <td> -190.763</td> <td>   89.733</td>\n",
       "</tr>\n",
       "<tr>\n",
       "  <th>texture error</th>           <td>    5.0310</td> <td>    4.029</td> <td>    1.249</td> <td> 0.212</td> <td>   -2.866</td> <td>   12.928</td>\n",
       "</tr>\n",
       "<tr>\n",
       "  <th>perimeter error</th>         <td>    7.4456</td> <td>    6.748</td> <td>    1.103</td> <td> 0.270</td> <td>   -5.780</td> <td>   20.671</td>\n",
       "</tr>\n",
       "<tr>\n",
       "  <th>area error</th>              <td>   -0.3009</td> <td>    0.519</td> <td>   -0.580</td> <td> 0.562</td> <td>   -1.317</td> <td>    0.716</td>\n",
       "</tr>\n",
       "<tr>\n",
       "  <th>smoothness error</th>        <td> -539.1715</td> <td> 1117.271</td> <td>   -0.483</td> <td> 0.629</td> <td>-2728.982</td> <td> 1650.639</td>\n",
       "</tr>\n",
       "<tr>\n",
       "  <th>compactness error</th>       <td>  -61.6349</td> <td>  261.563</td> <td>   -0.236</td> <td> 0.814</td> <td> -574.289</td> <td>  451.019</td>\n",
       "</tr>\n",
       "<tr>\n",
       "  <th>concavity error</th>         <td>  335.4967</td> <td>  175.117</td> <td>    1.916</td> <td> 0.055</td> <td>   -7.726</td> <td>  678.720</td>\n",
       "</tr>\n",
       "<tr>\n",
       "  <th>concave points error</th>    <td>-1333.5654</td> <td>  827.872</td> <td>   -1.611</td> <td> 0.107</td> <td>-2956.165</td> <td>  289.035</td>\n",
       "</tr>\n",
       "<tr>\n",
       "  <th>symmetry error</th>          <td>  319.7980</td> <td>  401.955</td> <td>    0.796</td> <td> 0.426</td> <td> -468.019</td> <td> 1107.615</td>\n",
       "</tr>\n",
       "<tr>\n",
       "  <th>fractal dimension error</th> <td>  606.8455</td> <td> 1503.014</td> <td>    0.404</td> <td> 0.686</td> <td>-2339.008</td> <td> 3552.699</td>\n",
       "</tr>\n",
       "<tr>\n",
       "  <th>worst radius</th>            <td>    2.0029</td> <td>    7.622</td> <td>    0.263</td> <td> 0.793</td> <td>  -12.937</td> <td>   16.943</td>\n",
       "</tr>\n",
       "<tr>\n",
       "  <th>worst texture</th>           <td>   -1.0247</td> <td>    0.620</td> <td>   -1.653</td> <td> 0.098</td> <td>   -2.240</td> <td>    0.191</td>\n",
       "</tr>\n",
       "<tr>\n",
       "  <th>worst perimeter</th>         <td>   -0.7826</td> <td>    0.909</td> <td>   -0.861</td> <td> 0.389</td> <td>   -2.564</td> <td>    0.999</td>\n",
       "</tr>\n",
       "<tr>\n",
       "  <th>worst area</th>              <td>   -0.0366</td> <td>    0.068</td> <td>   -0.540</td> <td> 0.589</td> <td>   -0.169</td> <td>    0.096</td>\n",
       "</tr>\n",
       "<tr>\n",
       "  <th>worst smoothness</th>        <td>   94.9065</td> <td>  170.653</td> <td>    0.556</td> <td> 0.578</td> <td> -239.568</td> <td>  429.381</td>\n",
       "</tr>\n",
       "<tr>\n",
       "  <th>worst compactness</th>       <td>   17.6550</td> <td>   48.021</td> <td>    0.368</td> <td> 0.713</td> <td>  -76.465</td> <td>  111.775</td>\n",
       "</tr>\n",
       "<tr>\n",
       "  <th>worst concavity</th>         <td>  -30.0498</td> <td>   34.208</td> <td>   -0.878</td> <td> 0.380</td> <td>  -97.097</td> <td>   36.997</td>\n",
       "</tr>\n",
       "<tr>\n",
       "  <th>worst concave points</th>    <td>  -48.3774</td> <td>  100.620</td> <td>   -0.481</td> <td> 0.631</td> <td> -245.589</td> <td>  148.834</td>\n",
       "</tr>\n",
       "<tr>\n",
       "  <th>worst symmetry</th>          <td>  -86.5107</td> <td>   60.216</td> <td>   -1.437</td> <td> 0.151</td> <td> -204.532</td> <td>   31.511</td>\n",
       "</tr>\n",
       "<tr>\n",
       "  <th>worst fractal dimension</th> <td> -120.0636</td> <td>  182.543</td> <td>   -0.658</td> <td> 0.511</td> <td> -477.841</td> <td>  237.714</td>\n",
       "</tr>\n",
       "</table><br/><br/>Possibly complete quasi-separation: A fraction 0.86 of observations can be<br/>perfectly predicted. This might indicate that there is complete<br/>quasi-separation. In this case some parameters will not be identified."
      ],
      "text/plain": [
       "<class 'statsmodels.iolib.summary.Summary'>\n",
       "\"\"\"\n",
       "                           Logit Regression Results                           \n",
       "==============================================================================\n",
       "Dep. Variable:                      y   No. Observations:                  569\n",
       "Model:                          Logit   Df Residuals:                      538\n",
       "Method:                           MLE   Df Model:                           30\n",
       "Date:                Tue, 03 Jan 2023   Pseudo R-squ.:                  0.9523\n",
       "Time:                        13:04:49   Log-Likelihood:                -17.917\n",
       "converged:                       True   LL-Null:                       -375.72\n",
       "Covariance Type:            nonrobust   LLR p-value:                2.728e-131\n",
       "===========================================================================================\n",
       "                              coef    std err          z      P>|z|      [0.025      0.975]\n",
       "-------------------------------------------------------------------------------------------\n",
       "const                       8.9629     52.559      0.171      0.865     -94.050     111.976\n",
       "mean radius                 6.9979     21.339      0.328      0.743     -34.826      48.821\n",
       "mean texture                0.0224      0.626      0.036      0.971      -1.204       1.249\n",
       "mean perimeter              1.3387      3.039      0.441      0.660      -4.617       7.294\n",
       "mean area                  -0.1109      0.124     -0.892      0.372      -0.354       0.133\n",
       "mean smoothness          -203.6587    262.736     -0.775      0.438    -718.612     311.295\n",
       "mean compactness          141.4334    142.778      0.991      0.322    -138.406     421.273\n",
       "mean concavity           -120.8278    117.737     -1.026      0.305    -351.589     109.933\n",
       "mean concave points      -142.7686    172.404     -0.828      0.408    -480.674     195.137\n",
       "mean symmetry              84.6226     70.033      1.208      0.227     -52.639     221.884\n",
       "mean fractal dimension   -202.9288    408.504     -0.497      0.619   -1003.582     597.725\n",
       "radius error              -50.5151     71.556     -0.706      0.480    -190.763      89.733\n",
       "texture error               5.0310      4.029      1.249      0.212      -2.866      12.928\n",
       "perimeter error             7.4456      6.748      1.103      0.270      -5.780      20.671\n",
       "area error                 -0.3009      0.519     -0.580      0.562      -1.317       0.716\n",
       "smoothness error         -539.1715   1117.271     -0.483      0.629   -2728.982    1650.639\n",
       "compactness error         -61.6349    261.563     -0.236      0.814    -574.289     451.019\n",
       "concavity error           335.4967    175.117      1.916      0.055      -7.726     678.720\n",
       "concave points error    -1333.5654    827.872     -1.611      0.107   -2956.165     289.035\n",
       "symmetry error            319.7980    401.955      0.796      0.426    -468.019    1107.615\n",
       "fractal dimension error   606.8455   1503.014      0.404      0.686   -2339.008    3552.699\n",
       "worst radius                2.0029      7.622      0.263      0.793     -12.937      16.943\n",
       "worst texture              -1.0247      0.620     -1.653      0.098      -2.240       0.191\n",
       "worst perimeter            -0.7826      0.909     -0.861      0.389      -2.564       0.999\n",
       "worst area                 -0.0366      0.068     -0.540      0.589      -0.169       0.096\n",
       "worst smoothness           94.9065    170.653      0.556      0.578    -239.568     429.381\n",
       "worst compactness          17.6550     48.021      0.368      0.713     -76.465     111.775\n",
       "worst concavity           -30.0498     34.208     -0.878      0.380     -97.097      36.997\n",
       "worst concave points      -48.3774    100.620     -0.481      0.631    -245.589     148.834\n",
       "worst symmetry            -86.5107     60.216     -1.437      0.151    -204.532      31.511\n",
       "worst fractal dimension  -120.0636    182.543     -0.658      0.511    -477.841     237.714\n",
       "===========================================================================================\n",
       "\n",
       "Possibly complete quasi-separation: A fraction 0.86 of observations can be\n",
       "perfectly predicted. This might indicate that there is complete\n",
       "quasi-separation. In this case some parameters will not be identified.\n",
       "\"\"\""
      ]
     },
     "execution_count": 4,
     "metadata": {},
     "output_type": "execute_result"
    }
   ],
   "source": [
    "model.summary()"
   ]
  },
  {
   "cell_type": "markdown",
   "metadata": {
    "id": "9Y76fDnOIyMf"
   },
   "source": [
    "# 目的変数が数値である場合の数式化"
   ]
  },
  {
   "cell_type": "code",
   "execution_count": 5,
   "metadata": {
    "executionInfo": {
     "elapsed": 34,
     "status": "aborted",
     "timestamp": 1649917278405,
     "user": {
      "displayName": "田中直哉",
      "userId": "04823463265793038392"
     },
     "user_tz": -540
    },
    "id": "FG_zS3PLIyMf"
   },
   "outputs": [
    {
     "data": {
      "text/html": [
       "<div>\n",
       "<style scoped>\n",
       "    .dataframe tbody tr th:only-of-type {\n",
       "        vertical-align: middle;\n",
       "    }\n",
       "\n",
       "    .dataframe tbody tr th {\n",
       "        vertical-align: top;\n",
       "    }\n",
       "\n",
       "    .dataframe thead th {\n",
       "        text-align: right;\n",
       "    }\n",
       "</style>\n",
       "<table border=\"1\" class=\"dataframe\">\n",
       "  <thead>\n",
       "    <tr style=\"text-align: right;\">\n",
       "      <th></th>\n",
       "      <th>PRICE</th>\n",
       "      <th>CRIM</th>\n",
       "      <th>ZN</th>\n",
       "      <th>INDUS</th>\n",
       "      <th>CHAS</th>\n",
       "      <th>NOX</th>\n",
       "      <th>RM</th>\n",
       "      <th>AGE</th>\n",
       "      <th>DIS</th>\n",
       "      <th>RAD</th>\n",
       "      <th>TAX</th>\n",
       "      <th>PTRATIO</th>\n",
       "      <th>B</th>\n",
       "      <th>LSTAT</th>\n",
       "    </tr>\n",
       "  </thead>\n",
       "  <tbody>\n",
       "    <tr>\n",
       "      <th>0</th>\n",
       "      <td>24.0</td>\n",
       "      <td>0.00632</td>\n",
       "      <td>18.0</td>\n",
       "      <td>2.31</td>\n",
       "      <td>0</td>\n",
       "      <td>0.538</td>\n",
       "      <td>6.575</td>\n",
       "      <td>65.2</td>\n",
       "      <td>4.0900</td>\n",
       "      <td>1</td>\n",
       "      <td>296</td>\n",
       "      <td>15.3</td>\n",
       "      <td>396.90</td>\n",
       "      <td>4.98</td>\n",
       "    </tr>\n",
       "    <tr>\n",
       "      <th>1</th>\n",
       "      <td>21.6</td>\n",
       "      <td>0.02731</td>\n",
       "      <td>0.0</td>\n",
       "      <td>7.07</td>\n",
       "      <td>0</td>\n",
       "      <td>0.469</td>\n",
       "      <td>6.421</td>\n",
       "      <td>78.9</td>\n",
       "      <td>4.9671</td>\n",
       "      <td>2</td>\n",
       "      <td>242</td>\n",
       "      <td>17.8</td>\n",
       "      <td>396.90</td>\n",
       "      <td>9.14</td>\n",
       "    </tr>\n",
       "    <tr>\n",
       "      <th>2</th>\n",
       "      <td>34.7</td>\n",
       "      <td>0.02729</td>\n",
       "      <td>0.0</td>\n",
       "      <td>7.07</td>\n",
       "      <td>0</td>\n",
       "      <td>0.469</td>\n",
       "      <td>7.185</td>\n",
       "      <td>61.1</td>\n",
       "      <td>4.9671</td>\n",
       "      <td>2</td>\n",
       "      <td>242</td>\n",
       "      <td>17.8</td>\n",
       "      <td>392.83</td>\n",
       "      <td>4.03</td>\n",
       "    </tr>\n",
       "    <tr>\n",
       "      <th>3</th>\n",
       "      <td>33.4</td>\n",
       "      <td>0.03237</td>\n",
       "      <td>0.0</td>\n",
       "      <td>2.18</td>\n",
       "      <td>0</td>\n",
       "      <td>0.458</td>\n",
       "      <td>6.998</td>\n",
       "      <td>45.8</td>\n",
       "      <td>6.0622</td>\n",
       "      <td>3</td>\n",
       "      <td>222</td>\n",
       "      <td>18.7</td>\n",
       "      <td>394.63</td>\n",
       "      <td>2.94</td>\n",
       "    </tr>\n",
       "    <tr>\n",
       "      <th>4</th>\n",
       "      <td>36.2</td>\n",
       "      <td>0.06905</td>\n",
       "      <td>0.0</td>\n",
       "      <td>2.18</td>\n",
       "      <td>0</td>\n",
       "      <td>0.458</td>\n",
       "      <td>7.147</td>\n",
       "      <td>54.2</td>\n",
       "      <td>6.0622</td>\n",
       "      <td>3</td>\n",
       "      <td>222</td>\n",
       "      <td>18.7</td>\n",
       "      <td>396.90</td>\n",
       "      <td>5.33</td>\n",
       "    </tr>\n",
       "  </tbody>\n",
       "</table>\n",
       "</div>"
      ],
      "text/plain": [
       "   PRICE     CRIM    ZN  INDUS  CHAS    NOX     RM   AGE     DIS  RAD  TAX  \\\n",
       "0   24.0  0.00632  18.0   2.31     0  0.538  6.575  65.2  4.0900    1  296   \n",
       "1   21.6  0.02731   0.0   7.07     0  0.469  6.421  78.9  4.9671    2  242   \n",
       "2   34.7  0.02729   0.0   7.07     0  0.469  7.185  61.1  4.9671    2  242   \n",
       "3   33.4  0.03237   0.0   2.18     0  0.458  6.998  45.8  6.0622    3  222   \n",
       "4   36.2  0.06905   0.0   2.18     0  0.458  7.147  54.2  6.0622    3  222   \n",
       "\n",
       "   PTRATIO       B  LSTAT  \n",
       "0     15.3  396.90   4.98  \n",
       "1     17.8  396.90   9.14  \n",
       "2     17.8  392.83   4.03  \n",
       "3     18.7  394.63   2.94  \n",
       "4     18.7  396.90   5.33  "
      ]
     },
     "execution_count": 5,
     "metadata": {},
     "output_type": "execute_result"
    }
   ],
   "source": [
    "df = pd.read_csv(\"boston.csv\")\n",
    "df.head()"
   ]
  },
  {
   "cell_type": "code",
   "execution_count": 6,
   "metadata": {
    "executionInfo": {
     "elapsed": 34,
     "status": "aborted",
     "timestamp": 1649917278406,
     "user": {
      "displayName": "田中直哉",
      "userId": "04823463265793038392"
     },
     "user_tz": -540
    },
    "id": "X9F1LZmhIyMi"
   },
   "outputs": [],
   "source": [
    "y_name = \"PRICE\"\n",
    "y = df[y_name].values\n",
    "x_table = df.drop([y_name],axis=1)\n",
    "x_name = x_table.columns\n",
    "x = x_table.values"
   ]
  },
  {
   "cell_type": "markdown",
   "metadata": {
    "id": "97iTDYE2IyMj"
   },
   "source": [
    "精度の算出(最も直感的な値として絶対誤差を使用)"
   ]
  },
  {
   "cell_type": "code",
   "execution_count": 7,
   "metadata": {
    "executionInfo": {
     "elapsed": 33,
     "status": "aborted",
     "timestamp": 1649917278406,
     "user": {
      "displayName": "田中直哉",
      "userId": "04823463265793038392"
     },
     "user_tz": -540
    },
    "id": "TrT8hWTCIyMj"
   },
   "outputs": [
    {
     "name": "stdout",
     "output_type": "stream",
     "text": [
      "3.2708628109003173\n"
     ]
    }
   ],
   "source": [
    "model = LR()\n",
    "model.fit(x, y)\n",
    "y_pred = model.predict(x)\n",
    "print(mean_absolute_error(y, y_pred))"
   ]
  },
  {
   "cell_type": "markdown",
   "metadata": {
    "id": "v7WaI5OhIyMl"
   },
   "source": [
    "相関係数で精度の確認と外れ値などの確認のため散布図を出力"
   ]
  },
  {
   "cell_type": "code",
   "execution_count": 8,
   "metadata": {
    "executionInfo": {
     "elapsed": 34,
     "status": "aborted",
     "timestamp": 1649917278407,
     "user": {
      "displayName": "田中直哉",
      "userId": "04823463265793038392"
     },
     "user_tz": -540
    },
    "id": "G_sW36NzIyMm"
   },
   "outputs": [
    {
     "data": {
      "image/png": "[encoded data removed]",
      "text/plain": [
       "<Figure size 432x288 with 1 Axes>"
      ]
     },
     "metadata": {
      "needs_background": "light"
     },
     "output_type": "display_data"
    }
   ],
   "source": [
    "pr = np.array([y_pred, y])\n",
    "plt.scatter(y_pred, y)\n",
    "plt.title(\"Correlation coefficient is %.2f\"%(np.corrcoef(pr)[0][1]))\n",
    "plt.xlabel(\"Predict\")\n",
    "plt.ylabel(\"Real\")\n",
    "plt.show()"
   ]
  },
  {
   "cell_type": "markdown",
   "metadata": {
    "id": "5YbkwK1gIyMn"
   },
   "source": [
    "数式を作成"
   ]
  },
  {
   "cell_type": "code",
   "execution_count": 9,
   "metadata": {
    "executionInfo": {
     "elapsed": 34,
     "status": "aborted",
     "timestamp": 1649917278407,
     "user": {
      "displayName": "田中直哉",
      "userId": "04823463265793038392"
     },
     "user_tz": -540
    },
    "id": "99f0VLLiIyMo"
   },
   "outputs": [],
   "source": [
    "fout = model.coef_\n",
    "b = model.intercept_\n",
    "#fout = np.hstack((fout,b))"
   ]
  },
  {
   "cell_type": "markdown",
   "metadata": {
    "id": "F4msg3liIyMo"
   },
   "source": [
    "# 変数の影響度合いの算出\n",
    "各変数のt値を算出することでp値を算出できる。p値が小さいほど変数の信用度が高くなる。"
   ]
  },
  {
   "cell_type": "code",
   "execution_count": 10,
   "metadata": {
    "executionInfo": {
     "elapsed": 34,
     "status": "aborted",
     "timestamp": 1649917278407,
     "user": {
      "displayName": "田中直哉",
      "userId": "04823463265793038392"
     },
     "user_tz": -540
    },
    "id": "vFNRcUrTIyMp"
   },
   "outputs": [],
   "source": [
    "RSS = np.sum((y - y_pred)**2)\n",
    "RSE = np.sqrt(RSS/(len(x)-len(x[0])))\n",
    "SE_sq = RSE**2 * np.linalg.inv(np.dot(x.T, x)).diagonal()\n",
    "t = fout / np.sqrt(SE_sq)\n",
    "p = 2*(1-stats.t.cdf(np.abs(t),(len(x)-len(x[0]))))\n",
    "fout = np.hstack((fout, b))\n",
    "dat=[fout, np.sqrt(SE_sq), t, p]"
   ]
  },
  {
   "cell_type": "code",
   "execution_count": 11,
   "metadata": {
    "executionInfo": {
     "elapsed": 36,
     "status": "aborted",
     "timestamp": 1649917278410,
     "user": {
      "displayName": "田中直哉",
      "userId": "04823463265793038392"
     },
     "user_tz": -540
    },
    "id": "OZo0bvRNIyMp",
    "scrolled": true
   },
   "outputs": [
    {
     "data": {
      "text/html": [
       "<div>\n",
       "<style scoped>\n",
       "    .dataframe tbody tr th:only-of-type {\n",
       "        vertical-align: middle;\n",
       "    }\n",
       "\n",
       "    .dataframe tbody tr th {\n",
       "        vertical-align: top;\n",
       "    }\n",
       "\n",
       "    .dataframe thead th {\n",
       "        text-align: right;\n",
       "    }\n",
       "</style>\n",
       "<table border=\"1\" class=\"dataframe\">\n",
       "  <thead>\n",
       "    <tr style=\"text-align: right;\">\n",
       "      <th></th>\n",
       "      <th>fout</th>\n",
       "      <th>std_err</th>\n",
       "      <th>t-value</th>\n",
       "      <th>p-value</th>\n",
       "    </tr>\n",
       "  </thead>\n",
       "  <tbody>\n",
       "    <tr>\n",
       "      <th>CRIM</th>\n",
       "      <td>-0.108011</td>\n",
       "      <td>0.032764</td>\n",
       "      <td>-3.296693</td>\n",
       "      <td>1.048870e-03</td>\n",
       "    </tr>\n",
       "    <tr>\n",
       "      <th>ZN</th>\n",
       "      <td>0.046420</td>\n",
       "      <td>0.013710</td>\n",
       "      <td>3.385938</td>\n",
       "      <td>7.660086e-04</td>\n",
       "    </tr>\n",
       "    <tr>\n",
       "      <th>INDUS</th>\n",
       "      <td>0.020559</td>\n",
       "      <td>0.061337</td>\n",
       "      <td>0.335176</td>\n",
       "      <td>7.376347e-01</td>\n",
       "    </tr>\n",
       "    <tr>\n",
       "      <th>CHAS</th>\n",
       "      <td>2.686734</td>\n",
       "      <td>0.860388</td>\n",
       "      <td>3.122702</td>\n",
       "      <td>1.897325e-03</td>\n",
       "    </tr>\n",
       "    <tr>\n",
       "      <th>NOX</th>\n",
       "      <td>-17.766611</td>\n",
       "      <td>3.197002</td>\n",
       "      <td>-5.557273</td>\n",
       "      <td>4.492373e-08</td>\n",
       "    </tr>\n",
       "    <tr>\n",
       "      <th>RM</th>\n",
       "      <td>3.809865</td>\n",
       "      <td>0.294224</td>\n",
       "      <td>12.948845</td>\n",
       "      <td>0.000000e+00</td>\n",
       "    </tr>\n",
       "    <tr>\n",
       "      <th>AGE</th>\n",
       "      <td>0.000692</td>\n",
       "      <td>0.013149</td>\n",
       "      <td>0.052643</td>\n",
       "      <td>9.580374e-01</td>\n",
       "    </tr>\n",
       "    <tr>\n",
       "      <th>DIS</th>\n",
       "      <td>-1.475567</td>\n",
       "      <td>0.186210</td>\n",
       "      <td>-7.924202</td>\n",
       "      <td>1.554312e-14</td>\n",
       "    </tr>\n",
       "    <tr>\n",
       "      <th>RAD</th>\n",
       "      <td>0.306049</td>\n",
       "      <td>0.063538</td>\n",
       "      <td>4.816785</td>\n",
       "      <td>1.944496e-06</td>\n",
       "    </tr>\n",
       "    <tr>\n",
       "      <th>TAX</th>\n",
       "      <td>-0.012335</td>\n",
       "      <td>0.003734</td>\n",
       "      <td>-3.303157</td>\n",
       "      <td>1.025504e-03</td>\n",
       "    </tr>\n",
       "    <tr>\n",
       "      <th>PTRATIO</th>\n",
       "      <td>-0.952747</td>\n",
       "      <td>0.104579</td>\n",
       "      <td>-9.110326</td>\n",
       "      <td>0.000000e+00</td>\n",
       "    </tr>\n",
       "    <tr>\n",
       "      <th>B</th>\n",
       "      <td>0.009312</td>\n",
       "      <td>0.002567</td>\n",
       "      <td>3.627894</td>\n",
       "      <td>3.155337e-04</td>\n",
       "    </tr>\n",
       "    <tr>\n",
       "      <th>LSTAT</th>\n",
       "      <td>-0.524758</td>\n",
       "      <td>0.048341</td>\n",
       "      <td>-10.855404</td>\n",
       "      <td>0.000000e+00</td>\n",
       "    </tr>\n",
       "    <tr>\n",
       "      <th>intercept</th>\n",
       "      <td>36.459488</td>\n",
       "      <td>NaN</td>\n",
       "      <td>NaN</td>\n",
       "      <td>NaN</td>\n",
       "    </tr>\n",
       "  </tbody>\n",
       "</table>\n",
       "</div>"
      ],
      "text/plain": [
       "                fout   std_err    t-value       p-value\n",
       "CRIM       -0.108011  0.032764  -3.296693  1.048870e-03\n",
       "ZN          0.046420  0.013710   3.385938  7.660086e-04\n",
       "INDUS       0.020559  0.061337   0.335176  7.376347e-01\n",
       "CHAS        2.686734  0.860388   3.122702  1.897325e-03\n",
       "NOX       -17.766611  3.197002  -5.557273  4.492373e-08\n",
       "RM          3.809865  0.294224  12.948845  0.000000e+00\n",
       "AGE         0.000692  0.013149   0.052643  9.580374e-01\n",
       "DIS        -1.475567  0.186210  -7.924202  1.554312e-14\n",
       "RAD         0.306049  0.063538   4.816785  1.944496e-06\n",
       "TAX        -0.012335  0.003734  -3.303157  1.025504e-03\n",
       "PTRATIO    -0.952747  0.104579  -9.110326  0.000000e+00\n",
       "B           0.009312  0.002567   3.627894  3.155337e-04\n",
       "LSTAT      -0.524758  0.048341 -10.855404  0.000000e+00\n",
       "intercept  36.459488       NaN        NaN           NaN"
      ]
     },
     "execution_count": 11,
     "metadata": {},
     "output_type": "execute_result"
    }
   ],
   "source": [
    "df_fout = pd.DataFrame(dat)\n",
    "col = list(x_name)\n",
    "col.append(\"intercept\")\n",
    "ind = [\"fout\", \"std_err\", \"t-value\", \"p-value\"]\n",
    "df_fout.columns = col\n",
    "df_fout.index = ind\n",
    "df_fout.T"
   ]
  },
  {
   "cell_type": "markdown",
   "metadata": {},
   "source": [
    "# 切片を含めてt値とp値を算出"
   ]
  },
  {
   "cell_type": "code",
   "execution_count": 12,
   "metadata": {
    "executionInfo": {
     "elapsed": 37,
     "status": "aborted",
     "timestamp": 1649917278411,
     "user": {
      "displayName": "田中直哉",
      "userId": "04823463265793038392"
     },
     "user_tz": -540
    },
    "id": "MqfsXkZ_IyMq"
   },
   "outputs": [
    {
     "data": {
      "text/plain": [
       "array([-1.08011358e-01,  4.64204584e-02,  2.05586264e-02,  2.68673382e+00,\n",
       "       -1.77666112e+01,  3.80986521e+00,  6.92224640e-04, -1.47556685e+00,\n",
       "        3.06049479e-01, -1.23345939e-02, -9.52747232e-01,  9.31168327e-03,\n",
       "       -5.24758378e-01,  3.64594884e+01])"
      ]
     },
     "execution_count": 12,
     "metadata": {},
     "output_type": "execute_result"
    }
   ],
   "source": [
    "fout"
   ]
  },
  {
   "cell_type": "code",
   "execution_count": 13,
   "metadata": {},
   "outputs": [],
   "source": [
    "tmp_data = np.zeros((len(x), 1))\n",
    "tmp_data = tmp_data + 1\n",
    "tmp_x = np.hstack((x, tmp_data))"
   ]
  },
  {
   "cell_type": "code",
   "execution_count": 14,
   "metadata": {},
   "outputs": [
    {
     "name": "stdout",
     "output_type": "stream",
     "text": [
      "14\n",
      "3.270862810900317\n"
     ]
    }
   ],
   "source": [
    "print(len(tmp_x[0]))\n",
    "y_pred2 = np.dot(tmp_x, fout)\n",
    "print(mean_absolute_error(y, y_pred2))"
   ]
  },
  {
   "cell_type": "code",
   "execution_count": 15,
   "metadata": {},
   "outputs": [],
   "source": [
    "RSS = np.sum((y - y_pred2)**2)\n",
    "RSE = np.sqrt(RSS/(len(tmp_x)-len(tmp_x[0])))\n",
    "SE_sq = RSE**2 * np.linalg.inv(np.dot(tmp_x.T, tmp_x)).diagonal()\n",
    "t = fout / np.sqrt(SE_sq)\n",
    "p = 2*(1-stats.t.cdf(np.abs(t),(len(tmp_x)-len(tmp_x[0]))))\n",
    "dat=[fout, np.sqrt(SE_sq), t, p]"
   ]
  },
  {
   "cell_type": "code",
   "execution_count": 16,
   "metadata": {
    "scrolled": true
   },
   "outputs": [
    {
     "data": {
      "text/html": [
       "<div>\n",
       "<style scoped>\n",
       "    .dataframe tbody tr th:only-of-type {\n",
       "        vertical-align: middle;\n",
       "    }\n",
       "\n",
       "    .dataframe tbody tr th {\n",
       "        vertical-align: top;\n",
       "    }\n",
       "\n",
       "    .dataframe thead th {\n",
       "        text-align: right;\n",
       "    }\n",
       "</style>\n",
       "<table border=\"1\" class=\"dataframe\">\n",
       "  <thead>\n",
       "    <tr style=\"text-align: right;\">\n",
       "      <th></th>\n",
       "      <th>fout</th>\n",
       "      <th>std_err</th>\n",
       "      <th>t-value</th>\n",
       "      <th>p-value</th>\n",
       "    </tr>\n",
       "  </thead>\n",
       "  <tbody>\n",
       "    <tr>\n",
       "      <th>CRIM</th>\n",
       "      <td>-0.108011</td>\n",
       "      <td>0.032865</td>\n",
       "      <td>-3.286517</td>\n",
       "      <td>1.086810e-03</td>\n",
       "    </tr>\n",
       "    <tr>\n",
       "      <th>ZN</th>\n",
       "      <td>0.046420</td>\n",
       "      <td>0.013727</td>\n",
       "      <td>3.381576</td>\n",
       "      <td>7.781097e-04</td>\n",
       "    </tr>\n",
       "    <tr>\n",
       "      <th>INDUS</th>\n",
       "      <td>0.020559</td>\n",
       "      <td>0.061496</td>\n",
       "      <td>0.334310</td>\n",
       "      <td>7.382881e-01</td>\n",
       "    </tr>\n",
       "    <tr>\n",
       "      <th>CHAS</th>\n",
       "      <td>2.686734</td>\n",
       "      <td>0.861580</td>\n",
       "      <td>3.118381</td>\n",
       "      <td>1.925030e-03</td>\n",
       "    </tr>\n",
       "    <tr>\n",
       "      <th>NOX</th>\n",
       "      <td>-17.766611</td>\n",
       "      <td>3.819744</td>\n",
       "      <td>-4.651257</td>\n",
       "      <td>4.245644e-06</td>\n",
       "    </tr>\n",
       "    <tr>\n",
       "      <th>RM</th>\n",
       "      <td>3.809865</td>\n",
       "      <td>0.417925</td>\n",
       "      <td>9.116140</td>\n",
       "      <td>0.000000e+00</td>\n",
       "    </tr>\n",
       "    <tr>\n",
       "      <th>AGE</th>\n",
       "      <td>0.000692</td>\n",
       "      <td>0.013210</td>\n",
       "      <td>0.052402</td>\n",
       "      <td>9.582293e-01</td>\n",
       "    </tr>\n",
       "    <tr>\n",
       "      <th>DIS</th>\n",
       "      <td>-1.475567</td>\n",
       "      <td>0.199455</td>\n",
       "      <td>-7.398004</td>\n",
       "      <td>6.012968e-13</td>\n",
       "    </tr>\n",
       "    <tr>\n",
       "      <th>RAD</th>\n",
       "      <td>0.306049</td>\n",
       "      <td>0.066346</td>\n",
       "      <td>4.612900</td>\n",
       "      <td>5.070529e-06</td>\n",
       "    </tr>\n",
       "    <tr>\n",
       "      <th>TAX</th>\n",
       "      <td>-0.012335</td>\n",
       "      <td>0.003761</td>\n",
       "      <td>-3.280009</td>\n",
       "      <td>1.111637e-03</td>\n",
       "    </tr>\n",
       "    <tr>\n",
       "      <th>PTRATIO</th>\n",
       "      <td>-0.952747</td>\n",
       "      <td>0.130827</td>\n",
       "      <td>-7.282511</td>\n",
       "      <td>1.308953e-12</td>\n",
       "    </tr>\n",
       "    <tr>\n",
       "      <th>B</th>\n",
       "      <td>0.009312</td>\n",
       "      <td>0.002686</td>\n",
       "      <td>3.466793</td>\n",
       "      <td>5.728592e-04</td>\n",
       "    </tr>\n",
       "    <tr>\n",
       "      <th>LSTAT</th>\n",
       "      <td>-0.524758</td>\n",
       "      <td>0.050715</td>\n",
       "      <td>-10.347146</td>\n",
       "      <td>0.000000e+00</td>\n",
       "    </tr>\n",
       "    <tr>\n",
       "      <th>intercept</th>\n",
       "      <td>36.459488</td>\n",
       "      <td>5.103459</td>\n",
       "      <td>7.144074</td>\n",
       "      <td>3.283374e-12</td>\n",
       "    </tr>\n",
       "  </tbody>\n",
       "</table>\n",
       "</div>"
      ],
      "text/plain": [
       "                fout   std_err    t-value       p-value\n",
       "CRIM       -0.108011  0.032865  -3.286517  1.086810e-03\n",
       "ZN          0.046420  0.013727   3.381576  7.781097e-04\n",
       "INDUS       0.020559  0.061496   0.334310  7.382881e-01\n",
       "CHAS        2.686734  0.861580   3.118381  1.925030e-03\n",
       "NOX       -17.766611  3.819744  -4.651257  4.245644e-06\n",
       "RM          3.809865  0.417925   9.116140  0.000000e+00\n",
       "AGE         0.000692  0.013210   0.052402  9.582293e-01\n",
       "DIS        -1.475567  0.199455  -7.398004  6.012968e-13\n",
       "RAD         0.306049  0.066346   4.612900  5.070529e-06\n",
       "TAX        -0.012335  0.003761  -3.280009  1.111637e-03\n",
       "PTRATIO    -0.952747  0.130827  -7.282511  1.308953e-12\n",
       "B           0.009312  0.002686   3.466793  5.728592e-04\n",
       "LSTAT      -0.524758  0.050715 -10.347146  0.000000e+00\n",
       "intercept  36.459488  5.103459   7.144074  3.283374e-12"
      ]
     },
     "execution_count": 16,
     "metadata": {},
     "output_type": "execute_result"
    }
   ],
   "source": [
    "df_fout = pd.DataFrame(dat)\n",
    "col = list(x_name)\n",
    "col.append(\"intercept\")\n",
    "ind = [\"fout\", \"std_err\", \"t-value\", \"p-value\"]\n",
    "df_fout.columns = col\n",
    "df_fout.index = ind\n",
    "df_fout.T"
   ]
  },
  {
   "cell_type": "markdown",
   "metadata": {},
   "source": [
    "これによって切片を加味したp値を算出できた。ここで、p値に着目して設定した有意水準を上回っている変数は予測をする上で多重共線性を考えられるため、削除して再度分析する必要がある。"
   ]
  },
  {
   "cell_type": "code",
   "execution_count": null,
   "metadata": {},
   "outputs": [],
   "source": []
  }
 ],
 "metadata": {
  "colab": {
   "collapsed_sections": [],
   "name": "fout.ipynb",
   "provenance": []
  },
  "kernelspec": {
   "display_name": "Python 3",
   "language": "python",
   "name": "python3"
  },
  "language_info": {
   "codemirror_mode": {
    "name": "ipython",
    "version": 3
   },
   "file_extension": ".py",
   "mimetype": "text/x-python",
   "name": "python",
   "nbconvert_exporter": "python",
   "pygments_lexer": "ipython3",
   "version": "3.7.1"
  }
 },
 "nbformat": 4,
 "nbformat_minor": 1
}
