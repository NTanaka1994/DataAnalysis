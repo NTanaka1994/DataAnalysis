{
 "cells": [
  {
   "cell_type": "markdown",
   "metadata": {
    "id": "XCkJvgzqdOVD"
   },
   "source": [
    "# 多変量での数式化と考察\n",
    "機械学習のモデルを生成して結果精度が良かった場合そのモデルを採用できる。そこで、モデルによっては特徴量を変数として線形の式を出力でき、算出された係数から結果を与える条件が分かるようになる。しかし、この手法は非常に単純なデータで可能であり、様々な条件が絡み合うと適用できないこともある。\n",
    "\n",
    "# ライブラリのインポート"
   ]
  },
  {
   "cell_type": "code",
   "execution_count": 1,
   "metadata": {
    "executionInfo": {
     "elapsed": 929,
     "status": "ok",
     "timestamp": 1649917277933,
     "user": {
      "displayName": "田中直哉",
      "userId": "04823463265793038392"
     },
     "user_tz": -540
    },
    "id": "osksTfBXIyL3"
   },
   "outputs": [],
   "source": [
    "from sklearn.linear_model import LinearRegression as LR\n",
    "from sklearn.svm import LinearSVC as SVM\n",
    "from sklearn.preprocessing import minmax_scale\n",
    "from sklearn.metrics import confusion_matrix,classification_report,mean_absolute_error\n",
    "import matplotlib.pyplot as plt\n",
    "import pandas as pd\n",
    "import numpy as np\n",
    "import scipy.stats as stats"
   ]
  },
  {
   "cell_type": "markdown",
   "metadata": {
    "id": "0PKni9ZuIyL9"
   },
   "source": [
    "#カテゴリ分類で作られた決定境界の直線の数式を出力"
   ]
  },
  {
   "cell_type": "code",
   "execution_count": 2,
   "metadata": {
    "colab": {
     "base_uri": "https://localhost:8080/",
     "height": 340
    },
    "executionInfo": {
     "elapsed": 485,
     "status": "error",
     "timestamp": 1649917278411,
     "user": {
      "displayName": "田中直哉",
      "userId": "04823463265793038392"
     },
     "user_tz": -540
    },
    "id": "rCWvrPeHIyMF",
    "outputId": "0b45585f-81b8-43af-9a41-f139d1a7804b"
   },
   "outputs": [
    {
     "data": {
      "text/html": [
       "<div>\n",
       "<style scoped>\n",
       "    .dataframe tbody tr th:only-of-type {\n",
       "        vertical-align: middle;\n",
       "    }\n",
       "\n",
       "    .dataframe tbody tr th {\n",
       "        vertical-align: top;\n",
       "    }\n",
       "\n",
       "    .dataframe thead th {\n",
       "        text-align: right;\n",
       "    }\n",
       "</style>\n",
       "<table border=\"1\" class=\"dataframe\">\n",
       "  <thead>\n",
       "    <tr style=\"text-align: right;\">\n",
       "      <th></th>\n",
       "      <th>category</th>\n",
       "      <th>sepal length (cm)</th>\n",
       "      <th>sepal width (cm)</th>\n",
       "      <th>petal length (cm)</th>\n",
       "      <th>petal width (cm)</th>\n",
       "    </tr>\n",
       "  </thead>\n",
       "  <tbody>\n",
       "    <tr>\n",
       "      <th>0</th>\n",
       "      <td>0</td>\n",
       "      <td>5.1</td>\n",
       "      <td>3.5</td>\n",
       "      <td>1.4</td>\n",
       "      <td>0.2</td>\n",
       "    </tr>\n",
       "    <tr>\n",
       "      <th>1</th>\n",
       "      <td>0</td>\n",
       "      <td>4.9</td>\n",
       "      <td>3.0</td>\n",
       "      <td>1.4</td>\n",
       "      <td>0.2</td>\n",
       "    </tr>\n",
       "    <tr>\n",
       "      <th>2</th>\n",
       "      <td>0</td>\n",
       "      <td>4.7</td>\n",
       "      <td>3.2</td>\n",
       "      <td>1.3</td>\n",
       "      <td>0.2</td>\n",
       "    </tr>\n",
       "    <tr>\n",
       "      <th>3</th>\n",
       "      <td>0</td>\n",
       "      <td>4.6</td>\n",
       "      <td>3.1</td>\n",
       "      <td>1.5</td>\n",
       "      <td>0.2</td>\n",
       "    </tr>\n",
       "    <tr>\n",
       "      <th>4</th>\n",
       "      <td>0</td>\n",
       "      <td>5.0</td>\n",
       "      <td>3.6</td>\n",
       "      <td>1.4</td>\n",
       "      <td>0.2</td>\n",
       "    </tr>\n",
       "  </tbody>\n",
       "</table>\n",
       "</div>"
      ],
      "text/plain": [
       "   category  sepal length (cm)  sepal width (cm)  petal length (cm)  \\\n",
       "0         0                5.1               3.5                1.4   \n",
       "1         0                4.9               3.0                1.4   \n",
       "2         0                4.7               3.2                1.3   \n",
       "3         0                4.6               3.1                1.5   \n",
       "4         0                5.0               3.6                1.4   \n",
       "\n",
       "   petal width (cm)  \n",
       "0               0.2  \n",
       "1               0.2  \n",
       "2               0.2  \n",
       "3               0.2  \n",
       "4               0.2  "
      ]
     },
     "execution_count": 2,
     "metadata": {},
     "output_type": "execute_result"
    }
   ],
   "source": [
    "df = pd.read_csv(\"iris.csv\")\n",
    "df.head()"
   ]
  },
  {
   "cell_type": "code",
   "execution_count": 3,
   "metadata": {
    "executionInfo": {
     "elapsed": 25,
     "status": "aborted",
     "timestamp": 1649917278390,
     "user": {
      "displayName": "田中直哉",
      "userId": "04823463265793038392"
     },
     "user_tz": -540
    },
    "id": "AqmPzwviIyMH"
   },
   "outputs": [],
   "source": [
    "y_name = \"category\"\n",
    "y = df[y_name].values\n",
    "x_table = df.drop([y_name], axis=1)\n",
    "x_name = x_table.columns\n",
    "x = x_table.values"
   ]
  },
  {
   "cell_type": "markdown",
   "metadata": {
    "id": "drQ4kLE_IyMK"
   },
   "source": [
    "SVMを使用する。実際にはマージンを調整することでより正確になる"
   ]
  },
  {
   "cell_type": "code",
   "execution_count": 4,
   "metadata": {
    "executionInfo": {
     "elapsed": 26,
     "status": "aborted",
     "timestamp": 1649917278391,
     "user": {
      "displayName": "田中直哉",
      "userId": "04823463265793038392"
     },
     "user_tz": -540
    },
    "id": "7oU1Y5sTIyMM"
   },
   "outputs": [
    {
     "name": "stderr",
     "output_type": "stream",
     "text": [
      "C:\\Users\\decar\\AppData\\Roaming\\Python\\Python37\\site-packages\\sklearn\\svm\\_base.py:986: ConvergenceWarning: Liblinear failed to converge, increase the number of iterations.\n",
      "  \"the number of iterations.\", ConvergenceWarning)\n"
     ]
    }
   ],
   "source": [
    "model = SVM()#マージンを調節するとより正確になる\n",
    "model.fit(x, y)\n",
    "y_pred = model.predict(x)"
   ]
  },
  {
   "cell_type": "markdown",
   "metadata": {
    "id": "x6jrYna6IyMO"
   },
   "source": [
    "混合行列を出力"
   ]
  },
  {
   "cell_type": "code",
   "execution_count": 5,
   "metadata": {
    "executionInfo": {
     "elapsed": 26,
     "status": "aborted",
     "timestamp": 1649917278392,
     "user": {
      "displayName": "田中直哉",
      "userId": "04823463265793038392"
     },
     "user_tz": -540
    },
    "id": "iGWVjsQjIyMP"
   },
   "outputs": [
    {
     "data": {
      "text/html": [
       "<div>\n",
       "<style scoped>\n",
       "    .dataframe tbody tr th:only-of-type {\n",
       "        vertical-align: middle;\n",
       "    }\n",
       "\n",
       "    .dataframe tbody tr th {\n",
       "        vertical-align: top;\n",
       "    }\n",
       "\n",
       "    .dataframe thead th {\n",
       "        text-align: right;\n",
       "    }\n",
       "</style>\n",
       "<table border=\"1\" class=\"dataframe\">\n",
       "  <thead>\n",
       "    <tr style=\"text-align: right;\">\n",
       "      <th></th>\n",
       "      <th>0</th>\n",
       "      <th>1</th>\n",
       "      <th>2</th>\n",
       "    </tr>\n",
       "  </thead>\n",
       "  <tbody>\n",
       "    <tr>\n",
       "      <th>0</th>\n",
       "      <td>50</td>\n",
       "      <td>0</td>\n",
       "      <td>0</td>\n",
       "    </tr>\n",
       "    <tr>\n",
       "      <th>1</th>\n",
       "      <td>0</td>\n",
       "      <td>47</td>\n",
       "      <td>3</td>\n",
       "    </tr>\n",
       "    <tr>\n",
       "      <th>2</th>\n",
       "      <td>0</td>\n",
       "      <td>2</td>\n",
       "      <td>48</td>\n",
       "    </tr>\n",
       "  </tbody>\n",
       "</table>\n",
       "</div>"
      ],
      "text/plain": [
       "    0   1   2\n",
       "0  50   0   0\n",
       "1   0  47   3\n",
       "2   0   2  48"
      ]
     },
     "execution_count": 5,
     "metadata": {},
     "output_type": "execute_result"
    }
   ],
   "source": [
    "df_m = pd.DataFrame(confusion_matrix(y,y_pred))\n",
    "df_m"
   ]
  },
  {
   "cell_type": "markdown",
   "metadata": {
    "id": "pPhiu5lmIyMS"
   },
   "source": [
    "精度を出力する。この時、精度に不備がある場合算出された数式はあてにならない"
   ]
  },
  {
   "cell_type": "code",
   "execution_count": 6,
   "metadata": {
    "executionInfo": {
     "elapsed": 27,
     "status": "aborted",
     "timestamp": 1649917278393,
     "user": {
      "displayName": "田中直哉",
      "userId": "04823463265793038392"
     },
     "user_tz": -540
    },
    "id": "JRM1QvaeIyMT"
   },
   "outputs": [
    {
     "name": "stdout",
     "output_type": "stream",
     "text": [
      "              precision    recall  f1-score   support\n",
      "\n",
      "           0       1.00      1.00      1.00        50\n",
      "           1       0.96      0.94      0.95        50\n",
      "           2       0.94      0.96      0.95        50\n",
      "\n",
      "    accuracy                           0.97       150\n",
      "   macro avg       0.97      0.97      0.97       150\n",
      "weighted avg       0.97      0.97      0.97       150\n",
      "\n"
     ]
    }
   ],
   "source": [
    "print(classification_report(y, y_pred))"
   ]
  },
  {
   "cell_type": "code",
   "execution_count": 7,
   "metadata": {
    "executionInfo": {
     "elapsed": 29,
     "status": "aborted",
     "timestamp": 1649917278395,
     "user": {
      "displayName": "田中直哉",
      "userId": "04823463265793038392"
     },
     "user_tz": -540
    },
    "id": "vsPsaGomIyMV"
   },
   "outputs": [],
   "source": [
    "fout = model.coef_\n",
    "b = model.intercept_\n",
    "b = b.reshape(-1,1)\n",
    "fout = np.hstack((fout,b))"
   ]
  },
  {
   "cell_type": "markdown",
   "metadata": {
    "id": "dZzOHR1PIyMW"
   },
   "source": [
    "クラス別分類直線を出力"
   ]
  },
  {
   "cell_type": "code",
   "execution_count": 8,
   "metadata": {
    "executionInfo": {
     "elapsed": 29,
     "status": "aborted",
     "timestamp": 1649917278396,
     "user": {
      "displayName": "田中直哉",
      "userId": "04823463265793038392"
     },
     "user_tz": -540
    },
    "id": "wC0YrDC1IyMX"
   },
   "outputs": [
    {
     "data": {
      "text/html": [
       "<div>\n",
       "<style scoped>\n",
       "    .dataframe tbody tr th:only-of-type {\n",
       "        vertical-align: middle;\n",
       "    }\n",
       "\n",
       "    .dataframe tbody tr th {\n",
       "        vertical-align: top;\n",
       "    }\n",
       "\n",
       "    .dataframe thead th {\n",
       "        text-align: right;\n",
       "    }\n",
       "</style>\n",
       "<table border=\"1\" class=\"dataframe\">\n",
       "  <thead>\n",
       "    <tr style=\"text-align: right;\">\n",
       "      <th></th>\n",
       "      <th>sepal length (cm)</th>\n",
       "      <th>sepal width (cm)</th>\n",
       "      <th>petal length (cm)</th>\n",
       "      <th>petal width (cm)</th>\n",
       "      <th>intercept</th>\n",
       "    </tr>\n",
       "  </thead>\n",
       "  <tbody>\n",
       "    <tr>\n",
       "      <th>0</th>\n",
       "      <td>0.184239</td>\n",
       "      <td>0.451223</td>\n",
       "      <td>-0.807944</td>\n",
       "      <td>-0.450718</td>\n",
       "      <td>0.109560</td>\n",
       "    </tr>\n",
       "    <tr>\n",
       "      <th>1</th>\n",
       "      <td>0.051251</td>\n",
       "      <td>-0.891234</td>\n",
       "      <td>0.405167</td>\n",
       "      <td>-0.938582</td>\n",
       "      <td>1.667706</td>\n",
       "    </tr>\n",
       "    <tr>\n",
       "      <th>2</th>\n",
       "      <td>-0.850670</td>\n",
       "      <td>-0.986791</td>\n",
       "      <td>1.380840</td>\n",
       "      <td>1.865450</td>\n",
       "      <td>-1.709497</td>\n",
       "    </tr>\n",
       "  </tbody>\n",
       "</table>\n",
       "</div>"
      ],
      "text/plain": [
       "   sepal length (cm)  sepal width (cm)  petal length (cm)  petal width (cm)  \\\n",
       "0           0.184239          0.451223          -0.807944         -0.450718   \n",
       "1           0.051251         -0.891234           0.405167         -0.938582   \n",
       "2          -0.850670         -0.986791           1.380840          1.865450   \n",
       "\n",
       "   intercept  \n",
       "0   0.109560  \n",
       "1   1.667706  \n",
       "2  -1.709497  "
      ]
     },
     "execution_count": 8,
     "metadata": {},
     "output_type": "execute_result"
    }
   ],
   "source": [
    "col = list(x_name)\n",
    "col.append(\"intercept\")\n",
    "df_fout = pd.DataFrame(fout)\n",
    "df_fout.columns = col\n",
    "df_fout"
   ]
  },
  {
   "cell_type": "markdown",
   "metadata": {
    "id": "CgS4-VZqIyMY"
   },
   "source": [
    "生データでは尺度が違うため数値の影響を加味した数式を算出(0～1に正規化することで係数の大きい項目が影響力の強い項目と分かる)"
   ]
  },
  {
   "cell_type": "code",
   "execution_count": 9,
   "metadata": {
    "executionInfo": {
     "elapsed": 30,
     "status": "aborted",
     "timestamp": 1649917278397,
     "user": {
      "displayName": "田中直哉",
      "userId": "04823463265793038392"
     },
     "user_tz": -540
    },
    "id": "takJpc_1IyMZ"
   },
   "outputs": [],
   "source": [
    "x = minmax_scale(x)\n",
    "model.fit(x, y)\n",
    "y_pred = model.predict(x)"
   ]
  },
  {
   "cell_type": "code",
   "execution_count": 10,
   "metadata": {
    "executionInfo": {
     "elapsed": 31,
     "status": "aborted",
     "timestamp": 1649917278398,
     "user": {
      "displayName": "田中直哉",
      "userId": "04823463265793038392"
     },
     "user_tz": -540
    },
    "id": "pcXRhwazIyMa"
   },
   "outputs": [
    {
     "data": {
      "text/html": [
       "<div>\n",
       "<style scoped>\n",
       "    .dataframe tbody tr th:only-of-type {\n",
       "        vertical-align: middle;\n",
       "    }\n",
       "\n",
       "    .dataframe tbody tr th {\n",
       "        vertical-align: top;\n",
       "    }\n",
       "\n",
       "    .dataframe thead th {\n",
       "        text-align: right;\n",
       "    }\n",
       "</style>\n",
       "<table border=\"1\" class=\"dataframe\">\n",
       "  <thead>\n",
       "    <tr style=\"text-align: right;\">\n",
       "      <th></th>\n",
       "      <th>0</th>\n",
       "      <th>1</th>\n",
       "      <th>2</th>\n",
       "    </tr>\n",
       "  </thead>\n",
       "  <tbody>\n",
       "    <tr>\n",
       "      <th>0</th>\n",
       "      <td>50</td>\n",
       "      <td>0</td>\n",
       "      <td>0</td>\n",
       "    </tr>\n",
       "    <tr>\n",
       "      <th>1</th>\n",
       "      <td>0</td>\n",
       "      <td>45</td>\n",
       "      <td>5</td>\n",
       "    </tr>\n",
       "    <tr>\n",
       "      <th>2</th>\n",
       "      <td>0</td>\n",
       "      <td>3</td>\n",
       "      <td>47</td>\n",
       "    </tr>\n",
       "  </tbody>\n",
       "</table>\n",
       "</div>"
      ],
      "text/plain": [
       "    0   1   2\n",
       "0  50   0   0\n",
       "1   0  45   5\n",
       "2   0   3  47"
      ]
     },
     "execution_count": 10,
     "metadata": {},
     "output_type": "execute_result"
    }
   ],
   "source": [
    "df_m = pd.DataFrame(confusion_matrix(y, y_pred))\n",
    "df_m"
   ]
  },
  {
   "cell_type": "code",
   "execution_count": 11,
   "metadata": {
    "executionInfo": {
     "elapsed": 33,
     "status": "aborted",
     "timestamp": 1649917278400,
     "user": {
      "displayName": "田中直哉",
      "userId": "04823463265793038392"
     },
     "user_tz": -540
    },
    "id": "PfZBBsUTIyMc"
   },
   "outputs": [
    {
     "name": "stdout",
     "output_type": "stream",
     "text": [
      "              precision    recall  f1-score   support\n",
      "\n",
      "           0       1.00      1.00      1.00        50\n",
      "           1       0.94      0.90      0.92        50\n",
      "           2       0.90      0.94      0.92        50\n",
      "\n",
      "    accuracy                           0.95       150\n",
      "   macro avg       0.95      0.95      0.95       150\n",
      "weighted avg       0.95      0.95      0.95       150\n",
      "\n"
     ]
    }
   ],
   "source": [
    "print(classification_report(y, y_pred))"
   ]
  },
  {
   "cell_type": "code",
   "execution_count": 12,
   "metadata": {
    "executionInfo": {
     "elapsed": 34,
     "status": "aborted",
     "timestamp": 1649917278402,
     "user": {
      "displayName": "田中直哉",
      "userId": "04823463265793038392"
     },
     "user_tz": -540
    },
    "id": "p6aWly5TIyMd"
   },
   "outputs": [],
   "source": [
    "fout = model.coef_\n",
    "b = model.intercept_\n",
    "b = b.reshape(-1, 1)\n",
    "fout=np.hstack((fout, b))"
   ]
  },
  {
   "cell_type": "code",
   "execution_count": 13,
   "metadata": {
    "executionInfo": {
     "elapsed": 36,
     "status": "aborted",
     "timestamp": 1649917278404,
     "user": {
      "displayName": "田中直哉",
      "userId": "04823463265793038392"
     },
     "user_tz": -540
    },
    "id": "xfy-u1flIyMe"
   },
   "outputs": [
    {
     "data": {
      "text/html": [
       "<div>\n",
       "<style scoped>\n",
       "    .dataframe tbody tr th:only-of-type {\n",
       "        vertical-align: middle;\n",
       "    }\n",
       "\n",
       "    .dataframe tbody tr th {\n",
       "        vertical-align: top;\n",
       "    }\n",
       "\n",
       "    .dataframe thead th {\n",
       "        text-align: right;\n",
       "    }\n",
       "</style>\n",
       "<table border=\"1\" class=\"dataframe\">\n",
       "  <thead>\n",
       "    <tr style=\"text-align: right;\">\n",
       "      <th></th>\n",
       "      <th>sepal length (cm)</th>\n",
       "      <th>sepal width (cm)</th>\n",
       "      <th>petal length (cm)</th>\n",
       "      <th>petal width (cm)</th>\n",
       "      <th>intercept</th>\n",
       "    </tr>\n",
       "  </thead>\n",
       "  <tbody>\n",
       "    <tr>\n",
       "      <th>0</th>\n",
       "      <td>-0.612048</td>\n",
       "      <td>1.319489</td>\n",
       "      <td>-1.773791</td>\n",
       "      <td>-1.685446</td>\n",
       "      <td>0.588265</td>\n",
       "    </tr>\n",
       "    <tr>\n",
       "      <th>1</th>\n",
       "      <td>0.101026</td>\n",
       "      <td>-2.273602</td>\n",
       "      <td>1.227489</td>\n",
       "      <td>-1.167295</td>\n",
       "      <td>0.562982</td>\n",
       "    </tr>\n",
       "    <tr>\n",
       "      <th>2</th>\n",
       "      <td>-0.086567</td>\n",
       "      <td>-1.064237</td>\n",
       "      <td>2.261645</td>\n",
       "      <td>3.250393</td>\n",
       "      <td>-3.168260</td>\n",
       "    </tr>\n",
       "  </tbody>\n",
       "</table>\n",
       "</div>"
      ],
      "text/plain": [
       "   sepal length (cm)  sepal width (cm)  petal length (cm)  petal width (cm)  \\\n",
       "0          -0.612048          1.319489          -1.773791         -1.685446   \n",
       "1           0.101026         -2.273602           1.227489         -1.167295   \n",
       "2          -0.086567         -1.064237           2.261645          3.250393   \n",
       "\n",
       "   intercept  \n",
       "0   0.588265  \n",
       "1   0.562982  \n",
       "2  -3.168260  "
      ]
     },
     "execution_count": 13,
     "metadata": {},
     "output_type": "execute_result"
    }
   ],
   "source": [
    "col = list(x_name)\n",
    "col.append(\"intercept\")\n",
    "df_fout = pd.DataFrame(fout)\n",
    "df_fout.columns = col\n",
    "df_fout"
   ]
  },
  {
   "cell_type": "markdown",
   "metadata": {
    "id": "9Y76fDnOIyMf"
   },
   "source": [
    "# 目的変数が数値である場合の数式化"
   ]
  },
  {
   "cell_type": "code",
   "execution_count": 14,
   "metadata": {
    "executionInfo": {
     "elapsed": 34,
     "status": "aborted",
     "timestamp": 1649917278405,
     "user": {
      "displayName": "田中直哉",
      "userId": "04823463265793038392"
     },
     "user_tz": -540
    },
    "id": "FG_zS3PLIyMf"
   },
   "outputs": [
    {
     "data": {
      "text/html": [
       "<div>\n",
       "<style scoped>\n",
       "    .dataframe tbody tr th:only-of-type {\n",
       "        vertical-align: middle;\n",
       "    }\n",
       "\n",
       "    .dataframe tbody tr th {\n",
       "        vertical-align: top;\n",
       "    }\n",
       "\n",
       "    .dataframe thead th {\n",
       "        text-align: right;\n",
       "    }\n",
       "</style>\n",
       "<table border=\"1\" class=\"dataframe\">\n",
       "  <thead>\n",
       "    <tr style=\"text-align: right;\">\n",
       "      <th></th>\n",
       "      <th>PRICE</th>\n",
       "      <th>CRIM</th>\n",
       "      <th>ZN</th>\n",
       "      <th>INDUS</th>\n",
       "      <th>CHAS</th>\n",
       "      <th>NOX</th>\n",
       "      <th>RM</th>\n",
       "      <th>AGE</th>\n",
       "      <th>DIS</th>\n",
       "      <th>RAD</th>\n",
       "      <th>TAX</th>\n",
       "      <th>PTRATIO</th>\n",
       "      <th>B</th>\n",
       "      <th>LSTAT</th>\n",
       "    </tr>\n",
       "  </thead>\n",
       "  <tbody>\n",
       "    <tr>\n",
       "      <th>0</th>\n",
       "      <td>24.0</td>\n",
       "      <td>0.00632</td>\n",
       "      <td>18.0</td>\n",
       "      <td>2.31</td>\n",
       "      <td>0</td>\n",
       "      <td>0.538</td>\n",
       "      <td>6.575</td>\n",
       "      <td>65.2</td>\n",
       "      <td>4.0900</td>\n",
       "      <td>1</td>\n",
       "      <td>296</td>\n",
       "      <td>15.3</td>\n",
       "      <td>396.90</td>\n",
       "      <td>4.98</td>\n",
       "    </tr>\n",
       "    <tr>\n",
       "      <th>1</th>\n",
       "      <td>21.6</td>\n",
       "      <td>0.02731</td>\n",
       "      <td>0.0</td>\n",
       "      <td>7.07</td>\n",
       "      <td>0</td>\n",
       "      <td>0.469</td>\n",
       "      <td>6.421</td>\n",
       "      <td>78.9</td>\n",
       "      <td>4.9671</td>\n",
       "      <td>2</td>\n",
       "      <td>242</td>\n",
       "      <td>17.8</td>\n",
       "      <td>396.90</td>\n",
       "      <td>9.14</td>\n",
       "    </tr>\n",
       "    <tr>\n",
       "      <th>2</th>\n",
       "      <td>34.7</td>\n",
       "      <td>0.02729</td>\n",
       "      <td>0.0</td>\n",
       "      <td>7.07</td>\n",
       "      <td>0</td>\n",
       "      <td>0.469</td>\n",
       "      <td>7.185</td>\n",
       "      <td>61.1</td>\n",
       "      <td>4.9671</td>\n",
       "      <td>2</td>\n",
       "      <td>242</td>\n",
       "      <td>17.8</td>\n",
       "      <td>392.83</td>\n",
       "      <td>4.03</td>\n",
       "    </tr>\n",
       "    <tr>\n",
       "      <th>3</th>\n",
       "      <td>33.4</td>\n",
       "      <td>0.03237</td>\n",
       "      <td>0.0</td>\n",
       "      <td>2.18</td>\n",
       "      <td>0</td>\n",
       "      <td>0.458</td>\n",
       "      <td>6.998</td>\n",
       "      <td>45.8</td>\n",
       "      <td>6.0622</td>\n",
       "      <td>3</td>\n",
       "      <td>222</td>\n",
       "      <td>18.7</td>\n",
       "      <td>394.63</td>\n",
       "      <td>2.94</td>\n",
       "    </tr>\n",
       "    <tr>\n",
       "      <th>4</th>\n",
       "      <td>36.2</td>\n",
       "      <td>0.06905</td>\n",
       "      <td>0.0</td>\n",
       "      <td>2.18</td>\n",
       "      <td>0</td>\n",
       "      <td>0.458</td>\n",
       "      <td>7.147</td>\n",
       "      <td>54.2</td>\n",
       "      <td>6.0622</td>\n",
       "      <td>3</td>\n",
       "      <td>222</td>\n",
       "      <td>18.7</td>\n",
       "      <td>396.90</td>\n",
       "      <td>5.33</td>\n",
       "    </tr>\n",
       "  </tbody>\n",
       "</table>\n",
       "</div>"
      ],
      "text/plain": [
       "   PRICE     CRIM    ZN  INDUS  CHAS    NOX     RM   AGE     DIS  RAD  TAX  \\\n",
       "0   24.0  0.00632  18.0   2.31     0  0.538  6.575  65.2  4.0900    1  296   \n",
       "1   21.6  0.02731   0.0   7.07     0  0.469  6.421  78.9  4.9671    2  242   \n",
       "2   34.7  0.02729   0.0   7.07     0  0.469  7.185  61.1  4.9671    2  242   \n",
       "3   33.4  0.03237   0.0   2.18     0  0.458  6.998  45.8  6.0622    3  222   \n",
       "4   36.2  0.06905   0.0   2.18     0  0.458  7.147  54.2  6.0622    3  222   \n",
       "\n",
       "   PTRATIO       B  LSTAT  \n",
       "0     15.3  396.90   4.98  \n",
       "1     17.8  396.90   9.14  \n",
       "2     17.8  392.83   4.03  \n",
       "3     18.7  394.63   2.94  \n",
       "4     18.7  396.90   5.33  "
      ]
     },
     "execution_count": 14,
     "metadata": {},
     "output_type": "execute_result"
    }
   ],
   "source": [
    "df = pd.read_csv(\"boston.csv\")\n",
    "df.head()"
   ]
  },
  {
   "cell_type": "code",
   "execution_count": 15,
   "metadata": {
    "executionInfo": {
     "elapsed": 34,
     "status": "aborted",
     "timestamp": 1649917278406,
     "user": {
      "displayName": "田中直哉",
      "userId": "04823463265793038392"
     },
     "user_tz": -540
    },
    "id": "X9F1LZmhIyMi"
   },
   "outputs": [],
   "source": [
    "y_name = \"PRICE\"\n",
    "y = df[y_name].values\n",
    "x_table = df.drop([y_name],axis=1)\n",
    "x_name = x_table.columns\n",
    "x = x_table.values"
   ]
  },
  {
   "cell_type": "markdown",
   "metadata": {
    "id": "97iTDYE2IyMj"
   },
   "source": [
    "精度の算出(最も直感的な値として絶対誤差を使用)"
   ]
  },
  {
   "cell_type": "code",
   "execution_count": 16,
   "metadata": {
    "executionInfo": {
     "elapsed": 33,
     "status": "aborted",
     "timestamp": 1649917278406,
     "user": {
      "displayName": "田中直哉",
      "userId": "04823463265793038392"
     },
     "user_tz": -540
    },
    "id": "TrT8hWTCIyMj"
   },
   "outputs": [
    {
     "name": "stdout",
     "output_type": "stream",
     "text": [
      "3.270862810900317\n"
     ]
    }
   ],
   "source": [
    "model = LR()\n",
    "model.fit(x, y)\n",
    "y_pred = model.predict(x)\n",
    "print(mean_absolute_error(y, y_pred))"
   ]
  },
  {
   "cell_type": "markdown",
   "metadata": {
    "id": "v7WaI5OhIyMl"
   },
   "source": [
    "相関係数で精度の確認と外れ値などの確認のため散布図を出力"
   ]
  },
  {
   "cell_type": "code",
   "execution_count": 17,
   "metadata": {
    "executionInfo": {
     "elapsed": 34,
     "status": "aborted",
     "timestamp": 1649917278407,
     "user": {
      "displayName": "田中直哉",
      "userId": "04823463265793038392"
     },
     "user_tz": -540
    },
    "id": "G_sW36NzIyMm"
   },
   "outputs": [
    {
     "data": {
      "image/png": "[encoded data removed]",
      "text/plain": [
       "<Figure size 432x288 with 1 Axes>"
      ]
     },
     "metadata": {
      "needs_background": "light"
     },
     "output_type": "display_data"
    }
   ],
   "source": [
    "pr = np.array([y_pred, y])\n",
    "plt.scatter(y_pred, y)\n",
    "plt.title(\"Correlation coefficient is %.2f\"%(np.corrcoef(pr)[0][1]))\n",
    "plt.xlabel(\"Predict\")\n",
    "plt.ylabel(\"Real\")\n",
    "plt.show()"
   ]
  },
  {
   "cell_type": "markdown",
   "metadata": {
    "id": "5YbkwK1gIyMn"
   },
   "source": [
    "数式を作成"
   ]
  },
  {
   "cell_type": "code",
   "execution_count": 18,
   "metadata": {
    "executionInfo": {
     "elapsed": 34,
     "status": "aborted",
     "timestamp": 1649917278407,
     "user": {
      "displayName": "田中直哉",
      "userId": "04823463265793038392"
     },
     "user_tz": -540
    },
    "id": "99f0VLLiIyMo"
   },
   "outputs": [],
   "source": [
    "fout = model.coef_\n",
    "b = model.intercept_\n",
    "fout = np.hstack((fout,b))"
   ]
  },
  {
   "cell_type": "markdown",
   "metadata": {
    "id": "F4msg3liIyMo"
   },
   "source": [
    "# 変数の影響度合いの算出\n",
    "各変数のt値を算出することでp値を算出できる。p値が小さいほど変数の信用度が高くなる。"
   ]
  },
  {
   "cell_type": "code",
   "execution_count": 19,
   "metadata": {
    "executionInfo": {
     "elapsed": 34,
     "status": "aborted",
     "timestamp": 1649917278407,
     "user": {
      "displayName": "田中直哉",
      "userId": "04823463265793038392"
     },
     "user_tz": -540
    },
    "id": "vFNRcUrTIyMp"
   },
   "outputs": [],
   "source": [
    "sse = np.sum((y - y_pred) ** 2, axis=0)\n",
    "sse = sse / (x.shape[0] - x.shape[1] - 1)\n",
    "s = np.linalg.inv(np.dot(x.T, x))\n",
    "std_err = np.sqrt(np.diagonal(sse*s))\n",
    "t = model.coef_ / std_err\n",
    "p = stats.t(len(y)-1+len(x_name)+1-1).pdf(t)\n",
    "dat=[fout, std_err, t, p]"
   ]
  },
  {
   "cell_type": "code",
   "execution_count": 20,
   "metadata": {
    "executionInfo": {
     "elapsed": 36,
     "status": "aborted",
     "timestamp": 1649917278410,
     "user": {
      "displayName": "田中直哉",
      "userId": "04823463265793038392"
     },
     "user_tz": -540
    },
    "id": "OZo0bvRNIyMp"
   },
   "outputs": [
    {
     "data": {
      "text/html": [
       "<div>\n",
       "<style scoped>\n",
       "    .dataframe tbody tr th:only-of-type {\n",
       "        vertical-align: middle;\n",
       "    }\n",
       "\n",
       "    .dataframe tbody tr th {\n",
       "        vertical-align: top;\n",
       "    }\n",
       "\n",
       "    .dataframe thead th {\n",
       "        text-align: right;\n",
       "    }\n",
       "</style>\n",
       "<table border=\"1\" class=\"dataframe\">\n",
       "  <thead>\n",
       "    <tr style=\"text-align: right;\">\n",
       "      <th></th>\n",
       "      <th>CRIM</th>\n",
       "      <th>ZN</th>\n",
       "      <th>INDUS</th>\n",
       "      <th>CHAS</th>\n",
       "      <th>NOX</th>\n",
       "      <th>RM</th>\n",
       "      <th>AGE</th>\n",
       "      <th>DIS</th>\n",
       "      <th>RAD</th>\n",
       "      <th>TAX</th>\n",
       "      <th>PTRATIO</th>\n",
       "      <th>B</th>\n",
       "      <th>LSTAT</th>\n",
       "      <th>intercept</th>\n",
       "    </tr>\n",
       "  </thead>\n",
       "  <tbody>\n",
       "    <tr>\n",
       "      <th>fout</th>\n",
       "      <td>-0.108011</td>\n",
       "      <td>0.046420</td>\n",
       "      <td>0.020559</td>\n",
       "      <td>2.686734</td>\n",
       "      <td>-1.776661e+01</td>\n",
       "      <td>3.809865e+00</td>\n",
       "      <td>0.000692</td>\n",
       "      <td>-1.475567e+00</td>\n",
       "      <td>0.306049</td>\n",
       "      <td>-0.012335</td>\n",
       "      <td>-9.527472e-01</td>\n",
       "      <td>0.009312</td>\n",
       "      <td>-5.247584e-01</td>\n",
       "      <td>36.459488</td>\n",
       "    </tr>\n",
       "    <tr>\n",
       "      <th>std_err</th>\n",
       "      <td>0.032797</td>\n",
       "      <td>0.013724</td>\n",
       "      <td>0.061399</td>\n",
       "      <td>0.861262</td>\n",
       "      <td>3.200249e+00</td>\n",
       "      <td>2.945232e-01</td>\n",
       "      <td>0.013163</td>\n",
       "      <td>1.863993e-01</td>\n",
       "      <td>0.063603</td>\n",
       "      <td>0.003738</td>\n",
       "      <td>1.046851e-01</td>\n",
       "      <td>0.002569</td>\n",
       "      <td>4.838985e-02</td>\n",
       "      <td>NaN</td>\n",
       "    </tr>\n",
       "    <tr>\n",
       "      <th>t-value</th>\n",
       "      <td>-3.293348</td>\n",
       "      <td>3.382502</td>\n",
       "      <td>0.334836</td>\n",
       "      <td>3.119533</td>\n",
       "      <td>-5.551634e+00</td>\n",
       "      <td>1.293571e+01</td>\n",
       "      <td>0.052590</td>\n",
       "      <td>-7.916161e+00</td>\n",
       "      <td>4.811897</td>\n",
       "      <td>-3.299806</td>\n",
       "      <td>-9.101082e+00</td>\n",
       "      <td>3.624213</td>\n",
       "      <td>-1.084439e+01</td>\n",
       "      <td>NaN</td>\n",
       "    </tr>\n",
       "    <tr>\n",
       "      <th>p-value</th>\n",
       "      <td>0.001842</td>\n",
       "      <td>0.001376</td>\n",
       "      <td>0.376973</td>\n",
       "      <td>0.003185</td>\n",
       "      <td>1.222011e-07</td>\n",
       "      <td>1.129490e-32</td>\n",
       "      <td>0.398198</td>\n",
       "      <td>5.375892e-14</td>\n",
       "      <td>0.000005</td>\n",
       "      <td>0.001804</td>\n",
       "      <td>7.643433e-18</td>\n",
       "      <td>0.000601</td>\n",
       "      <td>3.490745e-24</td>\n",
       "      <td>NaN</td>\n",
       "    </tr>\n",
       "  </tbody>\n",
       "</table>\n",
       "</div>"
      ],
      "text/plain": [
       "             CRIM        ZN     INDUS      CHAS           NOX            RM  \\\n",
       "fout    -0.108011  0.046420  0.020559  2.686734 -1.776661e+01  3.809865e+00   \n",
       "std_err  0.032797  0.013724  0.061399  0.861262  3.200249e+00  2.945232e-01   \n",
       "t-value -3.293348  3.382502  0.334836  3.119533 -5.551634e+00  1.293571e+01   \n",
       "p-value  0.001842  0.001376  0.376973  0.003185  1.222011e-07  1.129490e-32   \n",
       "\n",
       "              AGE           DIS       RAD       TAX       PTRATIO         B  \\\n",
       "fout     0.000692 -1.475567e+00  0.306049 -0.012335 -9.527472e-01  0.009312   \n",
       "std_err  0.013163  1.863993e-01  0.063603  0.003738  1.046851e-01  0.002569   \n",
       "t-value  0.052590 -7.916161e+00  4.811897 -3.299806 -9.101082e+00  3.624213   \n",
       "p-value  0.398198  5.375892e-14  0.000005  0.001804  7.643433e-18  0.000601   \n",
       "\n",
       "                LSTAT  intercept  \n",
       "fout    -5.247584e-01  36.459488  \n",
       "std_err  4.838985e-02        NaN  \n",
       "t-value -1.084439e+01        NaN  \n",
       "p-value  3.490745e-24        NaN  "
      ]
     },
     "execution_count": 20,
     "metadata": {},
     "output_type": "execute_result"
    }
   ],
   "source": [
    "df_fout = pd.DataFrame(dat)\n",
    "col = list(x_name)\n",
    "col.append(\"intercept\")\n",
    "ind = [\"fout\", \"std_err\", \"t-value\", \"p-value\"]\n",
    "df_fout.columns = col\n",
    "df_fout.index = ind\n",
    "df_fout"
   ]
  },
  {
   "cell_type": "markdown",
   "metadata": {},
   "source": [
    "# 切片を含めてt値とp値を算出"
   ]
  },
  {
   "cell_type": "code",
   "execution_count": 21,
   "metadata": {
    "executionInfo": {
     "elapsed": 37,
     "status": "aborted",
     "timestamp": 1649917278411,
     "user": {
      "displayName": "田中直哉",
      "userId": "04823463265793038392"
     },
     "user_tz": -540
    },
    "id": "MqfsXkZ_IyMq"
   },
   "outputs": [
    {
     "data": {
      "text/plain": [
       "array([-1.08011358e-01,  4.64204584e-02,  2.05586264e-02,  2.68673382e+00,\n",
       "       -1.77666112e+01,  3.80986521e+00,  6.92224640e-04, -1.47556685e+00,\n",
       "        3.06049479e-01, -1.23345939e-02, -9.52747232e-01,  9.31168327e-03,\n",
       "       -5.24758378e-01,  3.64594884e+01])"
      ]
     },
     "execution_count": 21,
     "metadata": {},
     "output_type": "execute_result"
    }
   ],
   "source": [
    "fout"
   ]
  },
  {
   "cell_type": "code",
   "execution_count": 22,
   "metadata": {},
   "outputs": [],
   "source": [
    "tmp_data = np.zeros((len(x), 1))\n",
    "tmp_data = tmp_data + 1\n",
    "tmp_x = np.hstack((x, tmp_data))"
   ]
  },
  {
   "cell_type": "code",
   "execution_count": 23,
   "metadata": {},
   "outputs": [
    {
     "name": "stdout",
     "output_type": "stream",
     "text": [
      "3.270862810900317\n"
     ]
    }
   ],
   "source": [
    "y_pred2 = np.dot(tmp_x, fout)\n",
    "print(mean_absolute_error(y, y_pred2))"
   ]
  },
  {
   "cell_type": "code",
   "execution_count": 24,
   "metadata": {},
   "outputs": [],
   "source": [
    "sse = np.sum((y - y_pred2) ** 2, axis=0)\n",
    "sse = sse / (tmp_x.shape[0] - tmp_x.shape[1] - 1)\n",
    "s = np.linalg.inv(np.dot(tmp_x.T, tmp_x))\n",
    "std_err = np.sqrt(np.diagonal(sse*s))\n",
    "t = fout / std_err\n",
    "p = stats.t(len(y)-1+len(fout)+1-1).pdf(t)\n",
    "dat=[fout, std_err, t, p]"
   ]
  },
  {
   "cell_type": "code",
   "execution_count": 25,
   "metadata": {},
   "outputs": [
    {
     "data": {
      "text/html": [
       "<div>\n",
       "<style scoped>\n",
       "    .dataframe tbody tr th:only-of-type {\n",
       "        vertical-align: middle;\n",
       "    }\n",
       "\n",
       "    .dataframe tbody tr th {\n",
       "        vertical-align: top;\n",
       "    }\n",
       "\n",
       "    .dataframe thead th {\n",
       "        text-align: right;\n",
       "    }\n",
       "</style>\n",
       "<table border=\"1\" class=\"dataframe\">\n",
       "  <thead>\n",
       "    <tr style=\"text-align: right;\">\n",
       "      <th></th>\n",
       "      <th>CRIM</th>\n",
       "      <th>ZN</th>\n",
       "      <th>INDUS</th>\n",
       "      <th>CHAS</th>\n",
       "      <th>NOX</th>\n",
       "      <th>RM</th>\n",
       "      <th>AGE</th>\n",
       "      <th>DIS</th>\n",
       "      <th>RAD</th>\n",
       "      <th>TAX</th>\n",
       "      <th>PTRATIO</th>\n",
       "      <th>B</th>\n",
       "      <th>LSTAT</th>\n",
       "      <th>intercept</th>\n",
       "    </tr>\n",
       "  </thead>\n",
       "  <tbody>\n",
       "    <tr>\n",
       "      <th>fout</th>\n",
       "      <td>-0.108011</td>\n",
       "      <td>0.046420</td>\n",
       "      <td>0.020559</td>\n",
       "      <td>2.686734</td>\n",
       "      <td>-17.766611</td>\n",
       "      <td>3.809865e+00</td>\n",
       "      <td>0.000692</td>\n",
       "      <td>-1.475567e+00</td>\n",
       "      <td>0.306049</td>\n",
       "      <td>-0.012335</td>\n",
       "      <td>-9.527472e-01</td>\n",
       "      <td>0.009312</td>\n",
       "      <td>-5.247584e-01</td>\n",
       "      <td>3.645949e+01</td>\n",
       "    </tr>\n",
       "    <tr>\n",
       "      <th>std_err</th>\n",
       "      <td>0.032898</td>\n",
       "      <td>0.013741</td>\n",
       "      <td>0.061558</td>\n",
       "      <td>0.862457</td>\n",
       "      <td>3.823631</td>\n",
       "      <td>4.183506e-01</td>\n",
       "      <td>0.013223</td>\n",
       "      <td>1.996577e-01</td>\n",
       "      <td>0.066414</td>\n",
       "      <td>0.003764</td>\n",
       "      <td>1.309599e-01</td>\n",
       "      <td>0.002689</td>\n",
       "      <td>5.076690e-02</td>\n",
       "      <td>5.108653e+00</td>\n",
       "    </tr>\n",
       "    <tr>\n",
       "      <th>t-value</th>\n",
       "      <td>-3.283175</td>\n",
       "      <td>3.378138</td>\n",
       "      <td>0.333970</td>\n",
       "      <td>3.115210</td>\n",
       "      <td>-4.646528</td>\n",
       "      <td>9.106871e+00</td>\n",
       "      <td>0.052349</td>\n",
       "      <td>-7.390481e+00</td>\n",
       "      <td>4.608209</td>\n",
       "      <td>-3.276674</td>\n",
       "      <td>-7.275106e+00</td>\n",
       "      <td>3.463268</td>\n",
       "      <td>-1.033663e+01</td>\n",
       "      <td>7.136810e+00</td>\n",
       "    </tr>\n",
       "    <tr>\n",
       "      <th>p-value</th>\n",
       "      <td>0.001903</td>\n",
       "      <td>0.001396</td>\n",
       "      <td>0.377083</td>\n",
       "      <td>0.003227</td>\n",
       "      <td>0.000010</td>\n",
       "      <td>7.266073e-18</td>\n",
       "      <td>0.398203</td>\n",
       "      <td>2.004721e-12</td>\n",
       "      <td>0.000012</td>\n",
       "      <td>0.001944</td>\n",
       "      <td>4.321409e-12</td>\n",
       "      <td>0.001049</td>\n",
       "      <td>2.902029e-22</td>\n",
       "      <td>1.071062e-11</td>\n",
       "    </tr>\n",
       "  </tbody>\n",
       "</table>\n",
       "</div>"
      ],
      "text/plain": [
       "             CRIM        ZN     INDUS      CHAS        NOX            RM  \\\n",
       "fout    -0.108011  0.046420  0.020559  2.686734 -17.766611  3.809865e+00   \n",
       "std_err  0.032898  0.013741  0.061558  0.862457   3.823631  4.183506e-01   \n",
       "t-value -3.283175  3.378138  0.333970  3.115210  -4.646528  9.106871e+00   \n",
       "p-value  0.001903  0.001396  0.377083  0.003227   0.000010  7.266073e-18   \n",
       "\n",
       "              AGE           DIS       RAD       TAX       PTRATIO         B  \\\n",
       "fout     0.000692 -1.475567e+00  0.306049 -0.012335 -9.527472e-01  0.009312   \n",
       "std_err  0.013223  1.996577e-01  0.066414  0.003764  1.309599e-01  0.002689   \n",
       "t-value  0.052349 -7.390481e+00  4.608209 -3.276674 -7.275106e+00  3.463268   \n",
       "p-value  0.398203  2.004721e-12  0.000012  0.001944  4.321409e-12  0.001049   \n",
       "\n",
       "                LSTAT     intercept  \n",
       "fout    -5.247584e-01  3.645949e+01  \n",
       "std_err  5.076690e-02  5.108653e+00  \n",
       "t-value -1.033663e+01  7.136810e+00  \n",
       "p-value  2.902029e-22  1.071062e-11  "
      ]
     },
     "execution_count": 25,
     "metadata": {},
     "output_type": "execute_result"
    }
   ],
   "source": [
    "df_fout = pd.DataFrame(dat)\n",
    "col = list(x_name)\n",
    "col.append(\"intercept\")\n",
    "ind = [\"fout\", \"std_err\", \"t-value\", \"p-value\"]\n",
    "df_fout.columns = col\n",
    "df_fout.index = ind\n",
    "df_fout"
   ]
  },
  {
   "cell_type": "code",
   "execution_count": null,
   "metadata": {},
   "outputs": [],
   "source": []
  }
 ],
 "metadata": {
  "colab": {
   "collapsed_sections": [],
   "name": "fout.ipynb",
   "provenance": []
  },
  "kernelspec": {
   "display_name": "Python 3",
   "language": "python",
   "name": "python3"
  },
  "language_info": {
   "codemirror_mode": {
    "name": "ipython",
    "version": 3
   },
   "file_extension": ".py",
   "mimetype": "text/x-python",
   "name": "python",
   "nbconvert_exporter": "python",
   "pygments_lexer": "ipython3",
   "version": "3.7.1"
  }
 },
 "nbformat": 4,
 "nbformat_minor": 1
}
