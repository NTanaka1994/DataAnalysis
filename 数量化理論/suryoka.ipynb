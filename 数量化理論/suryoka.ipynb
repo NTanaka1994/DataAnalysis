{
	"cells": [
		{
			"cell_type": "markdown",
			"source": [
				"# 数量化理論\n",
				"数量化理論は分析する説明変数が質的データの中で名義尺度(意味のない数値やカテゴリ)の場合に行うモデルの作成方法\n",
				"\n",
				"# ライブラリのインポート"
			],
			"metadata": {
				"id": "EAOFRJccQz1L"
			}
		},
		{
			"cell_type": "code",
			"execution_count": null,
			"metadata": {
				"id": "QcUvXlvkQyQl"
			},
			"outputs": [],
			"source": [
				"from sklearn.linear_model import LinearRegression as LR\n",
				"from sklearn.discriminant_analysis import LinearDiscriminantAnalysis as LDA\n",
				"from sklearn.decomposition import FactorAnalysis as FA\n",
				"import pandas as pd\n",
				"import numpy as np\n",
				"import matplotlib.pyplot as plt"
			]
		},
		{
			"cell_type": "markdown",
			"source": [
				"# データの読み込み"
			],
			"metadata": {
				"id": "QH_pLBTxRIha"
			}
		},
		{
			"cell_type": "code",
			"execution_count": null,
			"metadata": {
				"id": "zKhonbqiQyQo",
				"outputId": "04f74c05-8775-4c1e-ab96-53eccbabe068"
			},
			"outputs": [
				{
					"data": {
						"text/html": [
							"<div>\n",
							"<style scoped>\n",
							"    .dataframe tbody tr th:only-of-type {\n",
							"        vertical-align: middle;\n",
							"    }\n",
							"\n",
							"    .dataframe tbody tr th {\n",
							"        vertical-align: top;\n",
							"    }\n",
							"\n",
							"    .dataframe thead th {\n",
							"        text-align: right;\n",
							"    }\n",
							"</style>\n",
							"<table border=\"1\" class=\"dataframe\">\n",
							"  <thead>\n",
							"    <tr style=\"text-align: right;\">\n",
							"      <th></th>\n",
							"      <th>天気</th>\n",
							"      <th>気温</th>\n",
							"      <th>湿度</th>\n",
							"      <th>風</th>\n",
							"      <th>ゴルフ</th>\n",
							"    </tr>\n",
							"  </thead>\n",
							"  <tbody>\n",
							"    <tr>\n",
							"      <th>0</th>\n",
							"      <td>晴</td>\n",
							"      <td>29</td>\n",
							"      <td>85</td>\n",
							"      <td>弱</td>\n",
							"      <td>しない</td>\n",
							"    </tr>\n",
							"    <tr>\n",
							"      <th>1</th>\n",
							"      <td>晴</td>\n",
							"      <td>27</td>\n",
							"      <td>90</td>\n",
							"      <td>強</td>\n",
							"      <td>しない</td>\n",
							"    </tr>\n",
							"    <tr>\n",
							"      <th>2</th>\n",
							"      <td>曇</td>\n",
							"      <td>28</td>\n",
							"      <td>78</td>\n",
							"      <td>弱</td>\n",
							"      <td>する</td>\n",
							"    </tr>\n",
							"    <tr>\n",
							"      <th>3</th>\n",
							"      <td>雨</td>\n",
							"      <td>21</td>\n",
							"      <td>96</td>\n",
							"      <td>弱</td>\n",
							"      <td>する</td>\n",
							"    </tr>\n",
							"    <tr>\n",
							"      <th>4</th>\n",
							"      <td>雨</td>\n",
							"      <td>20</td>\n",
							"      <td>80</td>\n",
							"      <td>弱</td>\n",
							"      <td>する</td>\n",
							"    </tr>\n",
							"    <tr>\n",
							"      <th>5</th>\n",
							"      <td>雨</td>\n",
							"      <td>18</td>\n",
							"      <td>70</td>\n",
							"      <td>強</td>\n",
							"      <td>しない</td>\n",
							"    </tr>\n",
							"    <tr>\n",
							"      <th>6</th>\n",
							"      <td>曇</td>\n",
							"      <td>18</td>\n",
							"      <td>65</td>\n",
							"      <td>強</td>\n",
							"      <td>する</td>\n",
							"    </tr>\n",
							"    <tr>\n",
							"      <th>7</th>\n",
							"      <td>晴</td>\n",
							"      <td>22</td>\n",
							"      <td>95</td>\n",
							"      <td>弱</td>\n",
							"      <td>しない</td>\n",
							"    </tr>\n",
							"    <tr>\n",
							"      <th>8</th>\n",
							"      <td>晴</td>\n",
							"      <td>21</td>\n",
							"      <td>70</td>\n",
							"      <td>弱</td>\n",
							"      <td>する</td>\n",
							"    </tr>\n",
							"    <tr>\n",
							"      <th>9</th>\n",
							"      <td>雨</td>\n",
							"      <td>24</td>\n",
							"      <td>80</td>\n",
							"      <td>弱</td>\n",
							"      <td>する</td>\n",
							"    </tr>\n",
							"    <tr>\n",
							"      <th>10</th>\n",
							"      <td>晴</td>\n",
							"      <td>24</td>\n",
							"      <td>70</td>\n",
							"      <td>強</td>\n",
							"      <td>する</td>\n",
							"    </tr>\n",
							"    <tr>\n",
							"      <th>11</th>\n",
							"      <td>曇</td>\n",
							"      <td>22</td>\n",
							"      <td>90</td>\n",
							"      <td>強</td>\n",
							"      <td>する</td>\n",
							"    </tr>\n",
							"    <tr>\n",
							"      <th>12</th>\n",
							"      <td>曇</td>\n",
							"      <td>27</td>\n",
							"      <td>75</td>\n",
							"      <td>弱</td>\n",
							"      <td>する</td>\n",
							"    </tr>\n",
							"    <tr>\n",
							"      <th>13</th>\n",
							"      <td>雨</td>\n",
							"      <td>22</td>\n",
							"      <td>80</td>\n",
							"      <td>強</td>\n",
							"      <td>しない</td>\n",
							"    </tr>\n",
							"  </tbody>\n",
							"</table>\n",
							"</div>"
						],
						"text/plain": [
							"   天気  気温  湿度  風  ゴルフ\n",
							"0   晴  29  85  弱  しない\n",
							"1   晴  27  90  強  しない\n",
							"2   曇  28  78  弱   する\n",
							"3   雨  21  96  弱   する\n",
							"4   雨  20  80  弱   する\n",
							"5   雨  18  70  強  しない\n",
							"6   曇  18  65  強   する\n",
							"7   晴  22  95  弱  しない\n",
							"8   晴  21  70  弱   する\n",
							"9   雨  24  80  弱   する\n",
							"10  晴  24  70  強   する\n",
							"11  曇  22  90  強   する\n",
							"12  曇  27  75  弱   する\n",
							"13  雨  22  80  強  しない"
						]
					},
					"execution_count": 20,
					"metadata": {},
					"output_type": "execute_result"
				}
			],
			"source": [
				"df = pd.read_csv(\"golf.csv\",encoding=\"shift-jis\")\n",
				"df"
			]
		},
		{
			"cell_type": "markdown",
			"metadata": {
				"id": "fwUA1Nl_QyQs"
			},
			"source": [
				"# 数量化理論Ⅰ類\n",
				"一般にⅠ類では重回帰分析を行う"
			]
		},
		{
			"cell_type": "code",
			"execution_count": null,
			"metadata": {
				"id": "07Q2Ffu4QyQw",
				"outputId": "d3fb12f4-7e19-4b5b-de4b-0b0c28f3f384"
			},
			"outputs": [
				{
					"data": {
						"text/html": [
							"<div>\n",
							"<style scoped>\n",
							"    .dataframe tbody tr th:only-of-type {\n",
							"        vertical-align: middle;\n",
							"    }\n",
							"\n",
							"    .dataframe tbody tr th {\n",
							"        vertical-align: top;\n",
							"    }\n",
							"\n",
							"    .dataframe thead th {\n",
							"        text-align: right;\n",
							"    }\n",
							"</style>\n",
							"<table border=\"1\" class=\"dataframe\">\n",
							"  <thead>\n",
							"    <tr style=\"text-align: right;\">\n",
							"      <th></th>\n",
							"      <th>気温</th>\n",
							"      <th>湿度</th>\n",
							"      <th>天気_晴</th>\n",
							"      <th>天気_曇</th>\n",
							"      <th>天気_雨</th>\n",
							"      <th>風_弱</th>\n",
							"      <th>風_強</th>\n",
							"      <th>ゴルフ_しない</th>\n",
							"      <th>ゴルフ_する</th>\n",
							"    </tr>\n",
							"  </thead>\n",
							"  <tbody>\n",
							"    <tr>\n",
							"      <th>0</th>\n",
							"      <td>29</td>\n",
							"      <td>85</td>\n",
							"      <td>1</td>\n",
							"      <td>0</td>\n",
							"      <td>0</td>\n",
							"      <td>1</td>\n",
							"      <td>0</td>\n",
							"      <td>1</td>\n",
							"      <td>0</td>\n",
							"    </tr>\n",
							"    <tr>\n",
							"      <th>1</th>\n",
							"      <td>27</td>\n",
							"      <td>90</td>\n",
							"      <td>1</td>\n",
							"      <td>0</td>\n",
							"      <td>0</td>\n",
							"      <td>0</td>\n",
							"      <td>1</td>\n",
							"      <td>1</td>\n",
							"      <td>0</td>\n",
							"    </tr>\n",
							"    <tr>\n",
							"      <th>2</th>\n",
							"      <td>28</td>\n",
							"      <td>78</td>\n",
							"      <td>0</td>\n",
							"      <td>1</td>\n",
							"      <td>0</td>\n",
							"      <td>1</td>\n",
							"      <td>0</td>\n",
							"      <td>0</td>\n",
							"      <td>1</td>\n",
							"    </tr>\n",
							"    <tr>\n",
							"      <th>3</th>\n",
							"      <td>21</td>\n",
							"      <td>96</td>\n",
							"      <td>0</td>\n",
							"      <td>0</td>\n",
							"      <td>1</td>\n",
							"      <td>1</td>\n",
							"      <td>0</td>\n",
							"      <td>0</td>\n",
							"      <td>1</td>\n",
							"    </tr>\n",
							"    <tr>\n",
							"      <th>4</th>\n",
							"      <td>20</td>\n",
							"      <td>80</td>\n",
							"      <td>0</td>\n",
							"      <td>0</td>\n",
							"      <td>1</td>\n",
							"      <td>1</td>\n",
							"      <td>0</td>\n",
							"      <td>0</td>\n",
							"      <td>1</td>\n",
							"    </tr>\n",
							"    <tr>\n",
							"      <th>5</th>\n",
							"      <td>18</td>\n",
							"      <td>70</td>\n",
							"      <td>0</td>\n",
							"      <td>0</td>\n",
							"      <td>1</td>\n",
							"      <td>0</td>\n",
							"      <td>1</td>\n",
							"      <td>1</td>\n",
							"      <td>0</td>\n",
							"    </tr>\n",
							"    <tr>\n",
							"      <th>6</th>\n",
							"      <td>18</td>\n",
							"      <td>65</td>\n",
							"      <td>0</td>\n",
							"      <td>1</td>\n",
							"      <td>0</td>\n",
							"      <td>0</td>\n",
							"      <td>1</td>\n",
							"      <td>0</td>\n",
							"      <td>1</td>\n",
							"    </tr>\n",
							"    <tr>\n",
							"      <th>7</th>\n",
							"      <td>22</td>\n",
							"      <td>95</td>\n",
							"      <td>1</td>\n",
							"      <td>0</td>\n",
							"      <td>0</td>\n",
							"      <td>1</td>\n",
							"      <td>0</td>\n",
							"      <td>1</td>\n",
							"      <td>0</td>\n",
							"    </tr>\n",
							"    <tr>\n",
							"      <th>8</th>\n",
							"      <td>21</td>\n",
							"      <td>70</td>\n",
							"      <td>1</td>\n",
							"      <td>0</td>\n",
							"      <td>0</td>\n",
							"      <td>1</td>\n",
							"      <td>0</td>\n",
							"      <td>0</td>\n",
							"      <td>1</td>\n",
							"    </tr>\n",
							"    <tr>\n",
							"      <th>9</th>\n",
							"      <td>24</td>\n",
							"      <td>80</td>\n",
							"      <td>0</td>\n",
							"      <td>0</td>\n",
							"      <td>1</td>\n",
							"      <td>1</td>\n",
							"      <td>0</td>\n",
							"      <td>0</td>\n",
							"      <td>1</td>\n",
							"    </tr>\n",
							"    <tr>\n",
							"      <th>10</th>\n",
							"      <td>24</td>\n",
							"      <td>70</td>\n",
							"      <td>1</td>\n",
							"      <td>0</td>\n",
							"      <td>0</td>\n",
							"      <td>0</td>\n",
							"      <td>1</td>\n",
							"      <td>0</td>\n",
							"      <td>1</td>\n",
							"    </tr>\n",
							"    <tr>\n",
							"      <th>11</th>\n",
							"      <td>22</td>\n",
							"      <td>90</td>\n",
							"      <td>0</td>\n",
							"      <td>1</td>\n",
							"      <td>0</td>\n",
							"      <td>0</td>\n",
							"      <td>1</td>\n",
							"      <td>0</td>\n",
							"      <td>1</td>\n",
							"    </tr>\n",
							"    <tr>\n",
							"      <th>12</th>\n",
							"      <td>27</td>\n",
							"      <td>75</td>\n",
							"      <td>0</td>\n",
							"      <td>1</td>\n",
							"      <td>0</td>\n",
							"      <td>1</td>\n",
							"      <td>0</td>\n",
							"      <td>0</td>\n",
							"      <td>1</td>\n",
							"    </tr>\n",
							"    <tr>\n",
							"      <th>13</th>\n",
							"      <td>22</td>\n",
							"      <td>80</td>\n",
							"      <td>0</td>\n",
							"      <td>0</td>\n",
							"      <td>1</td>\n",
							"      <td>0</td>\n",
							"      <td>1</td>\n",
							"      <td>1</td>\n",
							"      <td>0</td>\n",
							"    </tr>\n",
							"  </tbody>\n",
							"</table>\n",
							"</div>"
						],
						"text/plain": [
							"    気温  湿度  天気_晴  天気_曇  天気_雨  風_弱  風_強  ゴルフ_しない  ゴルフ_する\n",
							"0   29  85     1     0     0    1    0        1       0\n",
							"1   27  90     1     0     0    0    1        1       0\n",
							"2   28  78     0     1     0    1    0        0       1\n",
							"3   21  96     0     0     1    1    0        0       1\n",
							"4   20  80     0     0     1    1    0        0       1\n",
							"5   18  70     0     0     1    0    1        1       0\n",
							"6   18  65     0     1     0    0    1        0       1\n",
							"7   22  95     1     0     0    1    0        1       0\n",
							"8   21  70     1     0     0    1    0        0       1\n",
							"9   24  80     0     0     1    1    0        0       1\n",
							"10  24  70     1     0     0    0    1        0       1\n",
							"11  22  90     0     1     0    0    1        0       1\n",
							"12  27  75     0     1     0    1    0        0       1\n",
							"13  22  80     0     0     1    0    1        1       0"
						]
					},
					"execution_count": 21,
					"metadata": {},
					"output_type": "execute_result"
				}
			],
			"source": [
				"df_dum = pd.get_dummies(df,columns=[\"天気\", \"風\", \"ゴルフ\"])\n",
				"df_dum"
			]
		},
		{
			"cell_type": "code",
			"execution_count": null,
			"metadata": {
				"id": "o7e8e9djQyQy"
			},
			"outputs": [],
			"source": [
				"y = df_dum[\"気温\"].values\n",
				"dfx = df_dum[[\"天気_晴\", \"天気_曇\", \"天気_雨\", \"風_強\", \"ゴルフ_する\"]]\n",
				"x = dfx.values"
			]
		},
		{
			"cell_type": "code",
			"execution_count": null,
			"metadata": {
				"id": "8G3S_Ng9QyQz",
				"outputId": "d894be48-fa63-4b20-d401-c67af1a88f36"
			},
			"outputs": [
				{
					"data": {
						"text/plain": [
							"LinearRegression()"
						]
					},
					"execution_count": 23,
					"metadata": {},
					"output_type": "execute_result"
				}
			],
			"source": [
				"model=LR()\n",
				"model.fit(x, y)"
			]
		},
		{
			"cell_type": "code",
			"execution_count": null,
			"metadata": {
				"id": "f-2on0FwQyQ0",
				"outputId": "ea59c21d-9199-46c1-98de-3ac456dcd4d1"
			},
			"outputs": [
				{
					"data": {
						"text/html": [
							"<div>\n",
							"<style scoped>\n",
							"    .dataframe tbody tr th:only-of-type {\n",
							"        vertical-align: middle;\n",
							"    }\n",
							"\n",
							"    .dataframe tbody tr th {\n",
							"        vertical-align: top;\n",
							"    }\n",
							"\n",
							"    .dataframe thead th {\n",
							"        text-align: right;\n",
							"    }\n",
							"</style>\n",
							"<table border=\"1\" class=\"dataframe\">\n",
							"  <thead>\n",
							"    <tr style=\"text-align: right;\">\n",
							"      <th></th>\n",
							"      <th>天気_晴</th>\n",
							"      <th>天気_曇</th>\n",
							"      <th>天気_雨</th>\n",
							"      <th>風_強</th>\n",
							"      <th>ゴルフ_する</th>\n",
							"      <th>intercept</th>\n",
							"    </tr>\n",
							"  </thead>\n",
							"  <tbody>\n",
							"    <tr>\n",
							"      <th>回帰係数</th>\n",
							"      <td>0.821695</td>\n",
							"      <td>1.532588</td>\n",
							"      <td>-2.354283</td>\n",
							"      <td>-2.888268</td>\n",
							"      <td>-2.120112</td>\n",
							"      <td>25.781657</td>\n",
							"    </tr>\n",
							"    <tr>\n",
							"      <th>t値</th>\n",
							"      <td>0.374222</td>\n",
							"      <td>0.438507</td>\n",
							"      <td>-0.935563</td>\n",
							"      <td>-1.390009</td>\n",
							"      <td>-0.857245</td>\n",
							"      <td>NaN</td>\n",
							"    </tr>\n",
							"  </tbody>\n",
							"</table>\n",
							"</div>"
						],
						"text/plain": [
							"          天気_晴      天気_曇      天気_雨       風_強    ゴルフ_する  intercept\n",
							"回帰係数  0.821695  1.532588 -2.354283 -2.888268 -2.120112  25.781657\n",
							"t値    0.374222  0.438507 -0.935563 -1.390009 -0.857245        NaN"
						]
					},
					"execution_count": 24,
					"metadata": {},
					"output_type": "execute_result"
				}
			],
			"source": [
				"coef_ = list(model.coef_)\n",
				"coef_.append(model.intercept_)\n",
				"col = list(dfx.columns)\n",
				"col.append(\"intercept\")\n",
				"y_pred = model.predict(x)\n",
				"sse = np.sum((y - y_pred) ** 2, axis = 0) / (x.shape[0] - x.shape[1] - 1)\n",
				"s = np.linalg.inv(np.dot(x.T, x))\n",
				"std_err = np.sqrt(np.diagonal(sse * s))\n",
				"t = list(model.coef_ / std_err)\n",
				"t.append(np.nan)\n",
				"out = []\n",
				"out.append(coef_)\n",
				"out.append(t)\n",
				"dfo = pd.DataFrame(out)\n",
				"dfo.columns = col\n",
				"dfo.index=[[\"回帰係数\", \"t値\"]]\n",
				"dfo"
			]
		},
		{
			"cell_type": "markdown",
			"metadata": {
				"id": "d6OIlvBnQyQ2"
			},
			"source": [
				"# 数量化理論Ⅱ類\n",
				"Ⅱ類は一般に判別分析を用いる。技術書によってはロジスティック回帰を用いることもある。"
			]
		},
		{
			"cell_type": "code",
			"execution_count": null,
			"metadata": {
				"id": "LfhuKCBdQyQ3"
			},
			"outputs": [],
			"source": [
				"y = df_dum[\"ゴルフ_する\"].values\n",
				"dfx = df_dum[[\"天気_晴\",\"天気_曇\",\"天気_雨\",\"風_強\"]]\n",
				"x = dfx.values"
			]
		},
		{
			"cell_type": "code",
			"execution_count": null,
			"metadata": {
				"id": "NwxA8--8QyQ4",
				"outputId": "115bc7ce-9fe2-487c-88cf-58d5da723c7c"
			},
			"outputs": [
				{
					"data": {
						"text/plain": [
							"LinearDiscriminantAnalysis()"
						]
					},
					"execution_count": 26,
					"metadata": {},
					"output_type": "execute_result"
				}
			],
			"source": [
				"model = LDA()\n",
				"model.fit(x, y)"
			]
		},
		{
			"cell_type": "code",
			"execution_count": null,
			"metadata": {
				"id": "y2-3eisDQyQ5",
				"outputId": "e7907ede-f490-41c8-e4f4-ae9be629c496"
			},
			"outputs": [
				{
					"data": {
						"text/html": [
							"<div>\n",
							"<style scoped>\n",
							"    .dataframe tbody tr th:only-of-type {\n",
							"        vertical-align: middle;\n",
							"    }\n",
							"\n",
							"    .dataframe tbody tr th {\n",
							"        vertical-align: top;\n",
							"    }\n",
							"\n",
							"    .dataframe thead th {\n",
							"        text-align: right;\n",
							"    }\n",
							"</style>\n",
							"<table border=\"1\" class=\"dataframe\">\n",
							"  <thead>\n",
							"    <tr style=\"text-align: right;\">\n",
							"      <th></th>\n",
							"      <th>天気_晴</th>\n",
							"      <th>天気_曇</th>\n",
							"      <th>天気_雨</th>\n",
							"      <th>風_強</th>\n",
							"      <th>intercept</th>\n",
							"    </tr>\n",
							"  </thead>\n",
							"  <tbody>\n",
							"    <tr>\n",
							"      <th>判別係数</th>\n",
							"      <td>-1.420573</td>\n",
							"      <td>2.166019</td>\n",
							"      <td>-0.280908</td>\n",
							"      <td>-1.675978</td>\n",
							"      <td>1.575585</td>\n",
							"    </tr>\n",
							"  </tbody>\n",
							"</table>\n",
							"</div>"
						],
						"text/plain": [
							"          天気_晴      天気_曇      天気_雨       風_強  intercept\n",
							"判別係数 -1.420573  2.166019 -0.280908 -1.675978   1.575585"
						]
					},
					"execution_count": 27,
					"metadata": {},
					"output_type": "execute_result"
				}
			],
			"source": [
				"coef_ = model.coef_\n",
				"coef_ = np.append(coef_, model.intercept_)\n",
				"coef_ = np.array(coef_).flatten()\n",
				"dfo = pd.DataFrame(coef_)\n",
				"col = list(dfx.columns)\n",
				"col.append(\"intercept\")\n",
				"dfo.index = col\n",
				"dfo = dfo.T\n",
				"dfo.index = [\"判別係数\"]\n",
				"dfo"
			]
		},
		{
			"cell_type": "markdown",
			"metadata": {
				"id": "codDor3pQyQ7"
			},
			"source": [
				"# 数量化理論Ⅲ類\n",
				"Ⅲ類は一般に因子分析を用いる。技術書によっては主成分分析を用いる。"
			]
		},
		{
			"cell_type": "code",
			"execution_count": null,
			"metadata": {
				"id": "VwZSvFcFQyQ7"
			},
			"outputs": [],
			"source": [
				"dfx = df_dum[[\"天気_晴\", \"天気_曇\", \"天気_雨\", \"風_強\", \"ゴルフ_する\"]]\n",
				"x = dfx.values"
			]
		},
		{
			"cell_type": "code",
			"execution_count": null,
			"metadata": {
				"id": "IIpvtyK3QyQ8",
				"outputId": "fe6f98c6-1463-4c87-9d37-d7962557a4d9"
			},
			"outputs": [
				{
					"data": {
						"text/plain": [
							"FactorAnalysis(n_components=2)"
						]
					},
					"execution_count": 29,
					"metadata": {},
					"output_type": "execute_result"
				}
			],
			"source": [
				"model = FA(n_components=2)\n",
				"model.fit(x)"
			]
		},
		{
			"cell_type": "code",
			"execution_count": null,
			"metadata": {
				"id": "wRqDX27yQyQ9",
				"outputId": "35ddf694-0682-4b71-a8ca-35a08e4844ac"
			},
			"outputs": [
				{
					"data": {
						"image/png": "[encoded data removed]",
						"text/plain": [
							"<Figure size 432x288 with 1 Axes>"
						]
					},
					"metadata": {
						"needs_background": "light"
					},
					"output_type": "display_data"
				},
				{
					"data": {
						"text/plain": [
							"array([[ 1.18321596e+00, -6.32455532e-01],\n",
							"       [ 1.18321596e+00, -6.32455532e-01],\n",
							"       [-3.44928535e-12,  1.58113883e+00],\n",
							"       [-1.18321596e+00, -6.32455532e-01],\n",
							"       [-1.18321596e+00, -6.32455532e-01],\n",
							"       [-1.18321596e+00, -6.32455532e-01],\n",
							"       [-3.44928535e-12,  1.58113883e+00],\n",
							"       [ 1.18321596e+00, -6.32455532e-01],\n",
							"       [ 1.18321596e+00, -6.32455532e-01],\n",
							"       [-1.18321596e+00, -6.32455532e-01],\n",
							"       [ 1.18321596e+00, -6.32455532e-01],\n",
							"       [-3.44928535e-12,  1.58113883e+00],\n",
							"       [-3.44928535e-12,  1.58113883e+00],\n",
							"       [-1.18321596e+00, -6.32455532e-01]])"
						]
					},
					"execution_count": 31,
					"metadata": {},
					"output_type": "execute_result"
				}
			],
			"source": [
				"tx = model.transform(x)\n",
				"plt.scatter(tx[:, 0], tx[:, 1], c=dfx[\"ゴルフ_する\"], cmap=\"brg\")\n",
				"plt.show()\n",
				"tx"
			]
		},
		{
			"cell_type": "code",
			"execution_count": null,
			"metadata": {
				"id": "sVFUJ19UQyQ9"
			},
			"outputs": [],
			"source": [
				""
			]
		}
	],
	"metadata": {
		"kernelspec": {
			"display_name": "Python 3",
			"language": "python",
			"name": "python3"
		},
		"language_info": {
			"codemirror_mode": {
				"name": "ipython",
				"version": 3
			},
			"file_extension": ".py",
			"mimetype": "text/x-python",
			"name": "python",
			"nbconvert_exporter": "python",
			"pygments_lexer": "ipython3",
			"version": "3.7.1"
		},
		"colab": {
			"name": "suryoka.ipynb",
			"provenance": [],
			"collapsed_sections": []
		}
	},
	"nbformat": 4,
	"nbformat_minor": 0
}
