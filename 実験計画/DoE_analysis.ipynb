{
 "cells": [
  {
   "cell_type": "markdown",
   "metadata": {},
   "source": [
    "# 実験計画(Design of Experiments)\n",
    "基本的にリソースが有限である化学・材質・バイオ関係の研究では試薬や材料を使える回数が限られる。そこで、直行表を使うことで少ない回数の実験で有効的な知見を得る必要がある。今回は典型例として各2水準で3因子の場合のL8で行う。\n",
    "\n",
    "ここでは、鍋の材質、塩の有無、蓋の有無で沸騰までの時間にどれだけ効果が変わるかを測定するため、5分間加熱した時の温度変化を効果量とする。\n",
    "\n",
    "データは以下から\n",
    "\n",
    "https://econoshift.com/ja/doe_basics/\n",
    "## ライブラリのインポート"
   ]
  },
  {
   "cell_type": "code",
   "execution_count": 1,
   "metadata": {},
   "outputs": [],
   "source": [
    "import pandas as pd\n",
    "import numpy as np\n",
    "import matplotlib.pyplot as plt"
   ]
  },
  {
   "cell_type": "markdown",
   "metadata": {},
   "source": [
    "## データの読み込み\n",
    "このデータはTSV形式(CSVと異なりカンマではなくタブ区切り)となっているため引数に注意"
   ]
  },
  {
   "cell_type": "code",
   "execution_count": 2,
   "metadata": {},
   "outputs": [
    {
     "data": {
      "text/html": [
       "<div>\n",
       "<style scoped>\n",
       "    .dataframe tbody tr th:only-of-type {\n",
       "        vertical-align: middle;\n",
       "    }\n",
       "\n",
       "    .dataframe tbody tr th {\n",
       "        vertical-align: top;\n",
       "    }\n",
       "\n",
       "    .dataframe thead th {\n",
       "        text-align: right;\n",
       "    }\n",
       "</style>\n",
       "<table border=\"1\" class=\"dataframe\">\n",
       "  <thead>\n",
       "    <tr style=\"text-align: right;\">\n",
       "      <th></th>\n",
       "      <th>material</th>\n",
       "      <th>salt</th>\n",
       "      <th>lid</th>\n",
       "      <th>temp</th>\n",
       "    </tr>\n",
       "  </thead>\n",
       "  <tbody>\n",
       "    <tr>\n",
       "      <th>0</th>\n",
       "      <td>stainless</td>\n",
       "      <td>no</td>\n",
       "      <td>no</td>\n",
       "      <td>75.9</td>\n",
       "    </tr>\n",
       "    <tr>\n",
       "      <th>1</th>\n",
       "      <td>stainless</td>\n",
       "      <td>no</td>\n",
       "      <td>yes</td>\n",
       "      <td>76.4</td>\n",
       "    </tr>\n",
       "    <tr>\n",
       "      <th>2</th>\n",
       "      <td>stainless</td>\n",
       "      <td>yes</td>\n",
       "      <td>no</td>\n",
       "      <td>63.1</td>\n",
       "    </tr>\n",
       "    <tr>\n",
       "      <th>3</th>\n",
       "      <td>stainless</td>\n",
       "      <td>yes</td>\n",
       "      <td>yes</td>\n",
       "      <td>71.9</td>\n",
       "    </tr>\n",
       "    <tr>\n",
       "      <th>4</th>\n",
       "      <td>iron</td>\n",
       "      <td>no</td>\n",
       "      <td>no</td>\n",
       "      <td>57.5</td>\n",
       "    </tr>\n",
       "    <tr>\n",
       "      <th>5</th>\n",
       "      <td>iron</td>\n",
       "      <td>no</td>\n",
       "      <td>yes</td>\n",
       "      <td>69.1</td>\n",
       "    </tr>\n",
       "    <tr>\n",
       "      <th>6</th>\n",
       "      <td>iron</td>\n",
       "      <td>yes</td>\n",
       "      <td>no</td>\n",
       "      <td>34.8</td>\n",
       "    </tr>\n",
       "    <tr>\n",
       "      <th>7</th>\n",
       "      <td>iron</td>\n",
       "      <td>yes</td>\n",
       "      <td>yes</td>\n",
       "      <td>63.9</td>\n",
       "    </tr>\n",
       "  </tbody>\n",
       "</table>\n",
       "</div>"
      ],
      "text/plain": [
       "    material salt  lid  temp\n",
       "0  stainless   no   no  75.9\n",
       "1  stainless   no  yes  76.4\n",
       "2  stainless  yes   no  63.1\n",
       "3  stainless  yes  yes  71.9\n",
       "4       iron   no   no  57.5\n",
       "5       iron   no  yes  69.1\n",
       "6       iron  yes   no  34.8\n",
       "7       iron  yes  yes  63.9"
      ]
     },
     "execution_count": 2,
     "metadata": {},
     "output_type": "execute_result"
    }
   ],
   "source": [
    "df = pd.read_csv(\"doe_sample.csv\", sep=\"\\t\")\n",
    "df"
   ]
  },
  {
   "cell_type": "markdown",
   "metadata": {},
   "source": [
    "### 因子と水準ごとの分布を格納"
   ]
  },
  {
   "cell_type": "code",
   "execution_count": 3,
   "metadata": {},
   "outputs": [],
   "source": [
    "columns = [\"material\", \"salt\", \"lid\"]\n",
    "vals = []\n",
    "name1 = []\n",
    "cnt = []\n",
    "count = 0\n",
    "for col in columns:\n",
    "    tmp = []\n",
    "    name = []\n",
    "    tmpc = []\n",
    "    value = list(set(df[col].values))\n",
    "    for val in value:\n",
    "        df_q = df.query(\"%s=='%s'\"%(col, val))\n",
    "        tmp.append(df_q[\"temp\"].values.tolist())\n",
    "        name.append(col+\"_\"+str(val))\n",
    "        tmpc.append(count)\n",
    "        count = count + 1\n",
    "    vals.append(tmp)\n",
    "    name1.append(name)\n",
    "    cnt.append(tmpc)"
   ]
  },
  {
   "cell_type": "markdown",
   "metadata": {},
   "source": [
    "### 各因子の分布と平均値を可視化\n",
    "箱ひげ図で各因子の分布を可視化して折れ線グラフで各因子の平均値を可視化する。ここで全ての因子は評価値が沸騰までの時間であるため単位が統一されており、折れ線グラフの勾配が大きい(平均値の差:DID)ほど効果量の違いが明確になる。"
   ]
  },
  {
   "cell_type": "code",
   "execution_count": 4,
   "metadata": {},
   "outputs": [
    {
     "data": {
      "image/png": "[encoded data removed]",
      "text/plain": [
       "<Figure size 432x288 with 1 Axes>"
      ]
     },
     "metadata": {
      "needs_background": "light"
     },
     "output_type": "display_data"
    }
   ],
   "source": [
    "count = 0\n",
    "for i in range(len(vals)):\n",
    "    plt.boxplot(vals[i], positions=cnt[i], labels=name1[i])\n",
    "    ave = []\n",
    "    for j in range(len(vals[i])):\n",
    "        ave.append(sum(vals[i][j])/len(vals[i][j]))\n",
    "    plt.plot(cnt[i], ave, marker=\"x\")\n",
    "plt.xticks(rotation=45)\n",
    "plt.show()"
   ]
  },
  {
   "cell_type": "markdown",
   "metadata": {},
   "source": [
    "この結果からステンレス製にして塩は無く蓋はあった方が5分間での温度上昇が大きい傾向がある。また、因子別の効果量としては勾配から材質である鉄とステンレスが最も効果量があると考えられる。"
   ]
  },
  {
   "cell_type": "code",
   "execution_count": null,
   "metadata": {},
   "outputs": [],
   "source": []
  }
 ],
 "metadata": {
  "kernelspec": {
   "display_name": "Python 3",
   "language": "python",
   "name": "python3"
  },
  "language_info": {
   "codemirror_mode": {
    "name": "ipython",
    "version": 3
   },
   "file_extension": ".py",
   "mimetype": "text/x-python",
   "name": "python",
   "nbconvert_exporter": "python",
   "pygments_lexer": "ipython3",
   "version": "3.7.1"
  }
 },
 "nbformat": 4,
 "nbformat_minor": 2
}
