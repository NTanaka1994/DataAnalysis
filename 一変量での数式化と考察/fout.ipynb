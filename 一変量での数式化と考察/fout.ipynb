{
 "cells": [
  {
   "cell_type": "markdown",
   "metadata": {
    "id": "mKjoKFL6T9nU"
   },
   "source": [
    "# 一変数での数式化と考察\n",
    "高等教育レベルの物理理論や化学理論などがまさしくそうだが、1変数に対して公式が存在する。その見つけ方については散布図を作成してそれっぽい線を引けばおおよその主張はできるが厳密な事を考えると多項式によって係数と切片を数値化する必要がある。そこで統計的学で多く使用される最小二乗法を用いた単回帰および多項式回帰を行う。\n",
    "\n",
    "# ライブラリのインポート"
   ]
  },
  {
   "cell_type": "code",
   "execution_count": 1,
   "metadata": {
    "id": "swcvKqJQJh84"
   },
   "outputs": [],
   "source": [
    "from sklearn.linear_model import LinearRegression as LR\n",
    "from sklearn.linear_model import Ridge,Lasso\n",
    "from sklearn.preprocessing import PolynomialFeatures\n",
    "from sklearn.compose import TransformedTargetRegressor\n",
    "from sklearn.preprocessing import FunctionTransformer\n",
    "from sklearn.metrics import mean_squared_error\n",
    "import matplotlib.pyplot as plt\n",
    "import numpy as np"
   ]
  },
  {
   "cell_type": "markdown",
   "metadata": {
    "id": "-VMTtsnUUtsK"
   },
   "source": [
    "# 線形の数式を算出する場合\n",
    "ここでは線形の数式を作成するために単回帰分析を行う。使用する式は垂直投射である。"
   ]
  },
  {
   "cell_type": "code",
   "execution_count": 2,
   "metadata": {
    "colab": {
     "base_uri": "https://localhost:8080/",
     "height": 299
    },
    "executionInfo": {
     "elapsed": 1271,
     "status": "ok",
     "timestamp": 1649814196143,
     "user": {
      "displayName": "田中直哉",
      "userId": "04823463265793038392"
     },
     "user_tz": -540
    },
    "id": "4W5g8GYnK2Gu",
    "outputId": "8537c820-de68-45c3-8e36-c6f85f30e258"
   },
   "outputs": [
    {
     "data": {
      "image/png": "[encoded data removed]",
      "text/plain": [
       "<Figure size 432x288 with 1 Axes>"
      ]
     },
     "metadata": {
      "needs_background": "light"
     },
     "output_type": "display_data"
    },
    {
     "name": "stdout",
     "output_type": "stream",
     "text": [
      "v=14+8.66t\n"
     ]
    }
   ],
   "source": [
    "np.random.seed(0)\n",
    "t = np.linspace(0, 10, 20).reshape(-1, 1)\n",
    "g = 9.8\n",
    "v0 = 3\n",
    "v = v0 + g * t\n",
    "v = v + np.random.normal(loc=0, scale=10, size=(len(v), 1))\n",
    "model = LR()\n",
    "model.fit(t, v)\n",
    "y_pred = model.predict(t)\n",
    "plt.scatter(t, v)\n",
    "plt.plot(t, y_pred)\n",
    "plt.title(\"RMSE=%.2f\"%(np.sqrt(mean_squared_error(v,y_pred))))\n",
    "plt.show()\n",
    "if model.coef_ >= 0:\n",
    "    print(\"v=%2.f+%.2ft\"%(model.intercept_, model.coef_))\n",
    "else:\n",
    "    print(\"v=%2.f%.2ft\"%(model.intercept_, model.coef_))"
   ]
  },
  {
   "cell_type": "markdown",
   "metadata": {
    "id": "pNWF8O4TVTYM"
   },
   "source": [
    "# 多項式の数式を算出する場合\n",
    "ここでは非線形である数式の算出として多項式回帰を行う。使用する式は運動エネルギーである。"
   ]
  },
  {
   "cell_type": "code",
   "execution_count": 3,
   "metadata": {
    "colab": {
     "base_uri": "https://localhost:8080/",
     "height": 299
    },
    "executionInfo": {
     "elapsed": 70,
     "status": "ok",
     "timestamp": 1649814196150,
     "user": {
      "displayName": "田中直哉",
      "userId": "04823463265793038392"
     },
     "user_tz": -540
    },
    "id": "Jfbaqke3MEkG",
    "outputId": "94eb7af6-19b3-4a3a-e128-f9840eb06333"
   },
   "outputs": [
    {
     "data": {
      "image/png": "[encoded data removed]",
      "text/plain": [
       "<Figure size 432x288 with 1 Axes>"
      ]
     },
     "metadata": {
      "needs_background": "light"
     },
     "output_type": "display_data"
    },
    {
     "name": "stdout",
     "output_type": "stream",
     "text": [
      "E=+0.87v^1+4.92v^2-1.50\n"
     ]
    }
   ],
   "source": [
    "v = np.linspace(0, 10, 20).reshape(-1, 1)\n",
    "m = 10\n",
    "E = (m * v * v) / 2\n",
    "E = E + np.random.normal(loc=0, scale=3, size=(len(E), 1))\n",
    "poly2 = PolynomialFeatures(degree=2)\n",
    "v_poly = poly2.fit_transform(v)\n",
    "model = LR()\n",
    "model.fit(v_poly, E)\n",
    "y_pred = model.predict(v_poly)\n",
    "plt.scatter(v, E)\n",
    "plt.plot(v, y_pred)\n",
    "plt.title(\"RMSE=%.2f\"%(np.sqrt(mean_squared_error(E,y_pred))))\n",
    "plt.show()\n",
    "for i in range(len(model.coef_[0])):\n",
    "    if i == 0:\n",
    "        print(\"E=\", end=\"\")\n",
    "    else:\n",
    "        if model.coef_[0][i] >= 0:\n",
    "            print(\"+%.2fv^%d\"%(model.coef_[0][i], i), end=\"\")\n",
    "        else:\n",
    "            print(\"%.2fv^%d\"%(model.coef_[0][i], i), end=\"\")\n",
    "if model.intercept_[0] >= 0:\n",
    "    print(\"+%.2f\"%(model.intercept_[0]))\n",
    "else:\n",
    "    print(\"%.2f\"%(model.intercept_[0]))"
   ]
  },
  {
   "cell_type": "markdown",
   "metadata": {
    "id": "VrMws3NKKN32"
   },
   "source": [
    "# 正則化\n",
    "ここまでは非常に簡単な分布であったため散布図を見ただけで立式化が分かるものであったが、実際には多項式回帰で分かりやすい分布は多いとは言えない。しかし下手に項数を増やすと過剰適合(過学習)してしまうため正則化を行い過学習を防ぐ。\n",
    "\n",
    "ここでは多項式回帰で50次式作成して線形回帰の方では過剰適合させる。それに対してLasso回帰で過剰適合を抑えるところが確認できる。正則化の仕組みとしては学習して生成された式に罰則項を作成して学習パラメータ(係数)を抑える。Lasso回帰では罰則項に絶対値を用いる。他の正則化としてRidge回帰では罰則項に各係数の2乗を用いる。"
   ]
  },
  {
   "cell_type": "code",
   "execution_count": 4,
   "metadata": {
    "colab": {
     "base_uri": "https://localhost:8080/",
     "height": 265
    },
    "executionInfo": {
     "elapsed": 63,
     "status": "ok",
     "timestamp": 1649814196152,
     "user": {
      "displayName": "田中直哉",
      "userId": "04823463265793038392"
     },
     "user_tz": -540
    },
    "id": "M8PO_dZPa9j3",
    "outputId": "ed70729f-7779-4156-80e8-607cf9026813"
   },
   "outputs": [
    {
     "data": {
      "image/png": "[encoded data removed]",
      "text/plain": [
       "<Figure size 432x288 with 1 Axes>"
      ]
     },
     "metadata": {
      "needs_background": "light"
     },
     "output_type": "display_data"
    }
   ],
   "source": [
    "x = np.linspace(0, 10, 50).reshape(-1, 1)\n",
    "y = np.cos(x) + np.random.normal(loc=0, scale=0.25, size=(len(x), 1))\n",
    "plt.scatter(x, y)\n",
    "plt.show()"
   ]
  },
  {
   "cell_type": "code",
   "execution_count": 5,
   "metadata": {
    "colab": {
     "base_uri": "https://localhost:8080/",
     "height": 323
    },
    "executionInfo": {
     "elapsed": 62,
     "status": "ok",
     "timestamp": 1649814196154,
     "user": {
      "displayName": "田中直哉",
      "userId": "04823463265793038392"
     },
     "user_tz": -540
    },
    "id": "zz6Bgl9pLiF5",
    "outputId": "a99e7ab3-865e-4646-d3c5-a994d50431d7"
   },
   "outputs": [
    {
     "name": "stderr",
     "output_type": "stream",
     "text": [
      "C:\\Users\\decar\\AppData\\Roaming\\Python\\Python37\\site-packages\\sklearn\\linear_model\\_coordinate_descent.py:532: ConvergenceWarning: Objective did not converge. You might want to increase the number of iterations. Duality gap: 2.710092142583061, tolerance: 0.002606587125744465\n",
      "  positive)\n"
     ]
    },
    {
     "data": {
      "image/png": "[encoded data removed]",
      "text/plain": [
       "<Figure size 432x288 with 1 Axes>"
      ]
     },
     "metadata": {
      "needs_background": "light"
     },
     "output_type": "display_data"
    }
   ],
   "source": [
    "poly = PolynomialFeatures(degree=50)\n",
    "x_poly = poly.fit_transform(x)\n",
    "model1 = LR()\n",
    "model1.fit(x_poly, y)\n",
    "y_pred_Linear = model1.predict(x_poly)\n",
    "model2 = Lasso(alpha=0.001)\n",
    "model2.fit(x_poly, y)\n",
    "y_pred_Lasso = model2.predict(x_poly)\n",
    "plt.plot(x,y_pred_Linear, label=\"Linear\", color=\"#00FF00\")\n",
    "plt.plot(x,y_pred_Lasso, label=\"Lasso\", color=\"#0000FF\")\n",
    "plt.scatter(x, y, color=\"#FF0000\")\n",
    "plt.legend()\n",
    "plt.show()"
   ]
  },
  {
   "cell_type": "markdown",
   "metadata": {
    "id": "UfmrW8Y1VobB"
   },
   "source": [
    "# 係数の確認\n",
    "Lasso回帰で過剰適合が抑えられることが分かった。そこで係数に注目する。極値の数は一回微分した時の最高次数に影響されるため係数の配列を出力して最後の方の数値に着目するとどの程度過剰適合が抑えられたかが分かる。\n",
    "\n",
    "線形回帰の場合"
   ]
  },
  {
   "cell_type": "code",
   "execution_count": 6,
   "metadata": {
    "colab": {
     "base_uri": "https://localhost:8080/"
    },
    "executionInfo": {
     "elapsed": 56,
     "status": "ok",
     "timestamp": 1649814196155,
     "user": {
      "displayName": "田中直哉",
      "userId": "04823463265793038392"
     },
     "user_tz": -540
    },
    "id": "fqtRsan2Um5N",
    "outputId": "200fc9d2-816c-4cbd-da0f-8195cedf397e"
   },
   "outputs": [
    {
     "data": {
      "text/plain": [
       "array([ 4.17641920e-37,  1.29310658e-36, -2.90287946e-36,  8.12427253e-37,\n",
       "       -1.71596093e-37,  7.43835325e-38,  3.29404276e-36, -1.43165210e-37,\n",
       "       -2.07433675e-36, -9.23857957e-36,  4.61029862e-36,  1.55914781e-35,\n",
       "        4.32170859e-35,  1.79858128e-37,  1.81008312e-37, -4.60582171e-37,\n",
       "        6.06227645e-55,  4.00043205e-54,  2.65219725e-53,  1.75114399e-52,\n",
       "        1.15043577e-51,  7.51311958e-51,  4.87266519e-50,  3.13503352e-49,\n",
       "        1.99870831e-48,  1.26107730e-47,  7.86342515e-47,  4.83812501e-46,\n",
       "        2.93198766e-45,  1.74652858e-44,  1.02019181e-43,  5.82722527e-43,\n",
       "        3.24386822e-42,  1.75279217e-41,  9.14760837e-41,  4.58246174e-40,\n",
       "        2.18605764e-39,  9.82849804e-39,  4.10662447e-38,  1.56349897e-37,\n",
       "        5.26811393e-37,  1.49953584e-36,  3.31777476e-36,  4.74349563e-36,\n",
       "        2.02916752e-36, -2.74593148e-36,  8.82441602e-37, -1.37593723e-37,\n",
       "        1.16526051e-38, -5.17259237e-40,  9.47050224e-42])"
      ]
     },
     "execution_count": 6,
     "metadata": {},
     "output_type": "execute_result"
    }
   ],
   "source": [
    "model1.coef_[0]"
   ]
  },
  {
   "cell_type": "markdown",
   "metadata": {
    "id": "a-Flw6uHWXdl"
   },
   "source": [
    "Lasso回帰の場合"
   ]
  },
  {
   "cell_type": "code",
   "execution_count": 7,
   "metadata": {
    "colab": {
     "base_uri": "https://localhost:8080/"
    },
    "executionInfo": {
     "elapsed": 53,
     "status": "ok",
     "timestamp": 1649814196156,
     "user": {
      "displayName": "田中直哉",
      "userId": "04823463265793038392"
     },
     "user_tz": -540
    },
    "id": "RMRicGfpVYVl",
    "outputId": "89a2648b-63d8-44d2-fe28-e59530ee707b"
   },
   "outputs": [
    {
     "data": {
      "text/plain": [
       "array([ 0.00000000e+00, -1.70602889e+00,  3.42914019e-01, -5.70163637e-04,\n",
       "       -1.21611852e-03, -1.11762637e-04, -6.80862222e-06, -2.61337123e-07,\n",
       "        4.11459445e-09,  2.23366258e-09,  3.11100116e-10,  3.33529315e-11,\n",
       "        3.15012361e-12,  2.73538032e-13,  2.21460346e-14,  1.66787364e-15,\n",
       "        1.14403683e-16,  6.70498752e-18,  2.60480724e-19, -8.18440790e-21,\n",
       "       -3.57825960e-21, -5.71979358e-22, -7.30440196e-23, -8.39983183e-24,\n",
       "       -9.07416380e-25, -9.39225946e-26, -9.41384041e-27, -9.19261049e-28,\n",
       "       -8.77602798e-29, -8.20546761e-30, -7.51660256e-31, -6.73989744e-32,\n",
       "       -5.90114336e-33, -5.02199315e-34, -4.12047220e-35, -3.21145178e-36,\n",
       "       -2.30707860e-37, -1.41715942e-38, -5.49501465e-40,  2.89788501e-41,\n",
       "        1.09604308e-41,  1.86580749e-42,  2.59664347e-43,  3.28696016e-44,\n",
       "        3.93586894e-45,  4.54305892e-46,  5.10869061e-47,  5.63330540e-48,\n",
       "        6.11774851e-49,  6.56310377e-50,  6.97063863e-51])"
      ]
     },
     "execution_count": 7,
     "metadata": {},
     "output_type": "execute_result"
    }
   ],
   "source": [
    "model2.coef_"
   ]
  },
  {
   "cell_type": "markdown",
   "metadata": {
    "id": "KaZEL-8SsszT"
   },
   "source": [
    "# 対数グラフを用いる場合\n",
    "電磁気系などで実際に対数グラフを用いて近似曲線を描くことがある。コーディングの手法として片対数グラフ(目的変数が対数)の場合と両対数(説明変数・目的変数とも対数)によって書きかたを分ける必要がある。\n",
    "\n",
    "# 片対数グラフ\n",
    "データの参考：https://slidesplayer.net/slide/11539427/\n",
    "\n",
    "R-C回路における電荷量の時間による変化"
   ]
  },
  {
   "cell_type": "code",
   "execution_count": 8,
   "metadata": {
    "colab": {
     "base_uri": "https://localhost:8080/",
     "height": 265
    },
    "executionInfo": {
     "elapsed": 49,
     "status": "ok",
     "timestamp": 1649814196157,
     "user": {
      "displayName": "田中直哉",
      "userId": "04823463265793038392"
     },
     "user_tz": -540
    },
    "id": "IqWWKwd_F2mW",
    "outputId": "0a9ba746-d5d9-4765-82a0-302e2b9e60a4"
   },
   "outputs": [
    {
     "data": {
      "image/png": "[encoded data removed]",
      "text/plain": [
       "<Figure size 432x288 with 1 Axes>"
      ]
     },
     "metadata": {
      "needs_background": "light"
     },
     "output_type": "display_data"
    }
   ],
   "source": [
    "t = np.linspace(0, 100, 11).reshape(-1, 1)\n",
    "Q = np.array([1.5, 0.91, 0.552, 0.335, 0.203, 0.123, 0.0747, 0.0453, 0.0275, 0.0167, 0.0101])\n",
    "plt.scatter(t, Q)\n",
    "plt.grid(which=\"both\")\n",
    "plt.show()"
   ]
  },
  {
   "cell_type": "markdown",
   "metadata": {
    "id": "tKrmh9FjttJD"
   },
   "source": [
    "縦軸を対数にして線形になることを確認"
   ]
  },
  {
   "cell_type": "code",
   "execution_count": 9,
   "metadata": {
    "colab": {
     "base_uri": "https://localhost:8080/",
     "height": 265
    },
    "executionInfo": {
     "elapsed": 1301,
     "status": "ok",
     "timestamp": 1649814197411,
     "user": {
      "displayName": "田中直哉",
      "userId": "04823463265793038392"
     },
     "user_tz": -540
    },
    "id": "XM8jMumHqQJg",
    "outputId": "8c47b9e5-dde3-4726-f14c-62e6c9128a60"
   },
   "outputs": [
    {
     "data": {
      "image/png": "[encoded data removed]",
      "text/plain": [
       "<Figure size 432x288 with 1 Axes>"
      ]
     },
     "metadata": {
      "needs_background": "light"
     },
     "output_type": "display_data"
    }
   ],
   "source": [
    "plt.scatter(t, Q)\n",
    "plt.yscale(\"log\")\n",
    "plt.ylim(min(Q), max(Q))\n",
    "plt.grid(which=\"both\")\n",
    "plt.show()"
   ]
  },
  {
   "cell_type": "markdown",
   "metadata": {
    "id": "XQhyqq43t0-N"
   },
   "source": [
    "# 片対数グラフとして回帰"
   ]
  },
  {
   "cell_type": "code",
   "execution_count": 10,
   "metadata": {
    "colab": {
     "base_uri": "https://localhost:8080/",
     "height": 265
    },
    "executionInfo": {
     "elapsed": 37,
     "status": "ok",
     "timestamp": 1649814197415,
     "user": {
      "displayName": "田中直哉",
      "userId": "04823463265793038392"
     },
     "user_tz": -540
    },
    "id": "r2YVpAiJlS-o",
    "outputId": "7af7de2e-4cb9-49e2-b4c1-b89e881fc80c"
   },
   "outputs": [
    {
     "data": {
      "image/png": "[encoded data removed]",
      "text/plain": [
       "<Figure size 432x288 with 1 Axes>"
      ]
     },
     "metadata": {
      "needs_background": "light"
     },
     "output_type": "display_data"
    }
   ],
   "source": [
    "model = TransformedTargetRegressor(regressor=LR(), func=np.log, inverse_func=np.exp)\n",
    "model.fit(t, Q)\n",
    "y_pred = model.predict(t)\n",
    "plt.scatter(t, Q)\n",
    "plt.plot(t, y_pred)\n",
    "plt.grid(which=\"both\")\n",
    "plt.show()"
   ]
  },
  {
   "cell_type": "code",
   "execution_count": 11,
   "metadata": {
    "colab": {
     "base_uri": "https://localhost:8080/",
     "height": 265
    },
    "executionInfo": {
     "elapsed": 37,
     "status": "ok",
     "timestamp": 1649814197419,
     "user": {
      "displayName": "田中直哉",
      "userId": "04823463265793038392"
     },
     "user_tz": -540
    },
    "id": "paaLFU1irCu_",
    "outputId": "1b78f475-c1bd-4b3b-91b1-855b734ff96a"
   },
   "outputs": [
    {
     "data": {
      "image/png": "[encoded data removed]",
      "text/plain": [
       "<Figure size 432x288 with 1 Axes>"
      ]
     },
     "metadata": {
      "needs_background": "light"
     },
     "output_type": "display_data"
    }
   ],
   "source": [
    "plt.scatter(t, Q)\n",
    "plt.plot(t, y_pred)\n",
    "plt.yscale(\"log\")\n",
    "plt.grid(which=\"both\")\n",
    "plt.show()"
   ]
  },
  {
   "cell_type": "markdown",
   "metadata": {
    "id": "UE9GDv3FuA1m"
   },
   "source": [
    "# 両対数グラフ\n",
    "データの参考：https://slidesplayer.net/slide/11539427/\n",
    "\n",
    "員過電圧と電極に働く力の関係"
   ]
  },
  {
   "cell_type": "code",
   "execution_count": 12,
   "metadata": {
    "colab": {
     "base_uri": "https://localhost:8080/",
     "height": 265
    },
    "executionInfo": {
     "elapsed": 43,
     "status": "ok",
     "timestamp": 1649814197426,
     "user": {
      "displayName": "田中直哉",
      "userId": "04823463265793038392"
     },
     "user_tz": -540
    },
    "id": "Ai0xAulbmmsA",
    "outputId": "39bbc54f-2294-4365-dd05-e6d6c4455907"
   },
   "outputs": [
    {
     "data": {
      "image/png": "[encoded data removed]",
      "text/plain": [
       "<Figure size 432x288 with 1 Axes>"
      ]
     },
     "metadata": {
      "needs_background": "light"
     },
     "output_type": "display_data"
    }
   ],
   "source": [
    "V=np.array([3, 5, 7, 10, 15, 20, 30, 40, 60, 80, 100])\n",
    "F=np.array([0.4, 1.1, 2.3, 4.5, 9.6, 17, 41, 70, 150, 290, 440])\n",
    "plt.scatter(V, F)\n",
    "plt.grid(which=\"both\")\n",
    "plt.show()"
   ]
  },
  {
   "cell_type": "markdown",
   "metadata": {
    "id": "nCUrjA1GuYQ6"
   },
   "source": [
    "両軸を対数に変換"
   ]
  },
  {
   "cell_type": "code",
   "execution_count": 13,
   "metadata": {
    "colab": {
     "base_uri": "https://localhost:8080/",
     "height": 269
    },
    "executionInfo": {
     "elapsed": 702,
     "status": "ok",
     "timestamp": 1649814198087,
     "user": {
      "displayName": "田中直哉",
      "userId": "04823463265793038392"
     },
     "user_tz": -540
    },
    "id": "0Fjw5sI-p3Zx",
    "outputId": "e6c9715a-d0e7-455f-abdb-fd280c70a305"
   },
   "outputs": [
    {
     "data": {
      "image/png": "[encoded data removed]",
      "text/plain": [
       "<Figure size 432x288 with 1 Axes>"
      ]
     },
     "metadata": {
      "needs_background": "light"
     },
     "output_type": "display_data"
    }
   ],
   "source": [
    "plt.scatter(V, F)\n",
    "plt.xscale(\"log\")\n",
    "plt.yscale(\"log\")\n",
    "plt.grid(which=\"both\")\n",
    "plt.show()"
   ]
  },
  {
   "cell_type": "markdown",
   "metadata": {
    "id": "DhurBXubuqfR"
   },
   "source": [
    "# 両対数グラフとして回帰"
   ]
  },
  {
   "cell_type": "code",
   "execution_count": 14,
   "metadata": {
    "colab": {
     "base_uri": "https://localhost:8080/",
     "height": 265
    },
    "executionInfo": {
     "elapsed": 41,
     "status": "ok",
     "timestamp": 1649814198089,
     "user": {
      "displayName": "田中直哉",
      "userId": "04823463265793038392"
     },
     "user_tz": -540
    },
    "id": "gA32lChuoSFQ",
    "outputId": "ad193882-8640-4544-c5c6-78a5daf4e1fa"
   },
   "outputs": [
    {
     "data": {
      "image/png": "[encoded data removed]",
      "text/plain": [
       "<Figure size 432x288 with 1 Axes>"
      ]
     },
     "metadata": {
      "needs_background": "light"
     },
     "output_type": "display_data"
    }
   ],
   "source": [
    "trans = FunctionTransformer(np.log1p, validate=True)\n",
    "V_trans = trans.transform(V.reshape(-1, 1))\n",
    "V_trans = np.array(V_trans)\n",
    "model = TransformedTargetRegressor(regressor=LR(), func=np.log, inverse_func=np.exp)\n",
    "model.fit(V_trans, F)\n",
    "y_pred = model.predict(V_trans)\n",
    "plt.scatter(V, F)\n",
    "plt.plot(V, y_pred)\n",
    "plt.grid(which=\"both\")\n",
    "plt.show()"
   ]
  },
  {
   "cell_type": "code",
   "execution_count": 15,
   "metadata": {
    "colab": {
     "base_uri": "https://localhost:8080/",
     "height": 269
    },
    "executionInfo": {
     "elapsed": 596,
     "status": "ok",
     "timestamp": 1649814198649,
     "user": {
      "displayName": "田中直哉",
      "userId": "04823463265793038392"
     },
     "user_tz": -540
    },
    "id": "j4Ms2c7LpO8E",
    "outputId": "b2f9dc49-b507-495a-c352-700d1773b003"
   },
   "outputs": [
    {
     "data": {
      "image/png": "[encoded data removed]",
      "text/plain": [
       "<Figure size 432x288 with 1 Axes>"
      ]
     },
     "metadata": {
      "needs_background": "light"
     },
     "output_type": "display_data"
    }
   ],
   "source": [
    "plt.scatter(V, F)\n",
    "plt.plot(V, y_pred)\n",
    "plt.xscale(\"log\")\n",
    "plt.yscale(\"log\")\n",
    "plt.grid(which=\"both\")\n",
    "plt.show()"
   ]
  },
  {
   "cell_type": "markdown",
   "metadata": {
    "id": "jefulcT_mDnM"
   },
   "source": [
    "ここまで対数グラフで回帰を行いそれぞれの対数グラフの目盛りから線形になれば立式化をすることができる。"
   ]
  },
  {
   "cell_type": "code",
   "execution_count": null,
   "metadata": {
    "id": "yhQGKJgglyfQ"
   },
   "outputs": [],
   "source": []
  }
 ],
 "metadata": {
  "colab": {
   "authorship_tag": "ABX9TyMbGCgyNq+8sZkArvIhYTCL",
   "collapsed_sections": [],
   "name": "fout.ipynb",
   "provenance": []
  },
  "kernelspec": {
   "display_name": "Python 3",
   "language": "python",
   "name": "python3"
  },
  "language_info": {
   "codemirror_mode": {
    "name": "ipython",
    "version": 3
   },
   "file_extension": ".py",
   "mimetype": "text/x-python",
   "name": "python",
   "nbconvert_exporter": "python",
   "pygments_lexer": "ipython3",
   "version": "3.7.1"
  }
 },
 "nbformat": 4,
 "nbformat_minor": 1
}
