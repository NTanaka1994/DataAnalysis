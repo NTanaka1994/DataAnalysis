{
 "cells": [
  {
   "cell_type": "markdown",
   "metadata": {},
   "source": [
    "# 精度を意識したモデルの作成\n",
    "機械学習を使って何らかの分析をする場合、基本的に汎化した際のモデルの精度が一つの信頼の指標になる事がある。ここでは、よく使用される最適なモデルの作成方法から力業を紹介する。\n",
    "\n",
    "本項では、SVMについて精度の高いモデルを作成する例を紹介する。\n",
    "\n",
    "## ライブラリのインポート"
   ]
  },
  {
   "cell_type": "code",
   "execution_count": 1,
   "metadata": {},
   "outputs": [],
   "source": [
    "from sklearn.model_selection import train_test_split as tts\n",
    "from sklearn.model_selection import GridSearchCV as gcv\n",
    "from sklearn.model_selection import cross_val_score as cvs\n",
    "from sklearn.tree import DecisionTreeClassifier as DTC\n",
    "from sklearn.metrics import accuracy_score, classification_report\n",
    "from sklearn.svm import SVC\n",
    "import scipy.stats as stats\n",
    "import pandas as pd\n",
    "import numpy as np"
   ]
  },
  {
   "cell_type": "markdown",
   "metadata": {},
   "source": [
    "## データの読み込み"
   ]
  },
  {
   "cell_type": "code",
   "execution_count": 2,
   "metadata": {},
   "outputs": [
    {
     "data": {
      "text/html": [
       "<div>\n",
       "<style scoped>\n",
       "    .dataframe tbody tr th:only-of-type {\n",
       "        vertical-align: middle;\n",
       "    }\n",
       "\n",
       "    .dataframe tbody tr th {\n",
       "        vertical-align: top;\n",
       "    }\n",
       "\n",
       "    .dataframe thead th {\n",
       "        text-align: right;\n",
       "    }\n",
       "</style>\n",
       "<table border=\"1\" class=\"dataframe\">\n",
       "  <thead>\n",
       "    <tr style=\"text-align: right;\">\n",
       "      <th></th>\n",
       "      <th>Wine</th>\n",
       "      <th>Alcohol</th>\n",
       "      <th>Malic.acid</th>\n",
       "      <th>Ash</th>\n",
       "      <th>Acl</th>\n",
       "      <th>Mg</th>\n",
       "      <th>Phenols</th>\n",
       "      <th>Flavanoids</th>\n",
       "      <th>Nonflavanoid.phenols</th>\n",
       "      <th>Proanth</th>\n",
       "      <th>Color.int</th>\n",
       "      <th>Hue</th>\n",
       "      <th>OD</th>\n",
       "      <th>Proline</th>\n",
       "    </tr>\n",
       "  </thead>\n",
       "  <tbody>\n",
       "    <tr>\n",
       "      <th>0</th>\n",
       "      <td>1</td>\n",
       "      <td>13.20</td>\n",
       "      <td>1.78</td>\n",
       "      <td>2.14</td>\n",
       "      <td>11.2</td>\n",
       "      <td>100</td>\n",
       "      <td>2.65</td>\n",
       "      <td>2.76</td>\n",
       "      <td>0.26</td>\n",
       "      <td>1.28</td>\n",
       "      <td>4.38</td>\n",
       "      <td>1.05</td>\n",
       "      <td>3.40</td>\n",
       "      <td>1050</td>\n",
       "    </tr>\n",
       "    <tr>\n",
       "      <th>1</th>\n",
       "      <td>1</td>\n",
       "      <td>13.16</td>\n",
       "      <td>2.36</td>\n",
       "      <td>2.67</td>\n",
       "      <td>18.6</td>\n",
       "      <td>101</td>\n",
       "      <td>2.80</td>\n",
       "      <td>3.24</td>\n",
       "      <td>0.30</td>\n",
       "      <td>2.81</td>\n",
       "      <td>5.68</td>\n",
       "      <td>1.03</td>\n",
       "      <td>3.17</td>\n",
       "      <td>1185</td>\n",
       "    </tr>\n",
       "    <tr>\n",
       "      <th>2</th>\n",
       "      <td>1</td>\n",
       "      <td>14.37</td>\n",
       "      <td>1.95</td>\n",
       "      <td>2.50</td>\n",
       "      <td>16.8</td>\n",
       "      <td>113</td>\n",
       "      <td>3.85</td>\n",
       "      <td>3.49</td>\n",
       "      <td>0.24</td>\n",
       "      <td>2.18</td>\n",
       "      <td>7.80</td>\n",
       "      <td>0.86</td>\n",
       "      <td>3.45</td>\n",
       "      <td>1480</td>\n",
       "    </tr>\n",
       "    <tr>\n",
       "      <th>3</th>\n",
       "      <td>1</td>\n",
       "      <td>13.24</td>\n",
       "      <td>2.59</td>\n",
       "      <td>2.87</td>\n",
       "      <td>21.0</td>\n",
       "      <td>118</td>\n",
       "      <td>2.80</td>\n",
       "      <td>2.69</td>\n",
       "      <td>0.39</td>\n",
       "      <td>1.82</td>\n",
       "      <td>4.32</td>\n",
       "      <td>1.04</td>\n",
       "      <td>2.93</td>\n",
       "      <td>735</td>\n",
       "    </tr>\n",
       "    <tr>\n",
       "      <th>4</th>\n",
       "      <td>1</td>\n",
       "      <td>14.20</td>\n",
       "      <td>1.76</td>\n",
       "      <td>2.45</td>\n",
       "      <td>15.2</td>\n",
       "      <td>112</td>\n",
       "      <td>3.27</td>\n",
       "      <td>3.39</td>\n",
       "      <td>0.34</td>\n",
       "      <td>1.97</td>\n",
       "      <td>6.75</td>\n",
       "      <td>1.05</td>\n",
       "      <td>2.85</td>\n",
       "      <td>1450</td>\n",
       "    </tr>\n",
       "  </tbody>\n",
       "</table>\n",
       "</div>"
      ],
      "text/plain": [
       "   Wine  Alcohol  Malic.acid   Ash   Acl   Mg  Phenols  Flavanoids  \\\n",
       "0     1    13.20        1.78  2.14  11.2  100     2.65        2.76   \n",
       "1     1    13.16        2.36  2.67  18.6  101     2.80        3.24   \n",
       "2     1    14.37        1.95  2.50  16.8  113     3.85        3.49   \n",
       "3     1    13.24        2.59  2.87  21.0  118     2.80        2.69   \n",
       "4     1    14.20        1.76  2.45  15.2  112     3.27        3.39   \n",
       "\n",
       "   Nonflavanoid.phenols  Proanth  Color.int   Hue    OD  Proline  \n",
       "0                  0.26     1.28       4.38  1.05  3.40     1050  \n",
       "1                  0.30     2.81       5.68  1.03  3.17     1185  \n",
       "2                  0.24     2.18       7.80  0.86  3.45     1480  \n",
       "3                  0.39     1.82       4.32  1.04  2.93      735  \n",
       "4                  0.34     1.97       6.75  1.05  2.85     1450  "
      ]
     },
     "execution_count": 2,
     "metadata": {},
     "output_type": "execute_result"
    }
   ],
   "source": [
    "df = pd.read_csv(\"wine.csv\")\n",
    "df.head()"
   ]
  },
  {
   "cell_type": "code",
   "execution_count": 3,
   "metadata": {},
   "outputs": [],
   "source": [
    "y_name = \"Wine\"\n",
    "y = df[y_name].values\n",
    "x_tab = df.drop([y_name], axis=1)\n",
    "x_name = x_tab.columns\n",
    "x = x_tab.values"
   ]
  },
  {
   "cell_type": "code",
   "execution_count": 4,
   "metadata": {},
   "outputs": [],
   "source": [
    "x_train, x_test, y_train, y_test = tts(x, y, test_size=0.3, random_state=0)"
   ]
  },
  {
   "cell_type": "markdown",
   "metadata": {},
   "source": [
    "## グリッドサーチ\n",
    "簡単な機械学習のモデルであればパラメータを指定する必要がないが、機械学習のモデルによってはパラメータを指定してモデルの設計についてを調節することで精度を向上させる。ここでは、SVMのカーネル関数、コスト、ガンマ値についての最適な数値を探索する。"
   ]
  },
  {
   "cell_type": "code",
   "execution_count": 5,
   "metadata": {},
   "outputs": [],
   "source": [
    "param = {\n",
    "    \"kernel\":[\"linear\", \"rbf\", \"poly\", \"sigmoid\"],\n",
    "    \"C\":[10, 1, 0.1],\n",
    "    \"gamma\":[2**-10, 2, 2**5]\n",
    "}"
   ]
  },
  {
   "cell_type": "code",
   "execution_count": 6,
   "metadata": {},
   "outputs": [
    {
     "name": "stdout",
     "output_type": "stream",
     "text": [
      "Fitting 5 folds for each of 36 candidates, totalling 180 fits\n",
      "[CV] END ............C=10, gamma=0.0009765625, kernel=linear; total time=   0.0s\n",
      "[CV] END ............C=10, gamma=0.0009765625, kernel=linear; total time=   0.0s\n",
      "[CV] END ............C=10, gamma=0.0009765625, kernel=linear; total time=   0.0s\n",
      "[CV] END ............C=10, gamma=0.0009765625, kernel=linear; total time=   0.0s\n",
      "[CV] END ............C=10, gamma=0.0009765625, kernel=linear; total time=   0.0s\n",
      "[CV] END ...............C=10, gamma=0.0009765625, kernel=rbf; total time=   0.0s\n",
      "[CV] END ...............C=10, gamma=0.0009765625, kernel=rbf; total time=   0.0s\n",
      "[CV] END ...............C=10, gamma=0.0009765625, kernel=rbf; total time=   0.0s\n",
      "[CV] END ...............C=10, gamma=0.0009765625, kernel=rbf; total time=   0.0s\n",
      "[CV] END ...............C=10, gamma=0.0009765625, kernel=rbf; total time=   0.0s\n",
      "[CV] END ..............C=10, gamma=0.0009765625, kernel=poly; total time=   0.1s\n",
      "[CV] END ..............C=10, gamma=0.0009765625, kernel=poly; total time=   0.0s\n",
      "[CV] END ..............C=10, gamma=0.0009765625, kernel=poly; total time=   0.0s\n",
      "[CV] END ..............C=10, gamma=0.0009765625, kernel=poly; total time=   0.0s\n",
      "[CV] END ..............C=10, gamma=0.0009765625, kernel=poly; total time=   0.0s\n",
      "[CV] END ...........C=10, gamma=0.0009765625, kernel=sigmoid; total time=   0.0s\n",
      "[CV] END ...........C=10, gamma=0.0009765625, kernel=sigmoid; total time=   0.0s\n",
      "[CV] END ...........C=10, gamma=0.0009765625, kernel=sigmoid; total time=   0.0s\n",
      "[CV] END ...........C=10, gamma=0.0009765625, kernel=sigmoid; total time=   0.0s\n",
      "[CV] END ...........C=10, gamma=0.0009765625, kernel=sigmoid; total time=   0.0s\n",
      "[CV] END .......................C=10, gamma=2, kernel=linear; total time=   0.0s\n",
      "[CV] END .......................C=10, gamma=2, kernel=linear; total time=   0.0s\n",
      "[CV] END .......................C=10, gamma=2, kernel=linear; total time=   0.0s\n",
      "[CV] END .......................C=10, gamma=2, kernel=linear; total time=   0.0s\n",
      "[CV] END .......................C=10, gamma=2, kernel=linear; total time=   0.0s\n",
      "[CV] END ..........................C=10, gamma=2, kernel=rbf; total time=   0.0s\n",
      "[CV] END ..........................C=10, gamma=2, kernel=rbf; total time=   0.0s\n",
      "[CV] END ..........................C=10, gamma=2, kernel=rbf; total time=   0.0s\n",
      "[CV] END ..........................C=10, gamma=2, kernel=rbf; total time=   0.0s\n",
      "[CV] END ..........................C=10, gamma=2, kernel=rbf; total time=   0.0s\n",
      "[CV] END .........................C=10, gamma=2, kernel=poly; total time=   0.1s\n",
      "[CV] END .........................C=10, gamma=2, kernel=poly; total time=   0.0s\n",
      "[CV] END .........................C=10, gamma=2, kernel=poly; total time=   0.0s\n",
      "[CV] END .........................C=10, gamma=2, kernel=poly; total time=   0.0s\n",
      "[CV] END .........................C=10, gamma=2, kernel=poly; total time=   0.0s\n",
      "[CV] END ......................C=10, gamma=2, kernel=sigmoid; total time=   0.0s\n",
      "[CV] END ......................C=10, gamma=2, kernel=sigmoid; total time=   0.0s\n",
      "[CV] END ......................C=10, gamma=2, kernel=sigmoid; total time=   0.0s\n",
      "[CV] END ......................C=10, gamma=2, kernel=sigmoid; total time=   0.0s\n",
      "[CV] END ......................C=10, gamma=2, kernel=sigmoid; total time=   0.0s\n",
      "[CV] END ......................C=10, gamma=32, kernel=linear; total time=   0.0s\n",
      "[CV] END ......................C=10, gamma=32, kernel=linear; total time=   0.0s\n",
      "[CV] END ......................C=10, gamma=32, kernel=linear; total time=   0.0s\n",
      "[CV] END ......................C=10, gamma=32, kernel=linear; total time=   0.0s\n",
      "[CV] END ......................C=10, gamma=32, kernel=linear; total time=   0.0s\n",
      "[CV] END .........................C=10, gamma=32, kernel=rbf; total time=   0.0s\n",
      "[CV] END .........................C=10, gamma=32, kernel=rbf; total time=   0.0s\n",
      "[CV] END .........................C=10, gamma=32, kernel=rbf; total time=   0.0s\n",
      "[CV] END .........................C=10, gamma=32, kernel=rbf; total time=   0.0s\n",
      "[CV] END .........................C=10, gamma=32, kernel=rbf; total time=   0.0s\n",
      "[CV] END ........................C=10, gamma=32, kernel=poly; total time=   0.1s\n",
      "[CV] END ........................C=10, gamma=32, kernel=poly; total time=   0.0s\n",
      "[CV] END ........................C=10, gamma=32, kernel=poly; total time=   0.0s\n",
      "[CV] END ........................C=10, gamma=32, kernel=poly; total time=   0.0s\n",
      "[CV] END ........................C=10, gamma=32, kernel=poly; total time=   0.0s\n",
      "[CV] END .....................C=10, gamma=32, kernel=sigmoid; total time=   0.0s\n",
      "[CV] END .....................C=10, gamma=32, kernel=sigmoid; total time=   0.0s\n",
      "[CV] END .....................C=10, gamma=32, kernel=sigmoid; total time=   0.0s\n",
      "[CV] END .....................C=10, gamma=32, kernel=sigmoid; total time=   0.0s\n",
      "[CV] END .....................C=10, gamma=32, kernel=sigmoid; total time=   0.0s\n",
      "[CV] END .............C=1, gamma=0.0009765625, kernel=linear; total time=   0.0s\n",
      "[CV] END .............C=1, gamma=0.0009765625, kernel=linear; total time=   0.0s\n",
      "[CV] END .............C=1, gamma=0.0009765625, kernel=linear; total time=   0.0s\n",
      "[CV] END .............C=1, gamma=0.0009765625, kernel=linear; total time=   0.0s\n",
      "[CV] END .............C=1, gamma=0.0009765625, kernel=linear; total time=   0.0s\n",
      "[CV] END ................C=1, gamma=0.0009765625, kernel=rbf; total time=   0.0s\n",
      "[CV] END ................C=1, gamma=0.0009765625, kernel=rbf; total time=   0.0s\n",
      "[CV] END ................C=1, gamma=0.0009765625, kernel=rbf; total time=   0.0s\n",
      "[CV] END ................C=1, gamma=0.0009765625, kernel=rbf; total time=   0.0s\n",
      "[CV] END ................C=1, gamma=0.0009765625, kernel=rbf; total time=   0.0s\n",
      "[CV] END ...............C=1, gamma=0.0009765625, kernel=poly; total time=   0.1s\n",
      "[CV] END ...............C=1, gamma=0.0009765625, kernel=poly; total time=   0.0s\n",
      "[CV] END ...............C=1, gamma=0.0009765625, kernel=poly; total time=   0.0s\n",
      "[CV] END ...............C=1, gamma=0.0009765625, kernel=poly; total time=   0.0s\n",
      "[CV] END ...............C=1, gamma=0.0009765625, kernel=poly; total time=   0.0s\n",
      "[CV] END ............C=1, gamma=0.0009765625, kernel=sigmoid; total time=   0.0s\n",
      "[CV] END ............C=1, gamma=0.0009765625, kernel=sigmoid; total time=   0.0s\n",
      "[CV] END ............C=1, gamma=0.0009765625, kernel=sigmoid; total time=   0.0s\n",
      "[CV] END ............C=1, gamma=0.0009765625, kernel=sigmoid; total time=   0.0s\n",
      "[CV] END ............C=1, gamma=0.0009765625, kernel=sigmoid; total time=   0.0s\n",
      "[CV] END ........................C=1, gamma=2, kernel=linear; total time=   0.0s\n",
      "[CV] END ........................C=1, gamma=2, kernel=linear; total time=   0.0s\n",
      "[CV] END ........................C=1, gamma=2, kernel=linear; total time=   0.0s\n",
      "[CV] END ........................C=1, gamma=2, kernel=linear; total time=   0.0s\n",
      "[CV] END ........................C=1, gamma=2, kernel=linear; total time=   0.0s\n",
      "[CV] END ...........................C=1, gamma=2, kernel=rbf; total time=   0.0s\n",
      "[CV] END ...........................C=1, gamma=2, kernel=rbf; total time=   0.0s\n",
      "[CV] END ...........................C=1, gamma=2, kernel=rbf; total time=   0.0s\n",
      "[CV] END ...........................C=1, gamma=2, kernel=rbf; total time=   0.0s\n",
      "[CV] END ...........................C=1, gamma=2, kernel=rbf; total time=   0.0s\n",
      "[CV] END ..........................C=1, gamma=2, kernel=poly; total time=   0.1s\n",
      "[CV] END ..........................C=1, gamma=2, kernel=poly; total time=   0.0s\n",
      "[CV] END ..........................C=1, gamma=2, kernel=poly; total time=   0.0s\n",
      "[CV] END ..........................C=1, gamma=2, kernel=poly; total time=   0.0s\n",
      "[CV] END ..........................C=1, gamma=2, kernel=poly; total time=   0.0s\n",
      "[CV] END .......................C=1, gamma=2, kernel=sigmoid; total time=   0.0s\n",
      "[CV] END .......................C=1, gamma=2, kernel=sigmoid; total time=   0.0s\n",
      "[CV] END .......................C=1, gamma=2, kernel=sigmoid; total time=   0.0s\n",
      "[CV] END .......................C=1, gamma=2, kernel=sigmoid; total time=   0.0s\n",
      "[CV] END .......................C=1, gamma=2, kernel=sigmoid; total time=   0.0s\n",
      "[CV] END .......................C=1, gamma=32, kernel=linear; total time=   0.0s\n",
      "[CV] END .......................C=1, gamma=32, kernel=linear; total time=   0.0s\n"
     ]
    },
    {
     "name": "stdout",
     "output_type": "stream",
     "text": [
      "[CV] END .......................C=1, gamma=32, kernel=linear; total time=   0.0s\n",
      "[CV] END .......................C=1, gamma=32, kernel=linear; total time=   0.0s\n",
      "[CV] END .......................C=1, gamma=32, kernel=linear; total time=   0.0s\n",
      "[CV] END ..........................C=1, gamma=32, kernel=rbf; total time=   0.0s\n",
      "[CV] END ..........................C=1, gamma=32, kernel=rbf; total time=   0.0s\n",
      "[CV] END ..........................C=1, gamma=32, kernel=rbf; total time=   0.0s\n",
      "[CV] END ..........................C=1, gamma=32, kernel=rbf; total time=   0.0s\n",
      "[CV] END ..........................C=1, gamma=32, kernel=rbf; total time=   0.0s\n",
      "[CV] END .........................C=1, gamma=32, kernel=poly; total time=   0.1s\n",
      "[CV] END .........................C=1, gamma=32, kernel=poly; total time=   0.0s\n",
      "[CV] END .........................C=1, gamma=32, kernel=poly; total time=   0.0s\n",
      "[CV] END .........................C=1, gamma=32, kernel=poly; total time=   0.0s\n",
      "[CV] END .........................C=1, gamma=32, kernel=poly; total time=   0.0s\n",
      "[CV] END ......................C=1, gamma=32, kernel=sigmoid; total time=   0.0s\n",
      "[CV] END ......................C=1, gamma=32, kernel=sigmoid; total time=   0.0s\n",
      "[CV] END ......................C=1, gamma=32, kernel=sigmoid; total time=   0.0s\n",
      "[CV] END ......................C=1, gamma=32, kernel=sigmoid; total time=   0.0s\n",
      "[CV] END ......................C=1, gamma=32, kernel=sigmoid; total time=   0.0s\n",
      "[CV] END ...........C=0.1, gamma=0.0009765625, kernel=linear; total time=   0.0s\n",
      "[CV] END ...........C=0.1, gamma=0.0009765625, kernel=linear; total time=   0.0s\n",
      "[CV] END ...........C=0.1, gamma=0.0009765625, kernel=linear; total time=   0.0s\n",
      "[CV] END ...........C=0.1, gamma=0.0009765625, kernel=linear; total time=   0.0s\n",
      "[CV] END ...........C=0.1, gamma=0.0009765625, kernel=linear; total time=   0.0s\n",
      "[CV] END ..............C=0.1, gamma=0.0009765625, kernel=rbf; total time=   0.0s\n",
      "[CV] END ..............C=0.1, gamma=0.0009765625, kernel=rbf; total time=   0.0s\n",
      "[CV] END ..............C=0.1, gamma=0.0009765625, kernel=rbf; total time=   0.0s\n",
      "[CV] END ..............C=0.1, gamma=0.0009765625, kernel=rbf; total time=   0.0s\n",
      "[CV] END ..............C=0.1, gamma=0.0009765625, kernel=rbf; total time=   0.0s\n",
      "[CV] END .............C=0.1, gamma=0.0009765625, kernel=poly; total time=   0.1s\n",
      "[CV] END .............C=0.1, gamma=0.0009765625, kernel=poly; total time=   0.0s\n",
      "[CV] END .............C=0.1, gamma=0.0009765625, kernel=poly; total time=   0.0s\n",
      "[CV] END .............C=0.1, gamma=0.0009765625, kernel=poly; total time=   0.0s\n",
      "[CV] END .............C=0.1, gamma=0.0009765625, kernel=poly; total time=   0.0s\n",
      "[CV] END ..........C=0.1, gamma=0.0009765625, kernel=sigmoid; total time=   0.0s\n",
      "[CV] END ..........C=0.1, gamma=0.0009765625, kernel=sigmoid; total time=   0.0s\n",
      "[CV] END ..........C=0.1, gamma=0.0009765625, kernel=sigmoid; total time=   0.0s\n",
      "[CV] END ..........C=0.1, gamma=0.0009765625, kernel=sigmoid; total time=   0.0s\n",
      "[CV] END ..........C=0.1, gamma=0.0009765625, kernel=sigmoid; total time=   0.0s\n",
      "[CV] END ......................C=0.1, gamma=2, kernel=linear; total time=   0.0s\n",
      "[CV] END ......................C=0.1, gamma=2, kernel=linear; total time=   0.0s\n",
      "[CV] END ......................C=0.1, gamma=2, kernel=linear; total time=   0.0s\n",
      "[CV] END ......................C=0.1, gamma=2, kernel=linear; total time=   0.0s\n",
      "[CV] END ......................C=0.1, gamma=2, kernel=linear; total time=   0.0s\n",
      "[CV] END .........................C=0.1, gamma=2, kernel=rbf; total time=   0.0s\n",
      "[CV] END .........................C=0.1, gamma=2, kernel=rbf; total time=   0.0s\n",
      "[CV] END .........................C=0.1, gamma=2, kernel=rbf; total time=   0.0s\n",
      "[CV] END .........................C=0.1, gamma=2, kernel=rbf; total time=   0.0s\n",
      "[CV] END .........................C=0.1, gamma=2, kernel=rbf; total time=   0.0s\n",
      "[CV] END ........................C=0.1, gamma=2, kernel=poly; total time=   0.1s\n",
      "[CV] END ........................C=0.1, gamma=2, kernel=poly; total time=   0.0s\n",
      "[CV] END ........................C=0.1, gamma=2, kernel=poly; total time=   0.0s\n",
      "[CV] END ........................C=0.1, gamma=2, kernel=poly; total time=   0.0s\n",
      "[CV] END ........................C=0.1, gamma=2, kernel=poly; total time=   0.0s\n",
      "[CV] END .....................C=0.1, gamma=2, kernel=sigmoid; total time=   0.0s\n",
      "[CV] END .....................C=0.1, gamma=2, kernel=sigmoid; total time=   0.0s\n",
      "[CV] END .....................C=0.1, gamma=2, kernel=sigmoid; total time=   0.0s\n",
      "[CV] END .....................C=0.1, gamma=2, kernel=sigmoid; total time=   0.0s\n",
      "[CV] END .....................C=0.1, gamma=2, kernel=sigmoid; total time=   0.0s\n",
      "[CV] END .....................C=0.1, gamma=32, kernel=linear; total time=   0.0s\n",
      "[CV] END .....................C=0.1, gamma=32, kernel=linear; total time=   0.0s\n",
      "[CV] END .....................C=0.1, gamma=32, kernel=linear; total time=   0.0s\n",
      "[CV] END .....................C=0.1, gamma=32, kernel=linear; total time=   0.0s\n",
      "[CV] END .....................C=0.1, gamma=32, kernel=linear; total time=   0.0s\n",
      "[CV] END ........................C=0.1, gamma=32, kernel=rbf; total time=   0.0s\n",
      "[CV] END ........................C=0.1, gamma=32, kernel=rbf; total time=   0.0s\n",
      "[CV] END ........................C=0.1, gamma=32, kernel=rbf; total time=   0.0s\n",
      "[CV] END ........................C=0.1, gamma=32, kernel=rbf; total time=   0.0s\n",
      "[CV] END ........................C=0.1, gamma=32, kernel=rbf; total time=   0.0s\n",
      "[CV] END .......................C=0.1, gamma=32, kernel=poly; total time=   0.1s\n",
      "[CV] END .......................C=0.1, gamma=32, kernel=poly; total time=   0.0s\n",
      "[CV] END .......................C=0.1, gamma=32, kernel=poly; total time=   0.0s\n",
      "[CV] END .......................C=0.1, gamma=32, kernel=poly; total time=   0.0s\n",
      "[CV] END .......................C=0.1, gamma=32, kernel=poly; total time=   0.0s\n",
      "[CV] END ....................C=0.1, gamma=32, kernel=sigmoid; total time=   0.0s\n",
      "[CV] END ....................C=0.1, gamma=32, kernel=sigmoid; total time=   0.0s\n",
      "[CV] END ....................C=0.1, gamma=32, kernel=sigmoid; total time=   0.0s\n",
      "[CV] END ....................C=0.1, gamma=32, kernel=sigmoid; total time=   0.0s\n",
      "[CV] END ....................C=0.1, gamma=32, kernel=sigmoid; total time=   0.0s\n"
     ]
    },
    {
     "data": {
      "text/plain": [
       "GridSearchCV(cv=5, estimator=SVC(),\n",
       "             param_grid={'C': [10, 1, 0.1], 'gamma': [0.0009765625, 2, 32],\n",
       "                         'kernel': ['linear', 'rbf', 'poly', 'sigmoid']},\n",
       "             verbose=2)"
      ]
     },
     "execution_count": 6,
     "metadata": {},
     "output_type": "execute_result"
    }
   ],
   "source": [
    "model = gcv(SVC(), param, cv=5, verbose=2)\n",
    "model.fit(x_train, y_train)"
   ]
  },
  {
   "cell_type": "code",
   "execution_count": 7,
   "metadata": {},
   "outputs": [
    {
     "data": {
      "text/plain": [
       "SVC(C=10, gamma=0.0009765625, kernel='linear')"
      ]
     },
     "execution_count": 7,
     "metadata": {},
     "output_type": "execute_result"
    }
   ],
   "source": [
    "model.best_estimator_"
   ]
  },
  {
   "cell_type": "code",
   "execution_count": 8,
   "metadata": {},
   "outputs": [
    {
     "name": "stdout",
     "output_type": "stream",
     "text": [
      "Accuracy Score: 0.93\n",
      "              precision    recall  f1-score   support\n",
      "\n",
      "           1       0.95      0.95      0.95        19\n",
      "           2       0.90      0.90      0.90        21\n",
      "           3       0.93      0.93      0.93        14\n",
      "\n",
      "    accuracy                           0.93        54\n",
      "   macro avg       0.93      0.93      0.93        54\n",
      "weighted avg       0.93      0.93      0.93        54\n",
      "\n"
     ]
    }
   ],
   "source": [
    "model = SVC(C=10, gamma=0.0009765625, kernel=\"linear\")\n",
    "model.fit(x_train, y_train)\n",
    "y_pred = model.predict(x_test)\n",
    "print(\"Accuracy Score: %.2f\"%(accuracy_score(y_test, y_pred)))\n",
    "print(classification_report(y_test, y_pred))"
   ]
  },
  {
   "cell_type": "markdown",
   "metadata": {},
   "source": [
    "## 交差検証\n",
    "交差検証では、データセットについて一部を検証データとして他のデータを学習させて検証データでテストするといった流れを全データで巡回する。"
   ]
  },
  {
   "cell_type": "code",
   "execution_count": 9,
   "metadata": {},
   "outputs": [
    {
     "data": {
      "text/plain": [
       "array([0.96      , 0.92      , 0.96      , 0.96      , 0.91666667])"
      ]
     },
     "execution_count": 9,
     "metadata": {},
     "output_type": "execute_result"
    }
   ],
   "source": [
    "model = SVC(C=10, gamma=0.0009765625, kernel=\"linear\")\n",
    "score = cvs(model, x_train, y_train, cv=5)\n",
    "score"
   ]
  },
  {
   "cell_type": "code",
   "execution_count": 10,
   "metadata": {},
   "outputs": [
    {
     "name": "stdout",
     "output_type": "stream",
     "text": [
      "  mode:0.96\n",
      "median:0.96\n",
      "  mean:0.94\n"
     ]
    }
   ],
   "source": [
    "print(\"  mode:%.2f\"%(stats.mode(score)[0]))\n",
    "print(\"median:%.2f\"%(np.median(score)))\n",
    "print(\"  mean:%.2f\"%(np.mean(score)))"
   ]
  },
  {
   "cell_type": "markdown",
   "metadata": {},
   "source": [
    "## 検証用データの使用\n",
    "本節は非常に力業になるが、あらかじめ検討するモデルを複数作成する。ここで元々の訓練データをさらに訓練データと検証データに毎回ランダムで分けて各モデルに学習させ、モデルと精度(ここでは正解率)をリストに追加していく。最後にリストを精度で降順にして最も精度の高いモデルを選択する。"
   ]
  },
  {
   "cell_type": "code",
   "execution_count": 11,
   "metadata": {},
   "outputs": [],
   "source": [
    "models = []\n",
    "for i in range(50):\n",
    "    x_train2, x_val, y_train2, y_val = tts(x_train, y_train, test_size=0.2, random_state=i)\n",
    "    model1 = SVC(kernel=\"rbf\", C=0.1)\n",
    "    model2 = SVC(kernel=\"linear\", C=0.1)\n",
    "    model3 = SVC(kernel=\"poly\", C=0.1)\n",
    "    model4 = SVC(kernel=\"rbf\", C=10)\n",
    "    model5 = SVC(kernel=\"linear\", C=10)\n",
    "    model6 = SVC(kernel=\"poly\", C=10)\n",
    "    model1.fit(x_train2, y_train2)\n",
    "    model2.fit(x_train2, y_train2)\n",
    "    model3.fit(x_train2, y_train2)\n",
    "    model4.fit(x_train2, y_train2)\n",
    "    model5.fit(x_train2, y_train2)\n",
    "    model6.fit(x_train2, y_train2)\n",
    "    y_pred1 = model1.predict(x_val)\n",
    "    y_pred2 = model2.predict(x_val)\n",
    "    y_pred3 = model3.predict(x_val)\n",
    "    y_pred4 = model4.predict(x_val)\n",
    "    y_pred5 = model5.predict(x_val)\n",
    "    y_pred6 = model6.predict(x_val)\n",
    "    models.append([model1, accuracy_score(y_val, y_pred1)])\n",
    "    models.append([model2, accuracy_score(y_val, y_pred2)])\n",
    "    models.append([model3, accuracy_score(y_val, y_pred3)])\n",
    "    models.append([model4, accuracy_score(y_val, y_pred4)])\n",
    "    models.append([model5, accuracy_score(y_val, y_pred5)])\n",
    "    models.append([model6, accuracy_score(y_val, y_pred6)])"
   ]
  },
  {
   "cell_type": "code",
   "execution_count": 12,
   "metadata": {},
   "outputs": [],
   "source": [
    "models = sorted(models, key=lambda x: x[1], reverse=True)"
   ]
  },
  {
   "cell_type": "code",
   "execution_count": 13,
   "metadata": {},
   "outputs": [
    {
     "name": "stdout",
     "output_type": "stream",
     "text": [
      "Accuracy Score: 0.96\n",
      "              precision    recall  f1-score   support\n",
      "\n",
      "           1       0.95      0.95      0.95        19\n",
      "           2       0.95      0.95      0.95        21\n",
      "           3       1.00      1.00      1.00        14\n",
      "\n",
      "    accuracy                           0.96        54\n",
      "   macro avg       0.97      0.97      0.97        54\n",
      "weighted avg       0.96      0.96      0.96        54\n",
      "\n"
     ]
    }
   ],
   "source": [
    "model = models[0][0]\n",
    "y_pred = model.predict(x_test)\n",
    "print(\"Accuracy Score: %.2f\"%(accuracy_score(y_test, y_pred)))\n",
    "print(classification_report(y_test, y_pred))"
   ]
  },
  {
   "cell_type": "markdown",
   "metadata": {},
   "source": [
    "## 変数選択\n",
    "ここまで、学習のさせ方やパラメータチューニングについてを行ったが、今度は使用する変数を選択して分類に寄与する変数を使用してモデルを作成する。ここでは分類寄与率(重要度)を累積して9割になる変数までを学習に使う。"
   ]
  },
  {
   "cell_type": "code",
   "execution_count": 14,
   "metadata": {},
   "outputs": [
    {
     "data": {
      "text/html": [
       "<div>\n",
       "<style scoped>\n",
       "    .dataframe tbody tr th:only-of-type {\n",
       "        vertical-align: middle;\n",
       "    }\n",
       "\n",
       "    .dataframe tbody tr th {\n",
       "        vertical-align: top;\n",
       "    }\n",
       "\n",
       "    .dataframe thead th {\n",
       "        text-align: right;\n",
       "    }\n",
       "</style>\n",
       "<table border=\"1\" class=\"dataframe\">\n",
       "  <thead>\n",
       "    <tr style=\"text-align: right;\">\n",
       "      <th></th>\n",
       "      <th>重要度</th>\n",
       "    </tr>\n",
       "  </thead>\n",
       "  <tbody>\n",
       "    <tr>\n",
       "      <th>Flavanoids</th>\n",
       "      <td>0.403550</td>\n",
       "    </tr>\n",
       "    <tr>\n",
       "      <th>Color.int</th>\n",
       "      <td>0.381003</td>\n",
       "    </tr>\n",
       "    <tr>\n",
       "      <th>Proline</th>\n",
       "      <td>0.123415</td>\n",
       "    </tr>\n",
       "    <tr>\n",
       "      <th>OD</th>\n",
       "      <td>0.046784</td>\n",
       "    </tr>\n",
       "    <tr>\n",
       "      <th>Hue</th>\n",
       "      <td>0.023806</td>\n",
       "    </tr>\n",
       "    <tr>\n",
       "      <th>Alcohol</th>\n",
       "      <td>0.021443</td>\n",
       "    </tr>\n",
       "    <tr>\n",
       "      <th>Malic.acid</th>\n",
       "      <td>0.000000</td>\n",
       "    </tr>\n",
       "    <tr>\n",
       "      <th>Ash</th>\n",
       "      <td>0.000000</td>\n",
       "    </tr>\n",
       "    <tr>\n",
       "      <th>Acl</th>\n",
       "      <td>0.000000</td>\n",
       "    </tr>\n",
       "    <tr>\n",
       "      <th>Mg</th>\n",
       "      <td>0.000000</td>\n",
       "    </tr>\n",
       "    <tr>\n",
       "      <th>Phenols</th>\n",
       "      <td>0.000000</td>\n",
       "    </tr>\n",
       "    <tr>\n",
       "      <th>Nonflavanoid.phenols</th>\n",
       "      <td>0.000000</td>\n",
       "    </tr>\n",
       "    <tr>\n",
       "      <th>Proanth</th>\n",
       "      <td>0.000000</td>\n",
       "    </tr>\n",
       "  </tbody>\n",
       "</table>\n",
       "</div>"
      ],
      "text/plain": [
       "                           重要度\n",
       "Flavanoids            0.403550\n",
       "Color.int             0.381003\n",
       "Proline               0.123415\n",
       "OD                    0.046784\n",
       "Hue                   0.023806\n",
       "Alcohol               0.021443\n",
       "Malic.acid            0.000000\n",
       "Ash                   0.000000\n",
       "Acl                   0.000000\n",
       "Mg                    0.000000\n",
       "Phenols               0.000000\n",
       "Nonflavanoid.phenols  0.000000\n",
       "Proanth               0.000000"
      ]
     },
     "execution_count": 14,
     "metadata": {},
     "output_type": "execute_result"
    }
   ],
   "source": [
    "tree = DTC()\n",
    "tree.fit(x_train, y_train)\n",
    "imp = tree.feature_importances_\n",
    "dfi = pd.DataFrame(imp)\n",
    "dfi.index = x_name\n",
    "dfi.columns = [\"重要度\"]\n",
    "dfi = dfi.sort_values(\"重要度\", ascending=False)\n",
    "dfi"
   ]
  },
  {
   "cell_type": "code",
   "execution_count": 15,
   "metadata": {},
   "outputs": [],
   "source": [
    "drop_col = [\"Acl\", \"Alcohol\", \"Malic.acid\", \"Ash\", \"Mg\", \"Phenols\", \"Nonflavanoid.phenols\", \"Proanth\", \"Hue\"]\n",
    "x_tab2 = x_tab.drop(drop_col, axis=1)\n",
    "x2 = x_tab2.values\n",
    "x2_train, x2_test, y2_train, y2_test = tts(x2, y, test_size=0.3, random_state=0)"
   ]
  },
  {
   "cell_type": "code",
   "execution_count": 16,
   "metadata": {},
   "outputs": [
    {
     "name": "stdout",
     "output_type": "stream",
     "text": [
      "Accuracy Score: 0.98\n",
      "              precision    recall  f1-score   support\n",
      "\n",
      "           1       1.00      0.95      0.97        19\n",
      "           2       0.95      1.00      0.98        21\n",
      "           3       1.00      1.00      1.00        14\n",
      "\n",
      "    accuracy                           0.98        54\n",
      "   macro avg       0.98      0.98      0.98        54\n",
      "weighted avg       0.98      0.98      0.98        54\n",
      "\n"
     ]
    }
   ],
   "source": [
    "model = SVC(C=10, gamma=0.0009765625, kernel=\"linear\")\n",
    "model.fit(x2_train, y2_train)\n",
    "y_pred = model.predict(x2_test)\n",
    "print(\"Accuracy Score: %.2f\"%(accuracy_score(y2_test, y_pred)))\n",
    "print(classification_report(y2_test, y_pred))"
   ]
  },
  {
   "cell_type": "markdown",
   "metadata": {},
   "source": [
    "ここで、過去の精度と比較してみると、パラメータのチューニングや学習に使用するデータだけでなく変数選択も行うことで、より精度を向上させられることが分かる。"
   ]
  },
  {
   "cell_type": "code",
   "execution_count": null,
   "metadata": {},
   "outputs": [],
   "source": []
  }
 ],
 "metadata": {
  "kernelspec": {
   "display_name": "Python 3",
   "language": "python",
   "name": "python3"
  },
  "language_info": {
   "codemirror_mode": {
    "name": "ipython",
    "version": 3
   },
   "file_extension": ".py",
   "mimetype": "text/x-python",
   "name": "python",
   "nbconvert_exporter": "python",
   "pygments_lexer": "ipython3",
   "version": "3.7.1"
  }
 },
 "nbformat": 4,
 "nbformat_minor": 2
}
