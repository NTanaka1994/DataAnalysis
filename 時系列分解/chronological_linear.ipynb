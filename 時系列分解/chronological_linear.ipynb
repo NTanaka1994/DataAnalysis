{
 "cells": [
  {
   "cell_type": "markdown",
   "metadata": {},
   "source": [
    "# 時系列データの回帰分析\n",
    "時系列データであることがあらかじめわかっている場合、その周期の基準となる変数が存在する。もし無い場合はあらかじめ用意する必要がある。ここで、周期となる変数についてダミー変数に変換して回帰分析を行うときに係数を持たせることでより正確に予測を行うことができる。\n",
    "\n",
    "## ライブラリのインポート"
   ]
  },
  {
   "cell_type": "code",
   "execution_count": 1,
   "metadata": {},
   "outputs": [],
   "source": [
    "from sklearn.linear_model import LinearRegression as LR\n",
    "import matplotlib.pyplot as plt\n",
    "import pandas as pd\n",
    "import numpy as np"
   ]
  },
  {
   "cell_type": "markdown",
   "metadata": {},
   "source": [
    "## データの読み込み"
   ]
  },
  {
   "cell_type": "code",
   "execution_count": 2,
   "metadata": {},
   "outputs": [
    {
     "data": {
      "text/html": [
       "<div>\n",
       "<style scoped>\n",
       "    .dataframe tbody tr th:only-of-type {\n",
       "        vertical-align: middle;\n",
       "    }\n",
       "\n",
       "    .dataframe tbody tr th {\n",
       "        vertical-align: top;\n",
       "    }\n",
       "\n",
       "    .dataframe thead th {\n",
       "        text-align: right;\n",
       "    }\n",
       "</style>\n",
       "<table border=\"1\" class=\"dataframe\">\n",
       "  <thead>\n",
       "    <tr style=\"text-align: right;\">\n",
       "      <th></th>\n",
       "      <th>年</th>\n",
       "      <th>月</th>\n",
       "      <th>賃金指数</th>\n",
       "    </tr>\n",
       "  </thead>\n",
       "  <tbody>\n",
       "    <tr>\n",
       "      <th>0</th>\n",
       "      <td>1990.0</td>\n",
       "      <td>1</td>\n",
       "      <td>92.7</td>\n",
       "    </tr>\n",
       "    <tr>\n",
       "      <th>1</th>\n",
       "      <td>1990.0</td>\n",
       "      <td>2</td>\n",
       "      <td>85.3</td>\n",
       "    </tr>\n",
       "    <tr>\n",
       "      <th>2</th>\n",
       "      <td>1990.0</td>\n",
       "      <td>3</td>\n",
       "      <td>93.0</td>\n",
       "    </tr>\n",
       "    <tr>\n",
       "      <th>3</th>\n",
       "      <td>1990.0</td>\n",
       "      <td>4</td>\n",
       "      <td>87.7</td>\n",
       "    </tr>\n",
       "    <tr>\n",
       "      <th>4</th>\n",
       "      <td>1990.0</td>\n",
       "      <td>5</td>\n",
       "      <td>86.5</td>\n",
       "    </tr>\n",
       "  </tbody>\n",
       "</table>\n",
       "</div>"
      ],
      "text/plain": [
       "        年  月  賃金指数\n",
       "0  1990.0  1  92.7\n",
       "1  1990.0  2  85.3\n",
       "2  1990.0  3  93.0\n",
       "3  1990.0  4  87.7\n",
       "4  1990.0  5  86.5"
      ]
     },
     "execution_count": 2,
     "metadata": {},
     "output_type": "execute_result"
    }
   ],
   "source": [
    "df = pd.read_csv(\"sarrary.csv\", encoding=\"shift-jis\")\n",
    "df.head()"
   ]
  },
  {
   "cell_type": "markdown",
   "metadata": {},
   "source": [
    "## 時系列の特性を意識しないで回帰分析"
   ]
  },
  {
   "cell_type": "code",
   "execution_count": 3,
   "metadata": {},
   "outputs": [],
   "source": [
    "year = df[\"年\"].values\n",
    "month = df[\"月\"].values\n",
    "year = year + (month - 1) / 12"
   ]
  },
  {
   "cell_type": "code",
   "execution_count": 4,
   "metadata": {},
   "outputs": [],
   "source": [
    "model1 = LR()\n",
    "model1.fit(year.reshape(-1, 1), df[\"賃金指数\"])\n",
    "y_pred1 = model1.predict(year.reshape(-1, 1))"
   ]
  },
  {
   "cell_type": "markdown",
   "metadata": {},
   "source": [
    "## 月をダミー変数に変換"
   ]
  },
  {
   "cell_type": "code",
   "execution_count": 5,
   "metadata": {},
   "outputs": [
    {
     "data": {
      "text/html": [
       "<div>\n",
       "<style scoped>\n",
       "    .dataframe tbody tr th:only-of-type {\n",
       "        vertical-align: middle;\n",
       "    }\n",
       "\n",
       "    .dataframe tbody tr th {\n",
       "        vertical-align: top;\n",
       "    }\n",
       "\n",
       "    .dataframe thead th {\n",
       "        text-align: right;\n",
       "    }\n",
       "</style>\n",
       "<table border=\"1\" class=\"dataframe\">\n",
       "  <thead>\n",
       "    <tr style=\"text-align: right;\">\n",
       "      <th></th>\n",
       "      <th>年</th>\n",
       "      <th>賃金指数</th>\n",
       "      <th>月_1</th>\n",
       "      <th>月_2</th>\n",
       "      <th>月_3</th>\n",
       "      <th>月_4</th>\n",
       "      <th>月_5</th>\n",
       "      <th>月_6</th>\n",
       "      <th>月_7</th>\n",
       "      <th>月_8</th>\n",
       "      <th>月_9</th>\n",
       "      <th>月_10</th>\n",
       "      <th>月_11</th>\n",
       "      <th>月_12</th>\n",
       "    </tr>\n",
       "  </thead>\n",
       "  <tbody>\n",
       "    <tr>\n",
       "      <th>0</th>\n",
       "      <td>1990.0</td>\n",
       "      <td>92.7</td>\n",
       "      <td>1</td>\n",
       "      <td>0</td>\n",
       "      <td>0</td>\n",
       "      <td>0</td>\n",
       "      <td>0</td>\n",
       "      <td>0</td>\n",
       "      <td>0</td>\n",
       "      <td>0</td>\n",
       "      <td>0</td>\n",
       "      <td>0</td>\n",
       "      <td>0</td>\n",
       "      <td>0</td>\n",
       "    </tr>\n",
       "    <tr>\n",
       "      <th>1</th>\n",
       "      <td>1990.0</td>\n",
       "      <td>85.3</td>\n",
       "      <td>0</td>\n",
       "      <td>1</td>\n",
       "      <td>0</td>\n",
       "      <td>0</td>\n",
       "      <td>0</td>\n",
       "      <td>0</td>\n",
       "      <td>0</td>\n",
       "      <td>0</td>\n",
       "      <td>0</td>\n",
       "      <td>0</td>\n",
       "      <td>0</td>\n",
       "      <td>0</td>\n",
       "    </tr>\n",
       "    <tr>\n",
       "      <th>2</th>\n",
       "      <td>1990.0</td>\n",
       "      <td>93.0</td>\n",
       "      <td>0</td>\n",
       "      <td>0</td>\n",
       "      <td>1</td>\n",
       "      <td>0</td>\n",
       "      <td>0</td>\n",
       "      <td>0</td>\n",
       "      <td>0</td>\n",
       "      <td>0</td>\n",
       "      <td>0</td>\n",
       "      <td>0</td>\n",
       "      <td>0</td>\n",
       "      <td>0</td>\n",
       "    </tr>\n",
       "    <tr>\n",
       "      <th>3</th>\n",
       "      <td>1990.0</td>\n",
       "      <td>87.7</td>\n",
       "      <td>0</td>\n",
       "      <td>0</td>\n",
       "      <td>0</td>\n",
       "      <td>1</td>\n",
       "      <td>0</td>\n",
       "      <td>0</td>\n",
       "      <td>0</td>\n",
       "      <td>0</td>\n",
       "      <td>0</td>\n",
       "      <td>0</td>\n",
       "      <td>0</td>\n",
       "      <td>0</td>\n",
       "    </tr>\n",
       "    <tr>\n",
       "      <th>4</th>\n",
       "      <td>1990.0</td>\n",
       "      <td>86.5</td>\n",
       "      <td>0</td>\n",
       "      <td>0</td>\n",
       "      <td>0</td>\n",
       "      <td>0</td>\n",
       "      <td>1</td>\n",
       "      <td>0</td>\n",
       "      <td>0</td>\n",
       "      <td>0</td>\n",
       "      <td>0</td>\n",
       "      <td>0</td>\n",
       "      <td>0</td>\n",
       "      <td>0</td>\n",
       "    </tr>\n",
       "  </tbody>\n",
       "</table>\n",
       "</div>"
      ],
      "text/plain": [
       "        年  賃金指数  月_1  月_2  月_3  月_4  月_5  月_6  月_7  月_8  月_9  月_10  月_11  月_12\n",
       "0  1990.0  92.7    1    0    0    0    0    0    0    0    0     0     0     0\n",
       "1  1990.0  85.3    0    1    0    0    0    0    0    0    0     0     0     0\n",
       "2  1990.0  93.0    0    0    1    0    0    0    0    0    0     0     0     0\n",
       "3  1990.0  87.7    0    0    0    1    0    0    0    0    0     0     0     0\n",
       "4  1990.0  86.5    0    0    0    0    1    0    0    0    0     0     0     0"
      ]
     },
     "execution_count": 5,
     "metadata": {},
     "output_type": "execute_result"
    }
   ],
   "source": [
    "dum = pd.get_dummies(df, columns=[\"月\"])\n",
    "dum.head()"
   ]
  },
  {
   "cell_type": "markdown",
   "metadata": {},
   "source": [
    "## 回帰分析に適合"
   ]
  },
  {
   "cell_type": "code",
   "execution_count": 6,
   "metadata": {},
   "outputs": [],
   "source": [
    "model2 = LR()\n",
    "model2.fit(dum.drop(\"賃金指数\", axis=1), dum[\"賃金指数\"])\n",
    "y_pred2 = model2.predict(dum.drop(\"賃金指数\", axis=1))"
   ]
  },
  {
   "cell_type": "markdown",
   "metadata": {},
   "source": [
    "## 時系列として予測結果をグラフ化"
   ]
  },
  {
   "cell_type": "code",
   "execution_count": 7,
   "metadata": {},
   "outputs": [
    {
     "name": "stderr",
     "output_type": "stream",
     "text": [
      "C:\\Users\\decar\\Anaconda3\\lib\\site-packages\\matplotlib\\cbook\\__init__.py:1402: FutureWarning: Support for multi-dimensional indexing (e.g. `obj[:, None]`) is deprecated and will be removed in a future version.  Convert to a numpy array before indexing instead.\n",
      "  x[:, None]\n",
      "C:\\Users\\decar\\Anaconda3\\lib\\site-packages\\matplotlib\\axes\\_base.py:276: FutureWarning: Support for multi-dimensional indexing (e.g. `obj[:, None]`) is deprecated and will be removed in a future version.  Convert to a numpy array before indexing instead.\n",
      "  x = x[:, np.newaxis]\n",
      "C:\\Users\\decar\\Anaconda3\\lib\\site-packages\\matplotlib\\axes\\_base.py:278: FutureWarning: Support for multi-dimensional indexing (e.g. `obj[:, None]`) is deprecated and will be removed in a future version.  Convert to a numpy array before indexing instead.\n",
      "  y = y[:, np.newaxis]\n"
     ]
    },
    {
     "data": {
      "image/png": "[encoded data removed]",
      "text/plain": [
       "<Figure size 432x288 with 1 Axes>"
      ]
     },
     "metadata": {
      "needs_background": "light"
     },
     "output_type": "display_data"
    }
   ],
   "source": [
    "plt.plot(dum[\"年\"], dum[\"賃金指数\"], label=\"real\")\n",
    "plt.plot(dum[\"年\"], y_pred2, label=\"predict_chronological_linear\")\n",
    "plt.plot(dum[\"年\"], y_pred1, label=\"predict_Non-chronological_linear\")\n",
    "plt.legend()\n",
    "plt.show()"
   ]
  },
  {
   "cell_type": "markdown",
   "metadata": {},
   "source": [
    "## 残差の確認\n",
    "時系列の特性を意識したかどうかで残差の傾向が変わってくる。残差は基本的にランダムに現れることが好ましいが、残差に法則性があると回帰分析の結果としては好ましくない。\n",
    "\n",
    "### 時系列を意識していない場合の残差"
   ]
  },
  {
   "cell_type": "code",
   "execution_count": 8,
   "metadata": {},
   "outputs": [
    {
     "data": {
      "image/png": "[encoded data removed]",
      "text/plain": [
       "<Figure size 432x288 with 1 Axes>"
      ]
     },
     "metadata": {
      "needs_background": "light"
     },
     "output_type": "display_data"
    }
   ],
   "source": [
    "plt.scatter(year, df[\"賃金指数\"].values-y_pred1)\n",
    "plt.title(\"predict_Non-chronological_linear\")\n",
    "plt.xlabel(\"year\")\n",
    "plt.ylabel(\"Residual error\")\n",
    "plt.show()"
   ]
  },
  {
   "cell_type": "code",
   "execution_count": 9,
   "metadata": {},
   "outputs": [
    {
     "data": {
      "image/png": "[encoded data removed]",
      "text/plain": [
       "<Figure size 432x288 with 1 Axes>"
      ]
     },
     "metadata": {
      "needs_background": "light"
     },
     "output_type": "display_data"
    }
   ],
   "source": [
    "plt.scatter(year, df[\"賃金指数\"].values-y_pred1)\n",
    "plt.title(\"predict_Non-chronological_linear\")\n",
    "plt.xlabel(\"year\")\n",
    "plt.xlim(1990, 1992)\n",
    "plt.ylabel(\"Residual error\")\n",
    "plt.show()"
   ]
  },
  {
   "cell_type": "markdown",
   "metadata": {},
   "source": [
    "残差に周期的と思われる分布が確認できる。そのため、この回帰分析は結果として好ましくない事が分かる。\n",
    "\n",
    "### 時系列を意識した場合の残差"
   ]
  },
  {
   "cell_type": "code",
   "execution_count": 10,
   "metadata": {},
   "outputs": [
    {
     "data": {
      "image/png": "[encoded data removed]",
      "text/plain": [
       "<Figure size 432x288 with 1 Axes>"
      ]
     },
     "metadata": {
      "needs_background": "light"
     },
     "output_type": "display_data"
    }
   ],
   "source": [
    "plt.scatter(year, df[\"賃金指数\"].values-y_pred2)\n",
    "plt.title(\"predict_chronological_linear\")\n",
    "plt.xlabel(\"year\")\n",
    "plt.ylabel(\"Residual error\")\n",
    "plt.show()"
   ]
  },
  {
   "cell_type": "code",
   "execution_count": 11,
   "metadata": {},
   "outputs": [
    {
     "data": {
      "image/png": "[encoded data removed]",
      "text/plain": [
       "<Figure size 432x288 with 1 Axes>"
      ]
     },
     "metadata": {
      "needs_background": "light"
     },
     "output_type": "display_data"
    }
   ],
   "source": [
    "plt.scatter(year, df[\"賃金指数\"].values-y_pred2)\n",
    "plt.title(\"predict_chronological_linear\")\n",
    "plt.xlabel(\"year\")\n",
    "plt.xlim(1990, 1992)\n",
    "plt.ylabel(\"Residual error\")\n",
    "plt.show()"
   ]
  },
  {
   "cell_type": "markdown",
   "metadata": {},
   "source": [
    "この場合でも残差に周期性そのものは現れているが、上限の値が時系列を意識していない回帰分析と比べると非常に小さくなっていることが分かる。\n",
    "\n",
    "## 係数を確認\n",
    "係数を確認することで周期となる変数の予測における影響力を確認することができる。ここでは、6月と7月と12月が高い値を出していることができる(賞与月)。このように係数を出すことで周期となる変数の特性が把握できる。"
   ]
  },
  {
   "cell_type": "code",
   "execution_count": 12,
   "metadata": {},
   "outputs": [
    {
     "data": {
      "text/html": [
       "<div>\n",
       "<style scoped>\n",
       "    .dataframe tbody tr th:only-of-type {\n",
       "        vertical-align: middle;\n",
       "    }\n",
       "\n",
       "    .dataframe tbody tr th {\n",
       "        vertical-align: top;\n",
       "    }\n",
       "\n",
       "    .dataframe thead th {\n",
       "        text-align: right;\n",
       "    }\n",
       "</style>\n",
       "<table border=\"1\" class=\"dataframe\">\n",
       "  <thead>\n",
       "    <tr style=\"text-align: right;\">\n",
       "      <th></th>\n",
       "      <th>係数</th>\n",
       "    </tr>\n",
       "  </thead>\n",
       "  <tbody>\n",
       "    <tr>\n",
       "      <th>年</th>\n",
       "      <td>-0.510892</td>\n",
       "    </tr>\n",
       "    <tr>\n",
       "      <th>月_1</th>\n",
       "      <td>-16.044531</td>\n",
       "    </tr>\n",
       "    <tr>\n",
       "      <th>月_2</th>\n",
       "      <td>-20.166406</td>\n",
       "    </tr>\n",
       "    <tr>\n",
       "      <th>月_3</th>\n",
       "      <td>-14.791406</td>\n",
       "    </tr>\n",
       "    <tr>\n",
       "      <th>月_4</th>\n",
       "      <td>-17.891406</td>\n",
       "    </tr>\n",
       "    <tr>\n",
       "      <th>月_5</th>\n",
       "      <td>-19.453906</td>\n",
       "    </tr>\n",
       "    <tr>\n",
       "      <th>月_6</th>\n",
       "      <td>41.714844</td>\n",
       "    </tr>\n",
       "    <tr>\n",
       "      <th>月_7</th>\n",
       "      <td>22.752344</td>\n",
       "    </tr>\n",
       "    <tr>\n",
       "      <th>月_8</th>\n",
       "      <td>-14.082031</td>\n",
       "    </tr>\n",
       "    <tr>\n",
       "      <th>月_9</th>\n",
       "      <td>-20.069531</td>\n",
       "    </tr>\n",
       "    <tr>\n",
       "      <th>月_10</th>\n",
       "      <td>-19.775781</td>\n",
       "    </tr>\n",
       "    <tr>\n",
       "      <th>月_11</th>\n",
       "      <td>-15.947656</td>\n",
       "    </tr>\n",
       "    <tr>\n",
       "      <th>月_12</th>\n",
       "      <td>93.755469</td>\n",
       "    </tr>\n",
       "    <tr>\n",
       "      <th>切片</th>\n",
       "      <td>1133.322168</td>\n",
       "    </tr>\n",
       "  </tbody>\n",
       "</table>\n",
       "</div>"
      ],
      "text/plain": [
       "               係数\n",
       "年       -0.510892\n",
       "月_1    -16.044531\n",
       "月_2    -20.166406\n",
       "月_3    -14.791406\n",
       "月_4    -17.891406\n",
       "月_5    -19.453906\n",
       "月_6     41.714844\n",
       "月_7     22.752344\n",
       "月_8    -14.082031\n",
       "月_9    -20.069531\n",
       "月_10   -19.775781\n",
       "月_11   -15.947656\n",
       "月_12    93.755469\n",
       "切片    1133.322168"
      ]
     },
     "execution_count": 12,
     "metadata": {},
     "output_type": "execute_result"
    }
   ],
   "source": [
    "coef = np.hstack((model2.coef_, model2.intercept_))\n",
    "col = dum.drop(\"賃金指数\", axis=1).columns.tolist()\n",
    "col.append(\"切片\")\n",
    "dfc = pd.DataFrame(coef)\n",
    "dfc.index = col\n",
    "dfc.columns = [\"係数\"]\n",
    "dfc"
   ]
  },
  {
   "cell_type": "code",
   "execution_count": null,
   "metadata": {},
   "outputs": [],
   "source": []
  }
 ],
 "metadata": {
  "kernelspec": {
   "display_name": "Python 3",
   "language": "python",
   "name": "python3"
  },
  "language_info": {
   "codemirror_mode": {
    "name": "ipython",
    "version": 3
   },
   "file_extension": ".py",
   "mimetype": "text/x-python",
   "name": "python",
   "nbconvert_exporter": "python",
   "pygments_lexer": "ipython3",
   "version": "3.7.1"
  }
 },
 "nbformat": 4,
 "nbformat_minor": 2
}
